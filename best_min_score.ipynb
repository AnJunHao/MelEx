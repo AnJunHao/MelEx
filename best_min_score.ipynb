{
 "cells": [
  {
   "cell_type": "code",
   "execution_count": 1,
   "id": "26f55eff",
   "metadata": {},
   "outputs": [],
   "source": [
    "import exmel\n",
    "from exmel.alignment import FrozenMatch\n",
    "\n",
    "dataset = exmel.Dataset(\"dataset\")"
   ]
  },
  {
   "cell_type": "code",
   "execution_count": 3,
   "id": "ff70a542",
   "metadata": {},
   "outputs": [
    {
     "data": {
      "application/vnd.jupyter.widget-view+json": {
       "model_id": "169fa34f7d41496f8afab5b6aedfa3ef",
       "version_major": 2,
       "version_minor": 0
      },
      "text/plain": [
       "Scanning alignments:   0%|          | 0/211 [00:00<?, ?it/s]"
      ]
     },
     "metadata": {},
     "output_type": "display_data"
    },
    {
     "data": {
      "application/vnd.jupyter.widget-view+json": {
       "model_id": "800e1a8a6d494838b610d841a31bd654",
       "version_major": 2,
       "version_minor": 0
      },
      "text/plain": [
       "Scanning alignments:   0%|          | 0/363 [00:00<?, ?it/s]"
      ]
     },
     "metadata": {},
     "output_type": "display_data"
    },
    {
     "data": {
      "application/vnd.jupyter.widget-view+json": {
       "model_id": "9a466da9de3446499a653f80a77559b4",
       "version_major": 2,
       "version_minor": 0
      },
      "text/plain": [
       "Scanning alignments:   0%|          | 0/790 [00:00<?, ?it/s]"
      ]
     },
     "metadata": {},
     "output_type": "display_data"
    },
    {
     "data": {
      "application/vnd.jupyter.widget-view+json": {
       "model_id": "036683fbcb8f415ab54d9eed02eacc2b",
       "version_major": 2,
       "version_minor": 0
      },
      "text/plain": [
       "Scanning alignments:   0%|          | 0/445 [00:00<?, ?it/s]"
      ]
     },
     "metadata": {},
     "output_type": "display_data"
    },
    {
     "data": {
      "application/vnd.jupyter.widget-view+json": {
       "model_id": "229d49d270644e57bdc95c78e5ce1a6f",
       "version_major": 2,
       "version_minor": 0
      },
      "text/plain": [
       "Scanning alignments:   0%|          | 0/338 [00:00<?, ?it/s]"
      ]
     },
     "metadata": {},
     "output_type": "display_data"
    },
    {
     "data": {
      "application/vnd.jupyter.widget-view+json": {
       "model_id": "d52371e8723e41529c4c3bcf000b7b3b",
       "version_major": 2,
       "version_minor": 0
      },
      "text/plain": [
       "Scanning alignments:   0%|          | 0/192 [00:00<?, ?it/s]"
      ]
     },
     "metadata": {},
     "output_type": "display_data"
    },
    {
     "data": {
      "application/vnd.jupyter.widget-view+json": {
       "model_id": "146b5849101a448eb07c44f8807fe434",
       "version_major": 2,
       "version_minor": 0
      },
      "text/plain": [
       "Scanning alignments:   0%|          | 0/507 [00:00<?, ?it/s]"
      ]
     },
     "metadata": {},
     "output_type": "display_data"
    },
    {
     "data": {
      "application/vnd.jupyter.widget-view+json": {
       "model_id": "3ef701aef6d845fb988568ed552a6cf2",
       "version_major": 2,
       "version_minor": 0
      },
      "text/plain": [
       "Scanning alignments:   0%|          | 0/317 [00:00<?, ?it/s]"
      ]
     },
     "metadata": {},
     "output_type": "display_data"
    },
    {
     "data": {
      "application/vnd.jupyter.widget-view+json": {
       "model_id": "64f8325ac25a40cb8c83fd483a55f246",
       "version_major": 2,
       "version_minor": 0
      },
      "text/plain": [
       "Scanning alignments:   0%|          | 0/650 [00:00<?, ?it/s]"
      ]
     },
     "metadata": {},
     "output_type": "display_data"
    },
    {
     "data": {
      "application/vnd.jupyter.widget-view+json": {
       "model_id": "888c9e2845a74bafb0dbc41a65c06be3",
       "version_major": 2,
       "version_minor": 0
      },
      "text/plain": [
       "Scanning alignments:   0%|          | 0/538 [00:00<?, ?it/s]"
      ]
     },
     "metadata": {},
     "output_type": "display_data"
    },
    {
     "data": {
      "application/vnd.jupyter.widget-view+json": {
       "model_id": "fd12b978ca54475d9e1a69f475c00526",
       "version_major": 2,
       "version_minor": 0
      },
      "text/plain": [
       "Scanning alignments:   0%|          | 0/522 [00:00<?, ?it/s]"
      ]
     },
     "metadata": {},
     "output_type": "display_data"
    },
    {
     "data": {
      "application/vnd.jupyter.widget-view+json": {
       "model_id": "8acf98c3ea784c55b21de0f08f6bd1e3",
       "version_major": 2,
       "version_minor": 0
      },
      "text/plain": [
       "Scanning alignments:   0%|          | 0/348 [00:00<?, ?it/s]"
      ]
     },
     "metadata": {},
     "output_type": "display_data"
    },
    {
     "data": {
      "application/vnd.jupyter.widget-view+json": {
       "model_id": "2c14f6636b6f41f886e923bcd7e7e6ce",
       "version_major": 2,
       "version_minor": 0
      },
      "text/plain": [
       "Scanning alignments:   0%|          | 0/397 [00:00<?, ?it/s]"
      ]
     },
     "metadata": {},
     "output_type": "display_data"
    },
    {
     "data": {
      "application/vnd.jupyter.widget-view+json": {
       "model_id": "4047dc7cb0574fe9afced15306571e0d",
       "version_major": 2,
       "version_minor": 0
      },
      "text/plain": [
       "Scanning alignments:   0%|          | 0/328 [00:00<?, ?it/s]"
      ]
     },
     "metadata": {},
     "output_type": "display_data"
    },
    {
     "data": {
      "application/vnd.jupyter.widget-view+json": {
       "model_id": "2d09ad916d9c42149c1f74f48dc927d1",
       "version_major": 2,
       "version_minor": 0
      },
      "text/plain": [
       "Scanning alignments:   0%|          | 0/344 [00:00<?, ?it/s]"
      ]
     },
     "metadata": {},
     "output_type": "display_data"
    },
    {
     "data": {
      "application/vnd.jupyter.widget-view+json": {
       "model_id": "141a7c463f4e4a02851740fa4291030b",
       "version_major": 2,
       "version_minor": 0
      },
      "text/plain": [
       "Scanning alignments:   0%|          | 0/290 [00:00<?, ?it/s]"
      ]
     },
     "metadata": {},
     "output_type": "display_data"
    },
    {
     "data": {
      "application/vnd.jupyter.widget-view+json": {
       "model_id": "b3a94c2f1e8246f799d4d597a7cf98d2",
       "version_major": 2,
       "version_minor": 0
      },
      "text/plain": [
       "Scanning alignments:   0%|          | 0/535 [00:00<?, ?it/s]"
      ]
     },
     "metadata": {},
     "output_type": "display_data"
    }
   ],
   "source": [
    "song_name_to_candidates: dict[str, list[FrozenMatch]] = {}\n",
    "for song in dataset:\n",
    "    candidates = exmel.align(\n",
    "        song.melody,\n",
    "        song.performance,\n",
    "        exmel.AlignConfig(miss_tolerance=1, candidate_min_score=0, hop_length=1),\n",
    "        skip_wisp=True)\n",
    "    song_name_to_candidates[song.name] = candidates"
   ]
  },
  {
   "cell_type": "code",
   "execution_count": 6,
   "id": "97e6a0ec",
   "metadata": {},
   "outputs": [
    {
     "data": {
      "application/vnd.jupyter.widget-view+json": {
       "model_id": "75062e614de2402f9b06524f456dfb8b",
       "version_major": 2,
       "version_minor": 0
      },
      "text/plain": [
       "  0%|          | 0/17 [00:00<?, ?it/s]"
      ]
     },
     "metadata": {},
     "output_type": "display_data"
    }
   ],
   "source": [
    "from tqdm.auto import tqdm\n",
    "from exmel.sequence import song_stats\n",
    "\n",
    "score_model = exmel.XGBoostModel('xgb_hop1_miss1_len10_large.json', 0)\n",
    "name_to_scores: dict[str, list[float]] = {}\n",
    "for song in tqdm(dataset):\n",
    "    score_model.load_song_stats(song_stats(song.melody, song.performance))\n",
    "    candidates = song_name_to_candidates[song.name]\n",
    "    name_to_scores[song.name] = score_model(candidates)"
   ]
  },
  {
   "cell_type": "code",
   "execution_count": 8,
   "id": "0b8978ce",
   "metadata": {},
   "outputs": [
    {
     "data": {
      "application/vnd.jupyter.widget-view+json": {
       "model_id": "def29caba6a4444b8632d3da972e6424",
       "version_major": 2,
       "version_minor": 0
      },
      "text/plain": [
       "p=0, m=0:   0%|          | 0/17 [00:00<?, ?it/s]"
      ]
     },
     "metadata": {},
     "output_type": "display_data"
    },
    {
     "data": {
      "application/vnd.jupyter.widget-view+json": {
       "model_id": "6312f6d18c9e41bfa12c817908b59231",
       "version_major": 2,
       "version_minor": 0
      },
      "text/plain": [
       "p=0, m=1:   0%|          | 0/17 [00:00<?, ?it/s]"
      ]
     },
     "metadata": {},
     "output_type": "display_data"
    },
    {
     "data": {
      "application/vnd.jupyter.widget-view+json": {
       "model_id": "e2d65f1a380e445f9fae44fbaeb8cd2e",
       "version_major": 2,
       "version_minor": 0
      },
      "text/plain": [
       "p=0, m=2:   0%|          | 0/17 [00:00<?, ?it/s]"
      ]
     },
     "metadata": {},
     "output_type": "display_data"
    },
    {
     "data": {
      "application/vnd.jupyter.widget-view+json": {
       "model_id": "ec8bb953acc944c2a3bca540df453a6e",
       "version_major": 2,
       "version_minor": 0
      },
      "text/plain": [
       "p=0, m=3:   0%|          | 0/17 [00:00<?, ?it/s]"
      ]
     },
     "metadata": {},
     "output_type": "display_data"
    },
    {
     "data": {
      "application/vnd.jupyter.widget-view+json": {
       "model_id": "5eeaafd7ffa94d7980ac623415a2cc3a",
       "version_major": 2,
       "version_minor": 0
      },
      "text/plain": [
       "p=0, m=4:   0%|          | 0/17 [00:00<?, ?it/s]"
      ]
     },
     "metadata": {},
     "output_type": "display_data"
    },
    {
     "data": {
      "application/vnd.jupyter.widget-view+json": {
       "model_id": "9b49545b5f1844278c7af4b0f358123a",
       "version_major": 2,
       "version_minor": 0
      },
      "text/plain": [
       "p=0, m=5:   0%|          | 0/17 [00:00<?, ?it/s]"
      ]
     },
     "metadata": {},
     "output_type": "display_data"
    },
    {
     "data": {
      "application/vnd.jupyter.widget-view+json": {
       "model_id": "648f3550fd324a87a762997621d79a7f",
       "version_major": 2,
       "version_minor": 0
      },
      "text/plain": [
       "p=0, m=6:   0%|          | 0/17 [00:00<?, ?it/s]"
      ]
     },
     "metadata": {},
     "output_type": "display_data"
    },
    {
     "data": {
      "application/vnd.jupyter.widget-view+json": {
       "model_id": "459c7fada84949aebe9b6c27a9adfa5a",
       "version_major": 2,
       "version_minor": 0
      },
      "text/plain": [
       "p=0, m=7:   0%|          | 0/17 [00:00<?, ?it/s]"
      ]
     },
     "metadata": {},
     "output_type": "display_data"
    },
    {
     "data": {
      "application/vnd.jupyter.widget-view+json": {
       "model_id": "48817226ae6946cca40c7732e582fcc7",
       "version_major": 2,
       "version_minor": 0
      },
      "text/plain": [
       "p=0, m=8:   0%|          | 0/17 [00:00<?, ?it/s]"
      ]
     },
     "metadata": {},
     "output_type": "display_data"
    },
    {
     "data": {
      "application/vnd.jupyter.widget-view+json": {
       "model_id": "72c2e4fb808f4109a5f61593e3f8a9af",
       "version_major": 2,
       "version_minor": 0
      },
      "text/plain": [
       "p=0, m=9:   0%|          | 0/17 [00:00<?, ?it/s]"
      ]
     },
     "metadata": {},
     "output_type": "display_data"
    },
    {
     "data": {
      "application/vnd.jupyter.widget-view+json": {
       "model_id": "538cad087c614415ab6be6c733de019f",
       "version_major": 2,
       "version_minor": 0
      },
      "text/plain": [
       "p=0, m=10:   0%|          | 0/17 [00:00<?, ?it/s]"
      ]
     },
     "metadata": {},
     "output_type": "display_data"
    },
    {
     "data": {
      "application/vnd.jupyter.widget-view+json": {
       "model_id": "b21339c6efdc4fc9aeea6032c856007f",
       "version_major": 2,
       "version_minor": 0
      },
      "text/plain": [
       "p=0, m=11:   0%|          | 0/17 [00:00<?, ?it/s]"
      ]
     },
     "metadata": {},
     "output_type": "display_data"
    },
    {
     "data": {
      "application/vnd.jupyter.widget-view+json": {
       "model_id": "703d8ac530ed4e15874ca31915fd87e7",
       "version_major": 2,
       "version_minor": 0
      },
      "text/plain": [
       "p=0, m=12:   0%|          | 0/17 [00:00<?, ?it/s]"
      ]
     },
     "metadata": {},
     "output_type": "display_data"
    },
    {
     "data": {
      "application/vnd.jupyter.widget-view+json": {
       "model_id": "6c26e79621c74256904a948835a5fa95",
       "version_major": 2,
       "version_minor": 0
      },
      "text/plain": [
       "p=0, m=13:   0%|          | 0/17 [00:00<?, ?it/s]"
      ]
     },
     "metadata": {},
     "output_type": "display_data"
    },
    {
     "data": {
      "application/vnd.jupyter.widget-view+json": {
       "model_id": "06f61a37f807445eb81736a8ef4ef8a3",
       "version_major": 2,
       "version_minor": 0
      },
      "text/plain": [
       "p=0, m=14:   0%|          | 0/17 [00:00<?, ?it/s]"
      ]
     },
     "metadata": {},
     "output_type": "display_data"
    },
    {
     "data": {
      "application/vnd.jupyter.widget-view+json": {
       "model_id": "eafc00b4bf06403897bf42d9511b8738",
       "version_major": 2,
       "version_minor": 0
      },
      "text/plain": [
       "p=0, m=15:   0%|          | 0/17 [00:00<?, ?it/s]"
      ]
     },
     "metadata": {},
     "output_type": "display_data"
    },
    {
     "data": {
      "application/vnd.jupyter.widget-view+json": {
       "model_id": "d544bff43ecf4850b81a1373bec687f0",
       "version_major": 2,
       "version_minor": 0
      },
      "text/plain": [
       "p=0, m=16:   0%|          | 0/17 [00:00<?, ?it/s]"
      ]
     },
     "metadata": {},
     "output_type": "display_data"
    },
    {
     "data": {
      "application/vnd.jupyter.widget-view+json": {
       "model_id": "749f89557d294545b300e322158e23db",
       "version_major": 2,
       "version_minor": 0
      },
      "text/plain": [
       "p=0, m=17:   0%|          | 0/17 [00:00<?, ?it/s]"
      ]
     },
     "metadata": {},
     "output_type": "display_data"
    },
    {
     "data": {
      "application/vnd.jupyter.widget-view+json": {
       "model_id": "ac485639024a41faba96cdeadc11bba0",
       "version_major": 2,
       "version_minor": 0
      },
      "text/plain": [
       "p=0, m=18:   0%|          | 0/17 [00:00<?, ?it/s]"
      ]
     },
     "metadata": {},
     "output_type": "display_data"
    },
    {
     "data": {
      "application/vnd.jupyter.widget-view+json": {
       "model_id": "ce1710e56d434cc3a311810f0713217b",
       "version_major": 2,
       "version_minor": 0
      },
      "text/plain": [
       "p=0, m=19:   0%|          | 0/17 [00:00<?, ?it/s]"
      ]
     },
     "metadata": {},
     "output_type": "display_data"
    },
    {
     "data": {
      "application/vnd.jupyter.widget-view+json": {
       "model_id": "7f060398e9864c5b91bfc8f74b4a73c8",
       "version_major": 2,
       "version_minor": 0
      },
      "text/plain": [
       "p=0, m=20:   0%|          | 0/17 [00:00<?, ?it/s]"
      ]
     },
     "metadata": {},
     "output_type": "display_data"
    },
    {
     "data": {
      "application/vnd.jupyter.widget-view+json": {
       "model_id": "33deb94c0088423b9c12b2ea5acbe891",
       "version_major": 2,
       "version_minor": 0
      },
      "text/plain": [
       "p=0, m=21:   0%|          | 0/17 [00:00<?, ?it/s]"
      ]
     },
     "metadata": {},
     "output_type": "display_data"
    },
    {
     "data": {
      "application/vnd.jupyter.widget-view+json": {
       "model_id": "3c1a7af6412e4a24bb351bda840e9fc8",
       "version_major": 2,
       "version_minor": 0
      },
      "text/plain": [
       "p=0, m=22:   0%|          | 0/17 [00:00<?, ?it/s]"
      ]
     },
     "metadata": {},
     "output_type": "display_data"
    },
    {
     "data": {
      "application/vnd.jupyter.widget-view+json": {
       "model_id": "f3b8d3f969b7443683f24a6d3f4be6bc",
       "version_major": 2,
       "version_minor": 0
      },
      "text/plain": [
       "p=0, m=23:   0%|          | 0/17 [00:00<?, ?it/s]"
      ]
     },
     "metadata": {},
     "output_type": "display_data"
    },
    {
     "data": {
      "application/vnd.jupyter.widget-view+json": {
       "model_id": "81eba80b3f22484cb562a6b4f7022bdf",
       "version_major": 2,
       "version_minor": 0
      },
      "text/plain": [
       "p=0, m=24:   0%|          | 0/17 [00:00<?, ?it/s]"
      ]
     },
     "metadata": {},
     "output_type": "display_data"
    },
    {
     "data": {
      "application/vnd.jupyter.widget-view+json": {
       "model_id": "87b241352a1347b99aabe391065fef53",
       "version_major": 2,
       "version_minor": 0
      },
      "text/plain": [
       "p=0, m=25:   0%|          | 0/17 [00:00<?, ?it/s]"
      ]
     },
     "metadata": {},
     "output_type": "display_data"
    },
    {
     "data": {
      "application/vnd.jupyter.widget-view+json": {
       "model_id": "3eb863db163046e586aafb75f607d606",
       "version_major": 2,
       "version_minor": 0
      },
      "text/plain": [
       "p=0, m=26:   0%|          | 0/17 [00:00<?, ?it/s]"
      ]
     },
     "metadata": {},
     "output_type": "display_data"
    },
    {
     "data": {
      "application/vnd.jupyter.widget-view+json": {
       "model_id": "6d9c6bcdd31c48edbb0b3baae6d2caeb",
       "version_major": 2,
       "version_minor": 0
      },
      "text/plain": [
       "p=0, m=27:   0%|          | 0/17 [00:00<?, ?it/s]"
      ]
     },
     "metadata": {},
     "output_type": "display_data"
    },
    {
     "data": {
      "application/vnd.jupyter.widget-view+json": {
       "model_id": "440c729eb4e946159ed10563543d5bbf",
       "version_major": 2,
       "version_minor": 0
      },
      "text/plain": [
       "p=0, m=28:   0%|          | 0/17 [00:00<?, ?it/s]"
      ]
     },
     "metadata": {},
     "output_type": "display_data"
    },
    {
     "data": {
      "application/vnd.jupyter.widget-view+json": {
       "model_id": "2dacce691f0148d2992d45b719ce7c9f",
       "version_major": 2,
       "version_minor": 0
      },
      "text/plain": [
       "p=0, m=29:   0%|          | 0/17 [00:00<?, ?it/s]"
      ]
     },
     "metadata": {},
     "output_type": "display_data"
    },
    {
     "data": {
      "application/vnd.jupyter.widget-view+json": {
       "model_id": "0855eb7b4db64edd8fb72a88932121bd",
       "version_major": 2,
       "version_minor": 0
      },
      "text/plain": [
       "p=0, m=30:   0%|          | 0/17 [00:00<?, ?it/s]"
      ]
     },
     "metadata": {},
     "output_type": "display_data"
    }
   ],
   "source": [
    "from itertools import product\n",
    "from exmel.wisp import weighted_interval_scheduling\n",
    "from exmel.alignment import Alignment, concat_matches\n",
    "import numpy as np\n",
    "\n",
    "\n",
    "pen_min_tuple = list(product([0], range(31)))\n",
    "\n",
    "f1_list: list[float] = []\n",
    "precision_list: list[float] = []\n",
    "recall_list: list[float] = []\n",
    "\n",
    "for p, m in pen_min_tuple:\n",
    "    f1_score = 0\n",
    "    precision = 0\n",
    "    recall = 0\n",
    "    for song in tqdm(dataset, desc=f\"{p=}, {m=}\"):\n",
    "        scores = np.array(name_to_scores[song.name]) - p\n",
    "        candidates = song_name_to_candidates[song.name]\n",
    "        updated_candidates: list[FrozenMatch] = []\n",
    "        for candidate, score in zip(candidates, scores):\n",
    "            if score >= m:\n",
    "                updated_candidates.append(candidate.update_score(score))\n",
    "        candidates = updated_candidates\n",
    "        opt_score, opt_subset = weighted_interval_scheduling(\n",
    "            candidates, return_subset=True, verbose=False)\n",
    "        discarded_matches = [match for match in candidates if match not in opt_subset]\n",
    "        concat_events = concat_matches(opt_subset)\n",
    "        alignment = Alignment(concat_events, opt_subset, discarded_matches, opt_score,\n",
    "                        sum(match.sum_miss for match in opt_subset),\n",
    "                        sum(match.sum_error for match in opt_subset))\n",
    "        assert song.ground_truth is not None\n",
    "        result = exmel.evaluate_melody(song.ground_truth, alignment.events, plot=False)\n",
    "        f1_score += result.f1_score\n",
    "        precision += result.precision\n",
    "        recall += result.recall\n",
    "    f1_score /= len(dataset)\n",
    "    precision /= len(dataset)\n",
    "    recall /= len(dataset)\n",
    "    f1_list.append(f1_score)\n",
    "    precision_list.append(precision)\n",
    "    recall_list.append(recall)"
   ]
  },
  {
   "cell_type": "code",
   "execution_count": 10,
   "id": "465483f3",
   "metadata": {},
   "outputs": [
    {
     "data": {
      "image/png": "[encoded data removed]",
      "text/plain": [
       "<Figure size 640x480 with 1 Axes>"
      ]
     },
     "metadata": {},
     "output_type": "display_data"
    }
   ],
   "source": [
    "from matplotlib import pyplot as plt\n",
    "\n",
    "plt.plot(recall_list, precision_list)\n",
    "plt.xlabel(\"Recall\")\n",
    "plt.ylabel(\"Precision\")\n",
    "plt.title(\"Precision-Recall Curve\")\n",
    "plt.show()"
   ]
  },
  {
   "cell_type": "code",
   "execution_count": 11,
   "id": "db69ddd8",
   "metadata": {},
   "outputs": [
    {
     "name": "stdout",
     "output_type": "stream",
     "text": [
      "p=0, f1=0.8998511045550991, pre=0.8964451842558051, rec=0.9053047261851696\n",
      "p=1, f1=0.9010766363013607, pre=0.8991694421442054, rec=0.9051666427827945\n",
      "p=2, f1=0.9035066508847446, pre=0.9040127181165675, rec=0.9051666427827945\n",
      "p=3, f1=0.9040029476604349, pre=0.9053140336151124, rec=0.9049524149919964\n",
      "p=4, f1=0.9047960396889638, pre=0.9066068321762323, rec=0.905214612560262\n",
      "p=5, f1=0.9065171118671342, pre=0.9100925878837048, rec=0.9054063629335769\n",
      "p=6, f1=0.9093788436305884, pre=0.9155979393970894, rec=0.9056397722662118\n",
      "p=7, f1=0.912004647684145, pre=0.9207547241314814, rec=0.9056295670660955\n",
      "p=8, f1=0.912559279721249, pre=0.9215890476670074, rec=0.9056903196201466\n",
      "p=9, f1=0.9137604922516425, pre=0.9248217873465352, rec=0.9047789417966474\n",
      "p=10, f1=0.9116879167962263, pre=0.9249128026554881, rec=0.9007038194164376\n",
      "p=11, f1=0.9080707155177693, pre=0.9247378747054775, rec=0.894746900705934\n",
      "p=12, f1=0.9055627744495444, pre=0.9258854926230862, rec=0.8885934558346685\n",
      "p=13, f1=0.9112735210356396, pre=0.9359561108329754, rec=0.8901625622822438\n",
      "p=14, f1=0.9080880943270613, pre=0.9350698624427951, rec=0.8848472054185638\n",
      "p=15, f1=0.9101359693435614, pre=0.9419772050624331, rec=0.8827042747391888\n",
      "p=16, f1=0.9081424166181735, pre=0.9456570636759802, rec=0.8763071046195898\n",
      "p=17, f1=0.9067018656227004, pre=0.9475931575575748, rec=0.8718884493167345\n",
      "p=18, f1=0.9095658621744951, pre=0.9551724215791125, rec=0.8709861896024244\n",
      "p=19, f1=0.9082279813828033, pre=0.9543135396188248, rec=0.8693651878951735\n",
      "p=20, f1=0.9052533793908354, pre=0.9534778642786198, rec=0.8646427321505461\n",
      "p=21, f1=0.9032842362771784, pre=0.9603551328275278, rec=0.8557755999323977\n",
      "p=22, f1=0.8987517320593386, pre=0.959777738210239, rec=0.8488013417497361\n",
      "p=23, f1=0.8986078754799296, pre=0.9645302681638122, rec=0.8458228738978486\n",
      "p=24, f1=0.8978123975321973, pre=0.9645926087472889, rec=0.8445552823299571\n",
      "p=25, f1=0.8937207680428555, pre=0.9648842105344508, rec=0.8379069309682738\n",
      "p=26, f1=0.8894297266690271, pre=0.9642944367894697, rec=0.8311056517070244\n",
      "p=27, f1=0.8850586371419062, pre=0.9634181642353167, rec=0.8253210554584032\n",
      "p=28, f1=0.8824168236292637, pre=0.9623942336224812, rec=0.8219964463584966\n",
      "p=29, f1=0.8829443335024812, pre=0.9648546188563313, rec=0.821229596873163\n",
      "p=30, f1=0.8718967077592049, pre=0.9646707397446261, rec=0.8058928898385327\n"
     ]
    }
   ],
   "source": [
    "for p, f1, pre, rec in zip(range(31), f1_list, precision_list, recall_list):\n",
    "    print(f\"{p=}, {f1=}, {pre=}, {rec=}\")"
   ]
  },
  {
   "cell_type": "markdown",
   "id": "c784943b",
   "metadata": {},
   "source": [
    "# Linear"
   ]
  },
  {
   "cell_type": "code",
   "execution_count": 12,
   "id": "c6e12146",
   "metadata": {},
   "outputs": [
    {
     "data": {
      "application/vnd.jupyter.widget-view+json": {
       "model_id": "9aabf0013c89431aa19a92cd294d8a5a",
       "version_major": 2,
       "version_minor": 0
      },
      "text/plain": [
       "  0%|          | 0/17 [00:00<?, ?it/s]"
      ]
     },
     "metadata": {},
     "output_type": "display_data"
    }
   ],
   "source": [
    "from tqdm.auto import tqdm\n",
    "from exmel.sequence import song_stats\n",
    "\n",
    "score_model = exmel.LinearModel(exmel.get_linear_model_default_weights(), 0)\n",
    "name_to_scores: dict[str, list[float]] = {}\n",
    "for song in tqdm(dataset):\n",
    "    score_model.load_song_stats(song_stats(song.melody, song.performance))\n",
    "    candidates = song_name_to_candidates[song.name]\n",
    "    name_to_scores[song.name] = score_model(candidates)"
   ]
  },
  {
   "cell_type": "code",
   "execution_count": 13,
   "id": "72cf553d",
   "metadata": {},
   "outputs": [
    {
     "data": {
      "application/vnd.jupyter.widget-view+json": {
       "model_id": "faccae827d984cd2b8660901a48432b0",
       "version_major": 2,
       "version_minor": 0
      },
      "text/plain": [
       "p=0, m=0:   0%|          | 0/17 [00:00<?, ?it/s]"
      ]
     },
     "metadata": {},
     "output_type": "display_data"
    },
    {
     "data": {
      "application/vnd.jupyter.widget-view+json": {
       "model_id": "14e0e845d45f4f10911a3e4d825c933e",
       "version_major": 2,
       "version_minor": 0
      },
      "text/plain": [
       "p=0, m=1:   0%|          | 0/17 [00:00<?, ?it/s]"
      ]
     },
     "metadata": {},
     "output_type": "display_data"
    },
    {
     "data": {
      "application/vnd.jupyter.widget-view+json": {
       "model_id": "3d03b338f34b4be08368a7f85dfb912f",
       "version_major": 2,
       "version_minor": 0
      },
      "text/plain": [
       "p=0, m=2:   0%|          | 0/17 [00:00<?, ?it/s]"
      ]
     },
     "metadata": {},
     "output_type": "display_data"
    },
    {
     "data": {
      "application/vnd.jupyter.widget-view+json": {
       "model_id": "c33ed55f8de846b585faea457f7e39e6",
       "version_major": 2,
       "version_minor": 0
      },
      "text/plain": [
       "p=0, m=3:   0%|          | 0/17 [00:00<?, ?it/s]"
      ]
     },
     "metadata": {},
     "output_type": "display_data"
    },
    {
     "data": {
      "application/vnd.jupyter.widget-view+json": {
       "model_id": "f2e40db489fc44ba80f9e7aa2e7995b7",
       "version_major": 2,
       "version_minor": 0
      },
      "text/plain": [
       "p=0, m=4:   0%|          | 0/17 [00:00<?, ?it/s]"
      ]
     },
     "metadata": {},
     "output_type": "display_data"
    },
    {
     "data": {
      "application/vnd.jupyter.widget-view+json": {
       "model_id": "df6e0d645bea4e6fb00bce2a164efdd4",
       "version_major": 2,
       "version_minor": 0
      },
      "text/plain": [
       "p=0, m=5:   0%|          | 0/17 [00:00<?, ?it/s]"
      ]
     },
     "metadata": {},
     "output_type": "display_data"
    },
    {
     "data": {
      "application/vnd.jupyter.widget-view+json": {
       "model_id": "b4631ffd53d442769f1228ef45a6779f",
       "version_major": 2,
       "version_minor": 0
      },
      "text/plain": [
       "p=0, m=6:   0%|          | 0/17 [00:00<?, ?it/s]"
      ]
     },
     "metadata": {},
     "output_type": "display_data"
    },
    {
     "data": {
      "application/vnd.jupyter.widget-view+json": {
       "model_id": "6113caba895e4f3fb385a5a3746c5c52",
       "version_major": 2,
       "version_minor": 0
      },
      "text/plain": [
       "p=0, m=7:   0%|          | 0/17 [00:00<?, ?it/s]"
      ]
     },
     "metadata": {},
     "output_type": "display_data"
    },
    {
     "data": {
      "application/vnd.jupyter.widget-view+json": {
       "model_id": "b184a44b776140b1847c552a29a0b839",
       "version_major": 2,
       "version_minor": 0
      },
      "text/plain": [
       "p=0, m=8:   0%|          | 0/17 [00:00<?, ?it/s]"
      ]
     },
     "metadata": {},
     "output_type": "display_data"
    },
    {
     "data": {
      "application/vnd.jupyter.widget-view+json": {
       "model_id": "eead460e94de4be7bce8b9cdb36be46e",
       "version_major": 2,
       "version_minor": 0
      },
      "text/plain": [
       "p=0, m=9:   0%|          | 0/17 [00:00<?, ?it/s]"
      ]
     },
     "metadata": {},
     "output_type": "display_data"
    },
    {
     "data": {
      "application/vnd.jupyter.widget-view+json": {
       "model_id": "cd38481fc4e5413abb27ca934cb03067",
       "version_major": 2,
       "version_minor": 0
      },
      "text/plain": [
       "p=0, m=10:   0%|          | 0/17 [00:00<?, ?it/s]"
      ]
     },
     "metadata": {},
     "output_type": "display_data"
    },
    {
     "data": {
      "application/vnd.jupyter.widget-view+json": {
       "model_id": "f98f411a6bcb4498bfb2f7c45283b5a2",
       "version_major": 2,
       "version_minor": 0
      },
      "text/plain": [
       "p=0, m=11:   0%|          | 0/17 [00:00<?, ?it/s]"
      ]
     },
     "metadata": {},
     "output_type": "display_data"
    },
    {
     "data": {
      "application/vnd.jupyter.widget-view+json": {
       "model_id": "a55d297229484a7295dc9cae567a6b90",
       "version_major": 2,
       "version_minor": 0
      },
      "text/plain": [
       "p=0, m=12:   0%|          | 0/17 [00:00<?, ?it/s]"
      ]
     },
     "metadata": {},
     "output_type": "display_data"
    },
    {
     "data": {
      "application/vnd.jupyter.widget-view+json": {
       "model_id": "c8b7bce87c2944c199c83b39a4b67d27",
       "version_major": 2,
       "version_minor": 0
      },
      "text/plain": [
       "p=0, m=13:   0%|          | 0/17 [00:00<?, ?it/s]"
      ]
     },
     "metadata": {},
     "output_type": "display_data"
    },
    {
     "data": {
      "application/vnd.jupyter.widget-view+json": {
       "model_id": "c8f54d253c3d4795873ae25b54c585a4",
       "version_major": 2,
       "version_minor": 0
      },
      "text/plain": [
       "p=0, m=14:   0%|          | 0/17 [00:00<?, ?it/s]"
      ]
     },
     "metadata": {},
     "output_type": "display_data"
    },
    {
     "data": {
      "application/vnd.jupyter.widget-view+json": {
       "model_id": "e7db830e6ccf415bb88570381ee132cd",
       "version_major": 2,
       "version_minor": 0
      },
      "text/plain": [
       "p=0, m=15:   0%|          | 0/17 [00:00<?, ?it/s]"
      ]
     },
     "metadata": {},
     "output_type": "display_data"
    },
    {
     "data": {
      "application/vnd.jupyter.widget-view+json": {
       "model_id": "2ec4242e935a4611b7982eadf7935974",
       "version_major": 2,
       "version_minor": 0
      },
      "text/plain": [
       "p=0, m=16:   0%|          | 0/17 [00:00<?, ?it/s]"
      ]
     },
     "metadata": {},
     "output_type": "display_data"
    },
    {
     "data": {
      "application/vnd.jupyter.widget-view+json": {
       "model_id": "d82c5189d0544ebfbd720fd4175b5a8e",
       "version_major": 2,
       "version_minor": 0
      },
      "text/plain": [
       "p=0, m=17:   0%|          | 0/17 [00:00<?, ?it/s]"
      ]
     },
     "metadata": {},
     "output_type": "display_data"
    },
    {
     "data": {
      "application/vnd.jupyter.widget-view+json": {
       "model_id": "95eb7ae33a7445dc9761f11bcc724086",
       "version_major": 2,
       "version_minor": 0
      },
      "text/plain": [
       "p=0, m=18:   0%|          | 0/17 [00:00<?, ?it/s]"
      ]
     },
     "metadata": {},
     "output_type": "display_data"
    },
    {
     "data": {
      "application/vnd.jupyter.widget-view+json": {
       "model_id": "ff2f6faf7bf84411b907903e8ff03da5",
       "version_major": 2,
       "version_minor": 0
      },
      "text/plain": [
       "p=0, m=19:   0%|          | 0/17 [00:00<?, ?it/s]"
      ]
     },
     "metadata": {},
     "output_type": "display_data"
    },
    {
     "data": {
      "application/vnd.jupyter.widget-view+json": {
       "model_id": "d52c2eeb9f3f49db9a21a40bcaa5df27",
       "version_major": 2,
       "version_minor": 0
      },
      "text/plain": [
       "p=0, m=20:   0%|          | 0/17 [00:00<?, ?it/s]"
      ]
     },
     "metadata": {},
     "output_type": "display_data"
    },
    {
     "data": {
      "application/vnd.jupyter.widget-view+json": {
       "model_id": "9c7c0820e8c84213bf10c9fa5844cf3d",
       "version_major": 2,
       "version_minor": 0
      },
      "text/plain": [
       "p=0, m=21:   0%|          | 0/17 [00:00<?, ?it/s]"
      ]
     },
     "metadata": {},
     "output_type": "display_data"
    },
    {
     "data": {
      "application/vnd.jupyter.widget-view+json": {
       "model_id": "3652f581814c486fa65be91f0e402c7c",
       "version_major": 2,
       "version_minor": 0
      },
      "text/plain": [
       "p=0, m=22:   0%|          | 0/17 [00:00<?, ?it/s]"
      ]
     },
     "metadata": {},
     "output_type": "display_data"
    },
    {
     "data": {
      "application/vnd.jupyter.widget-view+json": {
       "model_id": "e449d9a385b84a53a6f6462754378882",
       "version_major": 2,
       "version_minor": 0
      },
      "text/plain": [
       "p=0, m=23:   0%|          | 0/17 [00:00<?, ?it/s]"
      ]
     },
     "metadata": {},
     "output_type": "display_data"
    },
    {
     "data": {
      "application/vnd.jupyter.widget-view+json": {
       "model_id": "91cd0a93d46e4ca0ba1014fc8f6a6703",
       "version_major": 2,
       "version_minor": 0
      },
      "text/plain": [
       "p=0, m=24:   0%|          | 0/17 [00:00<?, ?it/s]"
      ]
     },
     "metadata": {},
     "output_type": "display_data"
    },
    {
     "data": {
      "application/vnd.jupyter.widget-view+json": {
       "model_id": "4842a72ed3de4c7fa608f1608fe74e5f",
       "version_major": 2,
       "version_minor": 0
      },
      "text/plain": [
       "p=0, m=25:   0%|          | 0/17 [00:00<?, ?it/s]"
      ]
     },
     "metadata": {},
     "output_type": "display_data"
    },
    {
     "data": {
      "application/vnd.jupyter.widget-view+json": {
       "model_id": "f2fe39244ef44211ae9b62fe7efe7a63",
       "version_major": 2,
       "version_minor": 0
      },
      "text/plain": [
       "p=0, m=26:   0%|          | 0/17 [00:00<?, ?it/s]"
      ]
     },
     "metadata": {},
     "output_type": "display_data"
    },
    {
     "data": {
      "application/vnd.jupyter.widget-view+json": {
       "model_id": "2fcd2554ae094160bf6a00b8a18d126b",
       "version_major": 2,
       "version_minor": 0
      },
      "text/plain": [
       "p=0, m=27:   0%|          | 0/17 [00:00<?, ?it/s]"
      ]
     },
     "metadata": {},
     "output_type": "display_data"
    },
    {
     "data": {
      "application/vnd.jupyter.widget-view+json": {
       "model_id": "6ebd0c1cae03413db9cc5e5dfbdb1713",
       "version_major": 2,
       "version_minor": 0
      },
      "text/plain": [
       "p=0, m=28:   0%|          | 0/17 [00:00<?, ?it/s]"
      ]
     },
     "metadata": {},
     "output_type": "display_data"
    },
    {
     "data": {
      "application/vnd.jupyter.widget-view+json": {
       "model_id": "88c144a98e10403b8720d291dc751de5",
       "version_major": 2,
       "version_minor": 0
      },
      "text/plain": [
       "p=0, m=29:   0%|          | 0/17 [00:00<?, ?it/s]"
      ]
     },
     "metadata": {},
     "output_type": "display_data"
    },
    {
     "data": {
      "application/vnd.jupyter.widget-view+json": {
       "model_id": "344343308310483daf5560432b4e8724",
       "version_major": 2,
       "version_minor": 0
      },
      "text/plain": [
       "p=0, m=30:   0%|          | 0/17 [00:00<?, ?it/s]"
      ]
     },
     "metadata": {},
     "output_type": "display_data"
    }
   ],
   "source": [
    "from itertools import product\n",
    "from exmel.wisp import weighted_interval_scheduling\n",
    "from exmel.alignment import Alignment, concat_matches\n",
    "import numpy as np\n",
    "\n",
    "\n",
    "pen_min_tuple = list(product([0], range(31)))\n",
    "\n",
    "f1_list: list[float] = []\n",
    "precision_list: list[float] = []\n",
    "recall_list: list[float] = []\n",
    "\n",
    "for p, m in pen_min_tuple:\n",
    "    f1_score = 0\n",
    "    precision = 0\n",
    "    recall = 0\n",
    "    for song in tqdm(dataset, desc=f\"{p=}, {m=}\"):\n",
    "        scores = np.array(name_to_scores[song.name]) - p\n",
    "        candidates = song_name_to_candidates[song.name]\n",
    "        updated_candidates: list[FrozenMatch] = []\n",
    "        for candidate, score in zip(candidates, scores):\n",
    "            if score >= m:\n",
    "                updated_candidates.append(candidate.update_score(score))\n",
    "        candidates = updated_candidates\n",
    "        opt_score, opt_subset = weighted_interval_scheduling(\n",
    "            candidates, return_subset=True, verbose=False)\n",
    "        discarded_matches = [match for match in candidates if match not in opt_subset]\n",
    "        concat_events = concat_matches(opt_subset)\n",
    "        alignment = Alignment(concat_events, opt_subset, discarded_matches, opt_score,\n",
    "                        sum(match.sum_miss for match in opt_subset),\n",
    "                        sum(match.sum_error for match in opt_subset))\n",
    "        assert song.ground_truth is not None\n",
    "        result = exmel.evaluate_melody(song.ground_truth, alignment.events, plot=False)\n",
    "        f1_score += result.f1_score\n",
    "        precision += result.precision\n",
    "        recall += result.recall\n",
    "    f1_score /= len(dataset)\n",
    "    precision /= len(dataset)\n",
    "    recall /= len(dataset)\n",
    "    f1_list.append(f1_score)\n",
    "    precision_list.append(precision)\n",
    "    recall_list.append(recall)"
   ]
  },
  {
   "cell_type": "code",
   "execution_count": 14,
   "id": "1ab76f87",
   "metadata": {},
   "outputs": [
    {
     "data": {
      "image/png": "[encoded data removed]",
      "text/plain": [
       "<Figure size 640x480 with 1 Axes>"
      ]
     },
     "metadata": {},
     "output_type": "display_data"
    }
   ],
   "source": [
    "from matplotlib import pyplot as plt\n",
    "\n",
    "plt.plot(recall_list, precision_list)\n",
    "plt.xlabel(\"Recall\")\n",
    "plt.ylabel(\"Precision\")\n",
    "plt.title(\"Precision-Recall Curve\")\n",
    "plt.show()"
   ]
  },
  {
   "cell_type": "code",
   "execution_count": 15,
   "id": "f22929d3",
   "metadata": {},
   "outputs": [
    {
     "name": "stdout",
     "output_type": "stream",
     "text": [
      "p=0, f1=0.885950229690734, pre=0.860472306906801, rec=0.916053898023922\n",
      "p=1, f1=0.8887138759024327, pre=0.8658209095832851, rec=0.916053898023922\n",
      "p=2, f1=0.8898589245256466, pre=0.8677194259087591, rec=0.9163430453605538\n",
      "p=3, f1=0.8934515321820805, pre=0.8761503008914207, rec=0.915232414210684\n",
      "p=4, f1=0.8971198800098183, pre=0.8828094851358405, rec=0.9154924441830931\n",
      "p=5, f1=0.9002230479743902, pre=0.8890677996531027, rec=0.91538505928971\n",
      "p=6, f1=0.9053627680000919, pre=0.8986984953185144, rec=0.91553244329761\n",
      "p=7, f1=0.907467645609553, pre=0.9057047029575587, rec=0.9128013819102104\n",
      "p=8, f1=0.9099618670539267, pre=0.9123832578707629, rec=0.9106500326820258\n",
      "p=9, f1=0.913891553557754, pre=0.9224630494238378, rec=0.9085609979224802\n",
      "p=10, f1=0.9192738459107368, pre=0.9348360009688147, rec=0.907633259655881\n",
      "p=11, f1=0.9194647604576235, pre=0.9397608210500248, rec=0.9028758256969668\n",
      "p=12, f1=0.9204124019342212, pre=0.9446887569828145, rec=0.9001025615361754\n",
      "p=13, f1=0.9202868272070024, pre=0.946830246148973, rec=0.8975889940471771\n",
      "p=14, f1=0.9200620703796584, pre=0.9491287661517861, rec=0.8952403313046481\n",
      "p=15, f1=0.9191327567347992, pre=0.948447177728521, rec=0.8942280871391232\n",
      "p=16, f1=0.9162535217803499, pre=0.9505628960636535, rec=0.8871933194052727\n",
      "p=17, f1=0.9151601811402612, pre=0.9557081991639302, rec=0.8802759270004242\n",
      "p=18, f1=0.9128401822310955, pre=0.9543839186652027, rec=0.8771913278928092\n",
      "p=19, f1=0.9114280018433847, pre=0.9593481430701069, rec=0.8705782062133836\n",
      "p=20, f1=0.9094812950195347, pre=0.960086732064831, rec=0.8667831608203117\n",
      "p=21, f1=0.9032968887637877, pre=0.96008605688318, rec=0.8561882702423296\n",
      "p=22, f1=0.9010371476404601, pre=0.9585599014172912, rec=0.8534055644422794\n",
      "p=23, f1=0.8980471034046372, pre=0.9586802476609293, rec=0.8487683153904887\n",
      "p=24, f1=0.8964210886777138, pre=0.9582286472385443, rec=0.8463590533273466\n",
      "p=25, f1=0.8944647812152192, pre=0.9641196889016658, rec=0.8402674661057047\n",
      "p=26, f1=0.8916811271219225, pre=0.9653997977355407, rec=0.8350982405621049\n",
      "p=27, f1=0.8823442868392078, pre=0.9628244134930405, rec=0.8225733317310788\n",
      "p=28, f1=0.8740425881028363, pre=0.9638128554402838, rec=0.8119506573256525\n",
      "p=29, f1=0.8720710340080011, pre=0.9633591660546216, rec=0.808874903666549\n",
      "p=30, f1=0.8666008189862724, pre=0.9666637479710198, rec=0.7988547467948062\n"
     ]
    }
   ],
   "source": [
    "for p, f1, pre, rec in zip(range(31), f1_list, precision_list, recall_list):\n",
    "    print(f\"{p=}, {f1=}, {pre=}, {rec=}\")"
   ]
  },
  {
   "cell_type": "markdown",
   "id": "37404451",
   "metadata": {},
   "source": [
    "# Weighted Sum Velocity"
   ]
  },
  {
   "cell_type": "code",
   "execution_count": null,
   "id": "a7bc5c86",
   "metadata": {},
   "outputs": [
    {
     "data": {
      "application/vnd.jupyter.widget-view+json": {
       "model_id": "828175fa98da4959b91754cdf7682b23",
       "version_major": 2,
       "version_minor": 0
      },
      "text/plain": [
       "  0%|          | 0/17 [00:00<?, ?it/s]"
      ]
     },
     "metadata": {},
     "output_type": "display_data"
    }
   ],
   "source": [
    "from tqdm.auto import tqdm\n",
    "from exmel.sequence import song_stats\n",
    "\n",
    "name_to_scores: dict[str, list[float]] = {}\n",
    "for song in tqdm(dataset):\n",
    "    candidates = song_name_to_candidates[song.name]\n",
    "    scores: list[float] = []\n",
    "    for c in candidates:\n",
    "        v = sum(event.velocity for event in c.events) / 128\n",
    "        w = (1 - c.sum_miss / len(c.events))\n",
    "        scores.append(v*w)\n",
    "    name_to_scores[song.name] = scores"
   ]
  },
  {
   "cell_type": "code",
   "execution_count": 17,
   "id": "bc5ad31f",
   "metadata": {},
   "outputs": [
    {
     "data": {
      "application/vnd.jupyter.widget-view+json": {
       "model_id": "42f63734c88a44b5a843351e9016929c",
       "version_major": 2,
       "version_minor": 0
      },
      "text/plain": [
       "p=0, m=0:   0%|          | 0/17 [00:00<?, ?it/s]"
      ]
     },
     "metadata": {},
     "output_type": "display_data"
    },
    {
     "data": {
      "application/vnd.jupyter.widget-view+json": {
       "model_id": "071bbb146dde411c9c5954f13d9c1fa5",
       "version_major": 2,
       "version_minor": 0
      },
      "text/plain": [
       "p=0, m=1:   0%|          | 0/17 [00:00<?, ?it/s]"
      ]
     },
     "metadata": {},
     "output_type": "display_data"
    },
    {
     "data": {
      "application/vnd.jupyter.widget-view+json": {
       "model_id": "d43c4363c1f040b8ae7e696f62c5f3dc",
       "version_major": 2,
       "version_minor": 0
      },
      "text/plain": [
       "p=0, m=2:   0%|          | 0/17 [00:00<?, ?it/s]"
      ]
     },
     "metadata": {},
     "output_type": "display_data"
    },
    {
     "data": {
      "application/vnd.jupyter.widget-view+json": {
       "model_id": "bd1e5f344cf94f7781d2fe48fd822c39",
       "version_major": 2,
       "version_minor": 0
      },
      "text/plain": [
       "p=0, m=3:   0%|          | 0/17 [00:00<?, ?it/s]"
      ]
     },
     "metadata": {},
     "output_type": "display_data"
    },
    {
     "data": {
      "application/vnd.jupyter.widget-view+json": {
       "model_id": "2be0df7aa7b945b6a0125654a43532d8",
       "version_major": 2,
       "version_minor": 0
      },
      "text/plain": [
       "p=0, m=4:   0%|          | 0/17 [00:00<?, ?it/s]"
      ]
     },
     "metadata": {},
     "output_type": "display_data"
    },
    {
     "data": {
      "application/vnd.jupyter.widget-view+json": {
       "model_id": "7730d1a570634344ba0d03c700dfbb7e",
       "version_major": 2,
       "version_minor": 0
      },
      "text/plain": [
       "p=0, m=5:   0%|          | 0/17 [00:00<?, ?it/s]"
      ]
     },
     "metadata": {},
     "output_type": "display_data"
    },
    {
     "data": {
      "application/vnd.jupyter.widget-view+json": {
       "model_id": "253aeb144f0941a582d9960512af8645",
       "version_major": 2,
       "version_minor": 0
      },
      "text/plain": [
       "p=0, m=6:   0%|          | 0/17 [00:00<?, ?it/s]"
      ]
     },
     "metadata": {},
     "output_type": "display_data"
    },
    {
     "data": {
      "application/vnd.jupyter.widget-view+json": {
       "model_id": "10a517ed17894f2da98ffaa10d58e872",
       "version_major": 2,
       "version_minor": 0
      },
      "text/plain": [
       "p=0, m=7:   0%|          | 0/17 [00:00<?, ?it/s]"
      ]
     },
     "metadata": {},
     "output_type": "display_data"
    },
    {
     "data": {
      "application/vnd.jupyter.widget-view+json": {
       "model_id": "8500c71018a1423a89a7acd8d24d5a55",
       "version_major": 2,
       "version_minor": 0
      },
      "text/plain": [
       "p=0, m=8:   0%|          | 0/17 [00:00<?, ?it/s]"
      ]
     },
     "metadata": {},
     "output_type": "display_data"
    },
    {
     "data": {
      "application/vnd.jupyter.widget-view+json": {
       "model_id": "335050d4a60f4d81843d35bb7c840244",
       "version_major": 2,
       "version_minor": 0
      },
      "text/plain": [
       "p=0, m=9:   0%|          | 0/17 [00:00<?, ?it/s]"
      ]
     },
     "metadata": {},
     "output_type": "display_data"
    },
    {
     "data": {
      "application/vnd.jupyter.widget-view+json": {
       "model_id": "3d3201a5c8814665a9869d05cd077718",
       "version_major": 2,
       "version_minor": 0
      },
      "text/plain": [
       "p=0, m=10:   0%|          | 0/17 [00:00<?, ?it/s]"
      ]
     },
     "metadata": {},
     "output_type": "display_data"
    },
    {
     "data": {
      "application/vnd.jupyter.widget-view+json": {
       "model_id": "23380b88e7a64dbfb19f4ac44a3363a1",
       "version_major": 2,
       "version_minor": 0
      },
      "text/plain": [
       "p=0, m=11:   0%|          | 0/17 [00:00<?, ?it/s]"
      ]
     },
     "metadata": {},
     "output_type": "display_data"
    },
    {
     "data": {
      "application/vnd.jupyter.widget-view+json": {
       "model_id": "f2f51a3923e445869df849cc05d4e42f",
       "version_major": 2,
       "version_minor": 0
      },
      "text/plain": [
       "p=0, m=12:   0%|          | 0/17 [00:00<?, ?it/s]"
      ]
     },
     "metadata": {},
     "output_type": "display_data"
    },
    {
     "data": {
      "application/vnd.jupyter.widget-view+json": {
       "model_id": "db99e31e635d41d0956db87ceb91244b",
       "version_major": 2,
       "version_minor": 0
      },
      "text/plain": [
       "p=0, m=13:   0%|          | 0/17 [00:00<?, ?it/s]"
      ]
     },
     "metadata": {},
     "output_type": "display_data"
    },
    {
     "data": {
      "application/vnd.jupyter.widget-view+json": {
       "model_id": "aa90dcc5abc643fbb58bfd04321cc237",
       "version_major": 2,
       "version_minor": 0
      },
      "text/plain": [
       "p=0, m=14:   0%|          | 0/17 [00:00<?, ?it/s]"
      ]
     },
     "metadata": {},
     "output_type": "display_data"
    },
    {
     "data": {
      "application/vnd.jupyter.widget-view+json": {
       "model_id": "73c8d34b8e324bf3bbb6a90c32159f16",
       "version_major": 2,
       "version_minor": 0
      },
      "text/plain": [
       "p=0, m=15:   0%|          | 0/17 [00:00<?, ?it/s]"
      ]
     },
     "metadata": {},
     "output_type": "display_data"
    },
    {
     "data": {
      "application/vnd.jupyter.widget-view+json": {
       "model_id": "eac084fa427a4f96a2d405fb0e51c60d",
       "version_major": 2,
       "version_minor": 0
      },
      "text/plain": [
       "p=0, m=16:   0%|          | 0/17 [00:00<?, ?it/s]"
      ]
     },
     "metadata": {},
     "output_type": "display_data"
    },
    {
     "data": {
      "application/vnd.jupyter.widget-view+json": {
       "model_id": "b32e535e70a64b1f884172d2aa972c76",
       "version_major": 2,
       "version_minor": 0
      },
      "text/plain": [
       "p=0, m=17:   0%|          | 0/17 [00:00<?, ?it/s]"
      ]
     },
     "metadata": {},
     "output_type": "display_data"
    },
    {
     "data": {
      "application/vnd.jupyter.widget-view+json": {
       "model_id": "9f4e00fe6f404acb9ba839cbe660c006",
       "version_major": 2,
       "version_minor": 0
      },
      "text/plain": [
       "p=0, m=18:   0%|          | 0/17 [00:00<?, ?it/s]"
      ]
     },
     "metadata": {},
     "output_type": "display_data"
    },
    {
     "data": {
      "application/vnd.jupyter.widget-view+json": {
       "model_id": "4e2810bd31ad44c98800d1f6a3063539",
       "version_major": 2,
       "version_minor": 0
      },
      "text/plain": [
       "p=0, m=19:   0%|          | 0/17 [00:00<?, ?it/s]"
      ]
     },
     "metadata": {},
     "output_type": "display_data"
    },
    {
     "data": {
      "application/vnd.jupyter.widget-view+json": {
       "model_id": "2157e6027bac420493a35dd5eeb67d74",
       "version_major": 2,
       "version_minor": 0
      },
      "text/plain": [
       "p=0, m=20:   0%|          | 0/17 [00:00<?, ?it/s]"
      ]
     },
     "metadata": {},
     "output_type": "display_data"
    },
    {
     "data": {
      "application/vnd.jupyter.widget-view+json": {
       "model_id": "36b27378e45a468380cd6f3094fd7811",
       "version_major": 2,
       "version_minor": 0
      },
      "text/plain": [
       "p=0, m=21:   0%|          | 0/17 [00:00<?, ?it/s]"
      ]
     },
     "metadata": {},
     "output_type": "display_data"
    },
    {
     "data": {
      "application/vnd.jupyter.widget-view+json": {
       "model_id": "f8b4de63f8b549d2874bf28af6bc9bc0",
       "version_major": 2,
       "version_minor": 0
      },
      "text/plain": [
       "p=0, m=22:   0%|          | 0/17 [00:00<?, ?it/s]"
      ]
     },
     "metadata": {},
     "output_type": "display_data"
    },
    {
     "data": {
      "application/vnd.jupyter.widget-view+json": {
       "model_id": "155485802ac94d73b5fa0b85efaa99b1",
       "version_major": 2,
       "version_minor": 0
      },
      "text/plain": [
       "p=0, m=23:   0%|          | 0/17 [00:00<?, ?it/s]"
      ]
     },
     "metadata": {},
     "output_type": "display_data"
    },
    {
     "data": {
      "application/vnd.jupyter.widget-view+json": {
       "model_id": "c21bdf21bab04ee6b1f41348300d3e08",
       "version_major": 2,
       "version_minor": 0
      },
      "text/plain": [
       "p=0, m=24:   0%|          | 0/17 [00:00<?, ?it/s]"
      ]
     },
     "metadata": {},
     "output_type": "display_data"
    },
    {
     "data": {
      "application/vnd.jupyter.widget-view+json": {
       "model_id": "243e6e430ee44cfd88c70b9abdd9672d",
       "version_major": 2,
       "version_minor": 0
      },
      "text/plain": [
       "p=0, m=25:   0%|          | 0/17 [00:00<?, ?it/s]"
      ]
     },
     "metadata": {},
     "output_type": "display_data"
    },
    {
     "data": {
      "application/vnd.jupyter.widget-view+json": {
       "model_id": "b39230c705534468a562ce2dc8be5eeb",
       "version_major": 2,
       "version_minor": 0
      },
      "text/plain": [
       "p=0, m=26:   0%|          | 0/17 [00:00<?, ?it/s]"
      ]
     },
     "metadata": {},
     "output_type": "display_data"
    },
    {
     "data": {
      "application/vnd.jupyter.widget-view+json": {
       "model_id": "7537b389d0a34217ab4b44d26d5e4101",
       "version_major": 2,
       "version_minor": 0
      },
      "text/plain": [
       "p=0, m=27:   0%|          | 0/17 [00:00<?, ?it/s]"
      ]
     },
     "metadata": {},
     "output_type": "display_data"
    },
    {
     "data": {
      "application/vnd.jupyter.widget-view+json": {
       "model_id": "c90dab650a334802a768223d15668e2b",
       "version_major": 2,
       "version_minor": 0
      },
      "text/plain": [
       "p=0, m=28:   0%|          | 0/17 [00:00<?, ?it/s]"
      ]
     },
     "metadata": {},
     "output_type": "display_data"
    },
    {
     "data": {
      "application/vnd.jupyter.widget-view+json": {
       "model_id": "b95af34cecd44e59b6e3e5546e02cd78",
       "version_major": 2,
       "version_minor": 0
      },
      "text/plain": [
       "p=0, m=29:   0%|          | 0/17 [00:00<?, ?it/s]"
      ]
     },
     "metadata": {},
     "output_type": "display_data"
    },
    {
     "data": {
      "application/vnd.jupyter.widget-view+json": {
       "model_id": "7934a07d8e0e49d8995c0d0372a2ea5b",
       "version_major": 2,
       "version_minor": 0
      },
      "text/plain": [
       "p=0, m=30:   0%|          | 0/17 [00:00<?, ?it/s]"
      ]
     },
     "metadata": {},
     "output_type": "display_data"
    }
   ],
   "source": [
    "from itertools import product\n",
    "from exmel.wisp import weighted_interval_scheduling\n",
    "from exmel.alignment import Alignment, concat_matches\n",
    "import numpy as np\n",
    "\n",
    "\n",
    "pen_min_tuple = list(product([0], range(31)))\n",
    "\n",
    "f1_list: list[float] = []\n",
    "precision_list: list[float] = []\n",
    "recall_list: list[float] = []\n",
    "\n",
    "for p, m in pen_min_tuple:\n",
    "    f1_score = 0\n",
    "    precision = 0\n",
    "    recall = 0\n",
    "    for song in tqdm(dataset, desc=f\"{p=}, {m=}\"):\n",
    "        scores = np.array(name_to_scores[song.name]) - p\n",
    "        candidates = song_name_to_candidates[song.name]\n",
    "        updated_candidates: list[FrozenMatch] = []\n",
    "        for candidate, score in zip(candidates, scores):\n",
    "            if score >= m:\n",
    "                updated_candidates.append(candidate.update_score(score))\n",
    "        candidates = updated_candidates\n",
    "        opt_score, opt_subset = weighted_interval_scheduling(\n",
    "            candidates, return_subset=True, verbose=False)\n",
    "        discarded_matches = [match for match in candidates if match not in opt_subset]\n",
    "        concat_events = concat_matches(opt_subset)\n",
    "        alignment = Alignment(concat_events, opt_subset, discarded_matches, opt_score,\n",
    "                        sum(match.sum_miss for match in opt_subset),\n",
    "                        sum(match.sum_error for match in opt_subset))\n",
    "        assert song.ground_truth is not None\n",
    "        result = exmel.evaluate_melody(song.ground_truth, alignment.events, plot=False)\n",
    "        f1_score += result.f1_score\n",
    "        precision += result.precision\n",
    "        recall += result.recall\n",
    "    f1_score /= len(dataset)\n",
    "    precision /= len(dataset)\n",
    "    recall /= len(dataset)\n",
    "    f1_list.append(f1_score)\n",
    "    precision_list.append(precision)\n",
    "    recall_list.append(recall)"
   ]
  },
  {
   "cell_type": "code",
   "execution_count": 18,
   "id": "82512ed6",
   "metadata": {},
   "outputs": [
    {
     "data": {
      "image/png": "[encoded data removed]",
      "text/plain": [
       "<Figure size 640x480 with 1 Axes>"
      ]
     },
     "metadata": {},
     "output_type": "display_data"
    }
   ],
   "source": [
    "from matplotlib import pyplot as plt\n",
    "\n",
    "plt.plot(recall_list, precision_list)\n",
    "plt.xlabel(\"Recall\")\n",
    "plt.ylabel(\"Precision\")\n",
    "plt.title(\"Precision-Recall Curve\")\n",
    "plt.show()"
   ]
  },
  {
   "cell_type": "code",
   "execution_count": 19,
   "id": "d8d0c211",
   "metadata": {},
   "outputs": [
    {
     "name": "stdout",
     "output_type": "stream",
     "text": [
      "p=0, f1=0.8808441924715992, pre=0.8556594453543847, rec=0.9108368767444849\n",
      "p=1, f1=0.8833856615986706, pre=0.8604328648307442, rec=0.9108368767444849\n",
      "p=2, f1=0.8896911143505438, pre=0.8728275322910217, rec=0.9108368767444849\n",
      "p=3, f1=0.8950378652868062, pre=0.8835533921613554, rec=0.9105092179371697\n",
      "p=4, f1=0.9015752860101249, pre=0.8966072570213933, rec=0.9104259863098155\n",
      "p=5, f1=0.9057336155648782, pre=0.9094532057288373, rec=0.9060567650461239\n",
      "p=6, f1=0.9121326750506678, pre=0.9235467449550591, rec=0.9044593904555703\n",
      "p=7, f1=0.9212319839245888, pre=0.9437495994323444, rec=0.9019611550740438\n",
      "p=8, f1=0.9232794795930259, pre=0.9551174285285315, rec=0.895176889308984\n",
      "p=9, f1=0.9219846183333215, pre=0.9575884814070105, rec=0.8907613679318515\n",
      "p=10, f1=0.9157980710090908, pre=0.9579969553754433, rec=0.879564057552709\n",
      "p=11, f1=0.9142925908190184, pre=0.9577163807895701, rec=0.8771897355433103\n",
      "p=12, f1=0.905591716966151, pre=0.9550530728911364, rec=0.8640640511663249\n",
      "p=13, f1=0.9005401246162537, pre=0.9597425229055576, rec=0.8519390348859133\n",
      "p=14, f1=0.8986388752478346, pre=0.9611813100613134, rec=0.8480982573319995\n",
      "p=15, f1=0.896129989888406, pre=0.9609247591984637, rec=0.8441423546374843\n",
      "p=16, f1=0.8912051419080919, pre=0.9600218486417296, rec=0.8373996093167803\n",
      "p=17, f1=0.8848319430984949, pre=0.9596642389104003, rec=0.8279966351985503\n",
      "p=18, f1=0.8778848094724753, pre=0.9620297007814839, rec=0.8156217469413207\n",
      "p=19, f1=0.8720870260217766, pre=0.966863941556758, rec=0.8038705548937457\n",
      "p=20, f1=0.866287861155931, pre=0.968160591902641, rec=0.7955469002795258\n",
      "p=21, f1=0.8615391665533421, pre=0.9679886702373096, rec=0.7894684431935078\n",
      "p=22, f1=0.8544983720260992, pre=0.9681152651458509, rec=0.7803887038835052\n",
      "p=23, f1=0.8528891117446389, pre=0.9684326237048942, rec=0.7780405267477293\n",
      "p=24, f1=0.8414686084590455, pre=0.96781740605068, rec=0.7657100415106126\n",
      "p=25, f1=0.840200495218511, pre=0.9684176462355246, rec=0.7639456693267341\n",
      "p=26, f1=0.81502747452606, pre=0.9717687010459883, rec=0.7352717640141561\n",
      "p=27, f1=0.8127257639986509, pre=0.9718988023646304, rec=0.7316240918480074\n",
      "p=28, f1=0.8047819404125823, pre=0.9717667562182688, rec=0.7208720829022064\n",
      "p=29, f1=0.7940290410683035, pre=0.97573337661916, rec=0.7076999278554112\n",
      "p=30, f1=0.7659396300134574, pre=0.9223082918960305, rec=0.6868840312423238\n"
     ]
    }
   ],
   "source": [
    "for p, f1, pre, rec in zip(range(31), f1_list, precision_list, recall_list):\n",
    "    print(f\"{p=}, {f1=}, {pre=}, {rec=}\")"
   ]
  },
  {
   "cell_type": "markdown",
   "id": "d8b92ded",
   "metadata": {},
   "source": [
    "# Weighted Sum Vel V2"
   ]
  },
  {
   "cell_type": "code",
   "execution_count": 20,
   "id": "ac996604",
   "metadata": {},
   "outputs": [
    {
     "data": {
      "application/vnd.jupyter.widget-view+json": {
       "model_id": "3a787167ac234ef3993d3ebe6292d02e",
       "version_major": 2,
       "version_minor": 0
      },
      "text/plain": [
       "  0%|          | 0/17 [00:00<?, ?it/s]"
      ]
     },
     "metadata": {},
     "output_type": "display_data"
    }
   ],
   "source": [
    "from tqdm.auto import tqdm\n",
    "from exmel.sequence import song_stats\n",
    "\n",
    "name_to_scores: dict[str, list[float]] = {}\n",
    "for song in tqdm(dataset):\n",
    "    note_mean_song = song_stats(song.melody, song.performance)[\"note_mean_song\"]\n",
    "    candidates = song_name_to_candidates[song.name]\n",
    "    scores: list[float] = []\n",
    "    for c in candidates:\n",
    "        v = sum(event.velocity for event in c.events) / 128\n",
    "        w1 = (1 - c.sum_miss / len(c.events))\n",
    "        w2 = sum(event.note for event in c.events) / len(c.events) / note_mean_song\n",
    "        scores.append(v*w1*w2)\n",
    "    name_to_scores[song.name] = scores"
   ]
  },
  {
   "cell_type": "code",
   "execution_count": 21,
   "id": "9064268f",
   "metadata": {},
   "outputs": [
    {
     "data": {
      "application/vnd.jupyter.widget-view+json": {
       "model_id": "392a1ddd968646058fe32d3b3cb4664c",
       "version_major": 2,
       "version_minor": 0
      },
      "text/plain": [
       "p=0, m=0:   0%|          | 0/17 [00:00<?, ?it/s]"
      ]
     },
     "metadata": {},
     "output_type": "display_data"
    },
    {
     "data": {
      "application/vnd.jupyter.widget-view+json": {
       "model_id": "8068c3ad7b9a4408ba6473b8cf2db827",
       "version_major": 2,
       "version_minor": 0
      },
      "text/plain": [
       "p=0, m=1:   0%|          | 0/17 [00:00<?, ?it/s]"
      ]
     },
     "metadata": {},
     "output_type": "display_data"
    },
    {
     "data": {
      "application/vnd.jupyter.widget-view+json": {
       "model_id": "bcf965bcba8e457a8c3c264969d6aa06",
       "version_major": 2,
       "version_minor": 0
      },
      "text/plain": [
       "p=0, m=2:   0%|          | 0/17 [00:00<?, ?it/s]"
      ]
     },
     "metadata": {},
     "output_type": "display_data"
    },
    {
     "data": {
      "application/vnd.jupyter.widget-view+json": {
       "model_id": "0b8df517ef78458c80383b8369558f8a",
       "version_major": 2,
       "version_minor": 0
      },
      "text/plain": [
       "p=0, m=3:   0%|          | 0/17 [00:00<?, ?it/s]"
      ]
     },
     "metadata": {},
     "output_type": "display_data"
    },
    {
     "data": {
      "application/vnd.jupyter.widget-view+json": {
       "model_id": "4acaf86ac48f42d6980ab0f5a3e06e4b",
       "version_major": 2,
       "version_minor": 0
      },
      "text/plain": [
       "p=0, m=4:   0%|          | 0/17 [00:00<?, ?it/s]"
      ]
     },
     "metadata": {},
     "output_type": "display_data"
    },
    {
     "data": {
      "application/vnd.jupyter.widget-view+json": {
       "model_id": "a4a307cf376d47b6b85e7591ec62530a",
       "version_major": 2,
       "version_minor": 0
      },
      "text/plain": [
       "p=0, m=5:   0%|          | 0/17 [00:00<?, ?it/s]"
      ]
     },
     "metadata": {},
     "output_type": "display_data"
    },
    {
     "data": {
      "application/vnd.jupyter.widget-view+json": {
       "model_id": "7c93ba0dc01942e4ac0c5d66e6955434",
       "version_major": 2,
       "version_minor": 0
      },
      "text/plain": [
       "p=0, m=6:   0%|          | 0/17 [00:00<?, ?it/s]"
      ]
     },
     "metadata": {},
     "output_type": "display_data"
    },
    {
     "data": {
      "application/vnd.jupyter.widget-view+json": {
       "model_id": "1c8bffebb1ff4b04bd7ba3767fe082d0",
       "version_major": 2,
       "version_minor": 0
      },
      "text/plain": [
       "p=0, m=7:   0%|          | 0/17 [00:00<?, ?it/s]"
      ]
     },
     "metadata": {},
     "output_type": "display_data"
    },
    {
     "data": {
      "application/vnd.jupyter.widget-view+json": {
       "model_id": "ff350f467f7c42e68681d285c528e54d",
       "version_major": 2,
       "version_minor": 0
      },
      "text/plain": [
       "p=0, m=8:   0%|          | 0/17 [00:00<?, ?it/s]"
      ]
     },
     "metadata": {},
     "output_type": "display_data"
    },
    {
     "data": {
      "application/vnd.jupyter.widget-view+json": {
       "model_id": "a654b57a70e742538fd38d4908863ecb",
       "version_major": 2,
       "version_minor": 0
      },
      "text/plain": [
       "p=0, m=9:   0%|          | 0/17 [00:00<?, ?it/s]"
      ]
     },
     "metadata": {},
     "output_type": "display_data"
    },
    {
     "data": {
      "application/vnd.jupyter.widget-view+json": {
       "model_id": "3c310fb9055c4eef8cb3b5ac0b9034f0",
       "version_major": 2,
       "version_minor": 0
      },
      "text/plain": [
       "p=0, m=10:   0%|          | 0/17 [00:00<?, ?it/s]"
      ]
     },
     "metadata": {},
     "output_type": "display_data"
    },
    {
     "data": {
      "application/vnd.jupyter.widget-view+json": {
       "model_id": "fb4c0cf2bfa54c76acebca9474ed4e85",
       "version_major": 2,
       "version_minor": 0
      },
      "text/plain": [
       "p=0, m=11:   0%|          | 0/17 [00:00<?, ?it/s]"
      ]
     },
     "metadata": {},
     "output_type": "display_data"
    },
    {
     "data": {
      "application/vnd.jupyter.widget-view+json": {
       "model_id": "005e508cd3464fa69dc756d8c450970f",
       "version_major": 2,
       "version_minor": 0
      },
      "text/plain": [
       "p=0, m=12:   0%|          | 0/17 [00:00<?, ?it/s]"
      ]
     },
     "metadata": {},
     "output_type": "display_data"
    },
    {
     "data": {
      "application/vnd.jupyter.widget-view+json": {
       "model_id": "071fa3d7cea6403cbc23b84722e66812",
       "version_major": 2,
       "version_minor": 0
      },
      "text/plain": [
       "p=0, m=13:   0%|          | 0/17 [00:00<?, ?it/s]"
      ]
     },
     "metadata": {},
     "output_type": "display_data"
    },
    {
     "data": {
      "application/vnd.jupyter.widget-view+json": {
       "model_id": "ebef6681ae484392b6ab58888013c3a2",
       "version_major": 2,
       "version_minor": 0
      },
      "text/plain": [
       "p=0, m=14:   0%|          | 0/17 [00:00<?, ?it/s]"
      ]
     },
     "metadata": {},
     "output_type": "display_data"
    },
    {
     "data": {
      "application/vnd.jupyter.widget-view+json": {
       "model_id": "8aed6e988e48499a9a49075f44381daa",
       "version_major": 2,
       "version_minor": 0
      },
      "text/plain": [
       "p=0, m=15:   0%|          | 0/17 [00:00<?, ?it/s]"
      ]
     },
     "metadata": {},
     "output_type": "display_data"
    },
    {
     "data": {
      "application/vnd.jupyter.widget-view+json": {
       "model_id": "50f54ec7eb7a48e8ba969a670b4cd091",
       "version_major": 2,
       "version_minor": 0
      },
      "text/plain": [
       "p=0, m=16:   0%|          | 0/17 [00:00<?, ?it/s]"
      ]
     },
     "metadata": {},
     "output_type": "display_data"
    },
    {
     "data": {
      "application/vnd.jupyter.widget-view+json": {
       "model_id": "f6748356c9814316aae277c37f9cfde8",
       "version_major": 2,
       "version_minor": 0
      },
      "text/plain": [
       "p=0, m=17:   0%|          | 0/17 [00:00<?, ?it/s]"
      ]
     },
     "metadata": {},
     "output_type": "display_data"
    },
    {
     "data": {
      "application/vnd.jupyter.widget-view+json": {
       "model_id": "316a90d6719c41788cdacf6904019d47",
       "version_major": 2,
       "version_minor": 0
      },
      "text/plain": [
       "p=0, m=18:   0%|          | 0/17 [00:00<?, ?it/s]"
      ]
     },
     "metadata": {},
     "output_type": "display_data"
    },
    {
     "data": {
      "application/vnd.jupyter.widget-view+json": {
       "model_id": "e337328c37ad4153af9da8b407907707",
       "version_major": 2,
       "version_minor": 0
      },
      "text/plain": [
       "p=0, m=19:   0%|          | 0/17 [00:00<?, ?it/s]"
      ]
     },
     "metadata": {},
     "output_type": "display_data"
    },
    {
     "data": {
      "application/vnd.jupyter.widget-view+json": {
       "model_id": "4f8512688cdb47fc9bb26230c6fcfd6d",
       "version_major": 2,
       "version_minor": 0
      },
      "text/plain": [
       "p=0, m=20:   0%|          | 0/17 [00:00<?, ?it/s]"
      ]
     },
     "metadata": {},
     "output_type": "display_data"
    },
    {
     "data": {
      "application/vnd.jupyter.widget-view+json": {
       "model_id": "5248e7f7819643bba5fe8fcac8643787",
       "version_major": 2,
       "version_minor": 0
      },
      "text/plain": [
       "p=0, m=21:   0%|          | 0/17 [00:00<?, ?it/s]"
      ]
     },
     "metadata": {},
     "output_type": "display_data"
    },
    {
     "data": {
      "application/vnd.jupyter.widget-view+json": {
       "model_id": "587f915d59e049fb865983841b9b5a0a",
       "version_major": 2,
       "version_minor": 0
      },
      "text/plain": [
       "p=0, m=22:   0%|          | 0/17 [00:00<?, ?it/s]"
      ]
     },
     "metadata": {},
     "output_type": "display_data"
    },
    {
     "data": {
      "application/vnd.jupyter.widget-view+json": {
       "model_id": "fc2cf20fc92e40b0ac19bba9263c891b",
       "version_major": 2,
       "version_minor": 0
      },
      "text/plain": [
       "p=0, m=23:   0%|          | 0/17 [00:00<?, ?it/s]"
      ]
     },
     "metadata": {},
     "output_type": "display_data"
    },
    {
     "data": {
      "application/vnd.jupyter.widget-view+json": {
       "model_id": "8a00810c192b44eab14083d9022e5f83",
       "version_major": 2,
       "version_minor": 0
      },
      "text/plain": [
       "p=0, m=24:   0%|          | 0/17 [00:00<?, ?it/s]"
      ]
     },
     "metadata": {},
     "output_type": "display_data"
    },
    {
     "data": {
      "application/vnd.jupyter.widget-view+json": {
       "model_id": "da776fa01b284d27bfc5452f96b2003e",
       "version_major": 2,
       "version_minor": 0
      },
      "text/plain": [
       "p=0, m=25:   0%|          | 0/17 [00:00<?, ?it/s]"
      ]
     },
     "metadata": {},
     "output_type": "display_data"
    },
    {
     "data": {
      "application/vnd.jupyter.widget-view+json": {
       "model_id": "97c0b58d87fe41d0951132752e5e7b4e",
       "version_major": 2,
       "version_minor": 0
      },
      "text/plain": [
       "p=0, m=26:   0%|          | 0/17 [00:00<?, ?it/s]"
      ]
     },
     "metadata": {},
     "output_type": "display_data"
    },
    {
     "data": {
      "application/vnd.jupyter.widget-view+json": {
       "model_id": "bbe954026cb1414d915c47b98cdb99aa",
       "version_major": 2,
       "version_minor": 0
      },
      "text/plain": [
       "p=0, m=27:   0%|          | 0/17 [00:00<?, ?it/s]"
      ]
     },
     "metadata": {},
     "output_type": "display_data"
    },
    {
     "data": {
      "application/vnd.jupyter.widget-view+json": {
       "model_id": "a83aa683bfd44aa381daad049d57ba7b",
       "version_major": 2,
       "version_minor": 0
      },
      "text/plain": [
       "p=0, m=28:   0%|          | 0/17 [00:00<?, ?it/s]"
      ]
     },
     "metadata": {},
     "output_type": "display_data"
    },
    {
     "data": {
      "application/vnd.jupyter.widget-view+json": {
       "model_id": "37dd57af15364f699952e5a277402cac",
       "version_major": 2,
       "version_minor": 0
      },
      "text/plain": [
       "p=0, m=29:   0%|          | 0/17 [00:00<?, ?it/s]"
      ]
     },
     "metadata": {},
     "output_type": "display_data"
    },
    {
     "data": {
      "application/vnd.jupyter.widget-view+json": {
       "model_id": "a68f2ba35eab48598b3bf66fb7b161d1",
       "version_major": 2,
       "version_minor": 0
      },
      "text/plain": [
       "p=0, m=30:   0%|          | 0/17 [00:00<?, ?it/s]"
      ]
     },
     "metadata": {},
     "output_type": "display_data"
    }
   ],
   "source": [
    "from itertools import product\n",
    "from exmel.wisp import weighted_interval_scheduling\n",
    "from exmel.alignment import Alignment, concat_matches\n",
    "import numpy as np\n",
    "\n",
    "\n",
    "pen_min_tuple = list(product([0], range(31)))\n",
    "\n",
    "f1_list: list[float] = []\n",
    "precision_list: list[float] = []\n",
    "recall_list: list[float] = []\n",
    "\n",
    "for p, m in pen_min_tuple:\n",
    "    f1_score = 0\n",
    "    precision = 0\n",
    "    recall = 0\n",
    "    for song in tqdm(dataset, desc=f\"{p=}, {m=}\"):\n",
    "        scores = np.array(name_to_scores[song.name]) - p\n",
    "        candidates = song_name_to_candidates[song.name]\n",
    "        updated_candidates: list[FrozenMatch] = []\n",
    "        for candidate, score in zip(candidates, scores):\n",
    "            if score >= m:\n",
    "                updated_candidates.append(candidate.update_score(score))\n",
    "        candidates = updated_candidates\n",
    "        opt_score, opt_subset = weighted_interval_scheduling(\n",
    "            candidates, return_subset=True, verbose=False)\n",
    "        discarded_matches = [match for match in candidates if match not in opt_subset]\n",
    "        concat_events = concat_matches(opt_subset)\n",
    "        alignment = Alignment(concat_events, opt_subset, discarded_matches, opt_score,\n",
    "                        sum(match.sum_miss for match in opt_subset),\n",
    "                        sum(match.sum_error for match in opt_subset))\n",
    "        assert song.ground_truth is not None\n",
    "        result = exmel.evaluate_melody(song.ground_truth, alignment.events, plot=False)\n",
    "        f1_score += result.f1_score\n",
    "        precision += result.precision\n",
    "        recall += result.recall\n",
    "    f1_score /= len(dataset)\n",
    "    precision /= len(dataset)\n",
    "    recall /= len(dataset)\n",
    "    f1_list.append(f1_score)\n",
    "    precision_list.append(precision)\n",
    "    recall_list.append(recall)"
   ]
  },
  {
   "cell_type": "code",
   "execution_count": 22,
   "id": "4f370ed2",
   "metadata": {},
   "outputs": [
    {
     "data": {
      "image/png": "[encoded data removed]",
      "text/plain": [
       "<Figure size 640x480 with 1 Axes>"
      ]
     },
     "metadata": {},
     "output_type": "display_data"
    }
   ],
   "source": [
    "from matplotlib import pyplot as plt\n",
    "\n",
    "plt.plot(recall_list, precision_list)\n",
    "plt.xlabel(\"Recall\")\n",
    "plt.ylabel(\"Precision\")\n",
    "plt.title(\"Precision-Recall Curve\")\n",
    "plt.show()"
   ]
  },
  {
   "cell_type": "code",
   "execution_count": 23,
   "id": "f3a8955d",
   "metadata": {},
   "outputs": [
    {
     "name": "stdout",
     "output_type": "stream",
     "text": [
      "p=0, f1=0.8846696656971813, pre=0.8609093372009319, rec=0.9129707928312941\n",
      "p=1, f1=0.8880646884886927, pre=0.8673683413190254, rec=0.9129707928312941\n",
      "p=2, f1=0.8922829495187712, pre=0.8756139362264758, rec=0.9129707928312941\n",
      "p=3, f1=0.8985595254152289, pre=0.8884451382907033, rec=0.9125526160819214\n",
      "p=4, f1=0.9040599167297177, pre=0.89987009295743, rec=0.9124637099755218\n",
      "p=5, f1=0.9084602873344745, pre=0.910538078226418, rec=0.9104432337112851\n",
      "p=6, f1=0.9139594532953081, pre=0.9224409128864802, rec=0.9091709071752849\n",
      "p=7, f1=0.9190428943111297, pre=0.9339549083575789, rec=0.9070471115974952\n",
      "p=8, f1=0.9249017672476504, pre=0.9482424965236727, rec=0.904256489555983\n",
      "p=9, f1=0.9271619803669667, pre=0.9582115719444144, rec=0.899551366253924\n",
      "p=10, f1=0.9248302273591154, pre=0.9592652846609762, rec=0.8947048504729347\n",
      "p=11, f1=0.9219474425618283, pre=0.96112959230848, rec=0.8877298124331888\n",
      "p=12, f1=0.9177859768413618, pre=0.9615669522258967, rec=0.8804045755541091\n",
      "p=13, f1=0.9146953847304785, pre=0.9619792615226608, rec=0.8744551080724136\n",
      "p=14, f1=0.907487939430853, pre=0.9607958959647979, rec=0.8627963387858227\n",
      "p=15, f1=0.9031856862552283, pre=0.9591946091143037, rec=0.856806762950968\n",
      "p=16, f1=0.8985790500099401, pre=0.9610753628927261, rec=0.8483690590227377\n",
      "p=17, f1=0.8980237645058595, pre=0.9623738333875207, rec=0.8463358736159382\n",
      "p=18, f1=0.8936528636741623, pre=0.9635964840369678, rec=0.8389928656786292\n",
      "p=19, f1=0.8871661081122592, pre=0.9629072937302917, rec=0.8294240708350509\n",
      "p=20, f1=0.8790881227687974, pre=0.9611261071310109, rec=0.8181116807058051\n",
      "p=21, f1=0.8683551792662277, pre=0.9568376075001119, rec=0.8044631205795003\n",
      "p=22, f1=0.8660193011924389, pre=0.9675144121569316, rec=0.7965491076676299\n",
      "p=23, f1=0.8642062879967904, pre=0.967242203647325, rec=0.7940681221084073\n",
      "p=24, f1=0.8616583234010914, pre=0.9670438644290646, rec=0.7902523718463211\n",
      "p=25, f1=0.8549690831819573, pre=0.9672768286571314, rec=0.7816279259667056\n",
      "p=26, f1=0.8524053860963745, pre=0.9695448570428989, rec=0.7773397421886177\n",
      "p=27, f1=0.8511282571719297, pre=0.9699713985520059, rec=0.7746562949566326\n",
      "p=28, f1=0.8434119341708181, pre=0.9687841020920405, rec=0.7669048668055861\n",
      "p=29, f1=0.8376416261321467, pre=0.9699937078588079, rec=0.7585737632189286\n",
      "p=30, f1=0.8242745785398826, pre=0.9688505571028992, rec=0.7447246068769656\n"
     ]
    }
   ],
   "source": [
    "for p, f1, pre, rec in zip(range(31), f1_list, precision_list, recall_list):\n",
    "    print(f\"{p=}, {f1=}, {pre=}, {rec=}\")"
   ]
  },
  {
   "cell_type": "code",
   "execution_count": 24,
   "id": "f1832f2a",
   "metadata": {},
   "outputs": [],
   "source": [
    "from exmel.event import MelEvent\n",
    "from exmel.sequence import MelodyLike, Melody\n",
    "from exmel.eval import EvaluationResult\n",
    "from exmel.io import PathLike\n",
    "\n",
    "def evaluate_melody(\n",
    "    gt: MelodyLike,\n",
    "    pred: MelodyLike,\n",
    "    tolerance: float = 0.1,\n",
    "    modulo: bool = True,\n",
    "    plot: bool = True,\n",
    "    save_path: PathLike | None = None,\n",
    ") -> EvaluationResult:\n",
    "    \"\"\"\n",
    "    Evaluate the accuracy of a predicted melody against a ground truth melody.\n",
    "    Creates a piano roll visualization with color coding for tp/fp/fn.\n",
    "    \n",
    "    Args:\n",
    "        gt: Ground truth melody\n",
    "        pred: Predicted melody\n",
    "        tolerance: Time tolerance for matching notes (seconds)\n",
    "        modulo: Whether to use modulo 12 for note matching\n",
    "        plot: Whether to plot the evaluation result\n",
    "        save_path: Optional path to save the visualization plot\n",
    "    \"\"\"\n",
    "    gt = Melody(gt)\n",
    "    pred = Melody(pred)\n",
    "\n",
    "    if modulo:\n",
    "        gt %= 12\n",
    "        pred %= 12\n",
    "    \n",
    "    # Track which notes are tp, fp, fn for visualization\n",
    "    tp_notes: list[MelEvent] = []\n",
    "    fp_notes: list[MelEvent] = []\n",
    "    fn_notes: list[MelEvent] = []\n",
    "    \n",
    "    # Find true positives and mark matched gt notes\n",
    "    matched_gt_indices = set()\n",
    "    for p_event in pred:\n",
    "        nearest = gt.nearest(p_event)\n",
    "        if nearest is not None:\n",
    "            if abs(p_event.time - nearest.time) <= tolerance:\n",
    "                tp_notes.append(p_event)\n",
    "            else:\n",
    "                fp_notes.append(p_event)\n",
    "        else:\n",
    "            fp_notes.append(p_event)\n",
    "    \n",
    "    # Find false negatives (unmatched gt notes)\n",
    "    for g_event in gt:\n",
    "        nearest = pred.nearest(g_event)\n",
    "        if nearest is None or abs(g_event.time - nearest.time) > tolerance:\n",
    "            fn_notes.append(g_event)\n",
    "    \n",
    "    # Calculate metrics\n",
    "    tp = len(tp_notes)\n",
    "    fp = len(fp_notes)\n",
    "    fn = len(fn_notes)\n",
    "    \n",
    "    precision = tp / (tp + fp) if (tp + fp) > 0 else 0\n",
    "    recall = tp / (tp + fn) if (tp + fn) > 0 else 0\n",
    "    f1_score = 2 * precision * recall / (precision + recall) if (precision + recall) > 0 else 0\n",
    "    \n",
    "    # Create piano roll visualization\n",
    "    if plot:\n",
    "        fig = None\n",
    "    else:\n",
    "        fig = None\n",
    "    \n",
    "    return EvaluationResult(tp, fp, fn, precision, recall, f1_score, fig)"
   ]
  },
  {
   "cell_type": "code",
   "execution_count": 25,
   "id": "670da017",
   "metadata": {},
   "outputs": [
    {
     "data": {
      "application/vnd.jupyter.widget-view+json": {
       "model_id": "090687e158424b4e800b1f966bd01ac8",
       "version_major": 2,
       "version_minor": 0
      },
      "text/plain": [
       "p=0, m=0:   0%|          | 0/17 [00:00<?, ?it/s]"
      ]
     },
     "metadata": {},
     "output_type": "display_data"
    },
    {
     "data": {
      "application/vnd.jupyter.widget-view+json": {
       "model_id": "2673606c80ff4982a0736ff4a60f190b",
       "version_major": 2,
       "version_minor": 0
      },
      "text/plain": [
       "p=0, m=1:   0%|          | 0/17 [00:00<?, ?it/s]"
      ]
     },
     "metadata": {},
     "output_type": "display_data"
    },
    {
     "data": {
      "application/vnd.jupyter.widget-view+json": {
       "model_id": "b157080557e4421ea53f0d0035988aee",
       "version_major": 2,
       "version_minor": 0
      },
      "text/plain": [
       "p=0, m=2:   0%|          | 0/17 [00:00<?, ?it/s]"
      ]
     },
     "metadata": {},
     "output_type": "display_data"
    },
    {
     "data": {
      "application/vnd.jupyter.widget-view+json": {
       "model_id": "9d48354b5ac84ea9aa50056216349d4b",
       "version_major": 2,
       "version_minor": 0
      },
      "text/plain": [
       "p=0, m=3:   0%|          | 0/17 [00:00<?, ?it/s]"
      ]
     },
     "metadata": {},
     "output_type": "display_data"
    },
    {
     "data": {
      "application/vnd.jupyter.widget-view+json": {
       "model_id": "fb86b5327fbd4a08934ad6023cba4884",
       "version_major": 2,
       "version_minor": 0
      },
      "text/plain": [
       "p=0, m=4:   0%|          | 0/17 [00:00<?, ?it/s]"
      ]
     },
     "metadata": {},
     "output_type": "display_data"
    },
    {
     "data": {
      "application/vnd.jupyter.widget-view+json": {
       "model_id": "8d31a641c78d42e2b318c771f45721a5",
       "version_major": 2,
       "version_minor": 0
      },
      "text/plain": [
       "p=0, m=5:   0%|          | 0/17 [00:00<?, ?it/s]"
      ]
     },
     "metadata": {},
     "output_type": "display_data"
    },
    {
     "data": {
      "application/vnd.jupyter.widget-view+json": {
       "model_id": "1814271e468543eea2d1269bb65fd0ac",
       "version_major": 2,
       "version_minor": 0
      },
      "text/plain": [
       "p=0, m=6:   0%|          | 0/17 [00:00<?, ?it/s]"
      ]
     },
     "metadata": {},
     "output_type": "display_data"
    },
    {
     "data": {
      "application/vnd.jupyter.widget-view+json": {
       "model_id": "cdb25e74897d43b2b26800dcb7be523c",
       "version_major": 2,
       "version_minor": 0
      },
      "text/plain": [
       "p=0, m=7:   0%|          | 0/17 [00:00<?, ?it/s]"
      ]
     },
     "metadata": {},
     "output_type": "display_data"
    },
    {
     "data": {
      "application/vnd.jupyter.widget-view+json": {
       "model_id": "bcbcf0de787041039e685e44c25db4f2",
       "version_major": 2,
       "version_minor": 0
      },
      "text/plain": [
       "p=0, m=8:   0%|          | 0/17 [00:00<?, ?it/s]"
      ]
     },
     "metadata": {},
     "output_type": "display_data"
    },
    {
     "data": {
      "application/vnd.jupyter.widget-view+json": {
       "model_id": "5846722cab4b49a48c200c817aee60c9",
       "version_major": 2,
       "version_minor": 0
      },
      "text/plain": [
       "p=0, m=9:   0%|          | 0/17 [00:00<?, ?it/s]"
      ]
     },
     "metadata": {},
     "output_type": "display_data"
    },
    {
     "data": {
      "application/vnd.jupyter.widget-view+json": {
       "model_id": "a398816416cc4ebe8cf63f8315619ba6",
       "version_major": 2,
       "version_minor": 0
      },
      "text/plain": [
       "p=0, m=10:   0%|          | 0/17 [00:00<?, ?it/s]"
      ]
     },
     "metadata": {},
     "output_type": "display_data"
    },
    {
     "data": {
      "application/vnd.jupyter.widget-view+json": {
       "model_id": "4a762a8c89474087aef6eef8d39bc663",
       "version_major": 2,
       "version_minor": 0
      },
      "text/plain": [
       "p=0, m=11:   0%|          | 0/17 [00:00<?, ?it/s]"
      ]
     },
     "metadata": {},
     "output_type": "display_data"
    },
    {
     "data": {
      "application/vnd.jupyter.widget-view+json": {
       "model_id": "57599d25ce1646e49cbbb1a4857d008f",
       "version_major": 2,
       "version_minor": 0
      },
      "text/plain": [
       "p=0, m=12:   0%|          | 0/17 [00:00<?, ?it/s]"
      ]
     },
     "metadata": {},
     "output_type": "display_data"
    },
    {
     "data": {
      "application/vnd.jupyter.widget-view+json": {
       "model_id": "ff71554343094d10a0d26731e841921f",
       "version_major": 2,
       "version_minor": 0
      },
      "text/plain": [
       "p=0, m=13:   0%|          | 0/17 [00:00<?, ?it/s]"
      ]
     },
     "metadata": {},
     "output_type": "display_data"
    },
    {
     "data": {
      "application/vnd.jupyter.widget-view+json": {
       "model_id": "4aaf3b0428d54c00b1576a403b50fb8f",
       "version_major": 2,
       "version_minor": 0
      },
      "text/plain": [
       "p=0, m=14:   0%|          | 0/17 [00:00<?, ?it/s]"
      ]
     },
     "metadata": {},
     "output_type": "display_data"
    },
    {
     "data": {
      "application/vnd.jupyter.widget-view+json": {
       "model_id": "84a4f586f8c8434eb99201f1e80c8967",
       "version_major": 2,
       "version_minor": 0
      },
      "text/plain": [
       "p=0, m=15:   0%|          | 0/17 [00:00<?, ?it/s]"
      ]
     },
     "metadata": {},
     "output_type": "display_data"
    },
    {
     "data": {
      "application/vnd.jupyter.widget-view+json": {
       "model_id": "fa8754b62a574cb6b8efd6e12a6b79c9",
       "version_major": 2,
       "version_minor": 0
      },
      "text/plain": [
       "p=0, m=16:   0%|          | 0/17 [00:00<?, ?it/s]"
      ]
     },
     "metadata": {},
     "output_type": "display_data"
    },
    {
     "data": {
      "application/vnd.jupyter.widget-view+json": {
       "model_id": "2ba877186f6e4a709c90333cc922bf5b",
       "version_major": 2,
       "version_minor": 0
      },
      "text/plain": [
       "p=0, m=17:   0%|          | 0/17 [00:00<?, ?it/s]"
      ]
     },
     "metadata": {},
     "output_type": "display_data"
    },
    {
     "data": {
      "application/vnd.jupyter.widget-view+json": {
       "model_id": "9a49f6b093b543f0b9beee398397734d",
       "version_major": 2,
       "version_minor": 0
      },
      "text/plain": [
       "p=0, m=18:   0%|          | 0/17 [00:00<?, ?it/s]"
      ]
     },
     "metadata": {},
     "output_type": "display_data"
    },
    {
     "data": {
      "application/vnd.jupyter.widget-view+json": {
       "model_id": "47923306968541b59b72813d7768339b",
       "version_major": 2,
       "version_minor": 0
      },
      "text/plain": [
       "p=0, m=19:   0%|          | 0/17 [00:00<?, ?it/s]"
      ]
     },
     "metadata": {},
     "output_type": "display_data"
    },
    {
     "data": {
      "application/vnd.jupyter.widget-view+json": {
       "model_id": "97699562ebfd4a27b623d74f2781c2dd",
       "version_major": 2,
       "version_minor": 0
      },
      "text/plain": [
       "p=0, m=20:   0%|          | 0/17 [00:00<?, ?it/s]"
      ]
     },
     "metadata": {},
     "output_type": "display_data"
    },
    {
     "data": {
      "application/vnd.jupyter.widget-view+json": {
       "model_id": "3826de5f5f1d458b8b871af86702df4b",
       "version_major": 2,
       "version_minor": 0
      },
      "text/plain": [
       "p=0, m=21:   0%|          | 0/17 [00:00<?, ?it/s]"
      ]
     },
     "metadata": {},
     "output_type": "display_data"
    },
    {
     "data": {
      "application/vnd.jupyter.widget-view+json": {
       "model_id": "59c04397d3e8460085cee57f760b66cd",
       "version_major": 2,
       "version_minor": 0
      },
      "text/plain": [
       "p=0, m=22:   0%|          | 0/17 [00:00<?, ?it/s]"
      ]
     },
     "metadata": {},
     "output_type": "display_data"
    },
    {
     "data": {
      "application/vnd.jupyter.widget-view+json": {
       "model_id": "58ea9f8f9d0243bb8afb775bbbc39893",
       "version_major": 2,
       "version_minor": 0
      },
      "text/plain": [
       "p=0, m=23:   0%|          | 0/17 [00:00<?, ?it/s]"
      ]
     },
     "metadata": {},
     "output_type": "display_data"
    },
    {
     "data": {
      "application/vnd.jupyter.widget-view+json": {
       "model_id": "d9d674b1a11549f58d83dca08d9829ee",
       "version_major": 2,
       "version_minor": 0
      },
      "text/plain": [
       "p=0, m=24:   0%|          | 0/17 [00:00<?, ?it/s]"
      ]
     },
     "metadata": {},
     "output_type": "display_data"
    },
    {
     "data": {
      "application/vnd.jupyter.widget-view+json": {
       "model_id": "9810cb9b49e241b2b46a93e6f51753c8",
       "version_major": 2,
       "version_minor": 0
      },
      "text/plain": [
       "p=0, m=25:   0%|          | 0/17 [00:00<?, ?it/s]"
      ]
     },
     "metadata": {},
     "output_type": "display_data"
    },
    {
     "data": {
      "application/vnd.jupyter.widget-view+json": {
       "model_id": "12dbf4c744d546c49b4649d394a5a0c0",
       "version_major": 2,
       "version_minor": 0
      },
      "text/plain": [
       "p=0, m=26:   0%|          | 0/17 [00:00<?, ?it/s]"
      ]
     },
     "metadata": {},
     "output_type": "display_data"
    },
    {
     "data": {
      "application/vnd.jupyter.widget-view+json": {
       "model_id": "0dc2d94d4aa54e28a8223198c5d7b490",
       "version_major": 2,
       "version_minor": 0
      },
      "text/plain": [
       "p=0, m=27:   0%|          | 0/17 [00:00<?, ?it/s]"
      ]
     },
     "metadata": {},
     "output_type": "display_data"
    },
    {
     "data": {
      "application/vnd.jupyter.widget-view+json": {
       "model_id": "551fe7fe686c4075bdf242269a639a29",
       "version_major": 2,
       "version_minor": 0
      },
      "text/plain": [
       "p=0, m=28:   0%|          | 0/17 [00:00<?, ?it/s]"
      ]
     },
     "metadata": {},
     "output_type": "display_data"
    },
    {
     "data": {
      "application/vnd.jupyter.widget-view+json": {
       "model_id": "ac4e5458342c4370a47096fc336f4ee1",
       "version_major": 2,
       "version_minor": 0
      },
      "text/plain": [
       "p=0, m=29:   0%|          | 0/17 [00:00<?, ?it/s]"
      ]
     },
     "metadata": {},
     "output_type": "display_data"
    },
    {
     "data": {
      "application/vnd.jupyter.widget-view+json": {
       "model_id": "cfad89eab858457998807ceba616a7c6",
       "version_major": 2,
       "version_minor": 0
      },
      "text/plain": [
       "p=0, m=30:   0%|          | 0/17 [00:00<?, ?it/s]"
      ]
     },
     "metadata": {},
     "output_type": "display_data"
    }
   ],
   "source": [
    "from itertools import product\n",
    "from exmel.wisp import weighted_interval_scheduling\n",
    "from exmel.alignment import Alignment, concat_matches\n",
    "import numpy as np\n",
    "\n",
    "\n",
    "pen_min_tuple = list(product([0], range(31)))\n",
    "\n",
    "f1_list: list[float] = []\n",
    "precision_list: list[float] = []\n",
    "recall_list: list[float] = []\n",
    "\n",
    "for p, m in pen_min_tuple:\n",
    "    f1_score = 0\n",
    "    precision = 0\n",
    "    recall = 0\n",
    "    for song in tqdm(dataset, desc=f\"{p=}, {m=}\"):\n",
    "        scores = np.array(name_to_scores[song.name]) - p\n",
    "        candidates = song_name_to_candidates[song.name]\n",
    "        updated_candidates: list[FrozenMatch] = []\n",
    "        for candidate, score in zip(candidates, scores):\n",
    "            if score >= m:\n",
    "                updated_candidates.append(candidate.update_score(score))\n",
    "        candidates = updated_candidates\n",
    "        opt_score, opt_subset = weighted_interval_scheduling(\n",
    "            candidates, return_subset=True, verbose=False)\n",
    "        discarded_matches = [match for match in candidates if match not in opt_subset]\n",
    "        concat_events = concat_matches(opt_subset)\n",
    "        alignment = Alignment(concat_events, opt_subset, discarded_matches, opt_score,\n",
    "                        sum(match.sum_miss for match in opt_subset),\n",
    "                        sum(match.sum_error for match in opt_subset))\n",
    "        assert song.ground_truth is not None\n",
    "        result = evaluate_melody(song.ground_truth, alignment.events, plot=False)\n",
    "        f1_score += result.f1_score\n",
    "        precision += result.precision\n",
    "        recall += result.recall\n",
    "    f1_score /= len(dataset)\n",
    "    precision /= len(dataset)\n",
    "    recall /= len(dataset)\n",
    "    f1_list.append(f1_score)\n",
    "    precision_list.append(precision)\n",
    "    recall_list.append(recall)"
   ]
  },
  {
   "cell_type": "code",
   "execution_count": 26,
   "id": "c5b6c04a",
   "metadata": {},
   "outputs": [
    {
     "data": {
      "image/png": "[encoded data removed]",
      "text/plain": [
       "<Figure size 640x480 with 1 Axes>"
      ]
     },
     "metadata": {},
     "output_type": "display_data"
    }
   ],
   "source": [
    "from matplotlib import pyplot as plt\n",
    "\n",
    "plt.plot(recall_list, precision_list)\n",
    "plt.xlabel(\"Recall\")\n",
    "plt.ylabel(\"Precision\")\n",
    "plt.title(\"Precision-Recall Curve\")\n",
    "plt.show()"
   ]
  },
  {
   "cell_type": "code",
   "execution_count": 27,
   "id": "03f79059",
   "metadata": {},
   "outputs": [
    {
     "name": "stdout",
     "output_type": "stream",
     "text": [
      "p=0, f1=0.8860462157993814, pre=0.8609093372009319, rec=0.9157130070175608\n",
      "p=1, f1=0.8894412385908927, pre=0.8673683413190254, rec=0.9157130070175608\n",
      "p=2, f1=0.8937090808825103, pre=0.8756139362264758, rec=0.9157130070175608\n",
      "p=3, f1=0.8999856567789681, pre=0.8884451382907033, rec=0.915294830268188\n",
      "p=4, f1=0.9054890691600956, pre=0.89987009295743, rec=0.9152081916581305\n",
      "p=5, f1=0.9098894397648524, pre=0.910538078226418, rec=0.9131877153938939\n",
      "p=6, f1=0.9152968647332603, pre=0.9224409128864802, rec=0.9116542581564012\n",
      "p=7, f1=0.9203845127321632, pre=0.9339549083575789, rec=0.9095003983107198\n",
      "p=8, f1=0.9262199692961961, pre=0.9482424965236727, rec=0.9066572018591841\n",
      "p=9, f1=0.9285118754884462, pre=0.9582115719444144, rec=0.901949213236549\n",
      "p=10, f1=0.926152913504133, pre=0.9592652846609762, rec=0.8970293286727984\n",
      "p=11, f1=0.9232411931451294, pre=0.96112959230848, rec=0.890002806274047\n",
      "p=12, f1=0.9191225191178947, pre=0.9615669522258967, rec=0.8827056031446587\n",
      "p=13, f1=0.9160371829477654, pre=0.9619792615226608, rec=0.876756529542689\n",
      "p=14, f1=0.9088306620511402, pre=0.9607958959647979, rec=0.8650757331510983\n",
      "p=15, f1=0.9045627165962816, pre=0.9591946091143037, rec=0.859067996123822\n",
      "p=16, f1=0.8999567309302136, pre=0.9610753628927261, rec=0.8506012692784416\n",
      "p=17, f1=0.8994012778429217, pre=0.9623738333875207, rec=0.8485709548961556\n",
      "p=18, f1=0.8950306520187795, pre=0.9635964840369678, rec=0.8412314746009109\n",
      "p=19, f1=0.8885437766222765, pre=0.9629072937302917, rec=0.8316584198670097\n",
      "p=20, f1=0.880471122803041, pre=0.9611261071310109, rec=0.8203524545115841\n",
      "p=21, f1=0.8697397116177997, pre=0.9568376075001119, rec=0.8067024321267185\n",
      "p=22, f1=0.8673791254248373, pre=0.9675144121569316, rec=0.7985314762194171\n",
      "p=23, f1=0.8655648202924622, pre=0.967242203647325, rec=0.79603531033656\n",
      "p=24, f1=0.8630119670789513, pre=0.9670438644290646, rec=0.7921838342468518\n",
      "p=25, f1=0.8563220710472569, pre=0.9672768286571314, rec=0.7835550888088809\n",
      "p=26, f1=0.8537621528244397, pre=0.9695448570428989, rec=0.7792683264056582\n",
      "p=27, f1=0.8524865378042431, pre=0.9699713985520059, rec=0.7765860979932626\n",
      "p=28, f1=0.8447700936686099, pre=0.9687841020920405, rec=0.7688341581657123\n",
      "p=29, f1=0.8389997856299384, pre=0.9699937078588079, rec=0.7605030545790548\n",
      "p=30, f1=0.8256041560091433, pre=0.9688505571028992, rec=0.7463664794850822\n"
     ]
    }
   ],
   "source": [
    "for p, f1, pre, rec in zip(range(31), f1_list, precision_list, recall_list):\n",
    "    print(f\"{p=}, {f1=}, {pre=}, {rec=}\")"
   ]
  },
  {
   "cell_type": "markdown",
   "id": "febbceb0",
   "metadata": {},
   "source": [
    "# Adjusted Weighted Sum Vel"
   ]
  },
  {
   "cell_type": "code",
   "execution_count": 38,
   "id": "576afd6d",
   "metadata": {},
   "outputs": [
    {
     "data": {
      "application/vnd.jupyter.widget-view+json": {
       "model_id": "db5be770c1804cc49e2f50586e98785c",
       "version_major": 2,
       "version_minor": 0
      },
      "text/plain": [
       "  0%|          | 0/17 [00:00<?, ?it/s]"
      ]
     },
     "metadata": {},
     "output_type": "display_data"
    }
   ],
   "source": [
    "from tqdm.auto import tqdm\n",
    "from exmel.sequence import song_stats\n",
    "\n",
    "ERR_WEIGHT = 0.5\n",
    "\n",
    "name_to_scores: dict[str, list[float]] = {}\n",
    "for song in tqdm(dataset):\n",
    "    song_dict = song_stats(song.melody, song.performance)\n",
    "    note_mean_song = song_dict[\"note_mean_song\"]\n",
    "    duration_per_event = song_dict[\"duration_per_event\"]\n",
    "    candidates = song_name_to_candidates[song.name]\n",
    "    scores: list[float] = []\n",
    "    for c in candidates:\n",
    "        v = sum(event.velocity for event in c.events) / 128\n",
    "        w1 = (1 - c.sum_miss / len(c.events))\n",
    "        w2 = sum(event.note for event in c.events) / len(c.events) / note_mean_song\n",
    "        scores.append(v*w1*w2 - ERR_WEIGHT*c.sum_error/duration_per_event)\n",
    "    name_to_scores[song.name] = scores"
   ]
  },
  {
   "cell_type": "code",
   "execution_count": 39,
   "id": "1eeeb302",
   "metadata": {},
   "outputs": [
    {
     "data": {
      "application/vnd.jupyter.widget-view+json": {
       "model_id": "1458f9d738a84449a64596b3429c5981",
       "version_major": 2,
       "version_minor": 0
      },
      "text/plain": [
       "p=0, m=0:   0%|          | 0/17 [00:00<?, ?it/s]"
      ]
     },
     "metadata": {},
     "output_type": "display_data"
    },
    {
     "data": {
      "application/vnd.jupyter.widget-view+json": {
       "model_id": "82d187f50a4a428fa414c13cf1c83817",
       "version_major": 2,
       "version_minor": 0
      },
      "text/plain": [
       "p=0, m=1:   0%|          | 0/17 [00:00<?, ?it/s]"
      ]
     },
     "metadata": {},
     "output_type": "display_data"
    },
    {
     "data": {
      "application/vnd.jupyter.widget-view+json": {
       "model_id": "7fb0e027a8134b8a8a080daadea672ad",
       "version_major": 2,
       "version_minor": 0
      },
      "text/plain": [
       "p=0, m=2:   0%|          | 0/17 [00:00<?, ?it/s]"
      ]
     },
     "metadata": {},
     "output_type": "display_data"
    },
    {
     "data": {
      "application/vnd.jupyter.widget-view+json": {
       "model_id": "1a73d1c5124d48b4bd762beaa934912e",
       "version_major": 2,
       "version_minor": 0
      },
      "text/plain": [
       "p=0, m=3:   0%|          | 0/17 [00:00<?, ?it/s]"
      ]
     },
     "metadata": {},
     "output_type": "display_data"
    },
    {
     "data": {
      "application/vnd.jupyter.widget-view+json": {
       "model_id": "9e469f0f04cd43979626f099e9b60816",
       "version_major": 2,
       "version_minor": 0
      },
      "text/plain": [
       "p=0, m=4:   0%|          | 0/17 [00:00<?, ?it/s]"
      ]
     },
     "metadata": {},
     "output_type": "display_data"
    },
    {
     "data": {
      "application/vnd.jupyter.widget-view+json": {
       "model_id": "aa0cf328af3b49a39be88b6288e56ee1",
       "version_major": 2,
       "version_minor": 0
      },
      "text/plain": [
       "p=0, m=5:   0%|          | 0/17 [00:00<?, ?it/s]"
      ]
     },
     "metadata": {},
     "output_type": "display_data"
    },
    {
     "data": {
      "application/vnd.jupyter.widget-view+json": {
       "model_id": "640cd98af6bb4213a7fdbbb0f5a51165",
       "version_major": 2,
       "version_minor": 0
      },
      "text/plain": [
       "p=0, m=6:   0%|          | 0/17 [00:00<?, ?it/s]"
      ]
     },
     "metadata": {},
     "output_type": "display_data"
    },
    {
     "data": {
      "application/vnd.jupyter.widget-view+json": {
       "model_id": "73013a9b385e46ce9e92a055f0cd0bb0",
       "version_major": 2,
       "version_minor": 0
      },
      "text/plain": [
       "p=0, m=7:   0%|          | 0/17 [00:00<?, ?it/s]"
      ]
     },
     "metadata": {},
     "output_type": "display_data"
    },
    {
     "data": {
      "application/vnd.jupyter.widget-view+json": {
       "model_id": "bf9547236fbd4a85a1aa604e957dc067",
       "version_major": 2,
       "version_minor": 0
      },
      "text/plain": [
       "p=0, m=8:   0%|          | 0/17 [00:00<?, ?it/s]"
      ]
     },
     "metadata": {},
     "output_type": "display_data"
    },
    {
     "data": {
      "application/vnd.jupyter.widget-view+json": {
       "model_id": "343f0862c6fc4886a873acd023a19b3c",
       "version_major": 2,
       "version_minor": 0
      },
      "text/plain": [
       "p=0, m=9:   0%|          | 0/17 [00:00<?, ?it/s]"
      ]
     },
     "metadata": {},
     "output_type": "display_data"
    },
    {
     "data": {
      "application/vnd.jupyter.widget-view+json": {
       "model_id": "6949110f0e7f4a92bef9d15eac0ee759",
       "version_major": 2,
       "version_minor": 0
      },
      "text/plain": [
       "p=0, m=10:   0%|          | 0/17 [00:00<?, ?it/s]"
      ]
     },
     "metadata": {},
     "output_type": "display_data"
    },
    {
     "data": {
      "application/vnd.jupyter.widget-view+json": {
       "model_id": "b90ec1b861e84568b69cfccff0124926",
       "version_major": 2,
       "version_minor": 0
      },
      "text/plain": [
       "p=0, m=11:   0%|          | 0/17 [00:00<?, ?it/s]"
      ]
     },
     "metadata": {},
     "output_type": "display_data"
    },
    {
     "data": {
      "application/vnd.jupyter.widget-view+json": {
       "model_id": "1b47388fa091490e8fac98a91b962a15",
       "version_major": 2,
       "version_minor": 0
      },
      "text/plain": [
       "p=0, m=12:   0%|          | 0/17 [00:00<?, ?it/s]"
      ]
     },
     "metadata": {},
     "output_type": "display_data"
    },
    {
     "data": {
      "application/vnd.jupyter.widget-view+json": {
       "model_id": "56071a8b7dbe4249af5de602e33f0d91",
       "version_major": 2,
       "version_minor": 0
      },
      "text/plain": [
       "p=0, m=13:   0%|          | 0/17 [00:00<?, ?it/s]"
      ]
     },
     "metadata": {},
     "output_type": "display_data"
    },
    {
     "data": {
      "application/vnd.jupyter.widget-view+json": {
       "model_id": "69098d18592d4b61be6814acc2e1f1fd",
       "version_major": 2,
       "version_minor": 0
      },
      "text/plain": [
       "p=0, m=14:   0%|          | 0/17 [00:00<?, ?it/s]"
      ]
     },
     "metadata": {},
     "output_type": "display_data"
    },
    {
     "data": {
      "application/vnd.jupyter.widget-view+json": {
       "model_id": "a7bd948af07740eb8c8b4bb2c676532a",
       "version_major": 2,
       "version_minor": 0
      },
      "text/plain": [
       "p=0, m=15:   0%|          | 0/17 [00:00<?, ?it/s]"
      ]
     },
     "metadata": {},
     "output_type": "display_data"
    },
    {
     "data": {
      "application/vnd.jupyter.widget-view+json": {
       "model_id": "2d735ab256e64f1391442ed62804f6d4",
       "version_major": 2,
       "version_minor": 0
      },
      "text/plain": [
       "p=0, m=16:   0%|          | 0/17 [00:00<?, ?it/s]"
      ]
     },
     "metadata": {},
     "output_type": "display_data"
    },
    {
     "data": {
      "application/vnd.jupyter.widget-view+json": {
       "model_id": "6e5fc9f4a5ec441381de29f78d3e8f24",
       "version_major": 2,
       "version_minor": 0
      },
      "text/plain": [
       "p=0, m=17:   0%|          | 0/17 [00:00<?, ?it/s]"
      ]
     },
     "metadata": {},
     "output_type": "display_data"
    },
    {
     "data": {
      "application/vnd.jupyter.widget-view+json": {
       "model_id": "ab06be4bea4c43aeb3d188b9972fe977",
       "version_major": 2,
       "version_minor": 0
      },
      "text/plain": [
       "p=0, m=18:   0%|          | 0/17 [00:00<?, ?it/s]"
      ]
     },
     "metadata": {},
     "output_type": "display_data"
    },
    {
     "data": {
      "application/vnd.jupyter.widget-view+json": {
       "model_id": "665705fbf15e46f0a11f0a5818abf17b",
       "version_major": 2,
       "version_minor": 0
      },
      "text/plain": [
       "p=0, m=19:   0%|          | 0/17 [00:00<?, ?it/s]"
      ]
     },
     "metadata": {},
     "output_type": "display_data"
    },
    {
     "data": {
      "application/vnd.jupyter.widget-view+json": {
       "model_id": "f319895629174d3992f97594ca038082",
       "version_major": 2,
       "version_minor": 0
      },
      "text/plain": [
       "p=0, m=20:   0%|          | 0/17 [00:00<?, ?it/s]"
      ]
     },
     "metadata": {},
     "output_type": "display_data"
    },
    {
     "data": {
      "application/vnd.jupyter.widget-view+json": {
       "model_id": "ff69895d93974848a4c2d32415fdc513",
       "version_major": 2,
       "version_minor": 0
      },
      "text/plain": [
       "p=0, m=21:   0%|          | 0/17 [00:00<?, ?it/s]"
      ]
     },
     "metadata": {},
     "output_type": "display_data"
    },
    {
     "data": {
      "application/vnd.jupyter.widget-view+json": {
       "model_id": "a1fb6f41098d4a65807c335399245169",
       "version_major": 2,
       "version_minor": 0
      },
      "text/plain": [
       "p=0, m=22:   0%|          | 0/17 [00:00<?, ?it/s]"
      ]
     },
     "metadata": {},
     "output_type": "display_data"
    },
    {
     "data": {
      "application/vnd.jupyter.widget-view+json": {
       "model_id": "d8a1afd85f9d4fbfb7efa5efb09118b9",
       "version_major": 2,
       "version_minor": 0
      },
      "text/plain": [
       "p=0, m=23:   0%|          | 0/17 [00:00<?, ?it/s]"
      ]
     },
     "metadata": {},
     "output_type": "display_data"
    },
    {
     "data": {
      "application/vnd.jupyter.widget-view+json": {
       "model_id": "a6d2846827cb471db59457f989cc3f56",
       "version_major": 2,
       "version_minor": 0
      },
      "text/plain": [
       "p=0, m=24:   0%|          | 0/17 [00:00<?, ?it/s]"
      ]
     },
     "metadata": {},
     "output_type": "display_data"
    },
    {
     "data": {
      "application/vnd.jupyter.widget-view+json": {
       "model_id": "e801a17c53004f13b39cc592b7a3f783",
       "version_major": 2,
       "version_minor": 0
      },
      "text/plain": [
       "p=0, m=25:   0%|          | 0/17 [00:00<?, ?it/s]"
      ]
     },
     "metadata": {},
     "output_type": "display_data"
    },
    {
     "data": {
      "application/vnd.jupyter.widget-view+json": {
       "model_id": "aace44ae5f204303b36d6668b17364f8",
       "version_major": 2,
       "version_minor": 0
      },
      "text/plain": [
       "p=0, m=26:   0%|          | 0/17 [00:00<?, ?it/s]"
      ]
     },
     "metadata": {},
     "output_type": "display_data"
    },
    {
     "data": {
      "application/vnd.jupyter.widget-view+json": {
       "model_id": "62c44dc1c2ef4507bfebb983c09d23cd",
       "version_major": 2,
       "version_minor": 0
      },
      "text/plain": [
       "p=0, m=27:   0%|          | 0/17 [00:00<?, ?it/s]"
      ]
     },
     "metadata": {},
     "output_type": "display_data"
    },
    {
     "data": {
      "application/vnd.jupyter.widget-view+json": {
       "model_id": "572c91b7f5a8442e9976f7932ed3ad14",
       "version_major": 2,
       "version_minor": 0
      },
      "text/plain": [
       "p=0, m=28:   0%|          | 0/17 [00:00<?, ?it/s]"
      ]
     },
     "metadata": {},
     "output_type": "display_data"
    },
    {
     "data": {
      "application/vnd.jupyter.widget-view+json": {
       "model_id": "5d590671888e4fae8555cce886987203",
       "version_major": 2,
       "version_minor": 0
      },
      "text/plain": [
       "p=0, m=29:   0%|          | 0/17 [00:00<?, ?it/s]"
      ]
     },
     "metadata": {},
     "output_type": "display_data"
    },
    {
     "data": {
      "application/vnd.jupyter.widget-view+json": {
       "model_id": "07a40d0fc37f4def92251e086a376448",
       "version_major": 2,
       "version_minor": 0
      },
      "text/plain": [
       "p=0, m=30:   0%|          | 0/17 [00:00<?, ?it/s]"
      ]
     },
     "metadata": {},
     "output_type": "display_data"
    }
   ],
   "source": [
    "from itertools import product\n",
    "from exmel.wisp import weighted_interval_scheduling\n",
    "from exmel.alignment import Alignment, concat_matches\n",
    "import numpy as np\n",
    "\n",
    "pen_min_tuple = list(product([0], range(31)))\n",
    "\n",
    "f1_list: list[float] = []\n",
    "precision_list: list[float] = []\n",
    "recall_list: list[float] = []\n",
    "\n",
    "for p, m in pen_min_tuple:\n",
    "    f1_score = 0\n",
    "    precision = 0\n",
    "    recall = 0\n",
    "    for song in tqdm(dataset, desc=f\"{p=}, {m=}\"):\n",
    "        scores = np.array(name_to_scores[song.name]) - p\n",
    "        candidates = song_name_to_candidates[song.name]\n",
    "        updated_candidates: list[FrozenMatch] = []\n",
    "        for candidate, score in zip(candidates, scores):\n",
    "            if score >= m:\n",
    "                updated_candidates.append(candidate.update_score(score))\n",
    "        candidates = updated_candidates\n",
    "        opt_score, opt_subset = weighted_interval_scheduling(\n",
    "            candidates, return_subset=True, verbose=False)\n",
    "        discarded_matches = [match for match in candidates if match not in opt_subset]\n",
    "        concat_events = concat_matches(opt_subset)\n",
    "        alignment = Alignment(concat_events, opt_subset, discarded_matches, opt_score,\n",
    "                        sum(match.sum_miss for match in opt_subset),\n",
    "                        sum(match.sum_error for match in opt_subset))\n",
    "        assert song.ground_truth is not None\n",
    "        result = evaluate_melody(song.ground_truth, alignment.events, plot=False)\n",
    "        f1_score += result.f1_score\n",
    "        precision += result.precision\n",
    "        recall += result.recall\n",
    "    f1_score /= len(dataset)\n",
    "    precision /= len(dataset)\n",
    "    recall /= len(dataset)\n",
    "    f1_list.append(f1_score)\n",
    "    precision_list.append(precision)\n",
    "    recall_list.append(recall)"
   ]
  },
  {
   "cell_type": "code",
   "execution_count": 30,
   "id": "45401567",
   "metadata": {},
   "outputs": [
    {
     "data": {
      "image/png": "[encoded data removed]",
      "text/plain": [
       "<Figure size 640x480 with 1 Axes>"
      ]
     },
     "metadata": {},
     "output_type": "display_data"
    }
   ],
   "source": [
    "from matplotlib import pyplot as plt\n",
    "\n",
    "plt.plot(recall_list, precision_list)\n",
    "plt.xlabel(\"Recall\")\n",
    "plt.ylabel(\"Precision\")\n",
    "plt.title(\"Precision-Recall Curve\")\n",
    "plt.show()"
   ]
  },
  {
   "cell_type": "code",
   "execution_count": 40,
   "id": "40a2e7f7",
   "metadata": {},
   "outputs": [
    {
     "name": "stdout",
     "output_type": "stream",
     "text": [
      "p=0, f1=0.8979985414897371, pre=0.8832006529118236, rec=0.9164189491177588\n",
      "p=1, f1=0.9005439059445114, pre=0.8882903938117312, rec=0.9164035019651711\n",
      "p=2, f1=0.904766483176695, pre=0.8967918042051484, rec=0.9164112189181716\n",
      "p=3, f1=0.9115185270153896, pre=0.9104483276457949, rec=0.9163287766149444\n",
      "p=4, f1=0.9152329392271167, pre=0.9207748682665517, rec=0.9134706489066471\n",
      "p=5, f1=0.9196379481679604, pre=0.9315890386081549, rec=0.9106006368062171\n",
      "p=6, f1=0.9261637504325333, pre=0.9467057664098391, rec=0.9077790139063954\n",
      "p=7, f1=0.9309790307511382, pre=0.958193842703559, rec=0.9065067895104517\n",
      "p=8, f1=0.9293295228916183, pre=0.961893343243706, rec=0.9004682015775194\n",
      "p=9, f1=0.925723003501035, pre=0.9629923336075686, rec=0.8932245452285157\n",
      "p=10, f1=0.9231008222670519, pre=0.9631369440551296, rec=0.888790113686731\n",
      "p=11, f1=0.9221761287236262, pre=0.9648455289288717, rec=0.8855995768239648\n",
      "p=12, f1=0.9165622791560755, pre=0.9643506421291751, rec=0.8758729921635551\n",
      "p=13, f1=0.9096089212366004, pre=0.96481276826463, rec=0.8633494786167291\n",
      "p=14, f1=0.904528394276863, pre=0.9635519955877212, rec=0.8558986211761709\n",
      "p=15, f1=0.8991289970065873, pre=0.9644251139328217, rec=0.8469806146938589\n",
      "p=16, f1=0.8926564065709963, pre=0.9641885852136857, rec=0.8376722576504323\n",
      "p=17, f1=0.8894886106651919, pre=0.9639110037801427, rec=0.8324993699159215\n",
      "p=18, f1=0.8825531348244714, pre=0.9634368710177836, rec=0.8221838995673997\n",
      "p=19, f1=0.8775274834579635, pre=0.9690619189641223, rec=0.8120818642135316\n",
      "p=20, f1=0.8691943131985599, pre=0.9726275601135361, rec=0.7998233021769786\n",
      "p=21, f1=0.8675466363933473, pre=0.9726744338910959, rec=0.7970395272344043\n",
      "p=22, f1=0.8635630792101167, pre=0.9723445184656441, rec=0.7914121033684142\n",
      "p=23, f1=0.8578212027723704, pre=0.9726598883947214, rec=0.7838907546198014\n",
      "p=24, f1=0.8555817532740609, pre=0.972210783205193, rec=0.781334583506911\n",
      "p=25, f1=0.8382578331850118, pre=0.9733784997629014, rec=0.7594922158921331\n",
      "p=26, f1=0.8313230358314839, pre=0.9728011203088037, rec=0.7528787495131884\n",
      "p=27, f1=0.8229233212275053, pre=0.9722645101063279, rec=0.7445590490921538\n",
      "p=28, f1=0.8214354284845989, pre=0.9719374402277455, rec=0.7426653721604433\n",
      "p=29, f1=0.8147117951152311, pre=0.9716598801332377, rec=0.7342207636373699\n",
      "p=30, f1=0.8028235610148943, pre=0.9740628823267609, rec=0.7219523292102923\n"
     ]
    }
   ],
   "source": [
    "for p, f1, pre, rec in zip(range(31), f1_list, precision_list, recall_list):\n",
    "    print(f\"{p=}, {f1=}, {pre=}, {rec=}\")"
   ]
  },
  {
   "cell_type": "code",
   "execution_count": 31,
   "id": "6e742b2f",
   "metadata": {},
   "outputs": [
    {
     "name": "stdout",
     "output_type": "stream",
     "text": [
      "p=0, f1=0.8972307678239612, pre=0.8813463218002513, rec=0.9167037303242247\n",
      "p=1, f1=0.9016143550677508, pre=0.890167792575589, rec=0.9167037303242247\n",
      "p=2, f1=0.9054930445862985, pre=0.8978756306233558, rec=0.9167983019149188\n",
      "p=3, f1=0.913419357880829, pre=0.9138582564241492, rec=0.9166133795952949\n",
      "p=4, f1=0.9156473282144684, pre=0.9210658172906587, rec=0.9139722511171634\n",
      "p=5, f1=0.918926054979641, pre=0.9316622480299619, rec=0.9091896096614622\n",
      "p=6, f1=0.9271365483028717, pre=0.949820296901014, rec=0.9066847221862833\n",
      "p=7, f1=0.9305653832135412, pre=0.9606451341097921, rec=0.9038867785260494\n",
      "p=8, f1=0.9297285613600571, pre=0.9625039575676323, rec=0.9006671349148188\n",
      "p=9, f1=0.9263256286458521, pre=0.9635279400988445, rec=0.8938170413659254\n",
      "p=10, f1=0.9222896003015341, pre=0.9633353645011963, rec=0.8871363102994553\n",
      "p=11, f1=0.9227348572154547, pre=0.9661258626698638, rec=0.8855668866285658\n",
      "p=12, f1=0.9163640949053261, pre=0.9654884919965719, rec=0.874593063978753\n",
      "p=13, f1=0.9102056276774677, pre=0.9657497710949107, rec=0.8636694125849889\n",
      "p=14, f1=0.907872910312097, pre=0.9662642801754137, rec=0.8593852032797444\n",
      "p=15, f1=0.9011360297130717, pre=0.9652277597309947, rec=0.8492560167038985\n",
      "p=16, f1=0.894868067871992, pre=0.9646225444350888, rec=0.8404713430494589\n",
      "p=17, f1=0.8893742600877601, pre=0.9644629052508227, rec=0.8318020750815374\n",
      "p=18, f1=0.8791683689396185, pre=0.9633300344895759, rec=0.8169861630949553\n",
      "p=19, f1=0.8758598886269823, pre=0.9686799424286434, rec=0.8094444145305557\n",
      "p=20, f1=0.870124437112224, pre=0.9727301659375328, rec=0.8006890580704965\n",
      "p=21, f1=0.8666328713143592, pre=0.973797567288742, rec=0.7954791397279295\n",
      "p=22, f1=0.8607201075104914, pre=0.972812144438095, rec=0.7881985917703291\n",
      "p=23, f1=0.8580653028549449, pre=0.9731292863946239, rec=0.7838993508955678\n",
      "p=24, f1=0.8576586648119923, pre=0.9727329331292597, rec=0.7834837980955305\n",
      "p=25, f1=0.8514787419935006, pre=0.9729200541033192, rec=0.7740961923261981\n",
      "p=26, f1=0.8316154372471468, pre=0.9740407972943612, rec=0.7526367764830839\n",
      "p=27, f1=0.82390516248386, pre=0.972491095103984, rec=0.7462443612910693\n",
      "p=28, f1=0.815804766842734, pre=0.9719540657097406, rec=0.7343056577024962\n",
      "p=29, f1=0.8001649303887353, pre=0.9737912560206354, rec=0.7195198324595958\n",
      "p=30, f1=0.7845044164109569, pre=0.9167598540090243, rec=0.7061659632712289\n"
     ]
    }
   ],
   "source": [
    "for p, f1, pre, rec in zip(range(31), f1_list, precision_list, recall_list):\n",
    "    print(f\"{p=}, {f1=}, {pre=}, {rec=}\")"
   ]
  }
 ],
 "metadata": {
  "kernelspec": {
   "display_name": ".venv",
   "language": "python",
   "name": "python3"
  },
  "language_info": {
   "codemirror_mode": {
    "name": "ipython",
    "version": 3
   },
   "file_extension": ".py",
   "mimetype": "text/x-python",
   "name": "python",
   "nbconvert_exporter": "python",
   "pygments_lexer": "ipython3",
   "version": "3.13.5"
  }
 },
 "nbformat": 4,
 "nbformat_minor": 5
}
