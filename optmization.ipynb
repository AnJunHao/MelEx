{
 "cells": [
  {
   "cell_type": "code",
   "execution_count": 4,
   "id": "4bb153a0",
   "metadata": {},
   "outputs": [
    {
     "name": "stdout",
     "output_type": "stream",
     "text": [
      "(4_w,9)-aCMA-ES (mu_w=2.8,w_1=49%) in dimension 7 (seed=42, Tue Jul 29 18:41:08 2025)\n"
     ]
    }
   ],
   "source": [
    "import cma\n",
    "es = cma.CMAEvolutionStrategy(\n",
    "    [0.5, 1, 1, 0, 1, 0, 1],\n",
    "    0.5,\n",
    "    {'verb_log': 1, 'verb_disp': 1, 'seed': 42})"
   ]
  },
  {
   "cell_type": "code",
   "execution_count": 1,
   "id": "acc4fc11",
   "metadata": {},
   "outputs": [],
   "source": [
    "import melign\n",
    "\n",
    "dataset = melign.Dataset(\"dataset_test\")"
   ]
  },
  {
   "cell_type": "code",
   "execution_count": null,
   "id": "40c0677b",
   "metadata": {},
   "outputs": [],
   "source": [
    "import numpy as np\n",
    "\n",
    "def fitness(code: tuple[float, float, float, float, float, float, float]) -> float:\n",
    "    e, v, m, n, s, b, a = code\n",
    "    weights: melign.align.score.MelodicsWeights = {\n",
    "        \"error\": e,\n",
    "        \"velocity\": v,\n",
    "        \"miss\": m,\n",
    "        \"note_mean\": n,\n",
    "        \"shadow\": s,\n",
    "        \"between\": b,\n",
    "        \"above_between\": a,\n",
    "    }\n",
    "    score_model = melign.align.score.MelodicsModel(weights)\n",
    "    results = melign.dev.search_min_score(\n",
    "        dataset=dataset,\n",
    "        candidates_dir=\"candidates\",\n",
    "        min_length=None,\n",
    "        search_range=list(float(i) for i in np.arange(1, 14.1, 0.5)),\n",
    "        score_models=[score_model],\n",
    "        verbose=False,\n",
    "        n_jobs=200\n",
    "    )\n",
    "    return 1 - results[0][\"f1\"]\n",
    "\n",
    "def fitness_batch(codes: list[tuple[float, float, float, float, float, float, float]]) -> list[float]:\n",
    "    models = []\n",
    "    for e, v, m, n, s, b, a in codes:\n",
    "        weights: melign.align.score.MelodicsWeights = {\n",
    "            \"error\": e,\n",
    "            \"velocity\": v,\n",
    "            \"miss\": m,\n",
    "            \"note_mean\": n,\n",
    "            \"shadow\": s,\n",
    "            \"between\": b,\n",
    "            \"above_between\": a,\n",
    "        }\n",
    "        models.append(melign.align.score.MelodicsModel(weights))\n",
    "    results = melign.dev.search_min_score(\n",
    "        dataset=dataset,\n",
    "        candidates_dir=\"candidates\",\n",
    "        min_length=None,\n",
    "        search_range=list(float(i) for i in np.arange(1, 14.1, 0.5)),\n",
    "        score_models=models,\n",
    "        verbose=False,\n",
    "        n_jobs=200\n",
    "    )\n",
    "    return [1 - r[\"f1\"] for r in results]"
   ]
  },
  {
   "cell_type": "code",
   "execution_count": null,
   "id": "b6723669",
   "metadata": {},
   "outputs": [
    {
     "data": {
      "application/vnd.jupyter.widget-view+json": {
       "model_id": "361ee88285624b3990fc29e4db9fced4",
       "version_major": 2,
       "version_minor": 0
      },
      "text/plain": [
       "Min score (n_jobs=200):   0%|          | 0/186 [00:00<?, ?it/s]"
      ]
     },
     "metadata": {},
     "output_type": "display_data"
    },
    {
     "name": "stdout",
     "output_type": "stream",
     "text": [
      "Iterat #Fevals   function value  axis ratio  sigma  min&max std  t[m:s]\n",
      "    1      9 4.484168787127762e-02 1.0e+00 4.30e-01  4e-01  4e-01 7:38.7\n"
     ]
    },
    {
     "data": {
      "application/vnd.jupyter.widget-view+json": {
       "model_id": "8d224738a3d14d5f95b48ef49424b0c2",
       "version_major": 2,
       "version_minor": 0
      },
      "text/plain": [
       "Min score (n_jobs=200):   0%|          | 0/186 [00:00<?, ?it/s]"
      ]
     },
     "metadata": {},
     "output_type": "display_data"
    }
   ],
   "source": [
    "while not es.stop():\n",
    "    solutions = es.ask()\n",
    "    es.tell(solutions, fitness_batch(solutions))\n",
    "    es.logger.add()  # write data to disc to be plotted\n",
    "    es.disp()"
   ]
  }
 ],
 "metadata": {
  "kernelspec": {
   "display_name": "exmel-main",
   "language": "python",
   "name": "python3"
  },
  "language_info": {
   "codemirror_mode": {
    "name": "ipython",
    "version": 3
   },
   "file_extension": ".py",
   "mimetype": "text/x-python",
   "name": "python",
   "nbconvert_exporter": "python",
   "pygments_lexer": "ipython3",
   "version": "3.13.5"
  }
 },
 "nbformat": 4,
 "nbformat_minor": 5
}
