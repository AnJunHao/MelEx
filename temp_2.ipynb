{
 "cells": [
  {
   "cell_type": "code",
   "execution_count": 2,
   "id": "6432a88d",
   "metadata": {},
   "outputs": [],
   "source": [
    "import xgboost as xgb\n",
    "\n",
    "model = xgb.XGBRegressor(n_estimators=1000, max_depth=10)\n",
    "model.load_model('xgb_hop1_miss2_len8_large.json')"
   ]
  },
  {
   "cell_type": "code",
   "execution_count": 5,
   "id": "c8385b66",
   "metadata": {},
   "outputs": [
    {
     "name": "stdout",
     "output_type": "stream",
     "text": [
      "Total internal nodes (splits): 687782\n",
      "Total leaves: 688782\n",
      "Total parameters: 2064346\n"
     ]
    }
   ],
   "source": [
    "import json\n",
    "\n",
    "# Get the booster and dump trees as JSON\n",
    "booster = model.get_booster()\n",
    "model_dump = booster.get_dump(dump_format='json')\n",
    "\n",
    "def count_nodes(tree):\n",
    "    \"\"\"Count internal nodes (splits) in a tree.\"\"\"\n",
    "    if 'children' in tree:\n",
    "        # Internal node\n",
    "        return 1 + sum(count_nodes(child) for child in tree['children'])\n",
    "    else:\n",
    "        # Leaf node\n",
    "        return 0\n",
    "\n",
    "def count_leaves(tree):\n",
    "    \"\"\"Count leaves in a tree.\"\"\"\n",
    "    if 'children' in tree:\n",
    "        return sum(count_leaves(child) for child in tree['children'])\n",
    "    else:\n",
    "        return 1\n",
    "\n",
    "total_internal_nodes = 0\n",
    "total_leaves = 0\n",
    "\n",
    "for tree_str in model_dump:\n",
    "    tree = json.loads(tree_str)\n",
    "    total_internal_nodes += count_nodes(tree)\n",
    "    total_leaves += count_leaves(tree)\n",
    "\n",
    "# XGBoost: 2 params per internal node (feature, threshold), 1 per leaf (weight)\n",
    "total_parameters = total_internal_nodes * 2 + total_leaves\n",
    "\n",
    "print(f\"Total internal nodes (splits): {total_internal_nodes}\")\n",
    "print(f\"Total leaves: {total_leaves}\")\n",
    "print(f\"Total parameters: {total_parameters}\")"
   ]
  },
  {
   "cell_type": "code",
   "execution_count": 6,
   "id": "405fe50d",
   "metadata": {},
   "outputs": [
    {
     "name": "stdout",
     "output_type": "stream",
     "text": [
      "Total parameters: 2064346\n"
     ]
    }
   ],
   "source": [
    "import json\n",
    "\n",
    "# Get the model dump to analyze structure\n",
    "trees = model.get_booster().get_dump(dump_format='json')\n",
    "\n",
    "total_params = 0\n",
    "for tree_str in trees:\n",
    "    tree = json.loads(tree_str)\n",
    "    \n",
    "    def count_nodes(node):\n",
    "        if 'leaf' in node:\n",
    "            return 1  # Leaf node has 1 parameter (value)\n",
    "        else:\n",
    "            # Internal node has 2 parameters (feature + threshold)\n",
    "            return 2 + count_nodes(node['children'][0]) + count_nodes(node['children'][1])\n",
    "    \n",
    "    total_params += count_nodes(tree)\n",
    "\n",
    "print(f\"Total parameters: {total_params}\")"
   ]
  }
 ],
 "metadata": {
  "kernelspec": {
   "display_name": ".venv",
   "language": "python",
   "name": "python3"
  },
  "language_info": {
   "codemirror_mode": {
    "name": "ipython",
    "version": 3
   },
   "file_extension": ".py",
   "mimetype": "text/x-python",
   "name": "python",
   "nbconvert_exporter": "python",
   "pygments_lexer": "ipython3",
   "version": "3.13.5"
  }
 },
 "nbformat": 4,
 "nbformat_minor": 5
}
