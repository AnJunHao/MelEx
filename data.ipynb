{
 "cells": [
  {
   "cell_type": "code",
   "execution_count": 2,
   "id": "1f5204b8",
   "metadata": {},
   "outputs": [],
   "source": [
    "import exmel\n",
    "from dataclasses import dataclass\n",
    "from itertools import chain\n",
    "from tqdm import tqdm\n",
    "from exmel.score import MatchLike\n",
    "from typing import TypedDict\n",
    "import numpy as np\n",
    "from collections import Counter\n",
    "import pandas as pd"
   ]
  },
  {
   "cell_type": "code",
   "execution_count": 4,
   "id": "6e0a243d",
   "metadata": {},
   "outputs": [],
   "source": [
    "dataset = exmel.Dataset(\"dataset_v1\")"
   ]
  },
  {
   "cell_type": "code",
   "execution_count": 5,
   "id": "4bd3b1ea",
   "metadata": {},
   "outputs": [],
   "source": [
    "class SongStat(TypedDict):\n",
    "    name: str\n",
    "    duration_per_event: float\n",
    "    note_mean_song: float\n",
    "    velocity_mean: float\n",
    "\n",
    "song_stats: list[SongStat] = []\n",
    "\n",
    "for song in dataset:\n",
    "    melodies = song.melody.split()\n",
    "    sum_duration, sum_events = 0, 0\n",
    "    for m in melodies:\n",
    "        sum_duration += m.duration\n",
    "        sum_events += len(m)\n",
    "    duration_per_event = sum_duration / sum_events\n",
    "    note_mean = np.mean([event.note for event in song.performance.global_events])\n",
    "    velocity_mean = np.mean([event.velocity for event in song.performance.global_events])\n",
    "    song_stats.append(SongStat(\n",
    "        name=song.name,\n",
    "        duration_per_event=duration_per_event,\n",
    "        note_mean_song=float(note_mean),\n",
    "        velocity_mean=float(velocity_mean)))"
   ]
  },
  {
   "cell_type": "code",
   "execution_count": 6,
   "id": "103b0c11",
   "metadata": {},
   "outputs": [],
   "source": [
    "song_df = pd.DataFrame(song_stats)\n",
    "song_df.to_excel(\"song_stats.xlsx\", index=False)"
   ]
  },
  {
   "cell_type": "code",
   "execution_count": null,
   "id": "3712382f",
   "metadata": {},
   "outputs": [],
   "source": [
    "def simple_len(m: MatchLike) -> int:\n",
    "    return len(m.events)"
   ]
  },
  {
   "cell_type": "code",
   "execution_count": 4,
   "id": "7ddb18d0",
   "metadata": {},
   "outputs": [
    {
     "name": "stderr",
     "output_type": "stream",
     "text": [
      "Processing songs: 100%|██████████| 17/17 [05:15<00:00, 18.57s/it]\n"
     ]
    }
   ],
   "source": [
    "alignments = exmel.inference_pipeline(\n",
    "    exmel.AlignConfig(\n",
    "        score_func=simple_len,\n",
    "        hop_length=1,\n",
    "        miss_tolerance=1,\n",
    "        candidate_min_length=10,\n",
    "        candidate_min_score=10),\n",
    "    \"dataset\")"
   ]
  },
  {
   "cell_type": "code",
   "execution_count": 5,
   "id": "24dec971",
   "metadata": {},
   "outputs": [
    {
     "name": "stdout",
     "output_type": "stream",
     "text": [
      "52558.529411764706\n"
     ]
    }
   ],
   "source": [
    "sum_matches = sum(\n",
    "    len(alignments[s].matches) + len(alignments[s].discarded_matches)\n",
    "    for s in alignments)\n",
    "print(sum_matches / len(alignments))"
   ]
  },
  {
   "cell_type": "code",
   "execution_count": 6,
   "id": "70feff03",
   "metadata": {},
   "outputs": [
    {
     "name": "stderr",
     "output_type": "stream",
     "text": [
      "100%|██████████| 17/17 [06:47<00:00, 23.95s/it]\n"
     ]
    }
   ],
   "source": [
    "@dataclass(frozen=True, slots=True)\n",
    "class Detection:\n",
    "    tp: int\n",
    "    fp: int\n",
    "    start: float\n",
    "    end: float\n",
    "\n",
    "detections: dict[str, list[Detection]] = {}\n",
    "for song in tqdm(dataset):\n",
    "    detections[song.name] = []\n",
    "    for match in chain(\n",
    "        alignments[song.name].matches,\n",
    "        alignments[song.name].discarded_matches,\n",
    "    ):\n",
    "        assert song.ground_truth is not None\n",
    "        tp, fp = exmel.tp_fp(match, song.ground_truth)\n",
    "        detections[song.name].append(\n",
    "            Detection(tp, fp, match.start, match.end))"
   ]
  },
  {
   "cell_type": "code",
   "execution_count": 7,
   "id": "c5e234fb",
   "metadata": {},
   "outputs": [
    {
     "name": "stderr",
     "output_type": "stream",
     "text": [
      "100%|██████████| 17/17 [00:43<00:00,  2.57s/it]"
     ]
    },
    {
     "name": "stdout",
     "output_type": "stream",
     "text": [
      "0.9795447517843807\n",
      "42.294117647058826\n"
     ]
    },
    {
     "name": "stderr",
     "output_type": "stream",
     "text": [
      "\n"
     ]
    }
   ],
   "source": [
    "opts: dict[str, tuple[float, int]] = {}\n",
    "for s, d in tqdm(detections.items()):\n",
    "    gt = dataset[s].ground_truth\n",
    "    assert gt is not None\n",
    "    opt, subset = exmel.f1_optimal_interval_scheduling(\n",
    "        d, num_gt=len(gt), epsilon=1e-6, return_subset=True)\n",
    "    opts[s] = (opt, len(subset))\n",
    "\n",
    "print(sum(opt for opt, _ in opts.values()) / len(opts))\n",
    "print(sum(num for _, num in opts.values()) / len(opts))"
   ]
  },
  {
   "cell_type": "code",
   "execution_count": null,
   "id": "8718a9c4",
   "metadata": {},
   "outputs": [],
   "source": [
    "\n",
    "\n",
    "class Entry(TypedDict):\n",
    "    name: str\n",
    "    tp: int\n",
    "    fp: int\n",
    "    length: int\n",
    "    misses: int\n",
    "    error: float\n",
    "    velocity: float\n",
    "    duration: float\n",
    "    note_mean: float\n",
    "    note_std: float\n",
    "    note_entropy: float\n",
    "    note_unique: int\n",
    "    note_change: int\n",
    "\n",
    "class ScoreFunctions:\n",
    "\n",
    "    @staticmethod\n",
    "    def length(match: MatchLike) -> int:\n",
    "        return len(match.events)\n",
    "\n",
    "    @staticmethod\n",
    "    def misses(match: MatchLike) -> int:\n",
    "        return match.sum_miss\n",
    "\n",
    "    @staticmethod\n",
    "    def error(match: MatchLike) -> float:\n",
    "        return match.sum_error\n",
    "\n",
    "    @staticmethod\n",
    "    def velocity(match: MatchLike) -> float:\n",
    "        return float(np.mean([event.velocity for event in match.events]))\n",
    "    \n",
    "    @staticmethod\n",
    "    def duration(match: MatchLike) -> float:\n",
    "        return match.events[-1].time - match.events[0].time\n",
    "\n",
    "    @staticmethod\n",
    "    def note_mean(match: MatchLike) -> float:\n",
    "        return sum(event.note for event in match.events) / len(match.events)\n",
    "\n",
    "    @staticmethod\n",
    "    def note_std(match: MatchLike) -> float:\n",
    "        return float(np.std([event.note for event in match.events]))\n",
    "\n",
    "    @staticmethod\n",
    "    def note_entropy(match: MatchLike) -> float:\n",
    "        counts = np.array(list(Counter(event.note for event in match.events).values()))\n",
    "        probs = counts / counts.sum()\n",
    "        entropy = -np.sum(probs * np.log2(probs))\n",
    "        return float(entropy)\n",
    "\n",
    "    @staticmethod\n",
    "    def note_unique(match: MatchLike) -> int:\n",
    "        return len(set(event.note for event in match.events))\n",
    "\n",
    "    @staticmethod\n",
    "    def note_change(match: MatchLike) -> int:\n",
    "        return sum(match.events[i].note != match.events[i - 1].note\n",
    "                   for i in range(1, len(match.events)))\n",
    "\n",
    "sf = ScoreFunctions"
   ]
  },
  {
   "cell_type": "code",
   "execution_count": 16,
   "id": "aaf41c25",
   "metadata": {},
   "outputs": [
    {
     "name": "stdout",
     "output_type": "stream",
     "text": [
      "1/17\n"
     ]
    },
    {
     "name": "stderr",
     "output_type": "stream",
     "text": [
      "29407it [00:09, 3245.33it/s]\n"
     ]
    },
    {
     "name": "stdout",
     "output_type": "stream",
     "text": [
      "2/17\n"
     ]
    },
    {
     "name": "stderr",
     "output_type": "stream",
     "text": [
      "58140it [00:27, 2138.91it/s]\n"
     ]
    },
    {
     "name": "stdout",
     "output_type": "stream",
     "text": [
      "3/17\n"
     ]
    },
    {
     "name": "stderr",
     "output_type": "stream",
     "text": [
      "151285it [01:45, 1433.98it/s]\n"
     ]
    },
    {
     "name": "stdout",
     "output_type": "stream",
     "text": [
      "4/17\n"
     ]
    },
    {
     "name": "stderr",
     "output_type": "stream",
     "text": [
      "60384it [00:31, 1915.67it/s]\n"
     ]
    },
    {
     "name": "stdout",
     "output_type": "stream",
     "text": [
      "5/17\n"
     ]
    },
    {
     "name": "stderr",
     "output_type": "stream",
     "text": [
      "21488it [00:07, 2695.27it/s]\n"
     ]
    },
    {
     "name": "stdout",
     "output_type": "stream",
     "text": [
      "6/17\n"
     ]
    },
    {
     "name": "stderr",
     "output_type": "stream",
     "text": [
      "18478it [00:05, 3500.85it/s]\n"
     ]
    },
    {
     "name": "stdout",
     "output_type": "stream",
     "text": [
      "7/17\n"
     ]
    },
    {
     "name": "stderr",
     "output_type": "stream",
     "text": [
      "17802it [00:06, 2656.25it/s]\n"
     ]
    },
    {
     "name": "stdout",
     "output_type": "stream",
     "text": [
      "8/17\n"
     ]
    },
    {
     "name": "stderr",
     "output_type": "stream",
     "text": [
      "61848it [00:29, 2088.58it/s]\n"
     ]
    },
    {
     "name": "stdout",
     "output_type": "stream",
     "text": [
      "9/17\n"
     ]
    },
    {
     "name": "stderr",
     "output_type": "stream",
     "text": [
      "30572it [00:18, 1627.07it/s]\n"
     ]
    },
    {
     "name": "stdout",
     "output_type": "stream",
     "text": [
      "10/17\n"
     ]
    },
    {
     "name": "stderr",
     "output_type": "stream",
     "text": [
      "90400it [01:01, 1459.54it/s]\n"
     ]
    },
    {
     "name": "stdout",
     "output_type": "stream",
     "text": [
      "11/17\n"
     ]
    },
    {
     "name": "stderr",
     "output_type": "stream",
     "text": [
      "103115it [00:56, 1809.87it/s]\n"
     ]
    },
    {
     "name": "stdout",
     "output_type": "stream",
     "text": [
      "12/17\n"
     ]
    },
    {
     "name": "stderr",
     "output_type": "stream",
     "text": [
      "21426it [00:08, 2627.53it/s]\n"
     ]
    },
    {
     "name": "stdout",
     "output_type": "stream",
     "text": [
      "13/17\n"
     ]
    },
    {
     "name": "stderr",
     "output_type": "stream",
     "text": [
      "86935it [00:41, 2075.95it/s]\n"
     ]
    },
    {
     "name": "stdout",
     "output_type": "stream",
     "text": [
      "14/17\n"
     ]
    },
    {
     "name": "stderr",
     "output_type": "stream",
     "text": [
      "44782it [00:22, 1950.50it/s]\n"
     ]
    },
    {
     "name": "stdout",
     "output_type": "stream",
     "text": [
      "15/17\n"
     ]
    },
    {
     "name": "stderr",
     "output_type": "stream",
     "text": [
      "27366it [00:10, 2526.75it/s]\n"
     ]
    },
    {
     "name": "stdout",
     "output_type": "stream",
     "text": [
      "16/17\n"
     ]
    },
    {
     "name": "stderr",
     "output_type": "stream",
     "text": [
      "7143it [00:02, 2544.84it/s]\n"
     ]
    },
    {
     "name": "stdout",
     "output_type": "stream",
     "text": [
      "17/17\n"
     ]
    },
    {
     "name": "stderr",
     "output_type": "stream",
     "text": [
      "62924it [00:35, 1783.46it/s]\n"
     ]
    }
   ],
   "source": [
    "data: list[Entry] = []\n",
    "\n",
    "for i, song in enumerate(dataset, 1):\n",
    "    print(f\"{i}/{len(dataset)}\")\n",
    "    for match in tqdm(chain(\n",
    "        alignments[song.name].matches,\n",
    "        alignments[song.name].discarded_matches,\n",
    "    )):\n",
    "        assert song.ground_truth is not None\n",
    "        tp, fp = exmel.tp_fp(match, song.ground_truth)\n",
    "        data.append(Entry(\n",
    "            name=song.name,\n",
    "            tp=tp,\n",
    "            fp=fp,\n",
    "            length=sf.length(match),\n",
    "            misses=sf.misses(match),\n",
    "            error=sf.error(match),\n",
    "            velocity=sf.velocity(match),\n",
    "            duration=sf.duration(match),\n",
    "            note_mean=sf.note_mean(match),\n",
    "            note_std=sf.note_std(match),\n",
    "            note_entropy=sf.note_entropy(match),\n",
    "            note_unique=sf.note_unique(match),\n",
    "            note_change=sf.note_change(match)))"
   ]
  },
  {
   "cell_type": "code",
   "execution_count": null,
   "id": "c838ea30",
   "metadata": {},
   "outputs": [],
   "source": [
    "df = pd.DataFrame(data)\n",
    "df.to_csv(\"matches.csv\", index=False, encoding=\"utf-8\")"
   ]
  }
 ],
 "metadata": {
  "kernelspec": {
   "display_name": ".venv",
   "language": "python",
   "name": "python3"
  },
  "language_info": {
   "codemirror_mode": {
    "name": "ipython",
    "version": 3
   },
   "file_extension": ".py",
   "mimetype": "text/x-python",
   "name": "python",
   "nbconvert_exporter": "python",
   "pygments_lexer": "ipython3",
   "version": "3.13.5"
  }
 },
 "nbformat": 4,
 "nbformat_minor": 5
}
