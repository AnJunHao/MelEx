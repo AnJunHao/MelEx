{
 "cells": [
  {
   "cell_type": "code",
   "execution_count": 1,
   "id": "1f5204b8",
   "metadata": {},
   "outputs": [],
   "source": [
    "import exmel"
   ]
  },
  {
   "cell_type": "code",
   "execution_count": 2,
   "id": "6e0a243d",
   "metadata": {},
   "outputs": [],
   "source": [
    "dataset = exmel.Dataset(\"dataset\")"
   ]
  },
  {
   "cell_type": "code",
   "execution_count": 19,
   "id": "75ba82aa",
   "metadata": {},
   "outputs": [
    {
     "data": {
      "text/plain": [
       "Melody([MelEvent_(time=20.50, note='E4'),\n",
       "MelEvent_(time=21.40, note='E4'),\n",
       "MelEvent_(time=21.68, note='E4'),\n",
       "MelEvent_(time=22.28, note='E4'),\n",
       "MelEvent_(time=22.88, note='D#4')])"
      ]
     },
     "execution_count": 19,
     "metadata": {},
     "output_type": "execute_result"
    }
   ],
   "source": [
    "dataset[0].melody[:5]"
   ]
  },
  {
   "cell_type": "code",
   "execution_count": 26,
   "id": "f012fac1",
   "metadata": {},
   "outputs": [
    {
     "data": {
      "text/plain": [
       "MelEvent_(time=22.28, note='E4')"
      ]
     },
     "execution_count": 26,
     "metadata": {},
     "output_type": "execute_result"
    }
   ],
   "source": [
    "dataset[0].melody.nearest(exmel.MelEvent_(time=22, note='E4'))"
   ]
  },
  {
   "cell_type": "code",
   "execution_count": 2,
   "id": "7ddb18d0",
   "metadata": {},
   "outputs": [
    {
     "name": "stderr",
     "output_type": "stream",
     "text": [
      "Processing songs: 100%|██████████| 17/17 [00:15<00:00,  1.07it/s]\n"
     ]
    }
   ],
   "source": [
    "alignments = exmel.inference_pipeline(\n",
    "    exmel.AlignConfig(hop_length=32),\n",
    "    \"dataset\")"
   ]
  },
  {
   "cell_type": "code",
   "execution_count": null,
   "id": "70feff03",
   "metadata": {},
   "outputs": [],
   "source": []
  }
 ],
 "metadata": {
  "kernelspec": {
   "display_name": ".venv",
   "language": "python",
   "name": "python3"
  },
  "language_info": {
   "codemirror_mode": {
    "name": "ipython",
    "version": 3
   },
   "file_extension": ".py",
   "mimetype": "text/x-python",
   "name": "python",
   "nbconvert_exporter": "python",
   "pygments_lexer": "ipython3",
   "version": "3.13.5"
  }
 },
 "nbformat": 4,
 "nbformat_minor": 5
}
