{
 "cells": [
  {
   "cell_type": "code",
   "execution_count": 1,
   "id": "26f55eff",
   "metadata": {},
   "outputs": [],
   "source": [
    "import exmel\n",
    "from exmel.alignment import FrozenMatch\n",
    "\n",
    "dataset = exmel.Dataset(\"dataset\")"
   ]
  },
  {
   "cell_type": "code",
   "execution_count": 2,
   "id": "ff70a542",
   "metadata": {},
   "outputs": [
    {
     "name": "stderr",
     "output_type": "stream",
     "text": [
      "Scanning alignments: 100%|██████████| 211/211 [00:15<00:00, 13.46it/s]\n",
      "Scanning alignments: 100%|██████████| 363/363 [00:29<00:00, 12.46it/s]\n",
      "Scanning alignments: 100%|██████████| 790/790 [01:15<00:00, 10.41it/s]\n",
      "Scanning alignments: 100%|██████████| 445/445 [00:40<00:00, 11.05it/s]\n",
      "Scanning alignments: 100%|██████████| 338/338 [00:15<00:00, 21.33it/s]\n",
      "Scanning alignments: 100%|██████████| 192/192 [00:05<00:00, 33.37it/s]\n",
      "Scanning alignments: 100%|██████████| 507/507 [00:34<00:00, 14.84it/s]\n",
      "Scanning alignments: 100%|██████████| 317/317 [00:11<00:00, 27.05it/s]\n",
      "Scanning alignments: 100%|██████████| 650/650 [01:06<00:00,  9.73it/s]\n",
      "Scanning alignments: 100%|██████████| 538/538 [00:25<00:00, 21.42it/s]\n",
      "Scanning alignments: 100%|██████████| 522/522 [00:41<00:00, 12.48it/s]\n",
      "Scanning alignments: 100%|██████████| 348/348 [00:17<00:00, 20.04it/s]\n",
      "Scanning alignments: 100%|██████████| 397/397 [00:22<00:00, 17.75it/s]\n",
      "Scanning alignments: 100%|██████████| 328/328 [00:15<00:00, 20.52it/s]\n",
      "Scanning alignments: 100%|██████████| 344/344 [00:09<00:00, 35.35it/s]\n",
      "Scanning alignments: 100%|██████████| 290/290 [00:15<00:00, 18.79it/s]\n",
      "Scanning alignments: 100%|██████████| 535/535 [00:35<00:00, 15.04it/s]\n"
     ]
    }
   ],
   "source": [
    "song_name_to_candidates: dict[str, list[FrozenMatch]] = {}\n",
    "score_model = exmel.DummyModel()\n",
    "for song in dataset:\n",
    "    candidates = exmel.align(\n",
    "        song.melody,\n",
    "        song.performance,\n",
    "        exmel.AlignConfig(score_model=score_model, candidate_min_score=0, hop_length=1),\n",
    "        skip_wisp=True)\n",
    "    song_name_to_candidates[song.name] = candidates"
   ]
  },
  {
   "cell_type": "code",
   "execution_count": 7,
   "id": "0af7cc0d",
   "metadata": {},
   "outputs": [
    {
     "data": {
      "application/vnd.jupyter.widget-view+json": {
       "model_id": "c29c92dc31bf4694ac61a7bb600d9dd1",
       "version_major": 2,
       "version_minor": 0
      },
      "text/plain": [
       "  0%|          | 0/17 [00:00<?, ?it/s]"
      ]
     },
     "metadata": {},
     "output_type": "display_data"
    }
   ],
   "source": [
    "from dataclasses import dataclass\n",
    "from tqdm.auto import tqdm\n",
    "import exmel\n",
    "\n",
    "@dataclass(frozen=True, slots=True)\n",
    "class Detection:\n",
    "    tp: int\n",
    "    fp: int\n",
    "    start: float\n",
    "    end: float\n",
    "\n",
    "detections: dict[str, list[Detection]] = {}\n",
    "for song in tqdm(dataset):\n",
    "    detections[song.name] = []\n",
    "    for match in song_name_to_candidates[song.name]:\n",
    "        assert song.ground_truth is not None\n",
    "        tp, fp = exmel.tp_fp(match, song.ground_truth)\n",
    "        detections[song.name].append(\n",
    "            Detection(tp, fp, match.start, match.end))"
   ]
  },
  {
   "cell_type": "markdown",
   "id": "959081da",
   "metadata": {},
   "source": [
    "# Real tp-fp"
   ]
  },
  {
   "cell_type": "code",
   "execution_count": 3,
   "id": "97e6a0ec",
   "metadata": {},
   "outputs": [
    {
     "data": {
      "application/vnd.jupyter.widget-view+json": {
       "model_id": "e2b80a8392dc42d288f70f1ee6c583c2",
       "version_major": 2,
       "version_minor": 0
      },
      "text/plain": [
       "  0%|          | 0/17 [00:00<?, ?it/s]"
      ]
     },
     "metadata": {},
     "output_type": "display_data"
    }
   ],
   "source": [
    "from tqdm.auto import tqdm\n",
    "from exmel.sequence import song_stats\n",
    "\n",
    "name_to_scores: dict[str, list[float]] = {}\n",
    "for song in tqdm(dataset):\n",
    "    score_model.load_song_stats(song_stats(song.melody, song.performance))\n",
    "    candidates = song_name_to_candidates[song.name]\n",
    "    scores: list[float] = []\n",
    "    for c in candidates:\n",
    "        assert song.ground_truth is not None\n",
    "        tp, fp = exmel.tp_fp(c, song.ground_truth)\n",
    "        scores.append(tp-fp)\n",
    "    name_to_scores[song.name] = scores"
   ]
  },
  {
   "cell_type": "code",
   "execution_count": 4,
   "id": "0b8978ce",
   "metadata": {},
   "outputs": [
    {
     "data": {
      "application/vnd.jupyter.widget-view+json": {
       "model_id": "6979daeecb744e0dbf7abd5f613993d8",
       "version_major": 2,
       "version_minor": 0
      },
      "text/plain": [
       "p=0, m=0:   0%|          | 0/17 [00:00<?, ?it/s]"
      ]
     },
     "metadata": {},
     "output_type": "display_data"
    },
    {
     "data": {
      "application/vnd.jupyter.widget-view+json": {
       "model_id": "df3e43b82d6f4f27bd6f3ef947728630",
       "version_major": 2,
       "version_minor": 0
      },
      "text/plain": [
       "p=0, m=1:   0%|          | 0/17 [00:00<?, ?it/s]"
      ]
     },
     "metadata": {},
     "output_type": "display_data"
    },
    {
     "data": {
      "application/vnd.jupyter.widget-view+json": {
       "model_id": "fa2f7c214f554b7d9697f9f52dd9fd68",
       "version_major": 2,
       "version_minor": 0
      },
      "text/plain": [
       "p=0, m=2:   0%|          | 0/17 [00:00<?, ?it/s]"
      ]
     },
     "metadata": {},
     "output_type": "display_data"
    },
    {
     "data": {
      "application/vnd.jupyter.widget-view+json": {
       "model_id": "a0b3c1867d33471ea253ca494d4e8d96",
       "version_major": 2,
       "version_minor": 0
      },
      "text/plain": [
       "p=0, m=3:   0%|          | 0/17 [00:00<?, ?it/s]"
      ]
     },
     "metadata": {},
     "output_type": "display_data"
    },
    {
     "data": {
      "application/vnd.jupyter.widget-view+json": {
       "model_id": "58566aec65af4e4d8abf7abfce88d16f",
       "version_major": 2,
       "version_minor": 0
      },
      "text/plain": [
       "p=0, m=4:   0%|          | 0/17 [00:00<?, ?it/s]"
      ]
     },
     "metadata": {},
     "output_type": "display_data"
    },
    {
     "data": {
      "application/vnd.jupyter.widget-view+json": {
       "model_id": "e8cb4285cdb54037b6a0ca5fcb633d74",
       "version_major": 2,
       "version_minor": 0
      },
      "text/plain": [
       "p=0, m=5:   0%|          | 0/17 [00:00<?, ?it/s]"
      ]
     },
     "metadata": {},
     "output_type": "display_data"
    },
    {
     "data": {
      "application/vnd.jupyter.widget-view+json": {
       "model_id": "d8045b42c3f1474a820a79269646b9e5",
       "version_major": 2,
       "version_minor": 0
      },
      "text/plain": [
       "p=0, m=6:   0%|          | 0/17 [00:00<?, ?it/s]"
      ]
     },
     "metadata": {},
     "output_type": "display_data"
    },
    {
     "data": {
      "application/vnd.jupyter.widget-view+json": {
       "model_id": "90ab362b8ee84aaea71345265222d524",
       "version_major": 2,
       "version_minor": 0
      },
      "text/plain": [
       "p=0, m=7:   0%|          | 0/17 [00:00<?, ?it/s]"
      ]
     },
     "metadata": {},
     "output_type": "display_data"
    },
    {
     "data": {
      "application/vnd.jupyter.widget-view+json": {
       "model_id": "9767c76ca12e4f768a1ba85c1ec9f9ab",
       "version_major": 2,
       "version_minor": 0
      },
      "text/plain": [
       "p=0, m=8:   0%|          | 0/17 [00:00<?, ?it/s]"
      ]
     },
     "metadata": {},
     "output_type": "display_data"
    },
    {
     "data": {
      "application/vnd.jupyter.widget-view+json": {
       "model_id": "9766e39ee4be44689d095abea8dff7b9",
       "version_major": 2,
       "version_minor": 0
      },
      "text/plain": [
       "p=0, m=9:   0%|          | 0/17 [00:00<?, ?it/s]"
      ]
     },
     "metadata": {},
     "output_type": "display_data"
    },
    {
     "data": {
      "application/vnd.jupyter.widget-view+json": {
       "model_id": "ecbec4f6a1224689a84cc94f18486977",
       "version_major": 2,
       "version_minor": 0
      },
      "text/plain": [
       "p=0, m=10:   0%|          | 0/17 [00:00<?, ?it/s]"
      ]
     },
     "metadata": {},
     "output_type": "display_data"
    },
    {
     "data": {
      "application/vnd.jupyter.widget-view+json": {
       "model_id": "0bc9aa62abef475caa4d2b9c93428e21",
       "version_major": 2,
       "version_minor": 0
      },
      "text/plain": [
       "p=0, m=11:   0%|          | 0/17 [00:00<?, ?it/s]"
      ]
     },
     "metadata": {},
     "output_type": "display_data"
    },
    {
     "data": {
      "application/vnd.jupyter.widget-view+json": {
       "model_id": "98b66688c15f44fbb6fd8471fbaa53b5",
       "version_major": 2,
       "version_minor": 0
      },
      "text/plain": [
       "p=0, m=12:   0%|          | 0/17 [00:00<?, ?it/s]"
      ]
     },
     "metadata": {},
     "output_type": "display_data"
    },
    {
     "data": {
      "application/vnd.jupyter.widget-view+json": {
       "model_id": "b07fa33185db4245bd7bbcea00ff2f7b",
       "version_major": 2,
       "version_minor": 0
      },
      "text/plain": [
       "p=0, m=13:   0%|          | 0/17 [00:00<?, ?it/s]"
      ]
     },
     "metadata": {},
     "output_type": "display_data"
    },
    {
     "data": {
      "application/vnd.jupyter.widget-view+json": {
       "model_id": "4d2a6186e7e04278911f702d2131b616",
       "version_major": 2,
       "version_minor": 0
      },
      "text/plain": [
       "p=0, m=14:   0%|          | 0/17 [00:00<?, ?it/s]"
      ]
     },
     "metadata": {},
     "output_type": "display_data"
    },
    {
     "data": {
      "application/vnd.jupyter.widget-view+json": {
       "model_id": "677bc626f2264931bb230f79b2184e57",
       "version_major": 2,
       "version_minor": 0
      },
      "text/plain": [
       "p=0, m=15:   0%|          | 0/17 [00:00<?, ?it/s]"
      ]
     },
     "metadata": {},
     "output_type": "display_data"
    },
    {
     "data": {
      "application/vnd.jupyter.widget-view+json": {
       "model_id": "821245d0b79f44b1b0160a6abbb58e7e",
       "version_major": 2,
       "version_minor": 0
      },
      "text/plain": [
       "p=0, m=16:   0%|          | 0/17 [00:00<?, ?it/s]"
      ]
     },
     "metadata": {},
     "output_type": "display_data"
    },
    {
     "data": {
      "application/vnd.jupyter.widget-view+json": {
       "model_id": "a43c5ed200064f74a003bb8e79551f72",
       "version_major": 2,
       "version_minor": 0
      },
      "text/plain": [
       "p=0, m=17:   0%|          | 0/17 [00:00<?, ?it/s]"
      ]
     },
     "metadata": {},
     "output_type": "display_data"
    },
    {
     "data": {
      "application/vnd.jupyter.widget-view+json": {
       "model_id": "baae42053ea747e7a00bf56dff997fb6",
       "version_major": 2,
       "version_minor": 0
      },
      "text/plain": [
       "p=0, m=18:   0%|          | 0/17 [00:00<?, ?it/s]"
      ]
     },
     "metadata": {},
     "output_type": "display_data"
    },
    {
     "data": {
      "application/vnd.jupyter.widget-view+json": {
       "model_id": "5be08de7c265459589db924485604196",
       "version_major": 2,
       "version_minor": 0
      },
      "text/plain": [
       "p=0, m=19:   0%|          | 0/17 [00:00<?, ?it/s]"
      ]
     },
     "metadata": {},
     "output_type": "display_data"
    },
    {
     "data": {
      "application/vnd.jupyter.widget-view+json": {
       "model_id": "06490ea47ee247f79a1c1f51ce0a56f3",
       "version_major": 2,
       "version_minor": 0
      },
      "text/plain": [
       "p=0, m=20:   0%|          | 0/17 [00:00<?, ?it/s]"
      ]
     },
     "metadata": {},
     "output_type": "display_data"
    },
    {
     "data": {
      "application/vnd.jupyter.widget-view+json": {
       "model_id": "9d95557ed8d1425c800a7877228d5f7d",
       "version_major": 2,
       "version_minor": 0
      },
      "text/plain": [
       "p=0, m=21:   0%|          | 0/17 [00:00<?, ?it/s]"
      ]
     },
     "metadata": {},
     "output_type": "display_data"
    },
    {
     "data": {
      "application/vnd.jupyter.widget-view+json": {
       "model_id": "e451aca5775447758473c5bf6f4f7378",
       "version_major": 2,
       "version_minor": 0
      },
      "text/plain": [
       "p=0, m=22:   0%|          | 0/17 [00:00<?, ?it/s]"
      ]
     },
     "metadata": {},
     "output_type": "display_data"
    },
    {
     "data": {
      "application/vnd.jupyter.widget-view+json": {
       "model_id": "25783bcacfea4da0a5627854b4995fec",
       "version_major": 2,
       "version_minor": 0
      },
      "text/plain": [
       "p=0, m=23:   0%|          | 0/17 [00:00<?, ?it/s]"
      ]
     },
     "metadata": {},
     "output_type": "display_data"
    },
    {
     "data": {
      "application/vnd.jupyter.widget-view+json": {
       "model_id": "80f839744a224193bea7f8aaaee81a11",
       "version_major": 2,
       "version_minor": 0
      },
      "text/plain": [
       "p=0, m=24:   0%|          | 0/17 [00:00<?, ?it/s]"
      ]
     },
     "metadata": {},
     "output_type": "display_data"
    },
    {
     "data": {
      "application/vnd.jupyter.widget-view+json": {
       "model_id": "23fddc6cf057441d89763c594732793d",
       "version_major": 2,
       "version_minor": 0
      },
      "text/plain": [
       "p=0, m=25:   0%|          | 0/17 [00:00<?, ?it/s]"
      ]
     },
     "metadata": {},
     "output_type": "display_data"
    },
    {
     "data": {
      "application/vnd.jupyter.widget-view+json": {
       "model_id": "98bd1a1bb2d7405ab1f189b65d059b84",
       "version_major": 2,
       "version_minor": 0
      },
      "text/plain": [
       "p=0, m=26:   0%|          | 0/17 [00:00<?, ?it/s]"
      ]
     },
     "metadata": {},
     "output_type": "display_data"
    },
    {
     "data": {
      "application/vnd.jupyter.widget-view+json": {
       "model_id": "2e177c0c3a654d338e93236ececd0ca9",
       "version_major": 2,
       "version_minor": 0
      },
      "text/plain": [
       "p=0, m=27:   0%|          | 0/17 [00:00<?, ?it/s]"
      ]
     },
     "metadata": {},
     "output_type": "display_data"
    },
    {
     "data": {
      "application/vnd.jupyter.widget-view+json": {
       "model_id": "20b7ef3d6d4e4334b17b00df9f7048ba",
       "version_major": 2,
       "version_minor": 0
      },
      "text/plain": [
       "p=0, m=28:   0%|          | 0/17 [00:00<?, ?it/s]"
      ]
     },
     "metadata": {},
     "output_type": "display_data"
    },
    {
     "data": {
      "application/vnd.jupyter.widget-view+json": {
       "model_id": "6d0b0558ad8c4357a14cbfbccdd38430",
       "version_major": 2,
       "version_minor": 0
      },
      "text/plain": [
       "p=0, m=29:   0%|          | 0/17 [00:00<?, ?it/s]"
      ]
     },
     "metadata": {},
     "output_type": "display_data"
    },
    {
     "data": {
      "application/vnd.jupyter.widget-view+json": {
       "model_id": "cb3b0ed25caa41ba9f2f5ba752cde408",
       "version_major": 2,
       "version_minor": 0
      },
      "text/plain": [
       "p=0, m=30:   0%|          | 0/17 [00:00<?, ?it/s]"
      ]
     },
     "metadata": {},
     "output_type": "display_data"
    }
   ],
   "source": [
    "from itertools import product\n",
    "from exmel.wisp import weighted_interval_scheduling\n",
    "from exmel.alignment import Alignment, concat_matches\n",
    "import numpy as np\n",
    "\n",
    "\n",
    "pen_min_tuple = list(product([0], range(31)))\n",
    "\n",
    "f1_list: list[float] = []\n",
    "precision_list: list[float] = []\n",
    "recall_list: list[float] = []\n",
    "\n",
    "for p, m in pen_min_tuple:\n",
    "    f1_score = 0\n",
    "    precision = 0\n",
    "    recall = 0\n",
    "    for song in tqdm(dataset, desc=f\"{p=}, {m=}\"):\n",
    "        scores = np.array(name_to_scores[song.name]) - p\n",
    "        candidates = song_name_to_candidates[song.name]\n",
    "        updated_candidates: list[FrozenMatch] = []\n",
    "        for candidate, score in zip(candidates, scores):\n",
    "            if score >= m:\n",
    "                updated_candidates.append(candidate.update_score(score))\n",
    "        candidates = updated_candidates\n",
    "        opt_score, opt_subset = weighted_interval_scheduling(\n",
    "            candidates, return_subset=True, verbose=False)\n",
    "        discarded_matches = [match for match in candidates if match not in opt_subset]\n",
    "        concat_events = concat_matches(opt_subset)\n",
    "        alignment = Alignment(concat_events, opt_subset, discarded_matches, opt_score,\n",
    "                        sum(match.sum_miss for match in opt_subset),\n",
    "                        sum(match.sum_error for match in opt_subset))\n",
    "        assert song.ground_truth is not None\n",
    "        result = exmel.evaluate_melody(song.ground_truth, alignment.events, plot=False)\n",
    "        f1_score += result.f1_score\n",
    "        precision += result.precision\n",
    "        recall += result.recall\n",
    "    f1_score /= len(dataset)\n",
    "    precision /= len(dataset)\n",
    "    recall /= len(dataset)\n",
    "    f1_list.append(f1_score)\n",
    "    precision_list.append(precision)\n",
    "    recall_list.append(recall)"
   ]
  },
  {
   "cell_type": "code",
   "execution_count": 5,
   "id": "e2338280",
   "metadata": {},
   "outputs": [
    {
     "data": {
      "image/png": "[encoded data removed]",
      "text/plain": [
       "<Figure size 640x480 with 1 Axes>"
      ]
     },
     "metadata": {},
     "output_type": "display_data"
    }
   ],
   "source": [
    "from matplotlib import pyplot as plt\n",
    "\n",
    "plt.plot(recall_list, precision_list)\n",
    "plt.xlabel(\"Recall\")\n",
    "plt.ylabel(\"Precision\")\n",
    "plt.title(\"Precision-Recall Curve\")\n",
    "plt.show()"
   ]
  },
  {
   "cell_type": "code",
   "execution_count": 6,
   "id": "8719fdd6",
   "metadata": {},
   "outputs": [
    {
     "name": "stdout",
     "output_type": "stream",
     "text": [
      "p=0, f1=0.957593118549517, pre=0.996000926885767, rec=0.9232043386284174\n",
      "p=1, f1=0.957593118549517, pre=0.996000926885767, rec=0.9232043386284174\n",
      "p=2, f1=0.957593118549517, pre=0.996000926885767, rec=0.9232043386284174\n",
      "p=3, f1=0.957593118549517, pre=0.996000926885767, rec=0.9232043386284174\n",
      "p=4, f1=0.957593118549517, pre=0.996000926885767, rec=0.9232043386284174\n",
      "p=5, f1=0.9575511082385807, pre=0.9961525308677404, rec=0.9230052377337385\n",
      "p=6, f1=0.9575511082385807, pre=0.9961525308677404, rec=0.9230052377337385\n",
      "p=7, f1=0.9575511082385807, pre=0.9961525308677404, rec=0.9230052377337385\n",
      "p=8, f1=0.9575511082385807, pre=0.9961525308677404, rec=0.9230052377337385\n",
      "p=9, f1=0.9574452482425111, pre=0.9968502851216979, rec=0.9223140053254463\n",
      "p=10, f1=0.9572324720668054, pre=0.9972783900491119, rec=0.9216169901648948\n",
      "p=11, f1=0.9544639906658406, pre=0.9963727357064606, rec=0.9174760925151231\n",
      "p=12, f1=0.9500140697841374, pre=0.9963207563088533, rec=0.9098651376052027\n",
      "p=13, f1=0.9484881749225719, pre=0.9959667161328544, rec=0.9075105988457286\n",
      "p=14, f1=0.9457910161398047, pre=0.9950836064957983, rec=0.9033817292777139\n",
      "p=15, f1=0.9442626035459825, pre=0.9947464153023008, rec=0.9009099820754335\n",
      "p=16, f1=0.9417263810630307, pre=0.9946483159373701, rec=0.8964947590497555\n",
      "p=17, f1=0.9376948595122149, pre=0.9944934407048998, rec=0.8898881358682822\n",
      "p=18, f1=0.9365894839980179, pre=0.9936555261050702, rec=0.8886038773424972\n",
      "p=19, f1=0.9341049369276042, pre=0.9932916805891094, rec=0.8846422227584503\n",
      "p=20, f1=0.9297832480011505, pre=0.9929276969308813, rec=0.8775293386843029\n",
      "p=21, f1=0.924853644886291, pre=0.9900565448688741, rec=0.8713195108495977\n",
      "p=22, f1=0.9208264986164617, pre=0.9889054299881025, rec=0.8655871572242111\n",
      "p=23, f1=0.9171329485725002, pre=0.9884338767108296, rec=0.8602696303839258\n",
      "p=24, f1=0.9150888748304888, pre=0.988689598659561, rec=0.8571237666103556\n",
      "p=25, f1=0.9129871045147386, pre=0.9883992804082706, rec=0.8538541791628549\n",
      "p=26, f1=0.905411073575588, pre=0.988387765158429, rec=0.8416945414860327\n",
      "p=27, f1=0.9012890937501178, pre=0.9885321876519193, rec=0.8358066648559708\n",
      "p=28, f1=0.8992494522976949, pre=0.9883654463281756, rec=0.8326716535821516\n",
      "p=29, f1=0.8950535116409372, pre=0.9883267198794151, rec=0.8267999494616669\n",
      "p=30, f1=0.8948655791477194, pre=0.9875720589558012, rec=0.8268393339363675\n"
     ]
    }
   ],
   "source": [
    "for p, f1, pre, rec in zip(range(31), f1_list, precision_list, recall_list):\n",
    "    print(f\"{p=}, {f1=}, {pre=}, {rec=}\")"
   ]
  },
  {
   "cell_type": "code",
   "execution_count": 9,
   "id": "415aa361",
   "metadata": {},
   "outputs": [],
   "source": [
    "from exmel.event import MelEvent\n",
    "from exmel.sequence import MelodyLike, Melody\n",
    "from exmel.eval import EvaluationResult\n",
    "from exmel.io import PathLike\n",
    "\n",
    "def evaluate_melody(\n",
    "    gt: MelodyLike,\n",
    "    pred: MelodyLike,\n",
    "    tolerance: float = 0.1,\n",
    "    modulo: bool = True,\n",
    "    plot: bool = True,\n",
    "    save_path: PathLike | None = None,\n",
    ") -> EvaluationResult:\n",
    "    \"\"\"\n",
    "    Evaluate the accuracy of a predicted melody against a ground truth melody.\n",
    "    Creates a piano roll visualization with color coding for tp/fp/fn.\n",
    "    \n",
    "    Args:\n",
    "        gt: Ground truth melody\n",
    "        pred: Predicted melody\n",
    "        tolerance: Time tolerance for matching notes (seconds)\n",
    "        modulo: Whether to use modulo 12 for note matching\n",
    "        plot: Whether to plot the evaluation result\n",
    "        save_path: Optional path to save the visualization plot\n",
    "    \"\"\"\n",
    "    gt = Melody(gt)\n",
    "    pred = Melody(pred)\n",
    "\n",
    "    if modulo:\n",
    "        gt %= 12\n",
    "        pred %= 12\n",
    "    \n",
    "    # Track which notes are tp, fp, fn for visualization\n",
    "    tp_notes: list[MelEvent] = []\n",
    "    fp_notes: list[MelEvent] = []\n",
    "    fn_notes: list[MelEvent] = []\n",
    "    \n",
    "    # Find true positives and mark matched gt notes\n",
    "    matched_gt_indices = set()\n",
    "    for p_event in pred:\n",
    "        nearest = gt.nearest(p_event)\n",
    "        if nearest is not None:\n",
    "            if abs(p_event.time - nearest.time) <= tolerance:\n",
    "                tp_notes.append(p_event)\n",
    "            else:\n",
    "                fp_notes.append(p_event)\n",
    "        else:\n",
    "            fp_notes.append(p_event)\n",
    "    \n",
    "    # Find false negatives (unmatched gt notes)\n",
    "    for g_event in gt:\n",
    "        nearest = pred.nearest(g_event)\n",
    "        if nearest is None or abs(g_event.time - nearest.time) > tolerance:\n",
    "            fn_notes.append(g_event)\n",
    "    \n",
    "    # Calculate metrics\n",
    "    tp = len(tp_notes)\n",
    "    fp = len(fp_notes)\n",
    "    fn = len(fn_notes)\n",
    "    \n",
    "    precision = tp / (tp + fp) if (tp + fp) > 0 else 0\n",
    "    recall = tp / (tp + fn) if (tp + fn) > 0 else 0\n",
    "    f1_score = 2 * precision * recall / (precision + recall) if (precision + recall) > 0 else 0\n",
    "    \n",
    "    # Create piano roll visualization\n",
    "    if plot:\n",
    "        fig = None\n",
    "    else:\n",
    "        fig = None\n",
    "    \n",
    "    return EvaluationResult(tp, fp, fn, precision, recall, f1_score, fig)"
   ]
  },
  {
   "cell_type": "code",
   "execution_count": 10,
   "id": "bfca0588",
   "metadata": {},
   "outputs": [
    {
     "data": {
      "application/vnd.jupyter.widget-view+json": {
       "model_id": "1a91ab06224d40f5b5a39794fae8d2de",
       "version_major": 2,
       "version_minor": 0
      },
      "text/plain": [
       "p=0, m=0:   0%|          | 0/17 [00:00<?, ?it/s]"
      ]
     },
     "metadata": {},
     "output_type": "display_data"
    },
    {
     "data": {
      "application/vnd.jupyter.widget-view+json": {
       "model_id": "42760989b5f2416891bbe2b1f42a2a16",
       "version_major": 2,
       "version_minor": 0
      },
      "text/plain": [
       "p=0, m=1:   0%|          | 0/17 [00:00<?, ?it/s]"
      ]
     },
     "metadata": {},
     "output_type": "display_data"
    },
    {
     "data": {
      "application/vnd.jupyter.widget-view+json": {
       "model_id": "a5ac39bbc01a40dea2c58b956d8de2ea",
       "version_major": 2,
       "version_minor": 0
      },
      "text/plain": [
       "p=0, m=2:   0%|          | 0/17 [00:00<?, ?it/s]"
      ]
     },
     "metadata": {},
     "output_type": "display_data"
    },
    {
     "data": {
      "application/vnd.jupyter.widget-view+json": {
       "model_id": "cd5ead09188741549e2c57898f72aead",
       "version_major": 2,
       "version_minor": 0
      },
      "text/plain": [
       "p=0, m=3:   0%|          | 0/17 [00:00<?, ?it/s]"
      ]
     },
     "metadata": {},
     "output_type": "display_data"
    },
    {
     "data": {
      "application/vnd.jupyter.widget-view+json": {
       "model_id": "2b5d15f3f35c438d87ca616768986360",
       "version_major": 2,
       "version_minor": 0
      },
      "text/plain": [
       "p=0, m=4:   0%|          | 0/17 [00:00<?, ?it/s]"
      ]
     },
     "metadata": {},
     "output_type": "display_data"
    },
    {
     "data": {
      "application/vnd.jupyter.widget-view+json": {
       "model_id": "8c2a61e3660349819d52407f325fe37c",
       "version_major": 2,
       "version_minor": 0
      },
      "text/plain": [
       "p=0, m=5:   0%|          | 0/17 [00:00<?, ?it/s]"
      ]
     },
     "metadata": {},
     "output_type": "display_data"
    },
    {
     "data": {
      "application/vnd.jupyter.widget-view+json": {
       "model_id": "538ea2a454a3404386324d4cd13f1236",
       "version_major": 2,
       "version_minor": 0
      },
      "text/plain": [
       "p=0, m=6:   0%|          | 0/17 [00:00<?, ?it/s]"
      ]
     },
     "metadata": {},
     "output_type": "display_data"
    },
    {
     "data": {
      "application/vnd.jupyter.widget-view+json": {
       "model_id": "f328470b435a4ca880b386e82cd15396",
       "version_major": 2,
       "version_minor": 0
      },
      "text/plain": [
       "p=0, m=7:   0%|          | 0/17 [00:00<?, ?it/s]"
      ]
     },
     "metadata": {},
     "output_type": "display_data"
    },
    {
     "data": {
      "application/vnd.jupyter.widget-view+json": {
       "model_id": "735f43f6ca474d48a4bc297a2296b95e",
       "version_major": 2,
       "version_minor": 0
      },
      "text/plain": [
       "p=0, m=8:   0%|          | 0/17 [00:00<?, ?it/s]"
      ]
     },
     "metadata": {},
     "output_type": "display_data"
    },
    {
     "data": {
      "application/vnd.jupyter.widget-view+json": {
       "model_id": "9ef06d1a139c411ab9ead65d20c4694c",
       "version_major": 2,
       "version_minor": 0
      },
      "text/plain": [
       "p=0, m=9:   0%|          | 0/17 [00:00<?, ?it/s]"
      ]
     },
     "metadata": {},
     "output_type": "display_data"
    },
    {
     "data": {
      "application/vnd.jupyter.widget-view+json": {
       "model_id": "4772d9e84b6f406db6bb66a313ac42b0",
       "version_major": 2,
       "version_minor": 0
      },
      "text/plain": [
       "p=0, m=10:   0%|          | 0/17 [00:00<?, ?it/s]"
      ]
     },
     "metadata": {},
     "output_type": "display_data"
    },
    {
     "data": {
      "application/vnd.jupyter.widget-view+json": {
       "model_id": "91803fd5016a41129f4051cd41f2a29f",
       "version_major": 2,
       "version_minor": 0
      },
      "text/plain": [
       "p=0, m=11:   0%|          | 0/17 [00:00<?, ?it/s]"
      ]
     },
     "metadata": {},
     "output_type": "display_data"
    },
    {
     "data": {
      "application/vnd.jupyter.widget-view+json": {
       "model_id": "2f3ab184e75842f4bfcdb9c28980f7c4",
       "version_major": 2,
       "version_minor": 0
      },
      "text/plain": [
       "p=0, m=12:   0%|          | 0/17 [00:00<?, ?it/s]"
      ]
     },
     "metadata": {},
     "output_type": "display_data"
    },
    {
     "data": {
      "application/vnd.jupyter.widget-view+json": {
       "model_id": "96d566c14566421b964f6094d81f2f24",
       "version_major": 2,
       "version_minor": 0
      },
      "text/plain": [
       "p=0, m=13:   0%|          | 0/17 [00:00<?, ?it/s]"
      ]
     },
     "metadata": {},
     "output_type": "display_data"
    },
    {
     "data": {
      "application/vnd.jupyter.widget-view+json": {
       "model_id": "93abb52beb2747af9a3ded7f4ac59a0a",
       "version_major": 2,
       "version_minor": 0
      },
      "text/plain": [
       "p=0, m=14:   0%|          | 0/17 [00:00<?, ?it/s]"
      ]
     },
     "metadata": {},
     "output_type": "display_data"
    },
    {
     "data": {
      "application/vnd.jupyter.widget-view+json": {
       "model_id": "a235fead9dae4b3b9be17a0c81e1a38e",
       "version_major": 2,
       "version_minor": 0
      },
      "text/plain": [
       "p=0, m=15:   0%|          | 0/17 [00:00<?, ?it/s]"
      ]
     },
     "metadata": {},
     "output_type": "display_data"
    },
    {
     "data": {
      "application/vnd.jupyter.widget-view+json": {
       "model_id": "fac93eac97c241d8b46d7b5f94f714af",
       "version_major": 2,
       "version_minor": 0
      },
      "text/plain": [
       "p=0, m=16:   0%|          | 0/17 [00:00<?, ?it/s]"
      ]
     },
     "metadata": {},
     "output_type": "display_data"
    },
    {
     "data": {
      "application/vnd.jupyter.widget-view+json": {
       "model_id": "2c01dfbde2704b1494fde9f9e1783541",
       "version_major": 2,
       "version_minor": 0
      },
      "text/plain": [
       "p=0, m=17:   0%|          | 0/17 [00:00<?, ?it/s]"
      ]
     },
     "metadata": {},
     "output_type": "display_data"
    },
    {
     "data": {
      "application/vnd.jupyter.widget-view+json": {
       "model_id": "732cbe7b95124b1890ad8707aa23b0d1",
       "version_major": 2,
       "version_minor": 0
      },
      "text/plain": [
       "p=0, m=18:   0%|          | 0/17 [00:00<?, ?it/s]"
      ]
     },
     "metadata": {},
     "output_type": "display_data"
    },
    {
     "data": {
      "application/vnd.jupyter.widget-view+json": {
       "model_id": "9937acdc116341118cf20bc1f5dfd83a",
       "version_major": 2,
       "version_minor": 0
      },
      "text/plain": [
       "p=0, m=19:   0%|          | 0/17 [00:00<?, ?it/s]"
      ]
     },
     "metadata": {},
     "output_type": "display_data"
    },
    {
     "data": {
      "application/vnd.jupyter.widget-view+json": {
       "model_id": "ef281fe0413b4eaf9646c8d08b7cb7b1",
       "version_major": 2,
       "version_minor": 0
      },
      "text/plain": [
       "p=0, m=20:   0%|          | 0/17 [00:00<?, ?it/s]"
      ]
     },
     "metadata": {},
     "output_type": "display_data"
    },
    {
     "data": {
      "application/vnd.jupyter.widget-view+json": {
       "model_id": "37a90182f5754db5b5cdb9e399e72f2c",
       "version_major": 2,
       "version_minor": 0
      },
      "text/plain": [
       "p=0, m=21:   0%|          | 0/17 [00:00<?, ?it/s]"
      ]
     },
     "metadata": {},
     "output_type": "display_data"
    },
    {
     "data": {
      "application/vnd.jupyter.widget-view+json": {
       "model_id": "af7269d560d544cdad8755a99052e830",
       "version_major": 2,
       "version_minor": 0
      },
      "text/plain": [
       "p=0, m=22:   0%|          | 0/17 [00:00<?, ?it/s]"
      ]
     },
     "metadata": {},
     "output_type": "display_data"
    },
    {
     "data": {
      "application/vnd.jupyter.widget-view+json": {
       "model_id": "79320a39c3fe43ecace73b592ac0d10d",
       "version_major": 2,
       "version_minor": 0
      },
      "text/plain": [
       "p=0, m=23:   0%|          | 0/17 [00:00<?, ?it/s]"
      ]
     },
     "metadata": {},
     "output_type": "display_data"
    },
    {
     "data": {
      "application/vnd.jupyter.widget-view+json": {
       "model_id": "314ff510b6b64ad1b5b33f8dd4127303",
       "version_major": 2,
       "version_minor": 0
      },
      "text/plain": [
       "p=0, m=24:   0%|          | 0/17 [00:00<?, ?it/s]"
      ]
     },
     "metadata": {},
     "output_type": "display_data"
    },
    {
     "data": {
      "application/vnd.jupyter.widget-view+json": {
       "model_id": "53fed51470f94fedad5282d6032b7ed7",
       "version_major": 2,
       "version_minor": 0
      },
      "text/plain": [
       "p=0, m=25:   0%|          | 0/17 [00:00<?, ?it/s]"
      ]
     },
     "metadata": {},
     "output_type": "display_data"
    },
    {
     "data": {
      "application/vnd.jupyter.widget-view+json": {
       "model_id": "d483f30cb4d749cfb6b364618e8d7b3c",
       "version_major": 2,
       "version_minor": 0
      },
      "text/plain": [
       "p=0, m=26:   0%|          | 0/17 [00:00<?, ?it/s]"
      ]
     },
     "metadata": {},
     "output_type": "display_data"
    },
    {
     "data": {
      "application/vnd.jupyter.widget-view+json": {
       "model_id": "c32581688b5b4591a5264c8789ca9ccb",
       "version_major": 2,
       "version_minor": 0
      },
      "text/plain": [
       "p=0, m=27:   0%|          | 0/17 [00:00<?, ?it/s]"
      ]
     },
     "metadata": {},
     "output_type": "display_data"
    },
    {
     "data": {
      "application/vnd.jupyter.widget-view+json": {
       "model_id": "e737ded4b53440c894086fb1bb7b255f",
       "version_major": 2,
       "version_minor": 0
      },
      "text/plain": [
       "p=0, m=28:   0%|          | 0/17 [00:00<?, ?it/s]"
      ]
     },
     "metadata": {},
     "output_type": "display_data"
    },
    {
     "data": {
      "application/vnd.jupyter.widget-view+json": {
       "model_id": "c84da5023d5949bea4ecef60b7276169",
       "version_major": 2,
       "version_minor": 0
      },
      "text/plain": [
       "p=0, m=29:   0%|          | 0/17 [00:00<?, ?it/s]"
      ]
     },
     "metadata": {},
     "output_type": "display_data"
    },
    {
     "data": {
      "application/vnd.jupyter.widget-view+json": {
       "model_id": "d54caa047fe94fb8a63a9d170082a91d",
       "version_major": 2,
       "version_minor": 0
      },
      "text/plain": [
       "p=0, m=30:   0%|          | 0/17 [00:00<?, ?it/s]"
      ]
     },
     "metadata": {},
     "output_type": "display_data"
    }
   ],
   "source": [
    "from itertools import product\n",
    "from exmel.wisp import weighted_interval_scheduling\n",
    "from exmel.alignment import Alignment, concat_matches\n",
    "import numpy as np\n",
    "\n",
    "\n",
    "pen_min_tuple = list(product([0], range(31)))\n",
    "\n",
    "f1_list: list[float] = []\n",
    "precision_list: list[float] = []\n",
    "recall_list: list[float] = []\n",
    "\n",
    "for p, m in pen_min_tuple:\n",
    "    f1_score = 0\n",
    "    precision = 0\n",
    "    recall = 0\n",
    "    for song in tqdm(dataset, desc=f\"{p=}, {m=}\"):\n",
    "        scores = np.array(name_to_scores[song.name]) - p\n",
    "        candidates = song_name_to_candidates[song.name]\n",
    "        updated_candidates: list[FrozenMatch] = []\n",
    "        for candidate, score in zip(candidates, scores):\n",
    "            if score >= m:\n",
    "                updated_candidates.append(candidate.update_score(score))\n",
    "        candidates = updated_candidates\n",
    "        opt_score, opt_subset = weighted_interval_scheduling(\n",
    "            candidates, return_subset=True, verbose=False)\n",
    "        discarded_matches = [match for match in candidates if match not in opt_subset]\n",
    "        concat_events = concat_matches(opt_subset)\n",
    "        alignment = Alignment(concat_events, opt_subset, discarded_matches, opt_score,\n",
    "                        sum(match.sum_miss for match in opt_subset),\n",
    "                        sum(match.sum_error for match in opt_subset))\n",
    "        assert song.ground_truth is not None\n",
    "        result = evaluate_melody(song.ground_truth, alignment.events, plot=False)\n",
    "        f1_score += result.f1_score\n",
    "        precision += result.precision\n",
    "        recall += result.recall\n",
    "    f1_score /= len(dataset)\n",
    "    precision /= len(dataset)\n",
    "    recall /= len(dataset)\n",
    "    f1_list.append(f1_score)\n",
    "    precision_list.append(precision)\n",
    "    recall_list.append(recall)"
   ]
  },
  {
   "cell_type": "code",
   "execution_count": 11,
   "id": "a4ab8b72",
   "metadata": {},
   "outputs": [
    {
     "data": {
      "image/png": "[encoded data removed]",
      "text/plain": [
       "<Figure size 640x480 with 1 Axes>"
      ]
     },
     "metadata": {},
     "output_type": "display_data"
    }
   ],
   "source": [
    "from matplotlib import pyplot as plt\n",
    "\n",
    "plt.plot(recall_list, precision_list)\n",
    "plt.xlabel(\"Recall\")\n",
    "plt.ylabel(\"Precision\")\n",
    "plt.title(\"Precision-Recall Curve\")\n",
    "plt.show()"
   ]
  },
  {
   "cell_type": "code",
   "execution_count": 12,
   "id": "6a4c9b49",
   "metadata": {},
   "outputs": [
    {
     "name": "stdout",
     "output_type": "stream",
     "text": [
      "p=0, f1=0.9590800356944861, pre=0.996000926885767, rec=0.9259604827894587\n",
      "p=1, f1=0.9590800356944861, pre=0.996000926885767, rec=0.9259604827894587\n",
      "p=2, f1=0.9590800356944861, pre=0.996000926885767, rec=0.9259604827894587\n",
      "p=3, f1=0.9590800356944861, pre=0.996000926885767, rec=0.9259604827894587\n",
      "p=4, f1=0.9590800356944861, pre=0.996000926885767, rec=0.9259604827894587\n",
      "p=5, f1=0.9590396553423797, pre=0.9961525308677404, rec=0.9257481116627331\n",
      "p=6, f1=0.9590396553423797, pre=0.9961525308677404, rec=0.9257481116627331\n",
      "p=7, f1=0.9590396553423797, pre=0.9961525308677404, rec=0.9257481116627331\n",
      "p=8, f1=0.9590396553423797, pre=0.9961525308677404, rec=0.9257481116627331\n",
      "p=9, f1=0.9589373855274576, pre=0.9968502851216979, rec=0.9250657889347771\n",
      "p=10, f1=0.9587248694543717, pre=0.9972783900491119, rec=0.9243686844344875\n",
      "p=11, f1=0.9559368730628798, pre=0.9963727357064606, rec=0.9201577522456664\n",
      "p=12, f1=0.9515716555218778, pre=0.9963207563088533, rec=0.912663823792735\n",
      "p=13, f1=0.9499174068250833, pre=0.9959667161328544, rec=0.910062248464194\n",
      "p=14, f1=0.9472630204050918, pre=0.9950836064957983, rec=0.9059760763097695\n",
      "p=15, f1=0.9457083948583879, pre=0.9947464153023008, rec=0.903421102806985\n",
      "p=16, f1=0.9431826245361975, pre=0.9946483159373701, rec=0.8990113279102411\n",
      "p=17, f1=0.9391582645316895, pre=0.9944934407048998, rec=0.8924118087664832\n",
      "p=18, f1=0.9379646840373566, pre=0.9936555261050702, rec=0.8910151921770497\n",
      "p=19, f1=0.9354501884686814, pre=0.9932916805891094, rec=0.886990746845301\n",
      "p=20, f1=0.931136213466618, pre=0.9929276969308813, rec=0.879870464100227\n",
      "p=21, f1=0.9262064091951329, pre=0.9900565448688741, rec=0.8736569726034217\n",
      "p=22, f1=0.9221821348413458, pre=0.9889054299881025, rec=0.867925629008086\n",
      "p=23, f1=0.9185649362315483, pre=0.9884338767108296, rec=0.8627428337197902\n",
      "p=24, f1=0.9165260749196077, pre=0.988689598659561, rec=0.8596045748438259\n",
      "p=25, f1=0.9144139882086704, pre=0.9883992804082706, rec=0.8562568402765306\n",
      "p=26, f1=0.906805699386807, pre=0.988387765158429, rec=0.8440267167454519\n",
      "p=27, f1=0.9026839035433338, pre=0.9885321876519193, rec=0.8381389088618953\n",
      "p=28, f1=0.9006374835568786, pre=0.9883654463281756, rec=0.8349081574810974\n",
      "p=29, f1=0.8964448422702432, pre=0.9883267198794151, rec=0.8290404750498361\n",
      "p=30, f1=0.8962583789870202, pre=0.9875720589558012, rec=0.8290784375583293\n"
     ]
    }
   ],
   "source": [
    "for p, f1, pre, rec in zip(range(31), f1_list, precision_list, recall_list):\n",
    "    print(f\"{p=}, {f1=}, {pre=}, {rec=}\")"
   ]
  },
  {
   "cell_type": "markdown",
   "id": "1034ab09",
   "metadata": {},
   "source": [
    "# With R"
   ]
  },
  {
   "cell_type": "code",
   "execution_count": 13,
   "id": "d268037b",
   "metadata": {},
   "outputs": [
    {
     "data": {
      "application/vnd.jupyter.widget-view+json": {
       "model_id": "2d775cfab2d74a9794e4375f56fbe3b2",
       "version_major": 2,
       "version_minor": 0
      },
      "text/plain": [
       "  0%|          | 0/17 [00:00<?, ?it/s]"
      ]
     },
     "metadata": {},
     "output_type": "display_data"
    }
   ],
   "source": [
    "from tqdm.auto import tqdm\n",
    "from exmel.sequence import song_stats\n",
    "\n",
    "R = 0.97\n",
    "\n",
    "name_to_scores: dict[str, list[float]] = {}\n",
    "for song in tqdm(dataset):\n",
    "    score_model.load_song_stats(song_stats(song.melody, song.performance))\n",
    "    candidates = song_name_to_candidates[song.name]\n",
    "    dts = detections[song.name]\n",
    "    scores: list[float] = []\n",
    "    for c, d in zip(candidates, dts):\n",
    "        tp, fp = d.tp, d.fp\n",
    "        scores.append((2-R)*tp - R*fp)\n",
    "    name_to_scores[song.name] = scores"
   ]
  },
  {
   "cell_type": "code",
   "execution_count": 14,
   "id": "bdba00ce",
   "metadata": {},
   "outputs": [
    {
     "data": {
      "application/vnd.jupyter.widget-view+json": {
       "model_id": "d217eabcc1ad4fa8af9579357fdf8e58",
       "version_major": 2,
       "version_minor": 0
      },
      "text/plain": [
       "p=0, m=0:   0%|          | 0/17 [00:00<?, ?it/s]"
      ]
     },
     "metadata": {},
     "output_type": "display_data"
    },
    {
     "data": {
      "application/vnd.jupyter.widget-view+json": {
       "model_id": "67d8d45a81fb4a47899d513e273aa484",
       "version_major": 2,
       "version_minor": 0
      },
      "text/plain": [
       "p=0, m=1:   0%|          | 0/17 [00:00<?, ?it/s]"
      ]
     },
     "metadata": {},
     "output_type": "display_data"
    },
    {
     "data": {
      "application/vnd.jupyter.widget-view+json": {
       "model_id": "b4a3ba22e34745bebb6342ab0831beeb",
       "version_major": 2,
       "version_minor": 0
      },
      "text/plain": [
       "p=0, m=2:   0%|          | 0/17 [00:00<?, ?it/s]"
      ]
     },
     "metadata": {},
     "output_type": "display_data"
    },
    {
     "data": {
      "application/vnd.jupyter.widget-view+json": {
       "model_id": "0f728cf4356548c7ab76822b60d5a973",
       "version_major": 2,
       "version_minor": 0
      },
      "text/plain": [
       "p=0, m=3:   0%|          | 0/17 [00:00<?, ?it/s]"
      ]
     },
     "metadata": {},
     "output_type": "display_data"
    },
    {
     "data": {
      "application/vnd.jupyter.widget-view+json": {
       "model_id": "342c6dfd211b4fc38233b3d1ee12da55",
       "version_major": 2,
       "version_minor": 0
      },
      "text/plain": [
       "p=0, m=4:   0%|          | 0/17 [00:00<?, ?it/s]"
      ]
     },
     "metadata": {},
     "output_type": "display_data"
    },
    {
     "data": {
      "application/vnd.jupyter.widget-view+json": {
       "model_id": "fc2bfb3098fc49b7ac7677aac1dc621a",
       "version_major": 2,
       "version_minor": 0
      },
      "text/plain": [
       "p=0, m=5:   0%|          | 0/17 [00:00<?, ?it/s]"
      ]
     },
     "metadata": {},
     "output_type": "display_data"
    },
    {
     "data": {
      "application/vnd.jupyter.widget-view+json": {
       "model_id": "76ab57fde45043bca193e40c7aa18449",
       "version_major": 2,
       "version_minor": 0
      },
      "text/plain": [
       "p=0, m=6:   0%|          | 0/17 [00:00<?, ?it/s]"
      ]
     },
     "metadata": {},
     "output_type": "display_data"
    },
    {
     "data": {
      "application/vnd.jupyter.widget-view+json": {
       "model_id": "dfa0a2acc8234bf7ba5f665f8eca0e2f",
       "version_major": 2,
       "version_minor": 0
      },
      "text/plain": [
       "p=0, m=7:   0%|          | 0/17 [00:00<?, ?it/s]"
      ]
     },
     "metadata": {},
     "output_type": "display_data"
    },
    {
     "data": {
      "application/vnd.jupyter.widget-view+json": {
       "model_id": "ab3309a6aee14f5dad881fb04bff14c7",
       "version_major": 2,
       "version_minor": 0
      },
      "text/plain": [
       "p=0, m=8:   0%|          | 0/17 [00:00<?, ?it/s]"
      ]
     },
     "metadata": {},
     "output_type": "display_data"
    },
    {
     "data": {
      "application/vnd.jupyter.widget-view+json": {
       "model_id": "67150a8c947847139017d91922478bce",
       "version_major": 2,
       "version_minor": 0
      },
      "text/plain": [
       "p=0, m=9:   0%|          | 0/17 [00:00<?, ?it/s]"
      ]
     },
     "metadata": {},
     "output_type": "display_data"
    },
    {
     "data": {
      "application/vnd.jupyter.widget-view+json": {
       "model_id": "890a245c30eb455d8bdf22753171f2d7",
       "version_major": 2,
       "version_minor": 0
      },
      "text/plain": [
       "p=0, m=10:   0%|          | 0/17 [00:00<?, ?it/s]"
      ]
     },
     "metadata": {},
     "output_type": "display_data"
    },
    {
     "data": {
      "application/vnd.jupyter.widget-view+json": {
       "model_id": "4f62a5c6d4b04de4a9341b9405972b69",
       "version_major": 2,
       "version_minor": 0
      },
      "text/plain": [
       "p=0, m=11:   0%|          | 0/17 [00:00<?, ?it/s]"
      ]
     },
     "metadata": {},
     "output_type": "display_data"
    },
    {
     "data": {
      "application/vnd.jupyter.widget-view+json": {
       "model_id": "c311b9f187fb4f1abc07d36dc0395145",
       "version_major": 2,
       "version_minor": 0
      },
      "text/plain": [
       "p=0, m=12:   0%|          | 0/17 [00:00<?, ?it/s]"
      ]
     },
     "metadata": {},
     "output_type": "display_data"
    },
    {
     "data": {
      "application/vnd.jupyter.widget-view+json": {
       "model_id": "76f0ab2d95b540e2b9c3b44ab68eaecc",
       "version_major": 2,
       "version_minor": 0
      },
      "text/plain": [
       "p=0, m=13:   0%|          | 0/17 [00:00<?, ?it/s]"
      ]
     },
     "metadata": {},
     "output_type": "display_data"
    },
    {
     "data": {
      "application/vnd.jupyter.widget-view+json": {
       "model_id": "d7d8a6eb675a4a11ad2eee51588727c8",
       "version_major": 2,
       "version_minor": 0
      },
      "text/plain": [
       "p=0, m=14:   0%|          | 0/17 [00:00<?, ?it/s]"
      ]
     },
     "metadata": {},
     "output_type": "display_data"
    },
    {
     "data": {
      "application/vnd.jupyter.widget-view+json": {
       "model_id": "db0a74fb3c9048e692723515396cfd0d",
       "version_major": 2,
       "version_minor": 0
      },
      "text/plain": [
       "p=0, m=15:   0%|          | 0/17 [00:00<?, ?it/s]"
      ]
     },
     "metadata": {},
     "output_type": "display_data"
    },
    {
     "data": {
      "application/vnd.jupyter.widget-view+json": {
       "model_id": "1e86183dbba9415dbdb49effb68f36ea",
       "version_major": 2,
       "version_minor": 0
      },
      "text/plain": [
       "p=0, m=16:   0%|          | 0/17 [00:00<?, ?it/s]"
      ]
     },
     "metadata": {},
     "output_type": "display_data"
    },
    {
     "data": {
      "application/vnd.jupyter.widget-view+json": {
       "model_id": "2de244b2825b495f82016ab46fce7661",
       "version_major": 2,
       "version_minor": 0
      },
      "text/plain": [
       "p=0, m=17:   0%|          | 0/17 [00:00<?, ?it/s]"
      ]
     },
     "metadata": {},
     "output_type": "display_data"
    },
    {
     "data": {
      "application/vnd.jupyter.widget-view+json": {
       "model_id": "098888ff717d4bc9b503bbe65a63dd51",
       "version_major": 2,
       "version_minor": 0
      },
      "text/plain": [
       "p=0, m=18:   0%|          | 0/17 [00:00<?, ?it/s]"
      ]
     },
     "metadata": {},
     "output_type": "display_data"
    },
    {
     "data": {
      "application/vnd.jupyter.widget-view+json": {
       "model_id": "603e741637704b71981f30f447b74305",
       "version_major": 2,
       "version_minor": 0
      },
      "text/plain": [
       "p=0, m=19:   0%|          | 0/17 [00:00<?, ?it/s]"
      ]
     },
     "metadata": {},
     "output_type": "display_data"
    },
    {
     "data": {
      "application/vnd.jupyter.widget-view+json": {
       "model_id": "22787d89012c4e9383849d16c7e343eb",
       "version_major": 2,
       "version_minor": 0
      },
      "text/plain": [
       "p=0, m=20:   0%|          | 0/17 [00:00<?, ?it/s]"
      ]
     },
     "metadata": {},
     "output_type": "display_data"
    },
    {
     "data": {
      "application/vnd.jupyter.widget-view+json": {
       "model_id": "48cae5ff8f2141198d992e0f1dc41de5",
       "version_major": 2,
       "version_minor": 0
      },
      "text/plain": [
       "p=0, m=21:   0%|          | 0/17 [00:00<?, ?it/s]"
      ]
     },
     "metadata": {},
     "output_type": "display_data"
    },
    {
     "data": {
      "application/vnd.jupyter.widget-view+json": {
       "model_id": "06ee3ce6fe2c4fabbf17cfeed518f26b",
       "version_major": 2,
       "version_minor": 0
      },
      "text/plain": [
       "p=0, m=22:   0%|          | 0/17 [00:00<?, ?it/s]"
      ]
     },
     "metadata": {},
     "output_type": "display_data"
    },
    {
     "data": {
      "application/vnd.jupyter.widget-view+json": {
       "model_id": "1364086d3b9341aca79e5219115581bd",
       "version_major": 2,
       "version_minor": 0
      },
      "text/plain": [
       "p=0, m=23:   0%|          | 0/17 [00:00<?, ?it/s]"
      ]
     },
     "metadata": {},
     "output_type": "display_data"
    },
    {
     "data": {
      "application/vnd.jupyter.widget-view+json": {
       "model_id": "ee3081fad88e4d72b19bf0d8099725fe",
       "version_major": 2,
       "version_minor": 0
      },
      "text/plain": [
       "p=0, m=24:   0%|          | 0/17 [00:00<?, ?it/s]"
      ]
     },
     "metadata": {},
     "output_type": "display_data"
    },
    {
     "data": {
      "application/vnd.jupyter.widget-view+json": {
       "model_id": "40a03951d0654b14829d83e28249ff78",
       "version_major": 2,
       "version_minor": 0
      },
      "text/plain": [
       "p=0, m=25:   0%|          | 0/17 [00:00<?, ?it/s]"
      ]
     },
     "metadata": {},
     "output_type": "display_data"
    },
    {
     "data": {
      "application/vnd.jupyter.widget-view+json": {
       "model_id": "8f18b4eefa53487ebd88661ea114c77a",
       "version_major": 2,
       "version_minor": 0
      },
      "text/plain": [
       "p=0, m=26:   0%|          | 0/17 [00:00<?, ?it/s]"
      ]
     },
     "metadata": {},
     "output_type": "display_data"
    },
    {
     "data": {
      "application/vnd.jupyter.widget-view+json": {
       "model_id": "9ac5ce4756474ed1a434cd99d4406f78",
       "version_major": 2,
       "version_minor": 0
      },
      "text/plain": [
       "p=0, m=27:   0%|          | 0/17 [00:00<?, ?it/s]"
      ]
     },
     "metadata": {},
     "output_type": "display_data"
    },
    {
     "data": {
      "application/vnd.jupyter.widget-view+json": {
       "model_id": "ba414f0a0a834c6bab79a9c2f9c49c2e",
       "version_major": 2,
       "version_minor": 0
      },
      "text/plain": [
       "p=0, m=28:   0%|          | 0/17 [00:00<?, ?it/s]"
      ]
     },
     "metadata": {},
     "output_type": "display_data"
    },
    {
     "data": {
      "application/vnd.jupyter.widget-view+json": {
       "model_id": "7be23ea2164442369f44af1c25be148c",
       "version_major": 2,
       "version_minor": 0
      },
      "text/plain": [
       "p=0, m=29:   0%|          | 0/17 [00:00<?, ?it/s]"
      ]
     },
     "metadata": {},
     "output_type": "display_data"
    },
    {
     "data": {
      "application/vnd.jupyter.widget-view+json": {
       "model_id": "d2a2019a19ee4c94b1a92815dc5a3710",
       "version_major": 2,
       "version_minor": 0
      },
      "text/plain": [
       "p=0, m=30:   0%|          | 0/17 [00:00<?, ?it/s]"
      ]
     },
     "metadata": {},
     "output_type": "display_data"
    }
   ],
   "source": [
    "from itertools import product\n",
    "from exmel.wisp import weighted_interval_scheduling\n",
    "from exmel.alignment import Alignment, concat_matches\n",
    "import numpy as np\n",
    "\n",
    "\n",
    "pen_min_tuple = list(product([0], range(31)))\n",
    "\n",
    "f1_list: list[float] = []\n",
    "precision_list: list[float] = []\n",
    "recall_list: list[float] = []\n",
    "\n",
    "for p, m in pen_min_tuple:\n",
    "    f1_score = 0\n",
    "    precision = 0\n",
    "    recall = 0\n",
    "    for song in tqdm(dataset, desc=f\"{p=}, {m=}\"):\n",
    "        scores = np.array(name_to_scores[song.name]) - p\n",
    "        candidates = song_name_to_candidates[song.name]\n",
    "        updated_candidates: list[FrozenMatch] = []\n",
    "        for candidate, score in zip(candidates, scores):\n",
    "            if score >= m:\n",
    "                updated_candidates.append(candidate.update_score(score))\n",
    "        candidates = updated_candidates\n",
    "        opt_score, opt_subset = weighted_interval_scheduling(\n",
    "            candidates, return_subset=True, verbose=False)\n",
    "        discarded_matches = [match for match in candidates if match not in opt_subset]\n",
    "        concat_events = concat_matches(opt_subset)\n",
    "        alignment = Alignment(concat_events, opt_subset, discarded_matches, opt_score,\n",
    "                        sum(match.sum_miss for match in opt_subset),\n",
    "                        sum(match.sum_error for match in opt_subset))\n",
    "        assert song.ground_truth is not None\n",
    "        result = evaluate_melody(song.ground_truth, alignment.events, plot=False)\n",
    "        f1_score += result.f1_score\n",
    "        precision += result.precision\n",
    "        recall += result.recall\n",
    "    f1_score /= len(dataset)\n",
    "    precision /= len(dataset)\n",
    "    recall /= len(dataset)\n",
    "    f1_list.append(f1_score)\n",
    "    precision_list.append(precision)\n",
    "    recall_list.append(recall)"
   ]
  },
  {
   "cell_type": "code",
   "execution_count": 15,
   "id": "7c402044",
   "metadata": {},
   "outputs": [
    {
     "data": {
      "image/png": "[encoded data removed]",
      "text/plain": [
       "<Figure size 640x480 with 1 Axes>"
      ]
     },
     "metadata": {},
     "output_type": "display_data"
    }
   ],
   "source": [
    "from matplotlib import pyplot as plt\n",
    "\n",
    "plt.plot(recall_list, precision_list)\n",
    "plt.xlabel(\"Recall\")\n",
    "plt.ylabel(\"Precision\")\n",
    "plt.title(\"Precision-Recall Curve\")\n",
    "plt.show()"
   ]
  },
  {
   "cell_type": "code",
   "execution_count": 16,
   "id": "36248fae",
   "metadata": {},
   "outputs": [
    {
     "name": "stdout",
     "output_type": "stream",
     "text": [
      "p=0, f1=0.9582755087520316, pre=0.9941980488022901, rec=0.9259363690809265\n",
      "p=1, f1=0.9582755087520316, pre=0.9941980488022901, rec=0.9259363690809265\n",
      "p=2, f1=0.9582755087520316, pre=0.9941980488022901, rec=0.9259363690809265\n",
      "p=3, f1=0.9582755087520316, pre=0.9941980488022901, rec=0.9259363690809265\n",
      "p=4, f1=0.9582755087520316, pre=0.9941980488022901, rec=0.9259363690809265\n",
      "p=5, f1=0.9582687022604259, pre=0.9944225393140584, rec=0.9257203708089126\n",
      "p=6, f1=0.9582687022604259, pre=0.9944225393140584, rec=0.9257203708089126\n",
      "p=7, f1=0.9583106376903028, pre=0.9947279074772103, rec=0.925564799379715\n",
      "p=8, f1=0.9583106376903028, pre=0.9947279074772103, rec=0.925564799379715\n",
      "p=9, f1=0.9586962567332246, pre=0.9962663263336807, rec=0.9250552376596105\n",
      "p=10, f1=0.9585372332462411, pre=0.9960051167857792, rec=0.9249556901420769\n",
      "p=11, f1=0.9556941606727111, pre=0.9955174939099325, rec=0.9203535979903081\n",
      "p=12, f1=0.9517409598345546, pre=0.995029142537066, rec=0.9137747110357843\n",
      "p=13, f1=0.9492245738066222, pre=0.9945015673154776, rec=0.9098394392042133\n",
      "p=14, f1=0.9468694444028747, pre=0.9937031357057655, rec=0.9063210256056005\n",
      "p=15, f1=0.9453760841997865, pre=0.9932825757890323, rec=0.9039533806248081\n",
      "p=16, f1=0.9430818574841848, pre=0.9933524065159905, rec=0.8997636860218479\n",
      "p=17, f1=0.9390334157320277, pre=0.9935911052045455, rec=0.8928213617504646\n",
      "p=18, f1=0.9378409856735516, pre=0.9927485873128613, rec=0.8914272490795835\n",
      "p=19, f1=0.9354066996954894, pre=0.99248633771502, rec=0.8874602749496656\n",
      "p=20, f1=0.931107928696656, pre=0.992129693234926, rec=0.880332226095569\n",
      "p=21, f1=0.9259733534875688, pre=0.9890576214504269, rec=0.8739138725913943\n",
      "p=22, f1=0.9222387591750293, pre=0.9881571348324312, rec=0.8685155917441031\n",
      "p=23, f1=0.9185832034049639, pre=0.9876719387989813, rec=0.863257708457403\n",
      "p=24, f1=0.9165898682254916, pre=0.9881465309512556, rec=0.8600380026379332\n",
      "p=25, f1=0.9141466641825075, pre=0.9875166001131006, rec=0.8563902088185529\n",
      "p=26, f1=0.9067357516525827, pre=0.9879631402856494, rec=0.84418522499667\n",
      "p=27, f1=0.9027167596022617, pre=0.9876157667972056, rec=0.8386219291523718\n",
      "p=28, f1=0.9005912815622052, pre=0.9882476473510093, rec=0.8349202835436434\n",
      "p=29, f1=0.8963908968375625, pre=0.9873392556432824, rec=0.82974214825224\n",
      "p=30, f1=0.8960112655112378, pre=0.9865623078034815, rec=0.8294925516714219\n"
     ]
    }
   ],
   "source": [
    "for p, f1, pre, rec in zip(range(31), f1_list, precision_list, recall_list):\n",
    "    print(f\"{p=}, {f1=}, {pre=}, {rec=}\")"
   ]
  }
 ],
 "metadata": {
  "kernelspec": {
   "display_name": ".venv",
   "language": "python",
   "name": "python3"
  },
  "language_info": {
   "codemirror_mode": {
    "name": "ipython",
    "version": 3
   },
   "file_extension": ".py",
   "mimetype": "text/x-python",
   "name": "python",
   "nbconvert_exporter": "python",
   "pygments_lexer": "ipython3",
   "version": "3.13.5"
  }
 },
 "nbformat": 4,
 "nbformat_minor": 5
}
