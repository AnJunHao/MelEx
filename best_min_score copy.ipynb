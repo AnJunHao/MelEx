{
 "cells": [
  {
   "cell_type": "code",
   "execution_count": 6,
   "id": "26f55eff",
   "metadata": {},
   "outputs": [],
   "source": [
    "import exmel\n",
    "from exmel.alignment import FrozenMatch\n",
    "\n",
    "dataset = exmel.Dataset(\"dataset_v1\")"
   ]
  },
  {
   "cell_type": "code",
   "execution_count": 7,
   "id": "ff70a542",
   "metadata": {},
   "outputs": [
    {
     "data": {
      "application/vnd.jupyter.widget-view+json": {
       "model_id": "336743d02b51476cb0addddccdd19bbb",
       "version_major": 2,
       "version_minor": 0
      },
      "text/plain": [
       "Scanning alignments:   0%|          | 0/451 [00:00<?, ?it/s]"
      ]
     },
     "metadata": {},
     "output_type": "display_data"
    },
    {
     "data": {
      "application/vnd.jupyter.widget-view+json": {
       "model_id": "aee03fc3a9534d3ab4635b3e185e3a55",
       "version_major": 2,
       "version_minor": 0
      },
      "text/plain": [
       "Scanning alignments:   0%|          | 0/355 [00:00<?, ?it/s]"
      ]
     },
     "metadata": {},
     "output_type": "display_data"
    },
    {
     "data": {
      "application/vnd.jupyter.widget-view+json": {
       "model_id": "f77ddf62b00a4428806a15acefc52ce1",
       "version_major": 2,
       "version_minor": 0
      },
      "text/plain": [
       "Scanning alignments:   0%|          | 0/215 [00:00<?, ?it/s]"
      ]
     },
     "metadata": {},
     "output_type": "display_data"
    },
    {
     "data": {
      "application/vnd.jupyter.widget-view+json": {
       "model_id": "4ef7dac76506431b8c6b1af78b3463f9",
       "version_major": 2,
       "version_minor": 0
      },
      "text/plain": [
       "Scanning alignments:   0%|          | 0/277 [00:00<?, ?it/s]"
      ]
     },
     "metadata": {},
     "output_type": "display_data"
    },
    {
     "data": {
      "application/vnd.jupyter.widget-view+json": {
       "model_id": "24f2d20500324454876da6cd807ff329",
       "version_major": 2,
       "version_minor": 0
      },
      "text/plain": [
       "Scanning alignments:   0%|          | 0/365 [00:00<?, ?it/s]"
      ]
     },
     "metadata": {},
     "output_type": "display_data"
    },
    {
     "data": {
      "application/vnd.jupyter.widget-view+json": {
       "model_id": "aa6b9a647774456ab74ba5d91d687a6d",
       "version_major": 2,
       "version_minor": 0
      },
      "text/plain": [
       "Scanning alignments:   0%|          | 0/345 [00:00<?, ?it/s]"
      ]
     },
     "metadata": {},
     "output_type": "display_data"
    },
    {
     "data": {
      "application/vnd.jupyter.widget-view+json": {
       "model_id": "11dc77993ee84a6f8b024781c8b15a45",
       "version_major": 2,
       "version_minor": 0
      },
      "text/plain": [
       "Scanning alignments:   0%|          | 0/311 [00:00<?, ?it/s]"
      ]
     },
     "metadata": {},
     "output_type": "display_data"
    },
    {
     "data": {
      "application/vnd.jupyter.widget-view+json": {
       "model_id": "f0c90e985c3b4b2ba9c71d3fcdcf69a1",
       "version_major": 2,
       "version_minor": 0
      },
      "text/plain": [
       "Scanning alignments:   0%|          | 0/380 [00:00<?, ?it/s]"
      ]
     },
     "metadata": {},
     "output_type": "display_data"
    },
    {
     "data": {
      "application/vnd.jupyter.widget-view+json": {
       "model_id": "8ce0e333b0fb47a8ace56fe6e8f484f9",
       "version_major": 2,
       "version_minor": 0
      },
      "text/plain": [
       "Scanning alignments:   0%|          | 0/469 [00:00<?, ?it/s]"
      ]
     },
     "metadata": {},
     "output_type": "display_data"
    },
    {
     "data": {
      "application/vnd.jupyter.widget-view+json": {
       "model_id": "4f5b4823571643f6bdace359b4f27a59",
       "version_major": 2,
       "version_minor": 0
      },
      "text/plain": [
       "Scanning alignments:   0%|          | 0/798 [00:00<?, ?it/s]"
      ]
     },
     "metadata": {},
     "output_type": "display_data"
    },
    {
     "data": {
      "application/vnd.jupyter.widget-view+json": {
       "model_id": "a0d5ea50f13943839d50f24394f88959",
       "version_major": 2,
       "version_minor": 0
      },
      "text/plain": [
       "Scanning alignments:   0%|          | 0/387 [00:00<?, ?it/s]"
      ]
     },
     "metadata": {},
     "output_type": "display_data"
    },
    {
     "data": {
      "application/vnd.jupyter.widget-view+json": {
       "model_id": "68d6f8f8d96c44c89f3288cad5399f6c",
       "version_major": 2,
       "version_minor": 0
      },
      "text/plain": [
       "Scanning alignments:   0%|          | 0/413 [00:00<?, ?it/s]"
      ]
     },
     "metadata": {},
     "output_type": "display_data"
    },
    {
     "data": {
      "application/vnd.jupyter.widget-view+json": {
       "model_id": "3a9ca7bec2fe475ab0062e319f4d22ee",
       "version_major": 2,
       "version_minor": 0
      },
      "text/plain": [
       "Scanning alignments:   0%|          | 0/495 [00:00<?, ?it/s]"
      ]
     },
     "metadata": {},
     "output_type": "display_data"
    },
    {
     "data": {
      "application/vnd.jupyter.widget-view+json": {
       "model_id": "de224be7d8244d7b976de5473116794c",
       "version_major": 2,
       "version_minor": 0
      },
      "text/plain": [
       "Scanning alignments:   0%|          | 0/447 [00:00<?, ?it/s]"
      ]
     },
     "metadata": {},
     "output_type": "display_data"
    },
    {
     "data": {
      "application/vnd.jupyter.widget-view+json": {
       "model_id": "ef5542c93afa4399ba2a6a52ca1f039c",
       "version_major": 2,
       "version_minor": 0
      },
      "text/plain": [
       "Scanning alignments:   0%|          | 0/344 [00:00<?, ?it/s]"
      ]
     },
     "metadata": {},
     "output_type": "display_data"
    },
    {
     "data": {
      "application/vnd.jupyter.widget-view+json": {
       "model_id": "43e2083e6bf54a25a3e35ac9ecabe43b",
       "version_major": 2,
       "version_minor": 0
      },
      "text/plain": [
       "Scanning alignments:   0%|          | 0/231 [00:00<?, ?it/s]"
      ]
     },
     "metadata": {},
     "output_type": "display_data"
    },
    {
     "data": {
      "application/vnd.jupyter.widget-view+json": {
       "model_id": "4e12a9401d0b453fb79e338f191645d8",
       "version_major": 2,
       "version_minor": 0
      },
      "text/plain": [
       "Scanning alignments:   0%|          | 0/345 [00:00<?, ?it/s]"
      ]
     },
     "metadata": {},
     "output_type": "display_data"
    },
    {
     "data": {
      "application/vnd.jupyter.widget-view+json": {
       "model_id": "a6ce86e985dc468c8865e7552e58f7b7",
       "version_major": 2,
       "version_minor": 0
      },
      "text/plain": [
       "Scanning alignments:   0%|          | 0/491 [00:00<?, ?it/s]"
      ]
     },
     "metadata": {},
     "output_type": "display_data"
    },
    {
     "data": {
      "application/vnd.jupyter.widget-view+json": {
       "model_id": "452e18c162644456ba59a0d16d436dcc",
       "version_major": 2,
       "version_minor": 0
      },
      "text/plain": [
       "Scanning alignments:   0%|          | 0/511 [00:00<?, ?it/s]"
      ]
     },
     "metadata": {},
     "output_type": "display_data"
    },
    {
     "data": {
      "application/vnd.jupyter.widget-view+json": {
       "model_id": "bbafb4ecd8cb4d7a90110e712594937f",
       "version_major": 2,
       "version_minor": 0
      },
      "text/plain": [
       "Scanning alignments:   0%|          | 0/375 [00:00<?, ?it/s]"
      ]
     },
     "metadata": {},
     "output_type": "display_data"
    },
    {
     "data": {
      "application/vnd.jupyter.widget-view+json": {
       "model_id": "19875c5c02d149faa8435136064b5a05",
       "version_major": 2,
       "version_minor": 0
      },
      "text/plain": [
       "Scanning alignments:   0%|          | 0/321 [00:00<?, ?it/s]"
      ]
     },
     "metadata": {},
     "output_type": "display_data"
    },
    {
     "data": {
      "application/vnd.jupyter.widget-view+json": {
       "model_id": "a9bea9eafaa54ec7a81cc0a63df637ff",
       "version_major": 2,
       "version_minor": 0
      },
      "text/plain": [
       "Scanning alignments:   0%|          | 0/365 [00:00<?, ?it/s]"
      ]
     },
     "metadata": {},
     "output_type": "display_data"
    },
    {
     "data": {
      "application/vnd.jupyter.widget-view+json": {
       "model_id": "396dba4fe86c4f5ab01eba3319e6225a",
       "version_major": 2,
       "version_minor": 0
      },
      "text/plain": [
       "Scanning alignments:   0%|          | 0/654 [00:00<?, ?it/s]"
      ]
     },
     "metadata": {},
     "output_type": "display_data"
    },
    {
     "data": {
      "application/vnd.jupyter.widget-view+json": {
       "model_id": "e6e2ba59924241378afdb292f5d7f899",
       "version_major": 2,
       "version_minor": 0
      },
      "text/plain": [
       "Scanning alignments:   0%|          | 0/552 [00:00<?, ?it/s]"
      ]
     },
     "metadata": {},
     "output_type": "display_data"
    },
    {
     "data": {
      "application/vnd.jupyter.widget-view+json": {
       "model_id": "cc9b80ef8b2f4dc8b5d8d9b81fd0f732",
       "version_major": 2,
       "version_minor": 0
      },
      "text/plain": [
       "Scanning alignments:   0%|          | 0/356 [00:00<?, ?it/s]"
      ]
     },
     "metadata": {},
     "output_type": "display_data"
    },
    {
     "data": {
      "application/vnd.jupyter.widget-view+json": {
       "model_id": "e9bcd8d1f2d4419ba4b930eb4eba35df",
       "version_major": 2,
       "version_minor": 0
      },
      "text/plain": [
       "Scanning alignments:   0%|          | 0/401 [00:00<?, ?it/s]"
      ]
     },
     "metadata": {},
     "output_type": "display_data"
    },
    {
     "data": {
      "application/vnd.jupyter.widget-view+json": {
       "model_id": "e0b34a5a92cc4c5cb3103f2533d8aebd",
       "version_major": 2,
       "version_minor": 0
      },
      "text/plain": [
       "Scanning alignments:   0%|          | 0/332 [00:00<?, ?it/s]"
      ]
     },
     "metadata": {},
     "output_type": "display_data"
    },
    {
     "data": {
      "application/vnd.jupyter.widget-view+json": {
       "model_id": "f0d3cf7a89394ca189c1d48b7dc6b720",
       "version_major": 2,
       "version_minor": 0
      },
      "text/plain": [
       "Scanning alignments:   0%|          | 0/318 [00:00<?, ?it/s]"
      ]
     },
     "metadata": {},
     "output_type": "display_data"
    },
    {
     "data": {
      "application/vnd.jupyter.widget-view+json": {
       "model_id": "5dd7bca11bbc433c9a8d33a862950402",
       "version_major": 2,
       "version_minor": 0
      },
      "text/plain": [
       "Scanning alignments:   0%|          | 0/338 [00:00<?, ?it/s]"
      ]
     },
     "metadata": {},
     "output_type": "display_data"
    },
    {
     "data": {
      "application/vnd.jupyter.widget-view+json": {
       "model_id": "14f7dca0b7c741bf960897aabc75e3ca",
       "version_major": 2,
       "version_minor": 0
      },
      "text/plain": [
       "Scanning alignments:   0%|          | 0/348 [00:00<?, ?it/s]"
      ]
     },
     "metadata": {},
     "output_type": "display_data"
    },
    {
     "data": {
      "application/vnd.jupyter.widget-view+json": {
       "model_id": "970d3edf5712437b8373647288ee46c9",
       "version_major": 2,
       "version_minor": 0
      },
      "text/plain": [
       "Scanning alignments:   0%|          | 0/495 [00:00<?, ?it/s]"
      ]
     },
     "metadata": {},
     "output_type": "display_data"
    },
    {
     "data": {
      "application/vnd.jupyter.widget-view+json": {
       "model_id": "be87ee5460bd4789a727effc1bae2cf4",
       "version_major": 2,
       "version_minor": 0
      },
      "text/plain": [
       "Scanning alignments:   0%|          | 0/336 [00:00<?, ?it/s]"
      ]
     },
     "metadata": {},
     "output_type": "display_data"
    },
    {
     "data": {
      "application/vnd.jupyter.widget-view+json": {
       "model_id": "4628f3ef3e774faabfd6ec575b466a5d",
       "version_major": 2,
       "version_minor": 0
      },
      "text/plain": [
       "Scanning alignments:   0%|          | 0/304 [00:00<?, ?it/s]"
      ]
     },
     "metadata": {},
     "output_type": "display_data"
    },
    {
     "data": {
      "application/vnd.jupyter.widget-view+json": {
       "model_id": "aecd6ac1b4be460aba3cf56b305f8b84",
       "version_major": 2,
       "version_minor": 0
      },
      "text/plain": [
       "Scanning alignments:   0%|          | 0/543 [00:00<?, ?it/s]"
      ]
     },
     "metadata": {},
     "output_type": "display_data"
    }
   ],
   "source": [
    "song_name_to_candidates: dict[str, list[FrozenMatch]] = {}\n",
    "for song in dataset:\n",
    "    candidates = exmel.align(\n",
    "        song.melody,\n",
    "        song.performance,\n",
    "        exmel.AlignConfig(candidate_min_score=0, candidate_min_length=8, hop_length=1, miss_tolerance=2),\n",
    "        skip_wisp=True)\n",
    "    song_name_to_candidates[song.name] = candidates"
   ]
  },
  {
   "cell_type": "code",
   "execution_count": 8,
   "id": "50b3fcb6",
   "metadata": {},
   "outputs": [],
   "source": [
    "import pickle\n",
    "\n",
    "with open(\"song_name_to_candidates.pkl\", \"wb\") as f:\n",
    "    pickle.dump(song_name_to_candidates, f)"
   ]
  },
  {
   "cell_type": "code",
   "execution_count": 11,
   "id": "0af7cc0d",
   "metadata": {},
   "outputs": [
    {
     "data": {
      "application/vnd.jupyter.widget-view+json": {
       "model_id": "371177bff8b040cbb84d0285b734f7f2",
       "version_major": 2,
       "version_minor": 0
      },
      "text/plain": [
       "  0%|          | 0/34 [00:00<?, ?it/s]"
      ]
     },
     "metadata": {},
     "output_type": "display_data"
    }
   ],
   "source": [
    "from dataclasses import dataclass\n",
    "from tqdm.auto import tqdm\n",
    "import exmel\n",
    "\n",
    "@dataclass(frozen=True, slots=True)\n",
    "class Detection:\n",
    "    tp: int\n",
    "    fp: int\n",
    "    start: float\n",
    "    end: float\n",
    "\n",
    "detections: dict[str, list[Detection]] = {}\n",
    "for song in tqdm(dataset):\n",
    "    detections[song.name] = []\n",
    "    for match in song_name_to_candidates[song.name]:\n",
    "        assert song.ground_truth is not None\n",
    "        tp, fp = exmel.tp_fp(match, song.ground_truth)\n",
    "        detections[song.name].append(\n",
    "            Detection(tp, fp, match.start, match.end))"
   ]
  },
  {
   "cell_type": "code",
   "execution_count": 12,
   "id": "2ff9daa3",
   "metadata": {},
   "outputs": [],
   "source": [
    "import pickle\n",
    "\n",
    "with open(\"detections.pkl\", \"wb\") as f:\n",
    "    pickle.dump(detections, f)"
   ]
  },
  {
   "cell_type": "code",
   "execution_count": 13,
   "id": "00925086",
   "metadata": {},
   "outputs": [
    {
     "data": {
      "application/vnd.jupyter.widget-view+json": {
       "model_id": "ba49c9035fbb4f39ad73090ff2623d20",
       "version_major": 2,
       "version_minor": 0
      },
      "text/plain": [
       "  0%|          | 0/34 [00:00<?, ?it/s]"
      ]
     },
     "metadata": {},
     "output_type": "display_data"
    }
   ],
   "source": [
    "from tqdm.auto import tqdm\n",
    "from exmel.sequence import song_stats\n",
    "\n",
    "name_to_scores: dict[str, list[float]] = {}\n",
    "for song in tqdm(dataset):\n",
    "    # score_model.load_song_stats(song_stats(song.melody, song.performance))\n",
    "    candidates = song_name_to_candidates[song.name]\n",
    "    dts = detections[song.name]\n",
    "    scores: list[float] = []\n",
    "    for c, d in zip(candidates, dts):\n",
    "        tp, fp = d.tp, d.fp\n",
    "        scores.append(tp - fp)\n",
    "    name_to_scores[song.name] = scores"
   ]
  },
  {
   "cell_type": "code",
   "execution_count": 14,
   "id": "a83ef6c8",
   "metadata": {},
   "outputs": [
    {
     "name": "stdout",
     "output_type": "stream",
     "text": [
      "p=0, m=0, f1_score=0.9718712122973228, precision=0.9967551966675074, recall=0.9487391158460824\n",
      "p=0, m=1, f1_score=0.9718712122973228, precision=0.9967551966675074, recall=0.9487391158460824\n",
      "p=0, m=2, f1_score=0.9718712122973228, precision=0.9967551966675074, recall=0.9487391158460824\n",
      "p=0, m=3, f1_score=0.9718712122973228, precision=0.9967551966675074, recall=0.9487391158460824\n",
      "p=0, m=4, f1_score=0.9718712122973228, precision=0.9967551966675074, recall=0.9487391158460824\n",
      "p=0, m=5, f1_score=0.9717463023402301, precision=0.9969742731524387, recall=0.9483339492700883\n",
      "p=0, m=6, f1_score=0.9717204731762341, precision=0.9970209453553942, recall=0.9482460217223876\n",
      "p=0, m=7, f1_score=0.971393494938539, precision=0.997145411033066, recall=0.9475388822093603\n",
      "p=0, m=8, f1_score=0.9712458352722217, precision=0.9977075470392524, recall=0.9468244459733091\n",
      "p=0, m=9, f1_score=0.9686616377195589, precision=0.9972910528966168, recall=0.942483308990252\n",
      "p=0, m=10, f1_score=0.9662067027732432, precision=0.997084795076475, recall=0.9381946695045672\n",
      "p=0, m=11, f1_score=0.9635424061844885, precision=0.9965268449671327, recall=0.9338235029344217\n"
     ]
    },
    {
     "ename": "KeyboardInterrupt",
     "evalue": "",
     "output_type": "error",
     "traceback": [
      "\u001b[31m---------------------------------------------------------------------------\u001b[39m",
      "\u001b[31mKeyboardInterrupt\u001b[39m                         Traceback (most recent call last)",
      "\u001b[36mCell\u001b[39m\u001b[36m \u001b[39m\u001b[32mIn[14]\u001b[39m\u001b[32m, line 27\u001b[39m\n\u001b[32m     24\u001b[39m candidates = updated_candidates\n\u001b[32m     25\u001b[39m opt_score, opt_subset = weighted_interval_scheduling(\n\u001b[32m     26\u001b[39m     candidates, return_subset=\u001b[38;5;28;01mTrue\u001b[39;00m, verbose=\u001b[38;5;28;01mFalse\u001b[39;00m)\n\u001b[32m---> \u001b[39m\u001b[32m27\u001b[39m discarded_matches = [match \u001b[38;5;28;01mfor\u001b[39;00m match \u001b[38;5;129;01min\u001b[39;00m candidates \u001b[38;5;28;01mif\u001b[39;00m \u001b[43mmatch\u001b[49m\u001b[43m \u001b[49m\u001b[38;5;129;43;01mnot\u001b[39;49;00m\u001b[43m \u001b[49m\u001b[38;5;129;43;01min\u001b[39;49;00m\u001b[43m \u001b[49m\u001b[43mopt_subset\u001b[49m]\n\u001b[32m     28\u001b[39m concat_events = concat_matches(opt_subset)\n\u001b[32m     29\u001b[39m alignment = Alignment(concat_events, opt_subset, discarded_matches, opt_score,\n\u001b[32m     30\u001b[39m                 \u001b[38;5;28msum\u001b[39m(match.sum_miss \u001b[38;5;28;01mfor\u001b[39;00m match \u001b[38;5;129;01min\u001b[39;00m opt_subset),\n\u001b[32m     31\u001b[39m                 \u001b[38;5;28msum\u001b[39m(match.sum_error \u001b[38;5;28;01mfor\u001b[39;00m match \u001b[38;5;129;01min\u001b[39;00m opt_subset))\n",
      "\u001b[36mFile \u001b[39m\u001b[32m<string>:19\u001b[39m, in \u001b[36m__eq__\u001b[39m\u001b[34m(self, other)\u001b[39m\n",
      "\u001b[36mFile \u001b[39m\u001b[32m<string>:9\u001b[39m, in \u001b[36m__eq__\u001b[39m\u001b[34m(self, other)\u001b[39m\n",
      "\u001b[31mKeyboardInterrupt\u001b[39m: "
     ]
    }
   ],
   "source": [
    "from itertools import product\n",
    "from exmel.wisp import weighted_interval_scheduling\n",
    "from exmel.alignment import Alignment, concat_matches\n",
    "import numpy as np\n",
    "\n",
    "\n",
    "pen_min_tuple = list(product([0], range(31)))\n",
    "\n",
    "f1_list: list[float] = []\n",
    "precision_list: list[float] = []\n",
    "recall_list: list[float] = []\n",
    "\n",
    "for p, m in pen_min_tuple:\n",
    "    f1_score = 0\n",
    "    precision = 0\n",
    "    recall = 0\n",
    "    for song in dataset:\n",
    "        scores = np.array(name_to_scores[song.name]) - p\n",
    "        candidates = song_name_to_candidates[song.name]\n",
    "        updated_candidates: list[FrozenMatch] = []\n",
    "        for candidate, score in zip(candidates, scores):\n",
    "            if score >= m:\n",
    "                updated_candidates.append(candidate.update_score(score))\n",
    "        candidates = updated_candidates\n",
    "        opt_score, opt_subset = weighted_interval_scheduling(\n",
    "            candidates, return_subset=True, verbose=False)\n",
    "        discarded_matches = [match for match in candidates if match not in opt_subset]\n",
    "        concat_events = concat_matches(opt_subset)\n",
    "        alignment = Alignment(concat_events, opt_subset, discarded_matches, opt_score,\n",
    "                        sum(match.sum_miss for match in opt_subset),\n",
    "                        sum(match.sum_error for match in opt_subset))\n",
    "        assert song.ground_truth is not None\n",
    "        result = exmel.evaluate_melody(song.ground_truth, alignment.events, plot=False)\n",
    "        f1_score += result.f1_score\n",
    "        precision += result.precision\n",
    "        recall += result.recall\n",
    "    f1_score /= len(dataset)\n",
    "    precision /= len(dataset)\n",
    "    recall /= len(dataset)\n",
    "    f1_list.append(f1_score)\n",
    "    precision_list.append(precision)\n",
    "    recall_list.append(recall)\n",
    "    print(f\"{p=}, {m=}, {f1_score=}, {precision=}, {recall=}\")"
   ]
  },
  {
   "cell_type": "markdown",
   "id": "959081da",
   "metadata": {},
   "source": [
    "# Real tp-fp"
   ]
  },
  {
   "cell_type": "code",
   "execution_count": 4,
   "id": "97e6a0ec",
   "metadata": {},
   "outputs": [
    {
     "data": {
      "application/vnd.jupyter.widget-view+json": {
       "model_id": "6c6ed4a37a44459bb293d0a7af2a905c",
       "version_major": 2,
       "version_minor": 0
      },
      "text/plain": [
       "  0%|          | 0/17 [00:00<?, ?it/s]"
      ]
     },
     "metadata": {},
     "output_type": "display_data"
    },
    {
     "ename": "KeyboardInterrupt",
     "evalue": "",
     "output_type": "error",
     "traceback": [
      "\u001b[31m---------------------------------------------------------------------------\u001b[39m",
      "\u001b[31mKeyboardInterrupt\u001b[39m                         Traceback (most recent call last)",
      "\u001b[36mCell\u001b[39m\u001b[36m \u001b[39m\u001b[32mIn[4]\u001b[39m\u001b[32m, line 11\u001b[39m\n\u001b[32m      9\u001b[39m \u001b[38;5;28;01mfor\u001b[39;00m c \u001b[38;5;129;01min\u001b[39;00m candidates:\n\u001b[32m     10\u001b[39m     \u001b[38;5;28;01massert\u001b[39;00m song.ground_truth \u001b[38;5;129;01mis\u001b[39;00m \u001b[38;5;129;01mnot\u001b[39;00m \u001b[38;5;28;01mNone\u001b[39;00m\n\u001b[32m---> \u001b[39m\u001b[32m11\u001b[39m     tp, fp = \u001b[43mexmel\u001b[49m\u001b[43m.\u001b[49m\u001b[43mtp_fp\u001b[49m\u001b[43m(\u001b[49m\u001b[43mc\u001b[49m\u001b[43m,\u001b[49m\u001b[43m \u001b[49m\u001b[43msong\u001b[49m\u001b[43m.\u001b[49m\u001b[43mground_truth\u001b[49m\u001b[43m)\u001b[49m\n\u001b[32m     12\u001b[39m     scores.append(tp-fp)\n\u001b[32m     13\u001b[39m name_to_scores[song.name] = scores\n",
      "\u001b[36mFile \u001b[39m\u001b[32md:\\code\\exmel\\exmel\\score.py:235\u001b[39m, in \u001b[36mtp_fp\u001b[39m\u001b[34m(match, gt, tolerance)\u001b[39m\n\u001b[32m    233\u001b[39m \u001b[38;5;28;01mif\u001b[39;00m \u001b[38;5;129;01mnot\u001b[39;00m \u001b[38;5;28misinstance\u001b[39m(gt, Melody):\n\u001b[32m    234\u001b[39m     gt = Melody(gt)\n\u001b[32m--> \u001b[39m\u001b[32m235\u001b[39m \u001b[43mgt\u001b[49m\u001b[43m \u001b[49m\u001b[43m%\u001b[49m\u001b[43m=\u001b[49m\u001b[43m \u001b[49m\u001b[32;43m12\u001b[39;49m\n\u001b[32m    236\u001b[39m match_melody = Melody(match.events)\n\u001b[32m    237\u001b[39m match_melody %= \u001b[32m12\u001b[39m\n",
      "\u001b[36mFile \u001b[39m\u001b[32md:\\code\\exmel\\exmel\\sequence.py:80\u001b[39m, in \u001b[36mMelody.__mod__\u001b[39m\u001b[34m(self, other)\u001b[39m\n\u001b[32m     78\u001b[39m \u001b[38;5;28;01mdef\u001b[39;00m\u001b[38;5;250m \u001b[39m\u001b[34m__mod__\u001b[39m(\u001b[38;5;28mself\u001b[39m, other: Literal[\u001b[32m12\u001b[39m]) -> \u001b[33m\"\u001b[39m\u001b[33mMelody\u001b[39m\u001b[33m\"\u001b[39m:\n\u001b[32m     79\u001b[39m     \u001b[38;5;28;01mif\u001b[39;00m other == \u001b[32m12\u001b[39m:\n\u001b[32m---> \u001b[39m\u001b[32m80\u001b[39m         \u001b[38;5;28;01mreturn\u001b[39;00m Melody([\u001b[43mevent\u001b[49m\u001b[43m \u001b[49m\u001b[43m%\u001b[49m\u001b[43m \u001b[49m\u001b[32;43m12\u001b[39;49m \u001b[38;5;28;01mfor\u001b[39;00m event \u001b[38;5;129;01min\u001b[39;00m \u001b[38;5;28mself\u001b[39m.events])\n\u001b[32m     81\u001b[39m     \u001b[38;5;28;01melif\u001b[39;00m \u001b[38;5;28misinstance\u001b[39m(other, \u001b[38;5;28mint\u001b[39m):\n\u001b[32m     82\u001b[39m         warnings.warn(\u001b[33mf\u001b[39m\u001b[33m\"\u001b[39m\u001b[33mModulo by \u001b[39m\u001b[38;5;132;01m{\u001b[39;00mother\u001b[38;5;132;01m}\u001b[39;00m\u001b[33m does not make sense. You may want to use 12 instead.\u001b[39m\u001b[33m\"\u001b[39m)\n",
      "\u001b[36mFile \u001b[39m\u001b[32md:\\code\\exmel\\exmel\\event.py:90\u001b[39m, in \u001b[36mMelEvent.__mod__\u001b[39m\u001b[34m(self, other)\u001b[39m\n\u001b[32m     87\u001b[39m         \u001b[38;5;28;01mreturn\u001b[39;00m MelEvent(\u001b[38;5;28mround\u001b[39m(\u001b[38;5;28mself\u001b[39m.time / other) * other, \u001b[38;5;28mself\u001b[39m.note)\n\u001b[32m     88\u001b[39m     \u001b[38;5;28;01mreturn\u001b[39;00m \u001b[38;5;28mNotImplemented\u001b[39m\n\u001b[32m---> \u001b[39m\u001b[32m90\u001b[39m \u001b[38;5;28;01mdef\u001b[39;00m\u001b[38;5;250m \u001b[39m\u001b[34m__mod__\u001b[39m(\u001b[38;5;28mself\u001b[39m, other: Literal[\u001b[32m12\u001b[39m]) -> \u001b[33m'\u001b[39m\u001b[33mMelEvent\u001b[39m\u001b[33m'\u001b[39m:\n\u001b[32m     91\u001b[39m     \u001b[38;5;66;03m# \"a % b\": note modulo\u001b[39;00m\n\u001b[32m     92\u001b[39m     \u001b[38;5;28;01mif\u001b[39;00m other == \u001b[32m12\u001b[39m:\n\u001b[32m     93\u001b[39m         \u001b[38;5;28;01mreturn\u001b[39;00m MelEvent(\u001b[38;5;28mself\u001b[39m.time, \u001b[38;5;28mself\u001b[39m.note % \u001b[32m12\u001b[39m)\n",
      "\u001b[31mKeyboardInterrupt\u001b[39m: "
     ]
    }
   ],
   "source": [
    "from tqdm.auto import tqdm\n",
    "from exmel.sequence import song_stats\n",
    "\n",
    "name_to_scores: dict[str, list[float]] = {}\n",
    "for song in tqdm(dataset):\n",
    "    # score_model.load_song_stats(song_stats(song.melody, song.performance))\n",
    "    candidates = song_name_to_candidates[song.name]\n",
    "    scores: list[float] = []\n",
    "    for c in candidates:\n",
    "        assert song.ground_truth is not None\n",
    "        tp, fp = exmel.tp_fp(c, song.ground_truth)\n",
    "        scores.append(tp-fp)\n",
    "    name_to_scores[song.name] = scores"
   ]
  },
  {
   "cell_type": "code",
   "execution_count": 4,
   "id": "0b8978ce",
   "metadata": {},
   "outputs": [
    {
     "data": {
      "application/vnd.jupyter.widget-view+json": {
       "model_id": "6979daeecb744e0dbf7abd5f613993d8",
       "version_major": 2,
       "version_minor": 0
      },
      "text/plain": [
       "p=0, m=0:   0%|          | 0/17 [00:00<?, ?it/s]"
      ]
     },
     "metadata": {},
     "output_type": "display_data"
    },
    {
     "data": {
      "application/vnd.jupyter.widget-view+json": {
       "model_id": "df3e43b82d6f4f27bd6f3ef947728630",
       "version_major": 2,
       "version_minor": 0
      },
      "text/plain": [
       "p=0, m=1:   0%|          | 0/17 [00:00<?, ?it/s]"
      ]
     },
     "metadata": {},
     "output_type": "display_data"
    },
    {
     "data": {
      "application/vnd.jupyter.widget-view+json": {
       "model_id": "fa2f7c214f554b7d9697f9f52dd9fd68",
       "version_major": 2,
       "version_minor": 0
      },
      "text/plain": [
       "p=0, m=2:   0%|          | 0/17 [00:00<?, ?it/s]"
      ]
     },
     "metadata": {},
     "output_type": "display_data"
    },
    {
     "data": {
      "application/vnd.jupyter.widget-view+json": {
       "model_id": "a0b3c1867d33471ea253ca494d4e8d96",
       "version_major": 2,
       "version_minor": 0
      },
      "text/plain": [
       "p=0, m=3:   0%|          | 0/17 [00:00<?, ?it/s]"
      ]
     },
     "metadata": {},
     "output_type": "display_data"
    },
    {
     "data": {
      "application/vnd.jupyter.widget-view+json": {
       "model_id": "58566aec65af4e4d8abf7abfce88d16f",
       "version_major": 2,
       "version_minor": 0
      },
      "text/plain": [
       "p=0, m=4:   0%|          | 0/17 [00:00<?, ?it/s]"
      ]
     },
     "metadata": {},
     "output_type": "display_data"
    },
    {
     "data": {
      "application/vnd.jupyter.widget-view+json": {
       "model_id": "e8cb4285cdb54037b6a0ca5fcb633d74",
       "version_major": 2,
       "version_minor": 0
      },
      "text/plain": [
       "p=0, m=5:   0%|          | 0/17 [00:00<?, ?it/s]"
      ]
     },
     "metadata": {},
     "output_type": "display_data"
    },
    {
     "data": {
      "application/vnd.jupyter.widget-view+json": {
       "model_id": "d8045b42c3f1474a820a79269646b9e5",
       "version_major": 2,
       "version_minor": 0
      },
      "text/plain": [
       "p=0, m=6:   0%|          | 0/17 [00:00<?, ?it/s]"
      ]
     },
     "metadata": {},
     "output_type": "display_data"
    },
    {
     "data": {
      "application/vnd.jupyter.widget-view+json": {
       "model_id": "90ab362b8ee84aaea71345265222d524",
       "version_major": 2,
       "version_minor": 0
      },
      "text/plain": [
       "p=0, m=7:   0%|          | 0/17 [00:00<?, ?it/s]"
      ]
     },
     "metadata": {},
     "output_type": "display_data"
    },
    {
     "data": {
      "application/vnd.jupyter.widget-view+json": {
       "model_id": "9767c76ca12e4f768a1ba85c1ec9f9ab",
       "version_major": 2,
       "version_minor": 0
      },
      "text/plain": [
       "p=0, m=8:   0%|          | 0/17 [00:00<?, ?it/s]"
      ]
     },
     "metadata": {},
     "output_type": "display_data"
    },
    {
     "data": {
      "application/vnd.jupyter.widget-view+json": {
       "model_id": "9766e39ee4be44689d095abea8dff7b9",
       "version_major": 2,
       "version_minor": 0
      },
      "text/plain": [
       "p=0, m=9:   0%|          | 0/17 [00:00<?, ?it/s]"
      ]
     },
     "metadata": {},
     "output_type": "display_data"
    },
    {
     "data": {
      "application/vnd.jupyter.widget-view+json": {
       "model_id": "ecbec4f6a1224689a84cc94f18486977",
       "version_major": 2,
       "version_minor": 0
      },
      "text/plain": [
       "p=0, m=10:   0%|          | 0/17 [00:00<?, ?it/s]"
      ]
     },
     "metadata": {},
     "output_type": "display_data"
    },
    {
     "data": {
      "application/vnd.jupyter.widget-view+json": {
       "model_id": "0bc9aa62abef475caa4d2b9c93428e21",
       "version_major": 2,
       "version_minor": 0
      },
      "text/plain": [
       "p=0, m=11:   0%|          | 0/17 [00:00<?, ?it/s]"
      ]
     },
     "metadata": {},
     "output_type": "display_data"
    },
    {
     "data": {
      "application/vnd.jupyter.widget-view+json": {
       "model_id": "98b66688c15f44fbb6fd8471fbaa53b5",
       "version_major": 2,
       "version_minor": 0
      },
      "text/plain": [
       "p=0, m=12:   0%|          | 0/17 [00:00<?, ?it/s]"
      ]
     },
     "metadata": {},
     "output_type": "display_data"
    },
    {
     "data": {
      "application/vnd.jupyter.widget-view+json": {
       "model_id": "b07fa33185db4245bd7bbcea00ff2f7b",
       "version_major": 2,
       "version_minor": 0
      },
      "text/plain": [
       "p=0, m=13:   0%|          | 0/17 [00:00<?, ?it/s]"
      ]
     },
     "metadata": {},
     "output_type": "display_data"
    },
    {
     "data": {
      "application/vnd.jupyter.widget-view+json": {
       "model_id": "4d2a6186e7e04278911f702d2131b616",
       "version_major": 2,
       "version_minor": 0
      },
      "text/plain": [
       "p=0, m=14:   0%|          | 0/17 [00:00<?, ?it/s]"
      ]
     },
     "metadata": {},
     "output_type": "display_data"
    },
    {
     "data": {
      "application/vnd.jupyter.widget-view+json": {
       "model_id": "677bc626f2264931bb230f79b2184e57",
       "version_major": 2,
       "version_minor": 0
      },
      "text/plain": [
       "p=0, m=15:   0%|          | 0/17 [00:00<?, ?it/s]"
      ]
     },
     "metadata": {},
     "output_type": "display_data"
    },
    {
     "data": {
      "application/vnd.jupyter.widget-view+json": {
       "model_id": "821245d0b79f44b1b0160a6abbb58e7e",
       "version_major": 2,
       "version_minor": 0
      },
      "text/plain": [
       "p=0, m=16:   0%|          | 0/17 [00:00<?, ?it/s]"
      ]
     },
     "metadata": {},
     "output_type": "display_data"
    },
    {
     "data": {
      "application/vnd.jupyter.widget-view+json": {
       "model_id": "a43c5ed200064f74a003bb8e79551f72",
       "version_major": 2,
       "version_minor": 0
      },
      "text/plain": [
       "p=0, m=17:   0%|          | 0/17 [00:00<?, ?it/s]"
      ]
     },
     "metadata": {},
     "output_type": "display_data"
    },
    {
     "data": {
      "application/vnd.jupyter.widget-view+json": {
       "model_id": "baae42053ea747e7a00bf56dff997fb6",
       "version_major": 2,
       "version_minor": 0
      },
      "text/plain": [
       "p=0, m=18:   0%|          | 0/17 [00:00<?, ?it/s]"
      ]
     },
     "metadata": {},
     "output_type": "display_data"
    },
    {
     "data": {
      "application/vnd.jupyter.widget-view+json": {
       "model_id": "5be08de7c265459589db924485604196",
       "version_major": 2,
       "version_minor": 0
      },
      "text/plain": [
       "p=0, m=19:   0%|          | 0/17 [00:00<?, ?it/s]"
      ]
     },
     "metadata": {},
     "output_type": "display_data"
    },
    {
     "data": {
      "application/vnd.jupyter.widget-view+json": {
       "model_id": "06490ea47ee247f79a1c1f51ce0a56f3",
       "version_major": 2,
       "version_minor": 0
      },
      "text/plain": [
       "p=0, m=20:   0%|          | 0/17 [00:00<?, ?it/s]"
      ]
     },
     "metadata": {},
     "output_type": "display_data"
    },
    {
     "data": {
      "application/vnd.jupyter.widget-view+json": {
       "model_id": "9d95557ed8d1425c800a7877228d5f7d",
       "version_major": 2,
       "version_minor": 0
      },
      "text/plain": [
       "p=0, m=21:   0%|          | 0/17 [00:00<?, ?it/s]"
      ]
     },
     "metadata": {},
     "output_type": "display_data"
    },
    {
     "data": {
      "application/vnd.jupyter.widget-view+json": {
       "model_id": "e451aca5775447758473c5bf6f4f7378",
       "version_major": 2,
       "version_minor": 0
      },
      "text/plain": [
       "p=0, m=22:   0%|          | 0/17 [00:00<?, ?it/s]"
      ]
     },
     "metadata": {},
     "output_type": "display_data"
    },
    {
     "data": {
      "application/vnd.jupyter.widget-view+json": {
       "model_id": "25783bcacfea4da0a5627854b4995fec",
       "version_major": 2,
       "version_minor": 0
      },
      "text/plain": [
       "p=0, m=23:   0%|          | 0/17 [00:00<?, ?it/s]"
      ]
     },
     "metadata": {},
     "output_type": "display_data"
    },
    {
     "data": {
      "application/vnd.jupyter.widget-view+json": {
       "model_id": "80f839744a224193bea7f8aaaee81a11",
       "version_major": 2,
       "version_minor": 0
      },
      "text/plain": [
       "p=0, m=24:   0%|          | 0/17 [00:00<?, ?it/s]"
      ]
     },
     "metadata": {},
     "output_type": "display_data"
    },
    {
     "data": {
      "application/vnd.jupyter.widget-view+json": {
       "model_id": "23fddc6cf057441d89763c594732793d",
       "version_major": 2,
       "version_minor": 0
      },
      "text/plain": [
       "p=0, m=25:   0%|          | 0/17 [00:00<?, ?it/s]"
      ]
     },
     "metadata": {},
     "output_type": "display_data"
    },
    {
     "data": {
      "application/vnd.jupyter.widget-view+json": {
       "model_id": "98bd1a1bb2d7405ab1f189b65d059b84",
       "version_major": 2,
       "version_minor": 0
      },
      "text/plain": [
       "p=0, m=26:   0%|          | 0/17 [00:00<?, ?it/s]"
      ]
     },
     "metadata": {},
     "output_type": "display_data"
    },
    {
     "data": {
      "application/vnd.jupyter.widget-view+json": {
       "model_id": "2e177c0c3a654d338e93236ececd0ca9",
       "version_major": 2,
       "version_minor": 0
      },
      "text/plain": [
       "p=0, m=27:   0%|          | 0/17 [00:00<?, ?it/s]"
      ]
     },
     "metadata": {},
     "output_type": "display_data"
    },
    {
     "data": {
      "application/vnd.jupyter.widget-view+json": {
       "model_id": "20b7ef3d6d4e4334b17b00df9f7048ba",
       "version_major": 2,
       "version_minor": 0
      },
      "text/plain": [
       "p=0, m=28:   0%|          | 0/17 [00:00<?, ?it/s]"
      ]
     },
     "metadata": {},
     "output_type": "display_data"
    },
    {
     "data": {
      "application/vnd.jupyter.widget-view+json": {
       "model_id": "6d0b0558ad8c4357a14cbfbccdd38430",
       "version_major": 2,
       "version_minor": 0
      },
      "text/plain": [
       "p=0, m=29:   0%|          | 0/17 [00:00<?, ?it/s]"
      ]
     },
     "metadata": {},
     "output_type": "display_data"
    },
    {
     "data": {
      "application/vnd.jupyter.widget-view+json": {
       "model_id": "cb3b0ed25caa41ba9f2f5ba752cde408",
       "version_major": 2,
       "version_minor": 0
      },
      "text/plain": [
       "p=0, m=30:   0%|          | 0/17 [00:00<?, ?it/s]"
      ]
     },
     "metadata": {},
     "output_type": "display_data"
    }
   ],
   "source": [
    "from itertools import product\n",
    "from exmel.wisp import weighted_interval_scheduling\n",
    "from exmel.alignment import Alignment, concat_matches\n",
    "import numpy as np\n",
    "\n",
    "\n",
    "pen_min_tuple = list(product([0], range(31)))\n",
    "\n",
    "f1_list: list[float] = []\n",
    "precision_list: list[float] = []\n",
    "recall_list: list[float] = []\n",
    "\n",
    "for p, m in pen_min_tuple:\n",
    "    f1_score = 0\n",
    "    precision = 0\n",
    "    recall = 0\n",
    "    for song in tqdm(dataset, desc=f\"{p=}, {m=}\"):\n",
    "        scores = np.array(name_to_scores[song.name]) - p\n",
    "        candidates = song_name_to_candidates[song.name]\n",
    "        updated_candidates: list[FrozenMatch] = []\n",
    "        for candidate, score in zip(candidates, scores):\n",
    "            if score >= m:\n",
    "                updated_candidates.append(candidate.update_score(score))\n",
    "        candidates = updated_candidates\n",
    "        opt_score, opt_subset = weighted_interval_scheduling(\n",
    "            candidates, return_subset=True, verbose=False)\n",
    "        discarded_matches = [match for match in candidates if match not in opt_subset]\n",
    "        concat_events = concat_matches(opt_subset)\n",
    "        alignment = Alignment(concat_events, opt_subset, discarded_matches, opt_score,\n",
    "                        sum(match.sum_miss for match in opt_subset),\n",
    "                        sum(match.sum_error for match in opt_subset))\n",
    "        assert song.ground_truth is not None\n",
    "        result = exmel.evaluate_melody(song.ground_truth, alignment.events, plot=False)\n",
    "        f1_score += result.f1_score\n",
    "        precision += result.precision\n",
    "        recall += result.recall\n",
    "    f1_score /= len(dataset)\n",
    "    precision /= len(dataset)\n",
    "    recall /= len(dataset)\n",
    "    f1_list.append(f1_score)\n",
    "    precision_list.append(precision)\n",
    "    recall_list.append(recall)"
   ]
  },
  {
   "cell_type": "code",
   "execution_count": 5,
   "id": "e2338280",
   "metadata": {},
   "outputs": [
    {
     "data": {
      "image/png": "[encoded data removed]",
      "text/plain": [
       "<Figure size 640x480 with 1 Axes>"
      ]
     },
     "metadata": {},
     "output_type": "display_data"
    }
   ],
   "source": [
    "from matplotlib import pyplot as plt\n",
    "\n",
    "plt.plot(recall_list, precision_list)\n",
    "plt.xlabel(\"Recall\")\n",
    "plt.ylabel(\"Precision\")\n",
    "plt.title(\"Precision-Recall Curve\")\n",
    "plt.show()"
   ]
  },
  {
   "cell_type": "code",
   "execution_count": 6,
   "id": "8719fdd6",
   "metadata": {},
   "outputs": [
    {
     "name": "stdout",
     "output_type": "stream",
     "text": [
      "p=0, f1=0.957593118549517, pre=0.996000926885767, rec=0.9232043386284174\n",
      "p=1, f1=0.957593118549517, pre=0.996000926885767, rec=0.9232043386284174\n",
      "p=2, f1=0.957593118549517, pre=0.996000926885767, rec=0.9232043386284174\n",
      "p=3, f1=0.957593118549517, pre=0.996000926885767, rec=0.9232043386284174\n",
      "p=4, f1=0.957593118549517, pre=0.996000926885767, rec=0.9232043386284174\n",
      "p=5, f1=0.9575511082385807, pre=0.9961525308677404, rec=0.9230052377337385\n",
      "p=6, f1=0.9575511082385807, pre=0.9961525308677404, rec=0.9230052377337385\n",
      "p=7, f1=0.9575511082385807, pre=0.9961525308677404, rec=0.9230052377337385\n",
      "p=8, f1=0.9575511082385807, pre=0.9961525308677404, rec=0.9230052377337385\n",
      "p=9, f1=0.9574452482425111, pre=0.9968502851216979, rec=0.9223140053254463\n",
      "p=10, f1=0.9572324720668054, pre=0.9972783900491119, rec=0.9216169901648948\n",
      "p=11, f1=0.9544639906658406, pre=0.9963727357064606, rec=0.9174760925151231\n",
      "p=12, f1=0.9500140697841374, pre=0.9963207563088533, rec=0.9098651376052027\n",
      "p=13, f1=0.9484881749225719, pre=0.9959667161328544, rec=0.9075105988457286\n",
      "p=14, f1=0.9457910161398047, pre=0.9950836064957983, rec=0.9033817292777139\n",
      "p=15, f1=0.9442626035459825, pre=0.9947464153023008, rec=0.9009099820754335\n",
      "p=16, f1=0.9417263810630307, pre=0.9946483159373701, rec=0.8964947590497555\n",
      "p=17, f1=0.9376948595122149, pre=0.9944934407048998, rec=0.8898881358682822\n",
      "p=18, f1=0.9365894839980179, pre=0.9936555261050702, rec=0.8886038773424972\n",
      "p=19, f1=0.9341049369276042, pre=0.9932916805891094, rec=0.8846422227584503\n",
      "p=20, f1=0.9297832480011505, pre=0.9929276969308813, rec=0.8775293386843029\n",
      "p=21, f1=0.924853644886291, pre=0.9900565448688741, rec=0.8713195108495977\n",
      "p=22, f1=0.9208264986164617, pre=0.9889054299881025, rec=0.8655871572242111\n",
      "p=23, f1=0.9171329485725002, pre=0.9884338767108296, rec=0.8602696303839258\n",
      "p=24, f1=0.9150888748304888, pre=0.988689598659561, rec=0.8571237666103556\n",
      "p=25, f1=0.9129871045147386, pre=0.9883992804082706, rec=0.8538541791628549\n",
      "p=26, f1=0.905411073575588, pre=0.988387765158429, rec=0.8416945414860327\n",
      "p=27, f1=0.9012890937501178, pre=0.9885321876519193, rec=0.8358066648559708\n",
      "p=28, f1=0.8992494522976949, pre=0.9883654463281756, rec=0.8326716535821516\n",
      "p=29, f1=0.8950535116409372, pre=0.9883267198794151, rec=0.8267999494616669\n",
      "p=30, f1=0.8948655791477194, pre=0.9875720589558012, rec=0.8268393339363675\n"
     ]
    }
   ],
   "source": [
    "for p, f1, pre, rec in zip(range(31), f1_list, precision_list, recall_list):\n",
    "    print(f\"{p=}, {f1=}, {pre=}, {rec=}\")"
   ]
  },
  {
   "cell_type": "markdown",
   "id": "1034ab09",
   "metadata": {},
   "source": [
    "# With R"
   ]
  },
  {
   "cell_type": "code",
   "execution_count": null,
   "id": "d268037b",
   "metadata": {},
   "outputs": [
    {
     "data": {
      "application/vnd.jupyter.widget-view+json": {
       "model_id": "2d775cfab2d74a9794e4375f56fbe3b2",
       "version_major": 2,
       "version_minor": 0
      },
      "text/plain": [
       "  0%|          | 0/17 [00:00<?, ?it/s]"
      ]
     },
     "metadata": {},
     "output_type": "display_data"
    }
   ],
   "source": [
    "from tqdm.auto import tqdm\n",
    "from exmel.sequence import song_stats\n",
    "\n",
    "R = 0.97\n",
    "\n",
    "name_to_scores: dict[str, list[float]] = {}\n",
    "for song in tqdm(dataset):\n",
    "    # score_model.load_song_stats(song_stats(song.melody, song.performance))\n",
    "    candidates = song_name_to_candidates[song.name]\n",
    "    dts = detections[song.name]\n",
    "    scores: list[float] = []\n",
    "    for c, d in zip(candidates, dts):\n",
    "        tp, fp = d.tp, d.fp\n",
    "        scores.append((2-R)*tp - R*fp)\n",
    "    name_to_scores[song.name] = scores"
   ]
  },
  {
   "cell_type": "code",
   "execution_count": 14,
   "id": "bdba00ce",
   "metadata": {},
   "outputs": [
    {
     "data": {
      "application/vnd.jupyter.widget-view+json": {
       "model_id": "d217eabcc1ad4fa8af9579357fdf8e58",
       "version_major": 2,
       "version_minor": 0
      },
      "text/plain": [
       "p=0, m=0:   0%|          | 0/17 [00:00<?, ?it/s]"
      ]
     },
     "metadata": {},
     "output_type": "display_data"
    },
    {
     "data": {
      "application/vnd.jupyter.widget-view+json": {
       "model_id": "67d8d45a81fb4a47899d513e273aa484",
       "version_major": 2,
       "version_minor": 0
      },
      "text/plain": [
       "p=0, m=1:   0%|          | 0/17 [00:00<?, ?it/s]"
      ]
     },
     "metadata": {},
     "output_type": "display_data"
    },
    {
     "data": {
      "application/vnd.jupyter.widget-view+json": {
       "model_id": "b4a3ba22e34745bebb6342ab0831beeb",
       "version_major": 2,
       "version_minor": 0
      },
      "text/plain": [
       "p=0, m=2:   0%|          | 0/17 [00:00<?, ?it/s]"
      ]
     },
     "metadata": {},
     "output_type": "display_data"
    },
    {
     "data": {
      "application/vnd.jupyter.widget-view+json": {
       "model_id": "0f728cf4356548c7ab76822b60d5a973",
       "version_major": 2,
       "version_minor": 0
      },
      "text/plain": [
       "p=0, m=3:   0%|          | 0/17 [00:00<?, ?it/s]"
      ]
     },
     "metadata": {},
     "output_type": "display_data"
    },
    {
     "data": {
      "application/vnd.jupyter.widget-view+json": {
       "model_id": "342c6dfd211b4fc38233b3d1ee12da55",
       "version_major": 2,
       "version_minor": 0
      },
      "text/plain": [
       "p=0, m=4:   0%|          | 0/17 [00:00<?, ?it/s]"
      ]
     },
     "metadata": {},
     "output_type": "display_data"
    },
    {
     "data": {
      "application/vnd.jupyter.widget-view+json": {
       "model_id": "fc2bfb3098fc49b7ac7677aac1dc621a",
       "version_major": 2,
       "version_minor": 0
      },
      "text/plain": [
       "p=0, m=5:   0%|          | 0/17 [00:00<?, ?it/s]"
      ]
     },
     "metadata": {},
     "output_type": "display_data"
    },
    {
     "data": {
      "application/vnd.jupyter.widget-view+json": {
       "model_id": "76ab57fde45043bca193e40c7aa18449",
       "version_major": 2,
       "version_minor": 0
      },
      "text/plain": [
       "p=0, m=6:   0%|          | 0/17 [00:00<?, ?it/s]"
      ]
     },
     "metadata": {},
     "output_type": "display_data"
    },
    {
     "data": {
      "application/vnd.jupyter.widget-view+json": {
       "model_id": "dfa0a2acc8234bf7ba5f665f8eca0e2f",
       "version_major": 2,
       "version_minor": 0
      },
      "text/plain": [
       "p=0, m=7:   0%|          | 0/17 [00:00<?, ?it/s]"
      ]
     },
     "metadata": {},
     "output_type": "display_data"
    },
    {
     "data": {
      "application/vnd.jupyter.widget-view+json": {
       "model_id": "ab3309a6aee14f5dad881fb04bff14c7",
       "version_major": 2,
       "version_minor": 0
      },
      "text/plain": [
       "p=0, m=8:   0%|          | 0/17 [00:00<?, ?it/s]"
      ]
     },
     "metadata": {},
     "output_type": "display_data"
    },
    {
     "data": {
      "application/vnd.jupyter.widget-view+json": {
       "model_id": "67150a8c947847139017d91922478bce",
       "version_major": 2,
       "version_minor": 0
      },
      "text/plain": [
       "p=0, m=9:   0%|          | 0/17 [00:00<?, ?it/s]"
      ]
     },
     "metadata": {},
     "output_type": "display_data"
    },
    {
     "data": {
      "application/vnd.jupyter.widget-view+json": {
       "model_id": "890a245c30eb455d8bdf22753171f2d7",
       "version_major": 2,
       "version_minor": 0
      },
      "text/plain": [
       "p=0, m=10:   0%|          | 0/17 [00:00<?, ?it/s]"
      ]
     },
     "metadata": {},
     "output_type": "display_data"
    },
    {
     "data": {
      "application/vnd.jupyter.widget-view+json": {
       "model_id": "4f62a5c6d4b04de4a9341b9405972b69",
       "version_major": 2,
       "version_minor": 0
      },
      "text/plain": [
       "p=0, m=11:   0%|          | 0/17 [00:00<?, ?it/s]"
      ]
     },
     "metadata": {},
     "output_type": "display_data"
    },
    {
     "data": {
      "application/vnd.jupyter.widget-view+json": {
       "model_id": "c311b9f187fb4f1abc07d36dc0395145",
       "version_major": 2,
       "version_minor": 0
      },
      "text/plain": [
       "p=0, m=12:   0%|          | 0/17 [00:00<?, ?it/s]"
      ]
     },
     "metadata": {},
     "output_type": "display_data"
    },
    {
     "data": {
      "application/vnd.jupyter.widget-view+json": {
       "model_id": "76f0ab2d95b540e2b9c3b44ab68eaecc",
       "version_major": 2,
       "version_minor": 0
      },
      "text/plain": [
       "p=0, m=13:   0%|          | 0/17 [00:00<?, ?it/s]"
      ]
     },
     "metadata": {},
     "output_type": "display_data"
    },
    {
     "data": {
      "application/vnd.jupyter.widget-view+json": {
       "model_id": "d7d8a6eb675a4a11ad2eee51588727c8",
       "version_major": 2,
       "version_minor": 0
      },
      "text/plain": [
       "p=0, m=14:   0%|          | 0/17 [00:00<?, ?it/s]"
      ]
     },
     "metadata": {},
     "output_type": "display_data"
    },
    {
     "data": {
      "application/vnd.jupyter.widget-view+json": {
       "model_id": "db0a74fb3c9048e692723515396cfd0d",
       "version_major": 2,
       "version_minor": 0
      },
      "text/plain": [
       "p=0, m=15:   0%|          | 0/17 [00:00<?, ?it/s]"
      ]
     },
     "metadata": {},
     "output_type": "display_data"
    },
    {
     "data": {
      "application/vnd.jupyter.widget-view+json": {
       "model_id": "1e86183dbba9415dbdb49effb68f36ea",
       "version_major": 2,
       "version_minor": 0
      },
      "text/plain": [
       "p=0, m=16:   0%|          | 0/17 [00:00<?, ?it/s]"
      ]
     },
     "metadata": {},
     "output_type": "display_data"
    },
    {
     "data": {
      "application/vnd.jupyter.widget-view+json": {
       "model_id": "2de244b2825b495f82016ab46fce7661",
       "version_major": 2,
       "version_minor": 0
      },
      "text/plain": [
       "p=0, m=17:   0%|          | 0/17 [00:00<?, ?it/s]"
      ]
     },
     "metadata": {},
     "output_type": "display_data"
    },
    {
     "data": {
      "application/vnd.jupyter.widget-view+json": {
       "model_id": "098888ff717d4bc9b503bbe65a63dd51",
       "version_major": 2,
       "version_minor": 0
      },
      "text/plain": [
       "p=0, m=18:   0%|          | 0/17 [00:00<?, ?it/s]"
      ]
     },
     "metadata": {},
     "output_type": "display_data"
    },
    {
     "data": {
      "application/vnd.jupyter.widget-view+json": {
       "model_id": "603e741637704b71981f30f447b74305",
       "version_major": 2,
       "version_minor": 0
      },
      "text/plain": [
       "p=0, m=19:   0%|          | 0/17 [00:00<?, ?it/s]"
      ]
     },
     "metadata": {},
     "output_type": "display_data"
    },
    {
     "data": {
      "application/vnd.jupyter.widget-view+json": {
       "model_id": "22787d89012c4e9383849d16c7e343eb",
       "version_major": 2,
       "version_minor": 0
      },
      "text/plain": [
       "p=0, m=20:   0%|          | 0/17 [00:00<?, ?it/s]"
      ]
     },
     "metadata": {},
     "output_type": "display_data"
    },
    {
     "data": {
      "application/vnd.jupyter.widget-view+json": {
       "model_id": "48cae5ff8f2141198d992e0f1dc41de5",
       "version_major": 2,
       "version_minor": 0
      },
      "text/plain": [
       "p=0, m=21:   0%|          | 0/17 [00:00<?, ?it/s]"
      ]
     },
     "metadata": {},
     "output_type": "display_data"
    },
    {
     "data": {
      "application/vnd.jupyter.widget-view+json": {
       "model_id": "06ee3ce6fe2c4fabbf17cfeed518f26b",
       "version_major": 2,
       "version_minor": 0
      },
      "text/plain": [
       "p=0, m=22:   0%|          | 0/17 [00:00<?, ?it/s]"
      ]
     },
     "metadata": {},
     "output_type": "display_data"
    },
    {
     "data": {
      "application/vnd.jupyter.widget-view+json": {
       "model_id": "1364086d3b9341aca79e5219115581bd",
       "version_major": 2,
       "version_minor": 0
      },
      "text/plain": [
       "p=0, m=23:   0%|          | 0/17 [00:00<?, ?it/s]"
      ]
     },
     "metadata": {},
     "output_type": "display_data"
    },
    {
     "data": {
      "application/vnd.jupyter.widget-view+json": {
       "model_id": "ee3081fad88e4d72b19bf0d8099725fe",
       "version_major": 2,
       "version_minor": 0
      },
      "text/plain": [
       "p=0, m=24:   0%|          | 0/17 [00:00<?, ?it/s]"
      ]
     },
     "metadata": {},
     "output_type": "display_data"
    },
    {
     "data": {
      "application/vnd.jupyter.widget-view+json": {
       "model_id": "40a03951d0654b14829d83e28249ff78",
       "version_major": 2,
       "version_minor": 0
      },
      "text/plain": [
       "p=0, m=25:   0%|          | 0/17 [00:00<?, ?it/s]"
      ]
     },
     "metadata": {},
     "output_type": "display_data"
    },
    {
     "data": {
      "application/vnd.jupyter.widget-view+json": {
       "model_id": "8f18b4eefa53487ebd88661ea114c77a",
       "version_major": 2,
       "version_minor": 0
      },
      "text/plain": [
       "p=0, m=26:   0%|          | 0/17 [00:00<?, ?it/s]"
      ]
     },
     "metadata": {},
     "output_type": "display_data"
    },
    {
     "data": {
      "application/vnd.jupyter.widget-view+json": {
       "model_id": "9ac5ce4756474ed1a434cd99d4406f78",
       "version_major": 2,
       "version_minor": 0
      },
      "text/plain": [
       "p=0, m=27:   0%|          | 0/17 [00:00<?, ?it/s]"
      ]
     },
     "metadata": {},
     "output_type": "display_data"
    },
    {
     "data": {
      "application/vnd.jupyter.widget-view+json": {
       "model_id": "ba414f0a0a834c6bab79a9c2f9c49c2e",
       "version_major": 2,
       "version_minor": 0
      },
      "text/plain": [
       "p=0, m=28:   0%|          | 0/17 [00:00<?, ?it/s]"
      ]
     },
     "metadata": {},
     "output_type": "display_data"
    },
    {
     "data": {
      "application/vnd.jupyter.widget-view+json": {
       "model_id": "7be23ea2164442369f44af1c25be148c",
       "version_major": 2,
       "version_minor": 0
      },
      "text/plain": [
       "p=0, m=29:   0%|          | 0/17 [00:00<?, ?it/s]"
      ]
     },
     "metadata": {},
     "output_type": "display_data"
    },
    {
     "data": {
      "application/vnd.jupyter.widget-view+json": {
       "model_id": "d2a2019a19ee4c94b1a92815dc5a3710",
       "version_major": 2,
       "version_minor": 0
      },
      "text/plain": [
       "p=0, m=30:   0%|          | 0/17 [00:00<?, ?it/s]"
      ]
     },
     "metadata": {},
     "output_type": "display_data"
    }
   ],
   "source": [
    "from itertools import product\n",
    "from exmel.wisp import weighted_interval_scheduling\n",
    "from exmel.alignment import Alignment, concat_matches\n",
    "import numpy as np\n",
    "\n",
    "\n",
    "pen_min_tuple = list(product([0], range(31)))\n",
    "\n",
    "f1_list: list[float] = []\n",
    "precision_list: list[float] = []\n",
    "recall_list: list[float] = []\n",
    "\n",
    "for p, m in pen_min_tuple:\n",
    "    f1_score = 0\n",
    "    precision = 0\n",
    "    recall = 0\n",
    "    for song in tqdm(dataset, desc=f\"{p=}, {m=}\"):\n",
    "        scores = np.array(name_to_scores[song.name]) - p\n",
    "        candidates = song_name_to_candidates[song.name]\n",
    "        updated_candidates: list[FrozenMatch] = []\n",
    "        for candidate, score in zip(candidates, scores):\n",
    "            if score >= m:\n",
    "                updated_candidates.append(candidate.update_score(score))\n",
    "        candidates = updated_candidates\n",
    "        opt_score, opt_subset = weighted_interval_scheduling(\n",
    "            candidates, return_subset=True, verbose=False)\n",
    "        discarded_matches = [match for match in candidates if match not in opt_subset]\n",
    "        concat_events = concat_matches(opt_subset)\n",
    "        alignment = Alignment(concat_events, opt_subset, discarded_matches, opt_score,\n",
    "                        sum(match.sum_miss for match in opt_subset),\n",
    "                        sum(match.sum_error for match in opt_subset))\n",
    "        assert song.ground_truth is not None\n",
    "        result = evaluate_melody(song.ground_truth, alignment.events, plot=False)\n",
    "        f1_score += result.f1_score\n",
    "        precision += result.precision\n",
    "        recall += result.recall\n",
    "    f1_score /= len(dataset)\n",
    "    precision /= len(dataset)\n",
    "    recall /= len(dataset)\n",
    "    f1_list.append(f1_score)\n",
    "    precision_list.append(precision)\n",
    "    recall_list.append(recall)"
   ]
  },
  {
   "cell_type": "code",
   "execution_count": 15,
   "id": "7c402044",
   "metadata": {},
   "outputs": [
    {
     "data": {
      "image/png": "[encoded data removed]",
      "text/plain": [
       "<Figure size 640x480 with 1 Axes>"
      ]
     },
     "metadata": {},
     "output_type": "display_data"
    }
   ],
   "source": [
    "from matplotlib import pyplot as plt\n",
    "\n",
    "plt.plot(recall_list, precision_list)\n",
    "plt.xlabel(\"Recall\")\n",
    "plt.ylabel(\"Precision\")\n",
    "plt.title(\"Precision-Recall Curve\")\n",
    "plt.show()"
   ]
  },
  {
   "cell_type": "code",
   "execution_count": 16,
   "id": "36248fae",
   "metadata": {},
   "outputs": [
    {
     "name": "stdout",
     "output_type": "stream",
     "text": [
      "p=0, f1=0.9582755087520316, pre=0.9941980488022901, rec=0.9259363690809265\n",
      "p=1, f1=0.9582755087520316, pre=0.9941980488022901, rec=0.9259363690809265\n",
      "p=2, f1=0.9582755087520316, pre=0.9941980488022901, rec=0.9259363690809265\n",
      "p=3, f1=0.9582755087520316, pre=0.9941980488022901, rec=0.9259363690809265\n",
      "p=4, f1=0.9582755087520316, pre=0.9941980488022901, rec=0.9259363690809265\n",
      "p=5, f1=0.9582687022604259, pre=0.9944225393140584, rec=0.9257203708089126\n",
      "p=6, f1=0.9582687022604259, pre=0.9944225393140584, rec=0.9257203708089126\n",
      "p=7, f1=0.9583106376903028, pre=0.9947279074772103, rec=0.925564799379715\n",
      "p=8, f1=0.9583106376903028, pre=0.9947279074772103, rec=0.925564799379715\n",
      "p=9, f1=0.9586962567332246, pre=0.9962663263336807, rec=0.9250552376596105\n",
      "p=10, f1=0.9585372332462411, pre=0.9960051167857792, rec=0.9249556901420769\n",
      "p=11, f1=0.9556941606727111, pre=0.9955174939099325, rec=0.9203535979903081\n",
      "p=12, f1=0.9517409598345546, pre=0.995029142537066, rec=0.9137747110357843\n",
      "p=13, f1=0.9492245738066222, pre=0.9945015673154776, rec=0.9098394392042133\n",
      "p=14, f1=0.9468694444028747, pre=0.9937031357057655, rec=0.9063210256056005\n",
      "p=15, f1=0.9453760841997865, pre=0.9932825757890323, rec=0.9039533806248081\n",
      "p=16, f1=0.9430818574841848, pre=0.9933524065159905, rec=0.8997636860218479\n",
      "p=17, f1=0.9390334157320277, pre=0.9935911052045455, rec=0.8928213617504646\n",
      "p=18, f1=0.9378409856735516, pre=0.9927485873128613, rec=0.8914272490795835\n",
      "p=19, f1=0.9354066996954894, pre=0.99248633771502, rec=0.8874602749496656\n",
      "p=20, f1=0.931107928696656, pre=0.992129693234926, rec=0.880332226095569\n",
      "p=21, f1=0.9259733534875688, pre=0.9890576214504269, rec=0.8739138725913943\n",
      "p=22, f1=0.9222387591750293, pre=0.9881571348324312, rec=0.8685155917441031\n",
      "p=23, f1=0.9185832034049639, pre=0.9876719387989813, rec=0.863257708457403\n",
      "p=24, f1=0.9165898682254916, pre=0.9881465309512556, rec=0.8600380026379332\n",
      "p=25, f1=0.9141466641825075, pre=0.9875166001131006, rec=0.8563902088185529\n",
      "p=26, f1=0.9067357516525827, pre=0.9879631402856494, rec=0.84418522499667\n",
      "p=27, f1=0.9027167596022617, pre=0.9876157667972056, rec=0.8386219291523718\n",
      "p=28, f1=0.9005912815622052, pre=0.9882476473510093, rec=0.8349202835436434\n",
      "p=29, f1=0.8963908968375625, pre=0.9873392556432824, rec=0.82974214825224\n",
      "p=30, f1=0.8960112655112378, pre=0.9865623078034815, rec=0.8294925516714219\n"
     ]
    }
   ],
   "source": [
    "for p, f1, pre, rec in zip(range(31), f1_list, precision_list, recall_list):\n",
    "    print(f\"{p=}, {f1=}, {pre=}, {rec=}\")"
   ]
  }
 ],
 "metadata": {
  "kernelspec": {
   "display_name": ".venv",
   "language": "python",
   "name": "python3"
  },
  "language_info": {
   "codemirror_mode": {
    "name": "ipython",
    "version": 3
   },
   "file_extension": ".py",
   "mimetype": "text/x-python",
   "name": "python",
   "nbconvert_exporter": "python",
   "pygments_lexer": "ipython3",
   "version": "3.13.5"
  }
 },
 "nbformat": 4,
 "nbformat_minor": 5
}
