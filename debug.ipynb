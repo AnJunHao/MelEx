{
 "cells": [
  {
   "cell_type": "code",
   "execution_count": 1,
   "id": "6abd0248",
   "metadata": {},
   "outputs": [],
   "source": [
    "import melign\n",
    "\n",
    "dataset = melign.Dataset(\"dataset_test\")"
   ]
  },
  {
   "cell_type": "code",
   "execution_count": null,
   "id": "8476d766",
   "metadata": {},
   "outputs": [],
   "source": [
    "song = dataset[\"你不知道的事(王力宏)\"]"
   ]
  },
  {
   "cell_type": "code",
   "execution_count": 9,
   "id": "b852e428",
   "metadata": {},
   "outputs": [
    {
     "data": {
      "application/vnd.jupyter.widget-view+json": {
       "model_id": "c217937a2f9b4941afe6821ca014c81f",
       "version_major": 2,
       "version_minor": 0
      },
      "text/plain": [
       "Processing songs (n_jobs=1):   0%|          | 0/1 [00:00<?, ?it/s]"
      ]
     },
     "metadata": {},
     "output_type": "display_data"
    },
    {
     "data": {
      "text/plain": [
       "(        Sample  Alignment_Precision  Alignment_Recall  Alignment_F1  \\\n",
       " 0  你不知道的事(王力宏)             0.037594           0.04491      0.040928   \n",
       " 1    Aggregate             0.037594           0.04491      0.040928   \n",
       " \n",
       "    Runtime_seconds  \n",
       " 0         2.859788  \n",
       " 1         2.859788  ,\n",
       " {'你不知道的事(王力宏)': Alignment(events=[...(399 events)...], matches=[...(65 matches)...], score=267.56019614968096, sum_miss=7, sum_error=7.217447916666458)})"
      ]
     },
     "execution_count": 9,
     "metadata": {},
     "output_type": "execute_result"
    }
   ],
   "source": [
    "melign.eval_pipeline(\n",
    "    melign.get_melodics_config(hop_length=4),\n",
    "    dataset[\"你不知道的事(王力宏)\", ],\n",
    "    verbose=1,\n",
    "    baseline=False,\n",
    "    save_plot=True,\n",
    "    save_mid=True,\n",
    "    n_jobs=1\n",
    ")"
   ]
  },
  {
   "cell_type": "code",
   "execution_count": 5,
   "id": "f85b0bc1",
   "metadata": {},
   "outputs": [
    {
     "data": {
      "application/vnd.jupyter.widget-view+json": {
       "model_id": "f5f84e96e0cd4a448391161577f4e806",
       "version_major": 2,
       "version_minor": 0
      },
      "text/plain": [
       "Scanning alignments:   0%|          | 0/85 [00:00<?, ?it/s]"
      ]
     },
     "metadata": {},
     "output_type": "display_data"
    },
    {
     "data": {
      "text/plain": [
       "Alignment(events=[...(399 events)...], matches=[...(65 matches)...], score=267.56019614968096, sum_miss=7, sum_error=7.217447916666458)"
      ]
     },
     "execution_count": 5,
     "metadata": {},
     "output_type": "execute_result"
    }
   ],
   "source": [
    "melign.align.align(song.melody, song.performance, melign.get_melodics_config(hop_length=4))"
   ]
  },
  {
   "cell_type": "code",
   "execution_count": 10,
   "id": "8e241e27",
   "metadata": {},
   "outputs": [],
   "source": [
    "song = dataset[\"你不知道的事(王力宏)\"]"
   ]
  },
  {
   "cell_type": "code",
   "execution_count": 12,
   "id": "4fb8b36a",
   "metadata": {},
   "outputs": [
    {
     "data": {
      "text/plain": [
       "(1, 311)"
      ]
     },
     "execution_count": 12,
     "metadata": {},
     "output_type": "execute_result"
    }
   ],
   "source": [
    "none_counter = 0\n",
    "too_far_counter = 0\n",
    "\n",
    "assert song.ground_truth is not None\n",
    "for e in song.ground_truth:\n",
    "    nearest = song.performance @ e\n",
    "    if nearest is None:\n",
    "        none_counter += 1\n",
    "    elif abs(nearest.time - e.time) > 0.1:\n",
    "        too_far_counter += 1\n",
    "\n",
    "none_counter, too_far_counter"
   ]
  }
 ],
 "metadata": {
  "kernelspec": {
   "display_name": ".venv",
   "language": "python",
   "name": "python3"
  },
  "language_info": {
   "codemirror_mode": {
    "name": "ipython",
    "version": 3
   },
   "file_extension": ".py",
   "mimetype": "text/x-python",
   "name": "python",
   "nbconvert_exporter": "python",
   "pygments_lexer": "ipython3",
   "version": "3.13.5"
  }
 },
 "nbformat": 4,
 "nbformat_minor": 5
}
