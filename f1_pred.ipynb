{
 "cells": [
  {
   "cell_type": "code",
   "execution_count": 123,
   "id": "3e0f4c38",
   "metadata": {},
   "outputs": [],
   "source": [
    "import pandas as pd\n",
    "import numpy as np\n",
    "from sklearn.linear_model import LinearRegression\n",
    "from matplotlib import pyplot as plt\n",
    "\n",
    "df = pd.read_csv(\"f1_prediction.csv\")"
   ]
  },
  {
   "cell_type": "code",
   "execution_count": 124,
   "id": "f15b9945",
   "metadata": {},
   "outputs": [
    {
     "data": {
      "text/html": [
       "<div>\n",
       "<style scoped>\n",
       "    .dataframe tbody tr th:only-of-type {\n",
       "        vertical-align: middle;\n",
       "    }\n",
       "\n",
       "    .dataframe tbody tr th {\n",
       "        vertical-align: top;\n",
       "    }\n",
       "\n",
       "    .dataframe thead th {\n",
       "        text-align: right;\n",
       "    }\n",
       "</style>\n",
       "<table border=\"1\" class=\"dataframe\">\n",
       "  <thead>\n",
       "    <tr style=\"text-align: right;\">\n",
       "      <th></th>\n",
       "      <th>f1</th>\n",
       "      <th>precision</th>\n",
       "      <th>recall</th>\n",
       "      <th>between</th>\n",
       "      <th>above_between</th>\n",
       "      <th>miss</th>\n",
       "      <th>error</th>\n",
       "      <th>shadow</th>\n",
       "    </tr>\n",
       "  </thead>\n",
       "  <tbody>\n",
       "    <tr>\n",
       "      <th>0</th>\n",
       "      <td>0.821468</td>\n",
       "      <td>0.930521</td>\n",
       "      <td>0.735294</td>\n",
       "      <td>0.044665</td>\n",
       "      <td>0.007444</td>\n",
       "      <td>0.027295</td>\n",
       "      <td>0.031628</td>\n",
       "      <td>0.037221</td>\n",
       "    </tr>\n",
       "    <tr>\n",
       "      <th>1</th>\n",
       "      <td>0.912568</td>\n",
       "      <td>0.951567</td>\n",
       "      <td>0.876640</td>\n",
       "      <td>0.071225</td>\n",
       "      <td>0.017094</td>\n",
       "      <td>0.022792</td>\n",
       "      <td>0.033508</td>\n",
       "      <td>0.000000</td>\n",
       "    </tr>\n",
       "    <tr>\n",
       "      <th>2</th>\n",
       "      <td>0.972292</td>\n",
       "      <td>0.987212</td>\n",
       "      <td>0.957816</td>\n",
       "      <td>0.035806</td>\n",
       "      <td>0.000000</td>\n",
       "      <td>0.035806</td>\n",
       "      <td>0.017466</td>\n",
       "      <td>0.000000</td>\n",
       "    </tr>\n",
       "    <tr>\n",
       "      <th>3</th>\n",
       "      <td>0.953291</td>\n",
       "      <td>0.971861</td>\n",
       "      <td>0.935417</td>\n",
       "      <td>0.036797</td>\n",
       "      <td>0.008658</td>\n",
       "      <td>0.021645</td>\n",
       "      <td>0.010956</td>\n",
       "      <td>0.000000</td>\n",
       "    </tr>\n",
       "    <tr>\n",
       "      <th>4</th>\n",
       "      <td>0.915825</td>\n",
       "      <td>0.868085</td>\n",
       "      <td>0.969121</td>\n",
       "      <td>0.034043</td>\n",
       "      <td>0.004255</td>\n",
       "      <td>0.023404</td>\n",
       "      <td>0.023481</td>\n",
       "      <td>0.004255</td>\n",
       "    </tr>\n",
       "    <tr>\n",
       "      <th>...</th>\n",
       "      <td>...</td>\n",
       "      <td>...</td>\n",
       "      <td>...</td>\n",
       "      <td>...</td>\n",
       "      <td>...</td>\n",
       "      <td>...</td>\n",
       "      <td>...</td>\n",
       "      <td>...</td>\n",
       "    </tr>\n",
       "    <tr>\n",
       "      <th>181</th>\n",
       "      <td>0.979221</td>\n",
       "      <td>0.976684</td>\n",
       "      <td>0.981771</td>\n",
       "      <td>0.020725</td>\n",
       "      <td>0.002591</td>\n",
       "      <td>0.018135</td>\n",
       "      <td>0.012194</td>\n",
       "      <td>0.002591</td>\n",
       "    </tr>\n",
       "    <tr>\n",
       "      <th>182</th>\n",
       "      <td>0.982347</td>\n",
       "      <td>0.969262</td>\n",
       "      <td>0.995789</td>\n",
       "      <td>0.016393</td>\n",
       "      <td>0.002049</td>\n",
       "      <td>0.004098</td>\n",
       "      <td>0.009384</td>\n",
       "      <td>0.008197</td>\n",
       "    </tr>\n",
       "    <tr>\n",
       "      <th>183</th>\n",
       "      <td>0.949254</td>\n",
       "      <td>0.979466</td>\n",
       "      <td>0.920849</td>\n",
       "      <td>0.022587</td>\n",
       "      <td>0.012320</td>\n",
       "      <td>0.012320</td>\n",
       "      <td>0.029063</td>\n",
       "      <td>0.010267</td>\n",
       "    </tr>\n",
       "    <tr>\n",
       "      <th>184</th>\n",
       "      <td>0.969072</td>\n",
       "      <td>0.990632</td>\n",
       "      <td>0.948430</td>\n",
       "      <td>0.032787</td>\n",
       "      <td>0.004684</td>\n",
       "      <td>0.023419</td>\n",
       "      <td>0.015770</td>\n",
       "      <td>0.023419</td>\n",
       "    </tr>\n",
       "    <tr>\n",
       "      <th>185</th>\n",
       "      <td>0.972519</td>\n",
       "      <td>0.984544</td>\n",
       "      <td>0.960784</td>\n",
       "      <td>0.035549</td>\n",
       "      <td>0.000000</td>\n",
       "      <td>0.026275</td>\n",
       "      <td>0.007461</td>\n",
       "      <td>0.000000</td>\n",
       "    </tr>\n",
       "  </tbody>\n",
       "</table>\n",
       "<p>186 rows × 8 columns</p>\n",
       "</div>"
      ],
      "text/plain": [
       "           f1  precision    recall   between  above_between      miss  \\\n",
       "0    0.821468   0.930521  0.735294  0.044665       0.007444  0.027295   \n",
       "1    0.912568   0.951567  0.876640  0.071225       0.017094  0.022792   \n",
       "2    0.972292   0.987212  0.957816  0.035806       0.000000  0.035806   \n",
       "3    0.953291   0.971861  0.935417  0.036797       0.008658  0.021645   \n",
       "4    0.915825   0.868085  0.969121  0.034043       0.004255  0.023404   \n",
       "..        ...        ...       ...       ...            ...       ...   \n",
       "181  0.979221   0.976684  0.981771  0.020725       0.002591  0.018135   \n",
       "182  0.982347   0.969262  0.995789  0.016393       0.002049  0.004098   \n",
       "183  0.949254   0.979466  0.920849  0.022587       0.012320  0.012320   \n",
       "184  0.969072   0.990632  0.948430  0.032787       0.004684  0.023419   \n",
       "185  0.972519   0.984544  0.960784  0.035549       0.000000  0.026275   \n",
       "\n",
       "        error    shadow  \n",
       "0    0.031628  0.037221  \n",
       "1    0.033508  0.000000  \n",
       "2    0.017466  0.000000  \n",
       "3    0.010956  0.000000  \n",
       "4    0.023481  0.004255  \n",
       "..        ...       ...  \n",
       "181  0.012194  0.002591  \n",
       "182  0.009384  0.008197  \n",
       "183  0.029063  0.010267  \n",
       "184  0.015770  0.023419  \n",
       "185  0.007461  0.000000  \n",
       "\n",
       "[186 rows x 8 columns]"
      ]
     },
     "execution_count": 124,
     "metadata": {},
     "output_type": "execute_result"
    }
   ],
   "source": [
    "df"
   ]
  },
  {
   "cell_type": "code",
   "execution_count": 118,
   "id": "7803428d",
   "metadata": {},
   "outputs": [
    {
     "name": "stdout",
     "output_type": "stream",
     "text": [
      "MAE: 0.0224, MSE: 0.0010\n",
      "between: -0.6607903283221324\n",
      "miss: -0.5518402627709131\n",
      "error: -0.32216793174475333\n",
      "shadow: -0.74385038669203\n",
      "intercept: 0.9950128655273125\n"
     ]
    }
   ],
   "source": [
    "# y = np.log10(1 - df[\"f1\"] + 1e-2)\n",
    "y = df[\"f1\"] \n",
    "X = df[[\"between\", \"miss\", \"error\", \"shadow\"]]\n",
    "\n",
    "model = LinearRegression()\n",
    "model.fit(X, y)\n",
    "\n",
    "y_pred = model.predict(X)\n",
    "mae = np.mean(np.abs(y - y_pred))\n",
    "mse = np.mean((y - y_pred) ** 2)\n",
    "\n",
    "print(f\"MAE: {mae:.4f}, MSE: {mse:.4f}\")\n",
    "\n",
    "for feature, coef in zip(X.columns, model.coef_):\n",
    "    print(f\"{feature}: {coef}\")\n",
    "print(\"intercept:\", model.intercept_)"
   ]
  },
  {
   "cell_type": "code",
   "execution_count": 122,
   "id": "e410bb1a",
   "metadata": {},
   "outputs": [
    {
     "data": {
      "image/png": "[encoded data removed]",
      "text/plain": [
       "<Figure size 640x480 with 1 Axes>"
      ]
     },
     "metadata": {},
     "output_type": "display_data"
    }
   ],
   "source": [
    "plt.scatter(y, y_pred, alpha=0.5)\n",
    "plt.xlabel(\"True F1\")\n",
    "plt.ylabel(\"Predicted F1\")\n",
    "plt.title(\"True vs Predicted F1\")\n",
    "plt.plot(np.arange(0.8, 1, 0.01), np.arange(0.8, 1, 0.01))\n",
    "plt.show()"
   ]
  },
  {
   "cell_type": "code",
   "execution_count": null,
   "id": "3da5ea85",
   "metadata": {},
   "outputs": [
    {
     "data": {
      "text/plain": [
       "(np.float64(0.9840848806366048),\n",
       " np.float64(0.9826302729528535),\n",
       " np.float64(0.9911242603550297),\n",
       " 0.1989247311827957)"
      ]
     },
     "execution_count": 137,
     "metadata": {},
     "output_type": "execute_result"
    }
   ],
   "source": [
    "scores = []\n",
    "recalls = []\n",
    "precisions = []\n",
    "for p, gt, r, pr in zip(y_pred, y, df[\"recall\"], df[\"precision\"]):\n",
    "    if p > 0.9688:\n",
    "        scores.append(gt)\n",
    "        recalls.append(r)\n",
    "        precisions.append(pr)\n",
    "\n",
    "np.median(scores), np.median(recalls), np.median(precisions), len(scores) / len(y)"
   ]
  },
  {
   "cell_type": "code",
   "execution_count": 140,
   "id": "83024e15",
   "metadata": {},
   "outputs": [
    {
     "data": {
      "text/plain": [
       "0.1989247311827957"
      ]
     },
     "execution_count": 140,
     "metadata": {},
     "output_type": "execute_result"
    }
   ],
   "source": [
    "37 / 186"
   ]
  }
 ],
 "metadata": {
  "kernelspec": {
   "display_name": ".venv",
   "language": "python",
   "name": "python3"
  },
  "language_info": {
   "codemirror_mode": {
    "name": "ipython",
    "version": 3
   },
   "file_extension": ".py",
   "mimetype": "text/x-python",
   "name": "python",
   "nbconvert_exporter": "python",
   "pygments_lexer": "ipython3",
   "version": "3.13.5"
  }
 },
 "nbformat": 4,
 "nbformat_minor": 5
}
