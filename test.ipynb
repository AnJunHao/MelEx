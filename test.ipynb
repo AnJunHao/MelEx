{
 "cells": [
  {
   "cell_type": "code",
   "execution_count": 1,
   "id": "92e88ee5",
   "metadata": {},
   "outputs": [],
   "source": [
    "import melex"
   ]
  },
  {
   "cell_type": "code",
   "execution_count": 3,
   "id": "7c88deee",
   "metadata": {},
   "outputs": [
    {
     "name": "stdout",
     "output_type": "stream",
     "text": [
      "Length of dataset: 186\n"
     ]
    }
   ],
   "source": [
    "dataset = melex.Dataset(\"dev_data/dataset_test\")\n",
    "assert dataset.is_valid()\n",
    "print(f\"Length of dataset: {len(dataset)}\")"
   ]
  },
  {
   "cell_type": "code",
   "execution_count": null,
   "id": "bc434322",
   "metadata": {},
   "outputs": [
    {
     "name": "stdout",
     "output_type": "stream",
     "text": [
      "No save directory provided, using default: outputs\\20250730_184026\n"
     ]
    },
    {
     "data": {
      "application/vnd.jupyter.widget-view+json": {
       "model_id": "7ef5b048f95d41cfb0d1fcb235ba9a0d",
       "version_major": 2,
       "version_minor": 0
      },
      "text/plain": [
       "Processing songs (n_jobs=12):   0%|          | 0/186 [00:00<?, ?it/s]"
      ]
     },
     "metadata": {},
     "output_type": "display_data"
    },
    {
     "name": "stdout",
     "output_type": "stream",
     "text": [
      "Song <吻得太逼真(张敬轩)> generated an exception: bad allocation\n",
      "Song <星辰大海(黄霄雲)> generated an exception: bad allocation\n",
      "Song <星空(五月天)> generated an exception: \n",
      "Song <有点甜(汪苏泷、BY2)> generated an exception: \n",
      "Song <明天会更好(华语群星)> generated an exception: \n",
      "Song <朋友身份(胡鸿钧)> generated an exception: \n",
      "Song <晴天(周杰伦)> generated an exception: \n",
      "Song <毒药(萧秉治)> generated an exception: \n",
      "Song <有生一天(周柏豪)> generated an exception: \n",
      "Song <最真心一对(何雁诗)> generated an exception: \n"
     ]
    }
   ],
   "source": [
    "melodies, eval_df = melex.inference_pipeline(\n",
    "    dataset,\n",
    "    save_plot=True,\n",
    "    save_midi=True,\n",
    "    save_excel=True)"
   ]
  }
 ],
 "metadata": {
  "kernelspec": {
   "display_name": ".venv",
   "language": "python",
   "name": "python3"
  },
  "language_info": {
   "codemirror_mode": {
    "name": "ipython",
    "version": 3
   },
   "file_extension": ".py",
   "mimetype": "text/x-python",
   "name": "python",
   "nbconvert_exporter": "python",
   "pygments_lexer": "ipython3",
   "version": "3.13.5"
  }
 },
 "nbformat": 4,
 "nbformat_minor": 5
}
