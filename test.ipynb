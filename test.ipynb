{
 "cells": [
  {
   "cell_type": "code",
   "execution_count": 5,
   "id": "92e88ee5",
   "metadata": {},
   "outputs": [],
   "source": [
    "import melex"
   ]
  },
  {
   "cell_type": "code",
   "execution_count": 6,
   "id": "7c88deee",
   "metadata": {},
   "outputs": [
    {
     "name": "stdout",
     "output_type": "stream",
     "text": [
      "Length of dataset: 186\n"
     ]
    }
   ],
   "source": [
    "dataset = melex.Dataset(\"dataset_infer\")\n",
    "assert dataset.is_valid()\n",
    "print(f\"Length of dataset: {len(dataset)}\")"
   ]
  },
  {
   "cell_type": "code",
   "execution_count": 7,
   "id": "bc434322",
   "metadata": {},
   "outputs": [
    {
     "name": "stdout",
     "output_type": "stream",
     "text": [
      "No save directory provided, using default: outputs\\20250801_101351\n"
     ]
    },
    {
     "data": {
      "application/vnd.jupyter.widget-view+json": {
       "model_id": "ceeb8b9ecbb048948ae6868e59430573",
       "version_major": 2,
       "version_minor": 0
      },
      "text/plain": [
       "Processing songs (n_jobs=12):   0%|          | 0/186 [00:00<?, ?it/s]"
      ]
     },
     "metadata": {},
     "output_type": "display_data"
    },
    {
     "name": "stderr",
     "output_type": "stream",
     "text": [
      "d:\\code\\exmel\\melex\\api\\dataset.py:160: UserWarning: Audio file not found for 0laJb15Tfso, skipping performance truncation\n",
      "  warnings.warn(f\"Audio file not found for {song_name}, skipping performance truncation\")\n"
     ]
    }
   ],
   "source": [
    "melodies, eval_df = melex.inference_pipeline(\n",
    "    dataset,\n",
    "    save_plot=True,\n",
    "    save_midi=True,\n",
    "    save_excel=True)"
   ]
  },
  {
   "cell_type": "code",
   "execution_count": 8,
   "id": "34dc45a7",
   "metadata": {},
   "outputs": [
    {
     "data": {
      "text/html": [
       "<div>\n",
       "<style scoped>\n",
       "    .dataframe tbody tr th:only-of-type {\n",
       "        vertical-align: middle;\n",
       "    }\n",
       "\n",
       "    .dataframe tbody tr th {\n",
       "        vertical-align: top;\n",
       "    }\n",
       "\n",
       "    .dataframe thead th {\n",
       "        text-align: right;\n",
       "    }\n",
       "</style>\n",
       "<table border=\"1\" class=\"dataframe\">\n",
       "  <thead>\n",
       "    <tr style=\"text-align: right;\">\n",
       "      <th></th>\n",
       "      <th>name</th>\n",
       "      <th>pred_f1</th>\n",
       "      <th>pred_precision</th>\n",
       "      <th>pred_recall</th>\n",
       "      <th>above_between</th>\n",
       "      <th>between</th>\n",
       "      <th>error</th>\n",
       "      <th>miss</th>\n",
       "      <th>shadow</th>\n",
       "    </tr>\n",
       "  </thead>\n",
       "  <tbody>\n",
       "    <tr>\n",
       "      <th>0</th>\n",
       "      <td>0laJb15Tfso</td>\n",
       "      <td>0.985840</td>\n",
       "      <td>0.980523</td>\n",
       "      <td>0.980995</td>\n",
       "      <td>0.017032</td>\n",
       "      <td>0.019465</td>\n",
       "      <td>0.014313</td>\n",
       "      <td>0.002433</td>\n",
       "      <td>0.000000</td>\n",
       "    </tr>\n",
       "    <tr>\n",
       "      <th>1</th>\n",
       "      <td>0pS2AA3G2vc</td>\n",
       "      <td>0.981419</td>\n",
       "      <td>0.983288</td>\n",
       "      <td>0.976107</td>\n",
       "      <td>0.004666</td>\n",
       "      <td>0.009331</td>\n",
       "      <td>0.014278</td>\n",
       "      <td>0.003110</td>\n",
       "      <td>0.012442</td>\n",
       "    </tr>\n",
       "    <tr>\n",
       "      <th>2</th>\n",
       "      <td>0URfXVp2O4c</td>\n",
       "      <td>0.979693</td>\n",
       "      <td>0.989695</td>\n",
       "      <td>0.972763</td>\n",
       "      <td>0.001764</td>\n",
       "      <td>0.022928</td>\n",
       "      <td>0.018666</td>\n",
       "      <td>0.003527</td>\n",
       "      <td>0.001764</td>\n",
       "    </tr>\n",
       "    <tr>\n",
       "      <th>3</th>\n",
       "      <td>0yUZxZyI72c</td>\n",
       "      <td>0.975182</td>\n",
       "      <td>0.987267</td>\n",
       "      <td>0.962840</td>\n",
       "      <td>0.003436</td>\n",
       "      <td>0.018328</td>\n",
       "      <td>0.016287</td>\n",
       "      <td>0.017182</td>\n",
       "      <td>0.002291</td>\n",
       "    </tr>\n",
       "    <tr>\n",
       "      <th>4</th>\n",
       "      <td>118ppdFL7Ag</td>\n",
       "      <td>0.932441</td>\n",
       "      <td>0.964636</td>\n",
       "      <td>0.906264</td>\n",
       "      <td>0.025714</td>\n",
       "      <td>0.080000</td>\n",
       "      <td>0.020788</td>\n",
       "      <td>0.022857</td>\n",
       "      <td>0.008571</td>\n",
       "    </tr>\n",
       "    <tr>\n",
       "      <th>...</th>\n",
       "      <td>...</td>\n",
       "      <td>...</td>\n",
       "      <td>...</td>\n",
       "      <td>...</td>\n",
       "      <td>...</td>\n",
       "      <td>...</td>\n",
       "      <td>...</td>\n",
       "      <td>...</td>\n",
       "      <td>...</td>\n",
       "    </tr>\n",
       "    <tr>\n",
       "      <th>181</th>\n",
       "      <td>_l9vXp0wmpQ</td>\n",
       "      <td>0.991689</td>\n",
       "      <td>0.990687</td>\n",
       "      <td>0.988315</td>\n",
       "      <td>0.003135</td>\n",
       "      <td>0.006270</td>\n",
       "      <td>0.015522</td>\n",
       "      <td>0.003135</td>\n",
       "      <td>0.000000</td>\n",
       "    </tr>\n",
       "    <tr>\n",
       "      <th>182</th>\n",
       "      <td>_m96gJBzYd4</td>\n",
       "      <td>0.945295</td>\n",
       "      <td>0.974210</td>\n",
       "      <td>0.920960</td>\n",
       "      <td>0.003503</td>\n",
       "      <td>0.028021</td>\n",
       "      <td>0.016622</td>\n",
       "      <td>0.033275</td>\n",
       "      <td>0.022767</td>\n",
       "    </tr>\n",
       "    <tr>\n",
       "      <th>183</th>\n",
       "      <td>_w6UIPW7lag</td>\n",
       "      <td>0.956391</td>\n",
       "      <td>0.955926</td>\n",
       "      <td>0.946705</td>\n",
       "      <td>0.012868</td>\n",
       "      <td>0.000000</td>\n",
       "      <td>0.024218</td>\n",
       "      <td>0.001838</td>\n",
       "      <td>0.045956</td>\n",
       "    </tr>\n",
       "    <tr>\n",
       "      <th>184</th>\n",
       "      <td>_wX069g2YKw</td>\n",
       "      <td>0.968371</td>\n",
       "      <td>0.977750</td>\n",
       "      <td>0.955505</td>\n",
       "      <td>0.006993</td>\n",
       "      <td>0.013986</td>\n",
       "      <td>0.014508</td>\n",
       "      <td>0.016317</td>\n",
       "      <td>0.016317</td>\n",
       "    </tr>\n",
       "    <tr>\n",
       "      <th>185</th>\n",
       "      <td>__OyyHk7lLI</td>\n",
       "      <td>0.985422</td>\n",
       "      <td>0.992042</td>\n",
       "      <td>0.980094</td>\n",
       "      <td>0.000000</td>\n",
       "      <td>0.014851</td>\n",
       "      <td>0.018591</td>\n",
       "      <td>0.003300</td>\n",
       "      <td>0.000000</td>\n",
       "    </tr>\n",
       "  </tbody>\n",
       "</table>\n",
       "<p>186 rows × 9 columns</p>\n",
       "</div>"
      ],
      "text/plain": [
       "            name   pred_f1  pred_precision  pred_recall  above_between  \\\n",
       "0    0laJb15Tfso  0.985840        0.980523     0.980995       0.017032   \n",
       "1    0pS2AA3G2vc  0.981419        0.983288     0.976107       0.004666   \n",
       "2    0URfXVp2O4c  0.979693        0.989695     0.972763       0.001764   \n",
       "3    0yUZxZyI72c  0.975182        0.987267     0.962840       0.003436   \n",
       "4    118ppdFL7Ag  0.932441        0.964636     0.906264       0.025714   \n",
       "..           ...       ...             ...          ...            ...   \n",
       "181  _l9vXp0wmpQ  0.991689        0.990687     0.988315       0.003135   \n",
       "182  _m96gJBzYd4  0.945295        0.974210     0.920960       0.003503   \n",
       "183  _w6UIPW7lag  0.956391        0.955926     0.946705       0.012868   \n",
       "184  _wX069g2YKw  0.968371        0.977750     0.955505       0.006993   \n",
       "185  __OyyHk7lLI  0.985422        0.992042     0.980094       0.000000   \n",
       "\n",
       "      between     error      miss    shadow  \n",
       "0    0.019465  0.014313  0.002433  0.000000  \n",
       "1    0.009331  0.014278  0.003110  0.012442  \n",
       "2    0.022928  0.018666  0.003527  0.001764  \n",
       "3    0.018328  0.016287  0.017182  0.002291  \n",
       "4    0.080000  0.020788  0.022857  0.008571  \n",
       "..        ...       ...       ...       ...  \n",
       "181  0.006270  0.015522  0.003135  0.000000  \n",
       "182  0.028021  0.016622  0.033275  0.022767  \n",
       "183  0.000000  0.024218  0.001838  0.045956  \n",
       "184  0.013986  0.014508  0.016317  0.016317  \n",
       "185  0.014851  0.018591  0.003300  0.000000  \n",
       "\n",
       "[186 rows x 9 columns]"
      ]
     },
     "execution_count": 8,
     "metadata": {},
     "output_type": "execute_result"
    }
   ],
   "source": [
    "eval_df"
   ]
  }
 ],
 "metadata": {
  "kernelspec": {
   "display_name": ".venv",
   "language": "python",
   "name": "python3"
  },
  "language_info": {
   "codemirror_mode": {
    "name": "ipython",
    "version": 3
   },
   "file_extension": ".py",
   "mimetype": "text/x-python",
   "name": "python",
   "nbconvert_exporter": "python",
   "pygments_lexer": "ipython3",
   "version": "3.13.5"
  }
 },
 "nbformat": 4,
 "nbformat_minor": 5
}
