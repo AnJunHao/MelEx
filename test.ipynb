{
 "cells": [
  {
   "cell_type": "code",
   "execution_count": 1,
   "id": "92e88ee5",
   "metadata": {},
   "outputs": [],
   "source": [
    "import melign"
   ]
  },
  {
   "cell_type": "code",
   "execution_count": 2,
   "id": "7c88deee",
   "metadata": {},
   "outputs": [
    {
     "name": "stdout",
     "output_type": "stream",
     "text": [
      "Length of dataset: 186\n"
     ]
    }
   ],
   "source": [
    "dataset = melign.Dataset(\"dataset_test\")\n",
    "assert dataset.is_full()\n",
    "print(f\"Length of dataset: {len(dataset)}\")"
   ]
  },
  {
   "cell_type": "code",
   "execution_count": 4,
   "id": "c03d88c3",
   "metadata": {},
   "outputs": [
    {
     "data": {
      "application/vnd.jupyter.widget-view+json": {
       "model_id": "7780be6ba9484af7ad709cb4f878e904",
       "version_major": 2,
       "version_minor": 0
      },
      "text/plain": [
       "Processing songs (n_jobs=12):   0%|          | 0/186 [00:00<?, ?it/s]"
      ]
     },
     "metadata": {},
     "output_type": "display_data"
    }
   ],
   "source": [
    "result_df, alignments = melign.eval_pipeline(\n",
    "    melign.get_melodics_config(hop_length=1),\n",
    "    dataset,\n",
    "    verbose=1,\n",
    "    baseline=False,\n",
    "    save_plot=True,\n",
    "    save_mid=True,\n",
    "    n_jobs=12)"
   ]
  },
  {
   "cell_type": "code",
   "execution_count": 4,
   "id": "5336d571",
   "metadata": {},
   "outputs": [
    {
     "data": {
      "text/html": [
       "<div>\n",
       "<style scoped>\n",
       "    .dataframe tbody tr th:only-of-type {\n",
       "        vertical-align: middle;\n",
       "    }\n",
       "\n",
       "    .dataframe tbody tr th {\n",
       "        vertical-align: top;\n",
       "    }\n",
       "\n",
       "    .dataframe thead th {\n",
       "        text-align: right;\n",
       "    }\n",
       "</style>\n",
       "<table border=\"1\" class=\"dataframe\">\n",
       "  <thead>\n",
       "    <tr style=\"text-align: right;\">\n",
       "      <th></th>\n",
       "      <th>Sample</th>\n",
       "      <th>Alignment_Precision</th>\n",
       "      <th>Alignment_Recall</th>\n",
       "      <th>Alignment_F1</th>\n",
       "      <th>Runtime_seconds</th>\n",
       "    </tr>\n",
       "  </thead>\n",
       "  <tbody>\n",
       "    <tr>\n",
       "      <th>0</th>\n",
       "      <td>Letting Go(蔡健雅)</td>\n",
       "      <td>0.948925</td>\n",
       "      <td>0.710262</td>\n",
       "      <td>0.812428</td>\n",
       "      <td>3.639424</td>\n",
       "    </tr>\n",
       "    <tr>\n",
       "      <th>1</th>\n",
       "      <td>Mean</td>\n",
       "      <td>0.948925</td>\n",
       "      <td>0.710262</td>\n",
       "      <td>0.812428</td>\n",
       "      <td>3.639424</td>\n",
       "    </tr>\n",
       "    <tr>\n",
       "      <th>2</th>\n",
       "      <td>Median</td>\n",
       "      <td>0.948925</td>\n",
       "      <td>0.710262</td>\n",
       "      <td>0.812428</td>\n",
       "      <td>3.639424</td>\n",
       "    </tr>\n",
       "  </tbody>\n",
       "</table>\n",
       "</div>"
      ],
      "text/plain": [
       "            Sample  Alignment_Precision  Alignment_Recall  Alignment_F1  \\\n",
       "0  Letting Go(蔡健雅)             0.948925          0.710262      0.812428   \n",
       "1             Mean             0.948925          0.710262      0.812428   \n",
       "2           Median             0.948925          0.710262      0.812428   \n",
       "\n",
       "   Runtime_seconds  \n",
       "0         3.639424  \n",
       "1         3.639424  \n",
       "2         3.639424  "
      ]
     },
     "execution_count": 4,
     "metadata": {},
     "output_type": "execute_result"
    }
   ],
   "source": [
    "result_df"
   ]
  },
  {
   "cell_type": "code",
   "execution_count": 4,
   "id": "dfaa0cd3",
   "metadata": {},
   "outputs": [
    {
     "data": {
      "text/plain": [
       "0.9125597457706844"
      ]
     },
     "execution_count": 4,
     "metadata": {},
     "output_type": "execute_result"
    }
   ],
   "source": [
    "melign.align.predict_f1(alignments[\"Letting Go(蔡健雅)\"])"
   ]
  },
  {
   "cell_type": "code",
   "execution_count": 5,
   "id": "c79ca0a7",
   "metadata": {},
   "outputs": [],
   "source": [
    "from typing import TypedDict\n",
    "from melign.align.alignment import Alignment\n",
    "\n",
    "class SelfEvalResult(TypedDict):\n",
    "    pred_f1: float\n",
    "    above_between: float\n",
    "    between: float\n",
    "    error: float\n",
    "    miss: float\n",
    "    shadow: float\n",
    "\n",
    "def self_eval(alignment: Alignment) -> SelfEvalResult:\n",
    "    above_between = sum(match.sum_above_between for match in alignment.matches) / len(alignment.events)\n",
    "    between = sum(match.sum_between for match in alignment.matches) / len(alignment.events)\n",
    "    error = sum(match.sum_error for match in alignment.matches) / len(alignment.events)\n",
    "    miss = sum(match.sum_miss for match in alignment.matches) / len(alignment.events)\n",
    "    shadow = sum(match.sum_shadow for match in alignment.matches) / len(alignment.events)\n",
    "    pred = 0.9950128655273125 \\\n",
    "         - 0.6607903283221324 * between \\\n",
    "         - 0.5518402627709131 * miss \\\n",
    "         - 0.32216793174475333 * error \\\n",
    "         - 0.74385038669203 * shadow\n",
    "    return SelfEvalResult(\n",
    "        pred_f1=pred,\n",
    "        above_between=above_between,\n",
    "        between=between,\n",
    "        error=error,\n",
    "        miss=miss,\n",
    "        shadow=shadow\n",
    "    )\n"
   ]
  },
  {
   "cell_type": "code",
   "execution_count": 8,
   "id": "9d935487",
   "metadata": {},
   "outputs": [
    {
     "data": {
      "text/html": [
       "<div>\n",
       "<style scoped>\n",
       "    .dataframe tbody tr th:only-of-type {\n",
       "        vertical-align: middle;\n",
       "    }\n",
       "\n",
       "    .dataframe tbody tr th {\n",
       "        vertical-align: top;\n",
       "    }\n",
       "\n",
       "    .dataframe thead th {\n",
       "        text-align: right;\n",
       "    }\n",
       "</style>\n",
       "<table border=\"1\" class=\"dataframe\">\n",
       "  <thead>\n",
       "    <tr style=\"text-align: right;\">\n",
       "      <th></th>\n",
       "      <th>Sample</th>\n",
       "      <th>Alignment_Precision</th>\n",
       "      <th>Alignment_Recall</th>\n",
       "      <th>Alignment_F1</th>\n",
       "      <th>Runtime_seconds</th>\n",
       "    </tr>\n",
       "  </thead>\n",
       "  <tbody>\n",
       "    <tr>\n",
       "      <th>0</th>\n",
       "      <td>Letting Go(蔡健雅)</td>\n",
       "      <td>0.930521</td>\n",
       "      <td>0.735294</td>\n",
       "      <td>0.821468</td>\n",
       "      <td>63.533850</td>\n",
       "    </tr>\n",
       "    <tr>\n",
       "      <th>1</th>\n",
       "      <td>On My Way(萨吉)</td>\n",
       "      <td>0.951567</td>\n",
       "      <td>0.876640</td>\n",
       "      <td>0.912568</td>\n",
       "      <td>41.148620</td>\n",
       "    </tr>\n",
       "    <tr>\n",
       "      <th>2</th>\n",
       "      <td>Speechless(Naomi Scott)</td>\n",
       "      <td>0.987212</td>\n",
       "      <td>0.957816</td>\n",
       "      <td>0.972292</td>\n",
       "      <td>36.973145</td>\n",
       "    </tr>\n",
       "    <tr>\n",
       "      <th>3</th>\n",
       "      <td>The Best For You(欧阳娜娜)</td>\n",
       "      <td>0.971861</td>\n",
       "      <td>0.935417</td>\n",
       "      <td>0.953291</td>\n",
       "      <td>37.971167</td>\n",
       "    </tr>\n",
       "    <tr>\n",
       "      <th>4</th>\n",
       "      <td>Too Bad(林俊杰)</td>\n",
       "      <td>0.868085</td>\n",
       "      <td>0.969121</td>\n",
       "      <td>0.915825</td>\n",
       "      <td>24.725317</td>\n",
       "    </tr>\n",
       "    <tr>\n",
       "      <th>...</th>\n",
       "      <td>...</td>\n",
       "      <td>...</td>\n",
       "      <td>...</td>\n",
       "      <td>...</td>\n",
       "      <td>...</td>\n",
       "    </tr>\n",
       "    <tr>\n",
       "      <th>183</th>\n",
       "      <td>骗(张碧晨)</td>\n",
       "      <td>0.979466</td>\n",
       "      <td>0.920849</td>\n",
       "      <td>0.949254</td>\n",
       "      <td>51.533294</td>\n",
       "    </tr>\n",
       "    <tr>\n",
       "      <th>184</th>\n",
       "      <td>黑夜问白天(林俊杰)</td>\n",
       "      <td>0.990632</td>\n",
       "      <td>0.948430</td>\n",
       "      <td>0.969072</td>\n",
       "      <td>34.921188</td>\n",
       "    </tr>\n",
       "    <tr>\n",
       "      <th>185</th>\n",
       "      <td>黑暗骑士(林俊杰、五月天)</td>\n",
       "      <td>0.984544</td>\n",
       "      <td>0.960784</td>\n",
       "      <td>0.972519</td>\n",
       "      <td>60.426982</td>\n",
       "    </tr>\n",
       "    <tr>\n",
       "      <th>186</th>\n",
       "      <td>Mean</td>\n",
       "      <td>0.958520</td>\n",
       "      <td>0.941610</td>\n",
       "      <td>0.948992</td>\n",
       "      <td>44.415079</td>\n",
       "    </tr>\n",
       "    <tr>\n",
       "      <th>187</th>\n",
       "      <td>Median</td>\n",
       "      <td>0.975616</td>\n",
       "      <td>0.958011</td>\n",
       "      <td>0.960034</td>\n",
       "      <td>37.921107</td>\n",
       "    </tr>\n",
       "  </tbody>\n",
       "</table>\n",
       "<p>188 rows × 5 columns</p>\n",
       "</div>"
      ],
      "text/plain": [
       "                      Sample  Alignment_Precision  Alignment_Recall  \\\n",
       "0            Letting Go(蔡健雅)             0.930521          0.735294   \n",
       "1              On My Way(萨吉)             0.951567          0.876640   \n",
       "2    Speechless(Naomi Scott)             0.987212          0.957816   \n",
       "3     The Best For You(欧阳娜娜)             0.971861          0.935417   \n",
       "4               Too Bad(林俊杰)             0.868085          0.969121   \n",
       "..                       ...                  ...               ...   \n",
       "183                   骗(张碧晨)             0.979466          0.920849   \n",
       "184               黑夜问白天(林俊杰)             0.990632          0.948430   \n",
       "185            黑暗骑士(林俊杰、五月天)             0.984544          0.960784   \n",
       "186                     Mean             0.958520          0.941610   \n",
       "187                   Median             0.975616          0.958011   \n",
       "\n",
       "     Alignment_F1  Runtime_seconds  \n",
       "0        0.821468        63.533850  \n",
       "1        0.912568        41.148620  \n",
       "2        0.972292        36.973145  \n",
       "3        0.953291        37.971167  \n",
       "4        0.915825        24.725317  \n",
       "..            ...              ...  \n",
       "183      0.949254        51.533294  \n",
       "184      0.969072        34.921188  \n",
       "185      0.972519        60.426982  \n",
       "186      0.948992        44.415079  \n",
       "187      0.960034        37.921107  \n",
       "\n",
       "[188 rows x 5 columns]"
      ]
     },
     "execution_count": 8,
     "metadata": {},
     "output_type": "execute_result"
    }
   ],
   "source": [
    "result_df"
   ]
  },
  {
   "cell_type": "code",
   "execution_count": 14,
   "id": "770bb006",
   "metadata": {},
   "outputs": [
    {
     "data": {
      "text/plain": [
       "{'pred_f1': 0.9546192374434291,\n",
       " 'above_between': 0.0,\n",
       " 'between': 0.03554868624420402,\n",
       " 'error': 0.007461118624418168,\n",
       " 'miss': 0.02627511591962906,\n",
       " 'shadow': 0.0}"
      ]
     },
     "execution_count": 14,
     "metadata": {},
     "output_type": "execute_result"
    }
   ],
   "source": [
    "self_eval(alignments[\"黑暗骑士(林俊杰、五月天)\"])"
   ]
  }
 ],
 "metadata": {
  "kernelspec": {
   "display_name": ".venv",
   "language": "python",
   "name": "python3"
  },
  "language_info": {
   "codemirror_mode": {
    "name": "ipython",
    "version": 3
   },
   "file_extension": ".py",
   "mimetype": "text/x-python",
   "name": "python",
   "nbconvert_exporter": "python",
   "pygments_lexer": "ipython3",
   "version": "3.13.5"
  }
 },
 "nbformat": 4,
 "nbformat_minor": 5
}
