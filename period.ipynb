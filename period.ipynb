{
 "cells": [
  {
   "cell_type": "code",
   "execution_count": null,
   "id": "4b21916b",
   "metadata": {},
   "outputs": [],
   "source": [
    "import melign\n",
    "import pandas as pd\n",
    "dataset = melign.Dataset(\"dataset_test\")\n",
    "df = pd.read_excel(\"new_result.xlsx\").sort_values(by=\"Alignment_Precision\", ascending=True)\n",
    "dataset = dataset[df[\"Sample\"][:20]]"
   ]
  },
  {
   "cell_type": "code",
   "execution_count": 29,
   "id": "c8f51faf",
   "metadata": {},
   "outputs": [
    {
     "data": {
      "text/html": [
       "<div>\n",
       "<style scoped>\n",
       "    .dataframe tbody tr th:only-of-type {\n",
       "        vertical-align: middle;\n",
       "    }\n",
       "\n",
       "    .dataframe tbody tr th {\n",
       "        vertical-align: top;\n",
       "    }\n",
       "\n",
       "    .dataframe thead th {\n",
       "        text-align: right;\n",
       "    }\n",
       "</style>\n",
       "<table border=\"1\" class=\"dataframe\">\n",
       "  <thead>\n",
       "    <tr style=\"text-align: right;\">\n",
       "      <th></th>\n",
       "      <th>Unnamed: 0</th>\n",
       "      <th>Alignment_Precision</th>\n",
       "      <th>Alignment_Recall</th>\n",
       "      <th>Alignment_F1</th>\n",
       "      <th>Runtime_seconds</th>\n",
       "    </tr>\n",
       "  </thead>\n",
       "  <tbody>\n",
       "    <tr>\n",
       "      <th>count</th>\n",
       "      <td>20.000000</td>\n",
       "      <td>20.000000</td>\n",
       "      <td>20.000000</td>\n",
       "      <td>20.000000</td>\n",
       "      <td>20.000000</td>\n",
       "    </tr>\n",
       "    <tr>\n",
       "      <th>mean</th>\n",
       "      <td>90.450000</td>\n",
       "      <td>0.843783</td>\n",
       "      <td>0.914863</td>\n",
       "      <td>0.875665</td>\n",
       "      <td>49.563669</td>\n",
       "    </tr>\n",
       "    <tr>\n",
       "      <th>std</th>\n",
       "      <td>50.672815</td>\n",
       "      <td>0.054081</td>\n",
       "      <td>0.067920</td>\n",
       "      <td>0.043155</td>\n",
       "      <td>25.471426</td>\n",
       "    </tr>\n",
       "    <tr>\n",
       "      <th>min</th>\n",
       "      <td>4.000000</td>\n",
       "      <td>0.695187</td>\n",
       "      <td>0.756264</td>\n",
       "      <td>0.780781</td>\n",
       "      <td>21.082742</td>\n",
       "    </tr>\n",
       "    <tr>\n",
       "      <th>25%</th>\n",
       "      <td>52.000000</td>\n",
       "      <td>0.821010</td>\n",
       "      <td>0.861771</td>\n",
       "      <td>0.855437</td>\n",
       "      <td>28.997110</td>\n",
       "    </tr>\n",
       "    <tr>\n",
       "      <th>50%</th>\n",
       "      <td>94.000000</td>\n",
       "      <td>0.867252</td>\n",
       "      <td>0.932246</td>\n",
       "      <td>0.879770</td>\n",
       "      <td>40.263539</td>\n",
       "    </tr>\n",
       "    <tr>\n",
       "      <th>75%</th>\n",
       "      <td>131.250000</td>\n",
       "      <td>0.879728</td>\n",
       "      <td>0.971683</td>\n",
       "      <td>0.910117</td>\n",
       "      <td>68.320290</td>\n",
       "    </tr>\n",
       "    <tr>\n",
       "      <th>max</th>\n",
       "      <td>176.000000</td>\n",
       "      <td>0.893617</td>\n",
       "      <td>0.991416</td>\n",
       "      <td>0.939980</td>\n",
       "      <td>104.101515</td>\n",
       "    </tr>\n",
       "  </tbody>\n",
       "</table>\n",
       "</div>"
      ],
      "text/plain": [
       "       Unnamed: 0  Alignment_Precision  Alignment_Recall  Alignment_F1  \\\n",
       "count   20.000000            20.000000         20.000000     20.000000   \n",
       "mean    90.450000             0.843783          0.914863      0.875665   \n",
       "std     50.672815             0.054081          0.067920      0.043155   \n",
       "min      4.000000             0.695187          0.756264      0.780781   \n",
       "25%     52.000000             0.821010          0.861771      0.855437   \n",
       "50%     94.000000             0.867252          0.932246      0.879770   \n",
       "75%    131.250000             0.879728          0.971683      0.910117   \n",
       "max    176.000000             0.893617          0.991416      0.939980   \n",
       "\n",
       "       Runtime_seconds  \n",
       "count        20.000000  \n",
       "mean         49.563669  \n",
       "std          25.471426  \n",
       "min          21.082742  \n",
       "25%          28.997110  \n",
       "50%          40.263539  \n",
       "75%          68.320290  \n",
       "max         104.101515  "
      ]
     },
     "execution_count": 29,
     "metadata": {},
     "output_type": "execute_result"
    }
   ],
   "source": [
    "df.iloc[:20].describe()"
   ]
  },
  {
   "cell_type": "code",
   "execution_count": 4,
   "id": "4e3b13b7",
   "metadata": {},
   "outputs": [
    {
     "data": {
      "text/plain": [
       "AlignConfig(score_model=<melign.align.score.MelodicsModel object at 0x000001D71FA3E210>, same_key=False, same_speed=True, speed_prior=1.0, variable_tail=True, local_tolerance=0.5, miss_tolerance=2, candidate_min_score=3.5, candidate_min_length=10, hop_length=1, split_melody=True, structural_align=True)"
      ]
     },
     "execution_count": 4,
     "metadata": {},
     "output_type": "execute_result"
    }
   ],
   "source": [
    "config = melign.get_default_config()\n",
    "config.structural_align = True\n",
    "config.candidate_min_length = 10\n",
    "config"
   ]
  },
  {
   "cell_type": "code",
   "execution_count": 5,
   "id": "514912c4",
   "metadata": {},
   "outputs": [
    {
     "data": {
      "application/vnd.jupyter.widget-view+json": {
       "model_id": "9838ca9e05254a4498549345cf86df7f",
       "version_major": 2,
       "version_minor": 0
      },
      "text/plain": [
       "Processing songs (n_jobs=12):   0%|          | 0/20 [00:00<?, ?it/s]"
      ]
     },
     "metadata": {},
     "output_type": "display_data"
    }
   ],
   "source": [
    "result_df, alignments = melign.eval_pipeline(dataset, config=config, save_plot=True, n_jobs=12)"
   ]
  },
  {
   "cell_type": "code",
   "execution_count": 34,
   "id": "767e6019",
   "metadata": {},
   "outputs": [
    {
     "name": "stdout",
     "output_type": "stream",
     "text": [
      "0.9561911954420603 0.9832326451806491 0.9316202290388863 11\n",
      "0.8792463812445437 0.8293628321488594 0.9393357233684562 11\n"
     ]
    }
   ],
   "source": [
    "f1_scores = []\n",
    "precisions = []\n",
    "recalls = []\n",
    "f1_old = []\n",
    "precisions_old = []\n",
    "recalls_old = []\n",
    "\n",
    "for i, (name, alignment) in enumerate(alignments.items()):\n",
    "    percentage = (len(alignment) + sum(m.sum_miss for m in alignment.matches)) / len(dataset[name].melody) * 100\n",
    "    if percentage > 97.5:\n",
    "        f1_scores.append(result_df[\"Alignment_F1\"].iloc[i])\n",
    "        precisions.append(result_df[\"Alignment_Precision\"].iloc[i])\n",
    "        recalls.append(result_df[\"Alignment_Recall\"].iloc[i])\n",
    "        f1_old.append(df[\"Alignment_F1\"].iloc[i])\n",
    "        precisions_old.append(df[\"Alignment_Precision\"].iloc[i])\n",
    "        recalls_old.append(df[\"Alignment_Recall\"].iloc[i])\n",
    "from statistics import mean\n",
    "print(mean(f1_scores), mean(precisions), mean(recalls), len(f1_scores))\n",
    "print(mean(f1_old), mean(precisions_old), mean(recalls_old), len(f1_old))"
   ]
  },
  {
   "cell_type": "code",
   "execution_count": 45,
   "id": "cd1c6f9c",
   "metadata": {},
   "outputs": [
    {
     "data": {
      "text/plain": [
       "(np.float64(0.007694481419751664),\n",
       " np.float64(0.007693490651589485),\n",
       " np.float64(-0.0007715494329569861))"
      ]
     },
     "execution_count": 45,
     "metadata": {},
     "output_type": "execute_result"
    }
   ],
   "source": [
    "(mean(f1_scores) - mean(f1_old)) / 10, (mean(precisions) - mean(precisions_old)) / 20, (mean(recalls) - mean(recalls_old)) / 10"
   ]
  },
  {
   "cell_type": "code",
   "execution_count": 46,
   "id": "d5bdbb36",
   "metadata": {},
   "outputs": [
    {
     "data": {
      "text/plain": [
       "99.28349999999999"
      ]
     },
     "execution_count": 46,
     "metadata": {},
     "output_type": "execute_result"
    }
   ],
   "source": [
    "98.13 + 0.769*1.5"
   ]
  }
 ],
 "metadata": {
  "kernelspec": {
   "display_name": ".venv",
   "language": "python",
   "name": "python3"
  },
  "language_info": {
   "codemirror_mode": {
    "name": "ipython",
    "version": 3
   },
   "file_extension": ".py",
   "mimetype": "text/x-python",
   "name": "python",
   "nbconvert_exporter": "python",
   "pygments_lexer": "ipython3",
   "version": "3.13.5"
  }
 },
 "nbformat": 4,
 "nbformat_minor": 5
}
