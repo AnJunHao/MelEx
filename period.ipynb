{
 "cells": [
  {
   "cell_type": "code",
   "execution_count": 1,
   "id": "4b21916b",
   "metadata": {},
   "outputs": [],
   "source": [
    "import melign\n",
    "import pandas as pd\n",
    "dataset = melign.Dataset(\"dataset_test\")\n",
    "df = pd.read_excel(\"new_result.xlsx\").sort_values(by=\"Alignment_Precision\", ascending=True)\n",
    "# dataset = dataset[df[\"Sample\"][:20]]"
   ]
  },
  {
   "cell_type": "code",
   "execution_count": 5,
   "id": "dfce20a0",
   "metadata": {},
   "outputs": [
    {
     "data": {
      "application/vnd.jupyter.widget-view+json": {
       "model_id": "96c8d435232d419e906f7aa80e0ccb0f",
       "version_major": 2,
       "version_minor": 0
      },
      "text/plain": [
       "Processing songs (n_jobs=12):   0%|          | 0/186 [00:00<?, ?it/s]"
      ]
     },
     "metadata": {},
     "output_type": "display_data"
    }
   ],
   "source": [
    "config = melign.get_default_config(hop_length=1)\n",
    "config.structural_align = True\n",
    "config.melody_min_recurrence = 0.98\n",
    "result_df, alignments = melign.eval_pipeline(\n",
    "    \"dataset_test\", config=config,\n",
    "    save_plot=True, n_jobs=12, verbose=1)"
   ]
  },
  {
   "cell_type": "code",
   "execution_count": 9,
   "id": "fbd601fa",
   "metadata": {},
   "outputs": [
    {
     "data": {
      "text/html": [
       "<div>\n",
       "<style scoped>\n",
       "    .dataframe tbody tr th:only-of-type {\n",
       "        vertical-align: middle;\n",
       "    }\n",
       "\n",
       "    .dataframe tbody tr th {\n",
       "        vertical-align: top;\n",
       "    }\n",
       "\n",
       "    .dataframe thead th {\n",
       "        text-align: right;\n",
       "    }\n",
       "</style>\n",
       "<table border=\"1\" class=\"dataframe\">\n",
       "  <thead>\n",
       "    <tr style=\"text-align: right;\">\n",
       "      <th></th>\n",
       "      <th>Sample</th>\n",
       "      <th>Alignment_Precision</th>\n",
       "      <th>Alignment_Recall</th>\n",
       "      <th>Alignment_F1</th>\n",
       "      <th>Runtime_seconds</th>\n",
       "      <th>Baseline_Precision</th>\n",
       "      <th>Baseline_Recall</th>\n",
       "      <th>Baseline_F1</th>\n",
       "      <th>Precision_Improvement</th>\n",
       "      <th>Recall_Improvement</th>\n",
       "      <th>F1_Improvement</th>\n",
       "    </tr>\n",
       "  </thead>\n",
       "  <tbody>\n",
       "    <tr>\n",
       "      <th>59</th>\n",
       "      <td>哪里都是你(队长)</td>\n",
       "      <td>0.857881</td>\n",
       "      <td>0.756264</td>\n",
       "      <td>0.803874</td>\n",
       "      <td>88.371409</td>\n",
       "      <td>0.558642</td>\n",
       "      <td>0.859857</td>\n",
       "      <td>0.677268</td>\n",
       "      <td>0.299239</td>\n",
       "      <td>-0.103593</td>\n",
       "      <td>0.126606</td>\n",
       "    </tr>\n",
       "    <tr>\n",
       "      <th>0</th>\n",
       "      <td>Letting Go(蔡健雅)</td>\n",
       "      <td>0.930348</td>\n",
       "      <td>0.733333</td>\n",
       "      <td>0.820175</td>\n",
       "      <td>70.280958</td>\n",
       "      <td>0.755556</td>\n",
       "      <td>0.936441</td>\n",
       "      <td>0.836329</td>\n",
       "      <td>0.174793</td>\n",
       "      <td>-0.203107</td>\n",
       "      <td>-0.016154</td>\n",
       "    </tr>\n",
       "    <tr>\n",
       "      <th>130</th>\n",
       "      <td>炽心(希林娜依高)</td>\n",
       "      <td>0.790274</td>\n",
       "      <td>0.890411</td>\n",
       "      <td>0.837359</td>\n",
       "      <td>43.791440</td>\n",
       "      <td>0.468293</td>\n",
       "      <td>0.741313</td>\n",
       "      <td>0.573991</td>\n",
       "      <td>0.321981</td>\n",
       "      <td>0.149098</td>\n",
       "      <td>0.263368</td>\n",
       "    </tr>\n",
       "    <tr>\n",
       "      <th>49</th>\n",
       "      <td>反方向的钟(周杰伦)</td>\n",
       "      <td>0.896930</td>\n",
       "      <td>0.797271</td>\n",
       "      <td>0.844169</td>\n",
       "      <td>133.952947</td>\n",
       "      <td>0.562334</td>\n",
       "      <td>0.911828</td>\n",
       "      <td>0.695652</td>\n",
       "      <td>0.334596</td>\n",
       "      <td>-0.114557</td>\n",
       "      <td>0.148517</td>\n",
       "    </tr>\n",
       "    <tr>\n",
       "      <th>8</th>\n",
       "      <td>一生不变(李克勤)</td>\n",
       "      <td>0.966981</td>\n",
       "      <td>0.762082</td>\n",
       "      <td>0.852391</td>\n",
       "      <td>18.279489</td>\n",
       "      <td>0.459016</td>\n",
       "      <td>0.969231</td>\n",
       "      <td>0.622991</td>\n",
       "      <td>0.507965</td>\n",
       "      <td>-0.207149</td>\n",
       "      <td>0.229400</td>\n",
       "    </tr>\n",
       "    <tr>\n",
       "      <th>...</th>\n",
       "      <td>...</td>\n",
       "      <td>...</td>\n",
       "      <td>...</td>\n",
       "      <td>...</td>\n",
       "      <td>...</td>\n",
       "      <td>...</td>\n",
       "      <td>...</td>\n",
       "      <td>...</td>\n",
       "      <td>...</td>\n",
       "      <td>...</td>\n",
       "      <td>...</td>\n",
       "    </tr>\n",
       "    <tr>\n",
       "      <th>121</th>\n",
       "      <td>枫(周杰伦)</td>\n",
       "      <td>1.000000</td>\n",
       "      <td>0.987342</td>\n",
       "      <td>0.993631</td>\n",
       "      <td>41.565173</td>\n",
       "      <td>0.033399</td>\n",
       "      <td>0.042500</td>\n",
       "      <td>0.037404</td>\n",
       "      <td>0.966601</td>\n",
       "      <td>0.944842</td>\n",
       "      <td>0.956227</td>\n",
       "    </tr>\n",
       "    <tr>\n",
       "      <th>95</th>\n",
       "      <td>我不会撒娇(何雁诗)</td>\n",
       "      <td>1.000000</td>\n",
       "      <td>0.990132</td>\n",
       "      <td>0.995041</td>\n",
       "      <td>23.207246</td>\n",
       "      <td>0.819079</td>\n",
       "      <td>0.946768</td>\n",
       "      <td>0.878307</td>\n",
       "      <td>0.180921</td>\n",
       "      <td>0.043364</td>\n",
       "      <td>0.116734</td>\n",
       "    </tr>\n",
       "    <tr>\n",
       "      <th>57</th>\n",
       "      <td>哀情记(A-Lin)</td>\n",
       "      <td>0.991404</td>\n",
       "      <td>1.000000</td>\n",
       "      <td>0.995683</td>\n",
       "      <td>23.081128</td>\n",
       "      <td>0.601626</td>\n",
       "      <td>0.973684</td>\n",
       "      <td>0.743719</td>\n",
       "      <td>0.389778</td>\n",
       "      <td>0.026316</td>\n",
       "      <td>0.251965</td>\n",
       "    </tr>\n",
       "    <tr>\n",
       "      <th>182</th>\n",
       "      <td>飞鸟和蝉(任然)</td>\n",
       "      <td>0.997886</td>\n",
       "      <td>0.993684</td>\n",
       "      <td>0.995781</td>\n",
       "      <td>56.328907</td>\n",
       "      <td>0.790795</td>\n",
       "      <td>0.942643</td>\n",
       "      <td>0.860068</td>\n",
       "      <td>0.207091</td>\n",
       "      <td>0.051041</td>\n",
       "      <td>0.135712</td>\n",
       "    </tr>\n",
       "    <tr>\n",
       "      <th>48</th>\n",
       "      <td>原来有爱(谭嘉仪)</td>\n",
       "      <td>1.000000</td>\n",
       "      <td>1.000000</td>\n",
       "      <td>1.000000</td>\n",
       "      <td>25.561411</td>\n",
       "      <td>0.712500</td>\n",
       "      <td>0.966102</td>\n",
       "      <td>0.820144</td>\n",
       "      <td>0.287500</td>\n",
       "      <td>0.033898</td>\n",
       "      <td>0.179856</td>\n",
       "    </tr>\n",
       "  </tbody>\n",
       "</table>\n",
       "<p>188 rows × 11 columns</p>\n",
       "</div>"
      ],
      "text/plain": [
       "              Sample  Alignment_Precision  Alignment_Recall  Alignment_F1  \\\n",
       "59         哪里都是你(队长)             0.857881          0.756264      0.803874   \n",
       "0    Letting Go(蔡健雅)             0.930348          0.733333      0.820175   \n",
       "130        炽心(希林娜依高)             0.790274          0.890411      0.837359   \n",
       "49        反方向的钟(周杰伦)             0.896930          0.797271      0.844169   \n",
       "8          一生不变(李克勤)             0.966981          0.762082      0.852391   \n",
       "..               ...                  ...               ...           ...   \n",
       "121           枫(周杰伦)             1.000000          0.987342      0.993631   \n",
       "95        我不会撒娇(何雁诗)             1.000000          0.990132      0.995041   \n",
       "57        哀情记(A-Lin)             0.991404          1.000000      0.995683   \n",
       "182         飞鸟和蝉(任然)             0.997886          0.993684      0.995781   \n",
       "48         原来有爱(谭嘉仪)             1.000000          1.000000      1.000000   \n",
       "\n",
       "     Runtime_seconds  Baseline_Precision  Baseline_Recall  Baseline_F1  \\\n",
       "59         88.371409            0.558642         0.859857     0.677268   \n",
       "0          70.280958            0.755556         0.936441     0.836329   \n",
       "130        43.791440            0.468293         0.741313     0.573991   \n",
       "49        133.952947            0.562334         0.911828     0.695652   \n",
       "8          18.279489            0.459016         0.969231     0.622991   \n",
       "..               ...                 ...              ...          ...   \n",
       "121        41.565173            0.033399         0.042500     0.037404   \n",
       "95         23.207246            0.819079         0.946768     0.878307   \n",
       "57         23.081128            0.601626         0.973684     0.743719   \n",
       "182        56.328907            0.790795         0.942643     0.860068   \n",
       "48         25.561411            0.712500         0.966102     0.820144   \n",
       "\n",
       "     Precision_Improvement  Recall_Improvement  F1_Improvement  \n",
       "59                0.299239           -0.103593        0.126606  \n",
       "0                 0.174793           -0.203107       -0.016154  \n",
       "130               0.321981            0.149098        0.263368  \n",
       "49                0.334596           -0.114557        0.148517  \n",
       "8                 0.507965           -0.207149        0.229400  \n",
       "..                     ...                 ...             ...  \n",
       "121               0.966601            0.944842        0.956227  \n",
       "95                0.180921            0.043364        0.116734  \n",
       "57                0.389778            0.026316        0.251965  \n",
       "182               0.207091            0.051041        0.135712  \n",
       "48                0.287500            0.033898        0.179856  \n",
       "\n",
       "[188 rows x 11 columns]"
      ]
     },
     "execution_count": 9,
     "metadata": {},
     "output_type": "execute_result"
    }
   ],
   "source": [
    "result_df.sort_values(by=\"Alignment_F1\", ascending=True)"
   ]
  },
  {
   "cell_type": "code",
   "execution_count": 6,
   "id": "d4e0f7d3",
   "metadata": {},
   "outputs": [
    {
     "data": {
      "text/html": [
       "<div>\n",
       "<style scoped>\n",
       "    .dataframe tbody tr th:only-of-type {\n",
       "        vertical-align: middle;\n",
       "    }\n",
       "\n",
       "    .dataframe tbody tr th {\n",
       "        vertical-align: top;\n",
       "    }\n",
       "\n",
       "    .dataframe thead th {\n",
       "        text-align: right;\n",
       "    }\n",
       "</style>\n",
       "<table border=\"1\" class=\"dataframe\">\n",
       "  <thead>\n",
       "    <tr style=\"text-align: right;\">\n",
       "      <th></th>\n",
       "      <th>Sample</th>\n",
       "      <th>Alignment_Precision</th>\n",
       "      <th>Alignment_Recall</th>\n",
       "      <th>Alignment_F1</th>\n",
       "      <th>Runtime_seconds</th>\n",
       "      <th>Baseline_Precision</th>\n",
       "      <th>Baseline_Recall</th>\n",
       "      <th>Baseline_F1</th>\n",
       "      <th>Precision_Improvement</th>\n",
       "      <th>Recall_Improvement</th>\n",
       "      <th>F1_Improvement</th>\n",
       "    </tr>\n",
       "  </thead>\n",
       "  <tbody>\n",
       "    <tr>\n",
       "      <th>0</th>\n",
       "      <td>Letting Go(蔡健雅)</td>\n",
       "      <td>0.930348</td>\n",
       "      <td>0.733333</td>\n",
       "      <td>0.820175</td>\n",
       "      <td>70.280958</td>\n",
       "      <td>0.755556</td>\n",
       "      <td>0.936441</td>\n",
       "      <td>0.836329</td>\n",
       "      <td>0.174793</td>\n",
       "      <td>-0.203107</td>\n",
       "      <td>-0.016154</td>\n",
       "    </tr>\n",
       "    <tr>\n",
       "      <th>1</th>\n",
       "      <td>On My Way(萨吉)</td>\n",
       "      <td>0.982036</td>\n",
       "      <td>0.860892</td>\n",
       "      <td>0.917483</td>\n",
       "      <td>44.949520</td>\n",
       "      <td>0.600398</td>\n",
       "      <td>0.885630</td>\n",
       "      <td>0.715640</td>\n",
       "      <td>0.381638</td>\n",
       "      <td>-0.024738</td>\n",
       "      <td>0.201843</td>\n",
       "    </tr>\n",
       "    <tr>\n",
       "      <th>2</th>\n",
       "      <td>Speechless(Naomi Scott)</td>\n",
       "      <td>0.987212</td>\n",
       "      <td>0.957816</td>\n",
       "      <td>0.972292</td>\n",
       "      <td>41.719323</td>\n",
       "      <td>0.897906</td>\n",
       "      <td>0.974432</td>\n",
       "      <td>0.934605</td>\n",
       "      <td>0.089307</td>\n",
       "      <td>-0.016615</td>\n",
       "      <td>0.037687</td>\n",
       "    </tr>\n",
       "    <tr>\n",
       "      <th>3</th>\n",
       "      <td>The Best For You(欧阳娜娜)</td>\n",
       "      <td>0.991170</td>\n",
       "      <td>0.935417</td>\n",
       "      <td>0.962487</td>\n",
       "      <td>41.186719</td>\n",
       "      <td>0.778409</td>\n",
       "      <td>0.971631</td>\n",
       "      <td>0.864353</td>\n",
       "      <td>0.212761</td>\n",
       "      <td>-0.036215</td>\n",
       "      <td>0.098133</td>\n",
       "    </tr>\n",
       "    <tr>\n",
       "      <th>4</th>\n",
       "      <td>Too Bad(林俊杰)</td>\n",
       "      <td>0.997549</td>\n",
       "      <td>0.966746</td>\n",
       "      <td>0.981906</td>\n",
       "      <td>27.040505</td>\n",
       "      <td>0.713675</td>\n",
       "      <td>0.910082</td>\n",
       "      <td>0.800000</td>\n",
       "      <td>0.283874</td>\n",
       "      <td>0.056664</td>\n",
       "      <td>0.181906</td>\n",
       "    </tr>\n",
       "    <tr>\n",
       "      <th>...</th>\n",
       "      <td>...</td>\n",
       "      <td>...</td>\n",
       "      <td>...</td>\n",
       "      <td>...</td>\n",
       "      <td>...</td>\n",
       "      <td>...</td>\n",
       "      <td>...</td>\n",
       "      <td>...</td>\n",
       "      <td>...</td>\n",
       "      <td>...</td>\n",
       "      <td>...</td>\n",
       "    </tr>\n",
       "    <tr>\n",
       "      <th>183</th>\n",
       "      <td>骗(张碧晨)</td>\n",
       "      <td>0.981289</td>\n",
       "      <td>0.911197</td>\n",
       "      <td>0.944945</td>\n",
       "      <td>70.261849</td>\n",
       "      <td>0.672474</td>\n",
       "      <td>0.855876</td>\n",
       "      <td>0.753171</td>\n",
       "      <td>0.308815</td>\n",
       "      <td>0.055321</td>\n",
       "      <td>0.191774</td>\n",
       "    </tr>\n",
       "    <tr>\n",
       "      <th>184</th>\n",
       "      <td>黑夜问白天(林俊杰)</td>\n",
       "      <td>0.990566</td>\n",
       "      <td>0.941704</td>\n",
       "      <td>0.965517</td>\n",
       "      <td>48.270709</td>\n",
       "      <td>0.725572</td>\n",
       "      <td>0.888041</td>\n",
       "      <td>0.798627</td>\n",
       "      <td>0.264994</td>\n",
       "      <td>0.053663</td>\n",
       "      <td>0.166890</td>\n",
       "    </tr>\n",
       "    <tr>\n",
       "      <th>185</th>\n",
       "      <td>黑暗骑士(林俊杰、五月天)</td>\n",
       "      <td>0.993760</td>\n",
       "      <td>0.960784</td>\n",
       "      <td>0.976994</td>\n",
       "      <td>79.798615</td>\n",
       "      <td>0.604703</td>\n",
       "      <td>0.942408</td>\n",
       "      <td>0.736698</td>\n",
       "      <td>0.389057</td>\n",
       "      <td>0.018376</td>\n",
       "      <td>0.240295</td>\n",
       "    </tr>\n",
       "    <tr>\n",
       "      <th>186</th>\n",
       "      <td>Mean</td>\n",
       "      <td>0.975019</td>\n",
       "      <td>0.938875</td>\n",
       "      <td>0.956035</td>\n",
       "      <td>51.749166</td>\n",
       "      <td>0.598517</td>\n",
       "      <td>0.824706</td>\n",
       "      <td>0.688909</td>\n",
       "      <td>0.376503</td>\n",
       "      <td>0.114168</td>\n",
       "      <td>0.267126</td>\n",
       "    </tr>\n",
       "    <tr>\n",
       "      <th>187</th>\n",
       "      <td>Median</td>\n",
       "      <td>0.987297</td>\n",
       "      <td>0.956913</td>\n",
       "      <td>0.967439</td>\n",
       "      <td>44.130872</td>\n",
       "      <td>0.652618</td>\n",
       "      <td>0.908969</td>\n",
       "      <td>0.755676</td>\n",
       "      <td>0.334679</td>\n",
       "      <td>0.047944</td>\n",
       "      <td>0.211763</td>\n",
       "    </tr>\n",
       "  </tbody>\n",
       "</table>\n",
       "<p>188 rows × 11 columns</p>\n",
       "</div>"
      ],
      "text/plain": [
       "                      Sample  Alignment_Precision  Alignment_Recall  \\\n",
       "0            Letting Go(蔡健雅)             0.930348          0.733333   \n",
       "1              On My Way(萨吉)             0.982036          0.860892   \n",
       "2    Speechless(Naomi Scott)             0.987212          0.957816   \n",
       "3     The Best For You(欧阳娜娜)             0.991170          0.935417   \n",
       "4               Too Bad(林俊杰)             0.997549          0.966746   \n",
       "..                       ...                  ...               ...   \n",
       "183                   骗(张碧晨)             0.981289          0.911197   \n",
       "184               黑夜问白天(林俊杰)             0.990566          0.941704   \n",
       "185            黑暗骑士(林俊杰、五月天)             0.993760          0.960784   \n",
       "186                     Mean             0.975019          0.938875   \n",
       "187                   Median             0.987297          0.956913   \n",
       "\n",
       "     Alignment_F1  Runtime_seconds  Baseline_Precision  Baseline_Recall  \\\n",
       "0        0.820175        70.280958            0.755556         0.936441   \n",
       "1        0.917483        44.949520            0.600398         0.885630   \n",
       "2        0.972292        41.719323            0.897906         0.974432   \n",
       "3        0.962487        41.186719            0.778409         0.971631   \n",
       "4        0.981906        27.040505            0.713675         0.910082   \n",
       "..            ...              ...                 ...              ...   \n",
       "183      0.944945        70.261849            0.672474         0.855876   \n",
       "184      0.965517        48.270709            0.725572         0.888041   \n",
       "185      0.976994        79.798615            0.604703         0.942408   \n",
       "186      0.956035        51.749166            0.598517         0.824706   \n",
       "187      0.967439        44.130872            0.652618         0.908969   \n",
       "\n",
       "     Baseline_F1  Precision_Improvement  Recall_Improvement  F1_Improvement  \n",
       "0       0.836329               0.174793           -0.203107       -0.016154  \n",
       "1       0.715640               0.381638           -0.024738        0.201843  \n",
       "2       0.934605               0.089307           -0.016615        0.037687  \n",
       "3       0.864353               0.212761           -0.036215        0.098133  \n",
       "4       0.800000               0.283874            0.056664        0.181906  \n",
       "..           ...                    ...                 ...             ...  \n",
       "183     0.753171               0.308815            0.055321        0.191774  \n",
       "184     0.798627               0.264994            0.053663        0.166890  \n",
       "185     0.736698               0.389057            0.018376        0.240295  \n",
       "186     0.688909               0.376503            0.114168        0.267126  \n",
       "187     0.755676               0.334679            0.047944        0.211763  \n",
       "\n",
       "[188 rows x 11 columns]"
      ]
     },
     "execution_count": 6,
     "metadata": {},
     "output_type": "execute_result"
    }
   ],
   "source": [
    "result_df"
   ]
  },
  {
   "cell_type": "code",
   "execution_count": null,
   "id": "44522fcd",
   "metadata": {},
   "outputs": [
    {
     "data": {
      "application/vnd.jupyter.widget-view+json": {
       "model_id": "a7d67867bc9446dea7fd73e46053264f",
       "version_major": 2,
       "version_minor": 0
      },
      "text/plain": [
       "Processing songs (n_jobs=12):   0%|          | 0/186 [00:00<?, ?it/s]"
      ]
     },
     "metadata": {},
     "output_type": "display_data"
    },
    {
     "name": "stdout",
     "output_type": "stream",
     "text": [
      "0.9 0.9621447336995463 0.9490425638235689\n"
     ]
    },
    {
     "data": {
      "application/vnd.jupyter.widget-view+json": {
       "model_id": "009d2f01fc0743339f12741cd0413384",
       "version_major": 2,
       "version_minor": 0
      },
      "text/plain": [
       "Processing songs (n_jobs=12):   0%|          | 0/186 [00:00<?, ?it/s]"
      ]
     },
     "metadata": {},
     "output_type": "display_data"
    },
    {
     "name": "stdout",
     "output_type": "stream",
     "text": [
      "0.92 0.9621447336995463 0.9499056876093366\n"
     ]
    },
    {
     "data": {
      "application/vnd.jupyter.widget-view+json": {
       "model_id": "75905ba9a95f4292980fc8a8c1915e91",
       "version_major": 2,
       "version_minor": 0
      },
      "text/plain": [
       "Processing songs (n_jobs=12):   0%|          | 0/186 [00:00<?, ?it/s]"
      ]
     },
     "metadata": {},
     "output_type": "display_data"
    }
   ],
   "source": [
    "for min_rec in [0.9, 0.92, 0.94, 0.95, 0.96, 0.97, 0.98, 0.99]:\n",
    "    config = melign.get_default_config(hop_length=4)\n",
    "    config.structural_align = True\n",
    "    config.melody_min_recurrence = min_rec\n",
    "    config.structural_max_difference = 0.5\n",
    "    result_df, alignments = melign.eval_pipeline(\n",
    "        \"dataset_test\", config=config,\n",
    "        save_plot=False, n_jobs=12, verbose=1)\n",
    "    print(min_rec, result_df.iloc[-1][\"Alignment_F1\"], result_df.iloc[-2][\"Alignment_F1\"])"
   ]
  },
  {
   "cell_type": "code",
   "execution_count": 4,
   "id": "514912c4",
   "metadata": {},
   "outputs": [
    {
     "data": {
      "application/vnd.jupyter.widget-view+json": {
       "model_id": "3414b856295945afa0fa9139144d2abf",
       "version_major": 2,
       "version_minor": 0
      },
      "text/plain": [
       "Processing songs (n_jobs=12):   0%|          | 0/186 [00:00<?, ?it/s]"
      ]
     },
     "metadata": {},
     "output_type": "display_data"
    },
    {
     "name": "stdout",
     "output_type": "stream",
     "text": [
      "0.9 0.9621447336995463 0.9490663758694273\n"
     ]
    },
    {
     "data": {
      "application/vnd.jupyter.widget-view+json": {
       "model_id": "0bc6318c8dda4963a695988da1a6bf6d",
       "version_major": 2,
       "version_minor": 0
      },
      "text/plain": [
       "Processing songs (n_jobs=12):   0%|          | 0/186 [00:00<?, ?it/s]"
      ]
     },
     "metadata": {},
     "output_type": "display_data"
    },
    {
     "name": "stdout",
     "output_type": "stream",
     "text": [
      "0.92 0.9621447336995463 0.9499006886246866\n"
     ]
    },
    {
     "data": {
      "application/vnd.jupyter.widget-view+json": {
       "model_id": "d0c4081bed7f4ce5b3c538c0a779b9a7",
       "version_major": 2,
       "version_minor": 0
      },
      "text/plain": [
       "Processing songs (n_jobs=12):   0%|          | 0/186 [00:00<?, ?it/s]"
      ]
     },
     "metadata": {},
     "output_type": "display_data"
    },
    {
     "name": "stdout",
     "output_type": "stream",
     "text": [
      "0.94 0.9621447336995463 0.9500372425991978\n"
     ]
    },
    {
     "data": {
      "application/vnd.jupyter.widget-view+json": {
       "model_id": "6cecd91d83b548d6a766900a3447b10a",
       "version_major": 2,
       "version_minor": 0
      },
      "text/plain": [
       "Processing songs (n_jobs=12):   0%|          | 0/186 [00:00<?, ?it/s]"
      ]
     },
     "metadata": {},
     "output_type": "display_data"
    },
    {
     "name": "stdout",
     "output_type": "stream",
     "text": [
      "0.95 0.962303623588853 0.9501218667978667\n"
     ]
    },
    {
     "data": {
      "application/vnd.jupyter.widget-view+json": {
       "model_id": "16167dfdb7a9493c994de1232b63a10b",
       "version_major": 2,
       "version_minor": 0
      },
      "text/plain": [
       "Processing songs (n_jobs=12):   0%|          | 0/186 [00:00<?, ?it/s]"
      ]
     },
     "metadata": {},
     "output_type": "display_data"
    },
    {
     "name": "stdout",
     "output_type": "stream",
     "text": [
      "0.96 0.9625695188048662 0.9508556243232971\n"
     ]
    },
    {
     "data": {
      "application/vnd.jupyter.widget-view+json": {
       "model_id": "c1de04f1559a40238a8b80d72ab7c02e",
       "version_major": 2,
       "version_minor": 0
      },
      "text/plain": [
       "Processing songs (n_jobs=12):   0%|          | 0/186 [00:00<?, ?it/s]"
      ]
     },
     "metadata": {},
     "output_type": "display_data"
    },
    {
     "name": "stdout",
     "output_type": "stream",
     "text": [
      "0.97 0.9625695188048662 0.9510930569545086\n"
     ]
    },
    {
     "data": {
      "application/vnd.jupyter.widget-view+json": {
       "model_id": "17074caaffd44b16bd67d0b6841baad1",
       "version_major": 2,
       "version_minor": 0
      },
      "text/plain": [
       "Processing songs (n_jobs=12):   0%|          | 0/186 [00:00<?, ?it/s]"
      ]
     },
     "metadata": {},
     "output_type": "display_data"
    },
    {
     "name": "stdout",
     "output_type": "stream",
     "text": [
      "0.98 0.9630442443250862 0.951002332400976\n"
     ]
    },
    {
     "data": {
      "application/vnd.jupyter.widget-view+json": {
       "model_id": "2ade0dae2e3e44528fc844a89b28ef4c",
       "version_major": 2,
       "version_minor": 0
      },
      "text/plain": [
       "Processing songs (n_jobs=12):   0%|          | 0/186 [00:00<?, ?it/s]"
      ]
     },
     "metadata": {},
     "output_type": "display_data"
    },
    {
     "name": "stdout",
     "output_type": "stream",
     "text": [
      "0.99 0.9619504532235124 0.9490208083614785\n"
     ]
    }
   ],
   "source": [
    "for min_rec in [0.9, 0.92, 0.94, 0.95, 0.96, 0.97, 0.98, 0.99]:\n",
    "    config = melign.get_default_config(hop_length=4)\n",
    "    config.structural_align = True\n",
    "    config.melody_min_recurrence = min_rec\n",
    "    result_df, alignments = melign.eval_pipeline(\n",
    "        \"dataset_test\", config=config,\n",
    "        save_plot=False, n_jobs=12, verbose=1)\n",
    "    print(min_rec, result_df.iloc[-1][\"Alignment_F1\"], result_df.iloc[-2][\"Alignment_F1\"])"
   ]
  },
  {
   "cell_type": "code",
   "execution_count": null,
   "id": "78ec06f3",
   "metadata": {},
   "outputs": [
    {
     "data": {
      "text/plain": [
       "(np.float64(0.9012268209969377), np.float64(0.9118006663769376))"
      ]
     },
     "execution_count": 40,
     "metadata": {},
     "output_type": "execute_result"
    }
   ],
   "source": [
    "# config.melody_min_recurrence = 0.98\n",
    "median = result_df.iloc[-1][\"Alignment_F1\"]\n",
    "mean = result_df.iloc[-2][\"Alignment_F1\"]"
   ]
  },
  {
   "cell_type": "code",
   "execution_count": 32,
   "id": "6b297d68",
   "metadata": {},
   "outputs": [
    {
     "data": {
      "text/html": [
       "<div>\n",
       "<style scoped>\n",
       "    .dataframe tbody tr th:only-of-type {\n",
       "        vertical-align: middle;\n",
       "    }\n",
       "\n",
       "    .dataframe tbody tr th {\n",
       "        vertical-align: top;\n",
       "    }\n",
       "\n",
       "    .dataframe thead th {\n",
       "        text-align: right;\n",
       "    }\n",
       "</style>\n",
       "<table border=\"1\" class=\"dataframe\">\n",
       "  <thead>\n",
       "    <tr style=\"text-align: right;\">\n",
       "      <th></th>\n",
       "      <th>Sample</th>\n",
       "      <th>Alignment_Precision</th>\n",
       "      <th>Alignment_Recall</th>\n",
       "      <th>Alignment_F1</th>\n",
       "      <th>Runtime_seconds</th>\n",
       "      <th>Baseline_Precision</th>\n",
       "      <th>Baseline_Recall</th>\n",
       "      <th>Baseline_F1</th>\n",
       "      <th>Precision_Improvement</th>\n",
       "      <th>Recall_Improvement</th>\n",
       "      <th>F1_Improvement</th>\n",
       "    </tr>\n",
       "  </thead>\n",
       "  <tbody>\n",
       "    <tr>\n",
       "      <th>20</th>\n",
       "      <td>Mean</td>\n",
       "      <td>0.937291</td>\n",
       "      <td>0.882846</td>\n",
       "      <td>0.907451</td>\n",
       "      <td>6.943422</td>\n",
       "      <td>0.480162</td>\n",
       "      <td>0.781813</td>\n",
       "      <td>0.589713</td>\n",
       "      <td>0.457129</td>\n",
       "      <td>0.101033</td>\n",
       "      <td>0.317738</td>\n",
       "    </tr>\n",
       "    <tr>\n",
       "      <th>21</th>\n",
       "      <td>Median</td>\n",
       "      <td>0.933491</td>\n",
       "      <td>0.907734</td>\n",
       "      <td>0.929251</td>\n",
       "      <td>5.937450</td>\n",
       "      <td>0.541490</td>\n",
       "      <td>0.902409</td>\n",
       "      <td>0.676227</td>\n",
       "      <td>0.392001</td>\n",
       "      <td>0.005324</td>\n",
       "      <td>0.253024</td>\n",
       "    </tr>\n",
       "  </tbody>\n",
       "</table>\n",
       "</div>"
      ],
      "text/plain": [
       "    Sample  Alignment_Precision  Alignment_Recall  Alignment_F1  \\\n",
       "20    Mean             0.937291          0.882846      0.907451   \n",
       "21  Median             0.933491          0.907734      0.929251   \n",
       "\n",
       "    Runtime_seconds  Baseline_Precision  Baseline_Recall  Baseline_F1  \\\n",
       "20         6.943422            0.480162         0.781813     0.589713   \n",
       "21         5.937450            0.541490         0.902409     0.676227   \n",
       "\n",
       "    Precision_Improvement  Recall_Improvement  F1_Improvement  \n",
       "20               0.457129            0.101033        0.317738  \n",
       "21               0.392001            0.005324        0.253024  "
      ]
     },
     "execution_count": 32,
     "metadata": {},
     "output_type": "execute_result"
    }
   ],
   "source": [
    "# config.melody_min_recurrence = 0.97\n",
    "result_df.iloc[-2:]"
   ]
  },
  {
   "cell_type": "code",
   "execution_count": 29,
   "id": "f0cfb7c0",
   "metadata": {},
   "outputs": [
    {
     "data": {
      "text/html": [
       "<div>\n",
       "<style scoped>\n",
       "    .dataframe tbody tr th:only-of-type {\n",
       "        vertical-align: middle;\n",
       "    }\n",
       "\n",
       "    .dataframe tbody tr th {\n",
       "        vertical-align: top;\n",
       "    }\n",
       "\n",
       "    .dataframe thead th {\n",
       "        text-align: right;\n",
       "    }\n",
       "</style>\n",
       "<table border=\"1\" class=\"dataframe\">\n",
       "  <thead>\n",
       "    <tr style=\"text-align: right;\">\n",
       "      <th></th>\n",
       "      <th>Sample</th>\n",
       "      <th>Alignment_Precision</th>\n",
       "      <th>Alignment_Recall</th>\n",
       "      <th>Alignment_F1</th>\n",
       "      <th>Runtime_seconds</th>\n",
       "      <th>Baseline_Precision</th>\n",
       "      <th>Baseline_Recall</th>\n",
       "      <th>Baseline_F1</th>\n",
       "      <th>Precision_Improvement</th>\n",
       "      <th>Recall_Improvement</th>\n",
       "      <th>F1_Improvement</th>\n",
       "    </tr>\n",
       "  </thead>\n",
       "  <tbody>\n",
       "    <tr>\n",
       "      <th>20</th>\n",
       "      <td>Mean</td>\n",
       "      <td>0.937706</td>\n",
       "      <td>0.881433</td>\n",
       "      <td>0.906820</td>\n",
       "      <td>6.828448</td>\n",
       "      <td>0.480162</td>\n",
       "      <td>0.781813</td>\n",
       "      <td>0.589713</td>\n",
       "      <td>0.457544</td>\n",
       "      <td>0.099620</td>\n",
       "      <td>0.317107</td>\n",
       "    </tr>\n",
       "    <tr>\n",
       "      <th>21</th>\n",
       "      <td>Median</td>\n",
       "      <td>0.933491</td>\n",
       "      <td>0.907734</td>\n",
       "      <td>0.929251</td>\n",
       "      <td>5.794653</td>\n",
       "      <td>0.541490</td>\n",
       "      <td>0.902409</td>\n",
       "      <td>0.676227</td>\n",
       "      <td>0.392001</td>\n",
       "      <td>0.005324</td>\n",
       "      <td>0.253024</td>\n",
       "    </tr>\n",
       "  </tbody>\n",
       "</table>\n",
       "</div>"
      ],
      "text/plain": [
       "    Sample  Alignment_Precision  Alignment_Recall  Alignment_F1  \\\n",
       "20    Mean             0.937706          0.881433      0.906820   \n",
       "21  Median             0.933491          0.907734      0.929251   \n",
       "\n",
       "    Runtime_seconds  Baseline_Precision  Baseline_Recall  Baseline_F1  \\\n",
       "20         6.828448            0.480162         0.781813     0.589713   \n",
       "21         5.794653            0.541490         0.902409     0.676227   \n",
       "\n",
       "    Precision_Improvement  Recall_Improvement  F1_Improvement  \n",
       "20               0.457544            0.099620        0.317107  \n",
       "21               0.392001            0.005324        0.253024  "
      ]
     },
     "execution_count": 29,
     "metadata": {},
     "output_type": "execute_result"
    }
   ],
   "source": [
    "# config.melody_min_recurrence = 0.96\n",
    "result_df.iloc[-2:]"
   ]
  },
  {
   "cell_type": "code",
   "execution_count": null,
   "id": "8e5813fe",
   "metadata": {},
   "outputs": [
    {
     "data": {
      "text/html": [
       "<div>\n",
       "<style scoped>\n",
       "    .dataframe tbody tr th:only-of-type {\n",
       "        vertical-align: middle;\n",
       "    }\n",
       "\n",
       "    .dataframe tbody tr th {\n",
       "        vertical-align: top;\n",
       "    }\n",
       "\n",
       "    .dataframe thead th {\n",
       "        text-align: right;\n",
       "    }\n",
       "</style>\n",
       "<table border=\"1\" class=\"dataframe\">\n",
       "  <thead>\n",
       "    <tr style=\"text-align: right;\">\n",
       "      <th></th>\n",
       "      <th>Sample</th>\n",
       "      <th>Alignment_Precision</th>\n",
       "      <th>Alignment_Recall</th>\n",
       "      <th>Alignment_F1</th>\n",
       "      <th>Runtime_seconds</th>\n",
       "      <th>Baseline_Precision</th>\n",
       "      <th>Baseline_Recall</th>\n",
       "      <th>Baseline_F1</th>\n",
       "      <th>Precision_Improvement</th>\n",
       "      <th>Recall_Improvement</th>\n",
       "      <th>F1_Improvement</th>\n",
       "    </tr>\n",
       "  </thead>\n",
       "  <tbody>\n",
       "    <tr>\n",
       "      <th>20</th>\n",
       "      <td>Mean</td>\n",
       "      <td>0.941424</td>\n",
       "      <td>0.878560</td>\n",
       "      <td>0.907089</td>\n",
       "      <td>7.155903</td>\n",
       "      <td>0.480162</td>\n",
       "      <td>0.781813</td>\n",
       "      <td>0.589713</td>\n",
       "      <td>0.461262</td>\n",
       "      <td>0.096746</td>\n",
       "      <td>0.317376</td>\n",
       "    </tr>\n",
       "    <tr>\n",
       "      <th>21</th>\n",
       "      <td>Median</td>\n",
       "      <td>0.958635</td>\n",
       "      <td>0.907325</td>\n",
       "      <td>0.929251</td>\n",
       "      <td>5.997904</td>\n",
       "      <td>0.541490</td>\n",
       "      <td>0.902409</td>\n",
       "      <td>0.676227</td>\n",
       "      <td>0.417145</td>\n",
       "      <td>0.004915</td>\n",
       "      <td>0.253024</td>\n",
       "    </tr>\n",
       "  </tbody>\n",
       "</table>\n",
       "</div>"
      ],
      "text/plain": [
       "    Sample  Alignment_Precision  Alignment_Recall  Alignment_F1  \\\n",
       "20    Mean             0.941424          0.878560      0.907089   \n",
       "21  Median             0.958635          0.907325      0.929251   \n",
       "\n",
       "    Runtime_seconds  Baseline_Precision  Baseline_Recall  Baseline_F1  \\\n",
       "20         7.155903            0.480162         0.781813     0.589713   \n",
       "21         5.997904            0.541490         0.902409     0.676227   \n",
       "\n",
       "    Precision_Improvement  Recall_Improvement  F1_Improvement  \n",
       "20               0.461262            0.096746        0.317376  \n",
       "21               0.417145            0.004915        0.253024  "
      ]
     },
     "execution_count": 26,
     "metadata": {},
     "output_type": "execute_result"
    }
   ],
   "source": [
    "# config.melody_min_recurrence = 0.95\n",
    "result_df.iloc[-2:]"
   ]
  },
  {
   "cell_type": "code",
   "execution_count": 19,
   "id": "0b303eaa",
   "metadata": {},
   "outputs": [
    {
     "data": {
      "text/html": [
       "<div>\n",
       "<style scoped>\n",
       "    .dataframe tbody tr th:only-of-type {\n",
       "        vertical-align: middle;\n",
       "    }\n",
       "\n",
       "    .dataframe tbody tr th {\n",
       "        vertical-align: top;\n",
       "    }\n",
       "\n",
       "    .dataframe thead th {\n",
       "        text-align: right;\n",
       "    }\n",
       "</style>\n",
       "<table border=\"1\" class=\"dataframe\">\n",
       "  <thead>\n",
       "    <tr style=\"text-align: right;\">\n",
       "      <th></th>\n",
       "      <th>Sample</th>\n",
       "      <th>Alignment_Precision</th>\n",
       "      <th>Alignment_Recall</th>\n",
       "      <th>Alignment_F1</th>\n",
       "      <th>Runtime_seconds</th>\n",
       "      <th>Baseline_Precision</th>\n",
       "      <th>Baseline_Recall</th>\n",
       "      <th>Baseline_F1</th>\n",
       "      <th>Precision_Improvement</th>\n",
       "      <th>Recall_Improvement</th>\n",
       "      <th>F1_Improvement</th>\n",
       "    </tr>\n",
       "  </thead>\n",
       "  <tbody>\n",
       "    <tr>\n",
       "      <th>20</th>\n",
       "      <td>Mean</td>\n",
       "      <td>0.932328</td>\n",
       "      <td>0.908983</td>\n",
       "      <td>0.919376</td>\n",
       "      <td>58.399592</td>\n",
       "      <td>0.480162</td>\n",
       "      <td>0.781813</td>\n",
       "      <td>0.589713</td>\n",
       "      <td>0.452166</td>\n",
       "      <td>0.127170</td>\n",
       "      <td>0.329663</td>\n",
       "    </tr>\n",
       "    <tr>\n",
       "      <th>21</th>\n",
       "      <td>Median</td>\n",
       "      <td>0.936728</td>\n",
       "      <td>0.927371</td>\n",
       "      <td>0.930698</td>\n",
       "      <td>51.073220</td>\n",
       "      <td>0.541490</td>\n",
       "      <td>0.902409</td>\n",
       "      <td>0.676227</td>\n",
       "      <td>0.395238</td>\n",
       "      <td>0.024962</td>\n",
       "      <td>0.254471</td>\n",
       "    </tr>\n",
       "  </tbody>\n",
       "</table>\n",
       "</div>"
      ],
      "text/plain": [
       "    Sample  Alignment_Precision  Alignment_Recall  Alignment_F1  \\\n",
       "20    Mean             0.932328          0.908983      0.919376   \n",
       "21  Median             0.936728          0.927371      0.930698   \n",
       "\n",
       "    Runtime_seconds  Baseline_Precision  Baseline_Recall  Baseline_F1  \\\n",
       "20        58.399592            0.480162         0.781813     0.589713   \n",
       "21        51.073220            0.541490         0.902409     0.676227   \n",
       "\n",
       "    Precision_Improvement  Recall_Improvement  F1_Improvement  \n",
       "20               0.452166            0.127170        0.329663  \n",
       "21               0.395238            0.024962        0.254471  "
      ]
     },
     "execution_count": 19,
     "metadata": {},
     "output_type": "execute_result"
    }
   ],
   "source": [
    "result_df.iloc[-2:]"
   ]
  }
 ],
 "metadata": {
  "kernelspec": {
   "display_name": ".venv",
   "language": "python",
   "name": "python3"
  },
  "language_info": {
   "codemirror_mode": {
    "name": "ipython",
    "version": 3
   },
   "file_extension": ".py",
   "mimetype": "text/x-python",
   "name": "python",
   "nbconvert_exporter": "python",
   "pygments_lexer": "ipython3",
   "version": "3.13.5"
  }
 },
 "nbformat": 4,
 "nbformat_minor": 5
}
