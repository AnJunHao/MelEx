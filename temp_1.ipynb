{
 "cells": [
  {
   "cell_type": "code",
   "execution_count": 1,
   "id": "e76e9df1",
   "metadata": {},
   "outputs": [],
   "source": [
    "import exmel\n",
    "import pickle"
   ]
  },
  {
   "cell_type": "code",
   "execution_count": 5,
   "id": "a3b9ac91",
   "metadata": {},
   "outputs": [],
   "source": [
    "dataset = exmel.Dataset(\"dataset_v1\")"
   ]
  },
  {
   "cell_type": "code",
   "execution_count": 2,
   "id": "15ec2133",
   "metadata": {},
   "outputs": [],
   "source": [
    "with open(\"song_name_to_candidates.pkl\", \"rb\") as f:\n",
    "    song_name_to_candidates = pickle.load(f)"
   ]
  },
  {
   "cell_type": "code",
   "execution_count": 6,
   "id": "cf0b82da",
   "metadata": {},
   "outputs": [
    {
     "data": {
      "application/vnd.jupyter.widget-view+json": {
       "model_id": "c8cbe263eb0a4523aec9e33c9dbaceb2",
       "version_major": 2,
       "version_minor": 0
      },
      "text/plain": [
       "  0%|          | 0/34 [00:00<?, ?it/s]"
      ]
     },
     "metadata": {},
     "output_type": "display_data"
    }
   ],
   "source": [
    "from tqdm.auto import tqdm\n",
    "from exmel.sequence import song_stats\n",
    "\n",
    "score_model = exmel.XGBoostModel('xgb_hop1_miss2_len8_large.json')\n",
    "name_to_scores: dict[str, list[float]] = {}\n",
    "for song in tqdm(dataset):\n",
    "    score_model.load_song_stats(song_stats(song.melody, song.performance))\n",
    "    candidates = song_name_to_candidates[song.name]\n",
    "    name_to_scores[song.name] = score_model(candidates)"
   ]
  },
  {
   "cell_type": "code",
   "execution_count": 7,
   "id": "ccd5ac35",
   "metadata": {},
   "outputs": [
    {
     "data": {
      "application/vnd.jupyter.widget-view+json": {
       "model_id": "8baf6831a20f4175bbcb31702177ff7a",
       "version_major": 2,
       "version_minor": 0
      },
      "text/plain": [
       "p=0, m=0:   0%|          | 0/34 [00:00<?, ?it/s]"
      ]
     },
     "metadata": {},
     "output_type": "display_data"
    },
    {
     "name": "stdout",
     "output_type": "stream",
     "text": [
      "p=0, m=0, f1_score=0.9366007610850913, precision=0.9330983836544795, recall=0.9409448372095421\n"
     ]
    },
    {
     "data": {
      "application/vnd.jupyter.widget-view+json": {
       "model_id": "a1a72fc5bbe848d7a37bb1bd44b94bc9",
       "version_major": 2,
       "version_minor": 0
      },
      "text/plain": [
       "p=0, m=1:   0%|          | 0/34 [00:00<?, ?it/s]"
      ]
     },
     "metadata": {},
     "output_type": "display_data"
    },
    {
     "name": "stdout",
     "output_type": "stream",
     "text": [
      "p=0, m=1, f1_score=0.939840474391724, precision=0.9394254901163056, recall=0.9409448372095421\n"
     ]
    },
    {
     "data": {
      "application/vnd.jupyter.widget-view+json": {
       "model_id": "9c4658ad3b674b39bafc89576fb8bb19",
       "version_major": 2,
       "version_minor": 0
      },
      "text/plain": [
       "p=0, m=2:   0%|          | 0/34 [00:00<?, ?it/s]"
      ]
     },
     "metadata": {},
     "output_type": "display_data"
    },
    {
     "name": "stdout",
     "output_type": "stream",
     "text": [
      "p=0, m=2, f1_score=0.9405893685429446, precision=0.941171501986201, recall=0.9407447571775294\n"
     ]
    },
    {
     "data": {
      "application/vnd.jupyter.widget-view+json": {
       "model_id": "f1c84f7931f14b2e94e667ad232327eb",
       "version_major": 2,
       "version_minor": 0
      },
      "text/plain": [
       "p=0, m=3:   0%|          | 0/34 [00:00<?, ?it/s]"
      ]
     },
     "metadata": {},
     "output_type": "display_data"
    },
    {
     "name": "stdout",
     "output_type": "stream",
     "text": [
      "p=0, m=3, f1_score=0.942064275633886, precision=0.9442442841943257, recall=0.940522961377299\n"
     ]
    },
    {
     "data": {
      "application/vnd.jupyter.widget-view+json": {
       "model_id": "95f83d2307394b0785cce8055cc66369",
       "version_major": 2,
       "version_minor": 0
      },
      "text/plain": [
       "p=0, m=4:   0%|          | 0/34 [00:00<?, ?it/s]"
      ]
     },
     "metadata": {},
     "output_type": "display_data"
    },
    {
     "name": "stdout",
     "output_type": "stream",
     "text": [
      "p=0, m=4, f1_score=0.9441551275365185, precision=0.9484158482149283, recall=0.9405074309369647\n"
     ]
    },
    {
     "data": {
      "application/vnd.jupyter.widget-view+json": {
       "model_id": "44b8efbd5e6d42419d37005b26dcba3e",
       "version_major": 2,
       "version_minor": 0
      },
      "text/plain": [
       "p=0, m=5:   0%|          | 0/34 [00:00<?, ?it/s]"
      ]
     },
     "metadata": {},
     "output_type": "display_data"
    },
    {
     "name": "stdout",
     "output_type": "stream",
     "text": [
      "p=0, m=5, f1_score=0.9476293811022448, precision=0.9558056836341573, recall=0.940173992678634\n"
     ]
    },
    {
     "data": {
      "application/vnd.jupyter.widget-view+json": {
       "model_id": "54140be2702a40d7bb53ab32484966ad",
       "version_major": 2,
       "version_minor": 0
      },
      "text/plain": [
       "p=0, m=6:   0%|          | 0/34 [00:00<?, ?it/s]"
      ]
     },
     "metadata": {},
     "output_type": "display_data"
    },
    {
     "name": "stdout",
     "output_type": "stream",
     "text": [
      "p=0, m=6, f1_score=0.9510651935207719, precision=0.9623191175847933, recall=0.9406956107118729\n"
     ]
    },
    {
     "data": {
      "application/vnd.jupyter.widget-view+json": {
       "model_id": "57bfc899f0514cf68195be83abdbca85",
       "version_major": 2,
       "version_minor": 0
      },
      "text/plain": [
       "p=0, m=7:   0%|          | 0/34 [00:00<?, ?it/s]"
      ]
     },
     "metadata": {},
     "output_type": "display_data"
    },
    {
     "name": "stdout",
     "output_type": "stream",
     "text": [
      "p=0, m=7, f1_score=0.953398215745433, precision=0.9675131981610418, recall=0.9402168533973672\n"
     ]
    },
    {
     "data": {
      "application/vnd.jupyter.widget-view+json": {
       "model_id": "98939353a46e4430af95c7643999cde6",
       "version_major": 2,
       "version_minor": 0
      },
      "text/plain": [
       "p=0, m=8:   0%|          | 0/34 [00:00<?, ?it/s]"
      ]
     },
     "metadata": {},
     "output_type": "display_data"
    },
    {
     "name": "stdout",
     "output_type": "stream",
     "text": [
      "p=0, m=8, f1_score=0.9540747074878847, precision=0.971733374269161, recall=0.9375443367688759\n"
     ]
    },
    {
     "data": {
      "application/vnd.jupyter.widget-view+json": {
       "model_id": "26f689aa9bd24e08831c4eca2c65e856",
       "version_major": 2,
       "version_minor": 0
      },
      "text/plain": [
       "p=0, m=9:   0%|          | 0/34 [00:00<?, ?it/s]"
      ]
     },
     "metadata": {},
     "output_type": "display_data"
    },
    {
     "name": "stdout",
     "output_type": "stream",
     "text": [
      "p=0, m=9, f1_score=0.9535580824499649, precision=0.9753310956304266, recall=0.9334737965490255\n"
     ]
    },
    {
     "data": {
      "application/vnd.jupyter.widget-view+json": {
       "model_id": "2bcc6181b6bf4b91a9702c9b5175a6da",
       "version_major": 2,
       "version_minor": 0
      },
      "text/plain": [
       "p=0, m=10:   0%|          | 0/34 [00:00<?, ?it/s]"
      ]
     },
     "metadata": {},
     "output_type": "display_data"
    },
    {
     "name": "stdout",
     "output_type": "stream",
     "text": [
      "p=0, m=10, f1_score=0.9515122122942602, precision=0.9760442575570525, recall=0.9290323162860707\n"
     ]
    },
    {
     "data": {
      "application/vnd.jupyter.widget-view+json": {
       "model_id": "f1c70e9dcf784ef4b4fd2195304a096e",
       "version_major": 2,
       "version_minor": 0
      },
      "text/plain": [
       "p=0, m=11:   0%|          | 0/34 [00:00<?, ?it/s]"
      ]
     },
     "metadata": {},
     "output_type": "display_data"
    },
    {
     "name": "stdout",
     "output_type": "stream",
     "text": [
      "p=0, m=11, f1_score=0.9509700747776357, precision=0.9763025628924966, recall=0.9277782250844367\n"
     ]
    },
    {
     "data": {
      "application/vnd.jupyter.widget-view+json": {
       "model_id": "e168891d6c6943bca331772b12131058",
       "version_major": 2,
       "version_minor": 0
      },
      "text/plain": [
       "p=0, m=12:   0%|          | 0/34 [00:00<?, ?it/s]"
      ]
     },
     "metadata": {},
     "output_type": "display_data"
    },
    {
     "name": "stdout",
     "output_type": "stream",
     "text": [
      "p=0, m=12, f1_score=0.9494253551066556, precision=0.9778263063564518, recall=0.9237369813700704\n"
     ]
    },
    {
     "data": {
      "application/vnd.jupyter.widget-view+json": {
       "model_id": "6630e169bb994ff499c51de66c1c3c34",
       "version_major": 2,
       "version_minor": 0
      },
      "text/plain": [
       "p=0, m=13:   0%|          | 0/34 [00:00<?, ?it/s]"
      ]
     },
     "metadata": {},
     "output_type": "display_data"
    },
    {
     "name": "stdout",
     "output_type": "stream",
     "text": [
      "p=0, m=13, f1_score=0.948555830780605, precision=0.9771936925729302, recall=0.9225940784075505\n"
     ]
    },
    {
     "data": {
      "application/vnd.jupyter.widget-view+json": {
       "model_id": "f3595e8d466d43bf850658d816a0ce17",
       "version_major": 2,
       "version_minor": 0
      },
      "text/plain": [
       "p=0, m=14:   0%|          | 0/34 [00:00<?, ?it/s]"
      ]
     },
     "metadata": {},
     "output_type": "display_data"
    },
    {
     "name": "stdout",
     "output_type": "stream",
     "text": [
      "p=0, m=14, f1_score=0.9467079730649919, precision=0.9781088341756883, recall=0.9185034017267792\n"
     ]
    },
    {
     "data": {
      "application/vnd.jupyter.widget-view+json": {
       "model_id": "ada2a4d75f4a4254ae4da757e79216be",
       "version_major": 2,
       "version_minor": 0
      },
      "text/plain": [
       "p=0, m=15:   0%|          | 0/34 [00:00<?, ?it/s]"
      ]
     },
     "metadata": {},
     "output_type": "display_data"
    },
    {
     "name": "stdout",
     "output_type": "stream",
     "text": [
      "p=0, m=15, f1_score=0.9446349461725688, precision=0.9773487490234177, recall=0.9153476469309311\n"
     ]
    },
    {
     "data": {
      "application/vnd.jupyter.widget-view+json": {
       "model_id": "fbbf4dffbfe84101afd82bffedad39a5",
       "version_major": 2,
       "version_minor": 0
      },
      "text/plain": [
       "p=0, m=16:   0%|          | 0/34 [00:00<?, ?it/s]"
      ]
     },
     "metadata": {},
     "output_type": "display_data"
    },
    {
     "name": "stdout",
     "output_type": "stream",
     "text": [
      "p=0, m=16, f1_score=0.943477316007967, precision=0.9784256830009542, recall=0.9123712778351075\n"
     ]
    },
    {
     "data": {
      "application/vnd.jupyter.widget-view+json": {
       "model_id": "10057be99dbc404586c9aa9b5f697615",
       "version_major": 2,
       "version_minor": 0
      },
      "text/plain": [
       "p=0, m=17:   0%|          | 0/34 [00:00<?, ?it/s]"
      ]
     },
     "metadata": {},
     "output_type": "display_data"
    },
    {
     "name": "stdout",
     "output_type": "stream",
     "text": [
      "p=0, m=17, f1_score=0.9410670229076172, precision=0.9781463471451204, recall=0.9083555340729856\n"
     ]
    },
    {
     "data": {
      "application/vnd.jupyter.widget-view+json": {
       "model_id": "e22e87610362457db1bbba242d713d5f",
       "version_major": 2,
       "version_minor": 0
      },
      "text/plain": [
       "p=0, m=18:   0%|          | 0/34 [00:00<?, ?it/s]"
      ]
     },
     "metadata": {},
     "output_type": "display_data"
    },
    {
     "name": "stdout",
     "output_type": "stream",
     "text": [
      "p=0, m=18, f1_score=0.9400725014145986, precision=0.97829733746378, recall=0.9063581828195961\n"
     ]
    },
    {
     "data": {
      "application/vnd.jupyter.widget-view+json": {
       "model_id": "5297e451c63f4bb4a24f5cfc311f1bed",
       "version_major": 2,
       "version_minor": 0
      },
      "text/plain": [
       "p=0, m=19:   0%|          | 0/34 [00:00<?, ?it/s]"
      ]
     },
     "metadata": {},
     "output_type": "display_data"
    },
    {
     "name": "stdout",
     "output_type": "stream",
     "text": [
      "p=0, m=19, f1_score=0.9392196497438693, precision=0.9783179274751542, recall=0.9048336131253754\n"
     ]
    },
    {
     "data": {
      "application/vnd.jupyter.widget-view+json": {
       "model_id": "3f6fa77976214d1295518e1f0d577cc2",
       "version_major": 2,
       "version_minor": 0
      },
      "text/plain": [
       "p=0, m=20:   0%|          | 0/34 [00:00<?, ?it/s]"
      ]
     },
     "metadata": {},
     "output_type": "display_data"
    },
    {
     "name": "stdout",
     "output_type": "stream",
     "text": [
      "p=0, m=20, f1_score=0.9353304350042422, precision=0.977817203368799, recall=0.8983026247186411\n"
     ]
    },
    {
     "data": {
      "application/vnd.jupyter.widget-view+json": {
       "model_id": "1582db7466824007888b99bebb460ce0",
       "version_major": 2,
       "version_minor": 0
      },
      "text/plain": [
       "p=0, m=21:   0%|          | 0/34 [00:00<?, ?it/s]"
      ]
     },
     "metadata": {},
     "output_type": "display_data"
    },
    {
     "name": "stdout",
     "output_type": "stream",
     "text": [
      "p=0, m=21, f1_score=0.9335315468788731, precision=0.9782959331995289, recall=0.8948483200362586\n"
     ]
    },
    {
     "data": {
      "application/vnd.jupyter.widget-view+json": {
       "model_id": "8340ceb436b34d06a24e4fcbe0bb6b90",
       "version_major": 2,
       "version_minor": 0
      },
      "text/plain": [
       "p=0, m=22:   0%|          | 0/34 [00:00<?, ?it/s]"
      ]
     },
     "metadata": {},
     "output_type": "display_data"
    },
    {
     "name": "stdout",
     "output_type": "stream",
     "text": [
      "p=0, m=22, f1_score=0.9296585002677251, precision=0.9776900920080471, recall=0.8888875484961075\n"
     ]
    },
    {
     "data": {
      "application/vnd.jupyter.widget-view+json": {
       "model_id": "4d1eb7bffc47424eaaaa7d021d52cc4f",
       "version_major": 2,
       "version_minor": 0
      },
      "text/plain": [
       "p=0, m=23:   0%|          | 0/34 [00:00<?, ?it/s]"
      ]
     },
     "metadata": {},
     "output_type": "display_data"
    },
    {
     "name": "stdout",
     "output_type": "stream",
     "text": [
      "p=0, m=23, f1_score=0.9300577471066663, precision=0.9798239103575833, recall=0.8883958544784806\n"
     ]
    },
    {
     "data": {
      "application/vnd.jupyter.widget-view+json": {
       "model_id": "1ecc8b1b0e914b8ca0fc511d5a75036e",
       "version_major": 2,
       "version_minor": 0
      },
      "text/plain": [
       "p=0, m=24:   0%|          | 0/34 [00:00<?, ?it/s]"
      ]
     },
     "metadata": {},
     "output_type": "display_data"
    },
    {
     "name": "stdout",
     "output_type": "stream",
     "text": [
      "p=0, m=24, f1_score=0.9289580345612096, precision=0.9812491104915155, recall=0.8856108084226205\n"
     ]
    },
    {
     "data": {
      "application/vnd.jupyter.widget-view+json": {
       "model_id": "c251e8de7e93461d80f88d90c061fad8",
       "version_major": 2,
       "version_minor": 0
      },
      "text/plain": [
       "p=0, m=25:   0%|          | 0/34 [00:00<?, ?it/s]"
      ]
     },
     "metadata": {},
     "output_type": "display_data"
    },
    {
     "name": "stdout",
     "output_type": "stream",
     "text": [
      "p=0, m=25, f1_score=0.9286480426951711, precision=0.9826294759983616, recall=0.8840247281627169\n"
     ]
    },
    {
     "data": {
      "application/vnd.jupyter.widget-view+json": {
       "model_id": "68165376079b461c8497e5703aff3c2f",
       "version_major": 2,
       "version_minor": 0
      },
      "text/plain": [
       "p=0, m=26:   0%|          | 0/34 [00:00<?, ?it/s]"
      ]
     },
     "metadata": {},
     "output_type": "display_data"
    },
    {
     "name": "stdout",
     "output_type": "stream",
     "text": [
      "p=0, m=26, f1_score=0.9262975447017392, precision=0.9820011646187178, recall=0.8809078232139755\n"
     ]
    },
    {
     "data": {
      "application/vnd.jupyter.widget-view+json": {
       "model_id": "e3d2c04f6f424fa1822d49cabdc60ea5",
       "version_major": 2,
       "version_minor": 0
      },
      "text/plain": [
       "p=0, m=27:   0%|          | 0/34 [00:00<?, ?it/s]"
      ]
     },
     "metadata": {},
     "output_type": "display_data"
    },
    {
     "name": "stdout",
     "output_type": "stream",
     "text": [
      "p=0, m=27, f1_score=0.9219960359796191, precision=0.9820140295309769, recall=0.8739872790245715\n"
     ]
    },
    {
     "data": {
      "application/vnd.jupyter.widget-view+json": {
       "model_id": "4a0e0253d2dc48d6a0f18ff01544208f",
       "version_major": 2,
       "version_minor": 0
      },
      "text/plain": [
       "p=0, m=28:   0%|          | 0/34 [00:00<?, ?it/s]"
      ]
     },
     "metadata": {},
     "output_type": "display_data"
    },
    {
     "name": "stdout",
     "output_type": "stream",
     "text": [
      "p=0, m=28, f1_score=0.9199533738852507, precision=0.9807301936627605, recall=0.871633298565883\n"
     ]
    },
    {
     "data": {
      "application/vnd.jupyter.widget-view+json": {
       "model_id": "5cb57e93966c4c9497ddbc6a262a8d6c",
       "version_major": 2,
       "version_minor": 0
      },
      "text/plain": [
       "p=0, m=29:   0%|          | 0/34 [00:00<?, ?it/s]"
      ]
     },
     "metadata": {},
     "output_type": "display_data"
    },
    {
     "name": "stdout",
     "output_type": "stream",
     "text": [
      "p=0, m=29, f1_score=0.9189976259189181, precision=0.981431263455327, recall=0.8700583230292888\n"
     ]
    },
    {
     "data": {
      "application/vnd.jupyter.widget-view+json": {
       "model_id": "ce383b2fa70b4ca5a1be377b253ab57e",
       "version_major": 2,
       "version_minor": 0
      },
      "text/plain": [
       "p=0, m=30:   0%|          | 0/34 [00:00<?, ?it/s]"
      ]
     },
     "metadata": {},
     "output_type": "display_data"
    },
    {
     "name": "stdout",
     "output_type": "stream",
     "text": [
      "p=0, m=30, f1_score=0.9170750753513791, precision=0.9821234706890118, recall=0.8672721136462793\n"
     ]
    }
   ],
   "source": [
    "from itertools import product\n",
    "from exmel.wisp import weighted_interval_scheduling\n",
    "from exmel.alignment import Alignment, concat_matches, FrozenMatch\n",
    "import numpy as np\n",
    "\n",
    "\n",
    "pen_min_tuple = list(product([0], range(31)))\n",
    "\n",
    "f1_list: list[float] = []\n",
    "precision_list: list[float] = []\n",
    "recall_list: list[float] = []\n",
    "\n",
    "for p, m in pen_min_tuple:\n",
    "    f1_score = 0\n",
    "    precision = 0\n",
    "    recall = 0\n",
    "    for song in tqdm(dataset, desc=f\"{p=}, {m=}\"):\n",
    "        scores = np.array(name_to_scores[song.name]) - p\n",
    "        candidates = song_name_to_candidates[song.name]\n",
    "        updated_candidates: list[FrozenMatch] = []\n",
    "        for candidate, score in zip(candidates, scores):\n",
    "            if score >= m:\n",
    "                updated_candidates.append(candidate.update_score(score))\n",
    "        candidates = updated_candidates\n",
    "        opt_score, opt_subset = weighted_interval_scheduling(\n",
    "            candidates, return_subset=True, verbose=False)\n",
    "        discarded_matches = [match for match in candidates if match not in opt_subset]\n",
    "        concat_events = concat_matches(opt_subset)\n",
    "        alignment = Alignment(concat_events, opt_subset, discarded_matches, opt_score,\n",
    "                        sum(match.sum_miss for match in opt_subset),\n",
    "                        sum(match.sum_error for match in opt_subset))\n",
    "        assert song.ground_truth is not None\n",
    "        result = exmel.evaluate_melody(song.ground_truth, alignment.events, plot=False)\n",
    "        f1_score += result.f1_score\n",
    "        precision += result.precision\n",
    "        recall += result.recall\n",
    "    f1_score /= len(dataset)\n",
    "    precision /= len(dataset)\n",
    "    recall /= len(dataset)\n",
    "    f1_list.append(f1_score)\n",
    "    precision_list.append(precision)\n",
    "    recall_list.append(recall)\n",
    "    print(f\"{p=}, {m=}, {f1_score=}, {precision=}, {recall=}\")"
   ]
  },
  {
   "cell_type": "markdown",
   "id": "427706ba",
   "metadata": {},
   "source": [
    "# Data"
   ]
  },
  {
   "cell_type": "code",
   "execution_count": 12,
   "id": "d842e893",
   "metadata": {},
   "outputs": [],
   "source": [
    "from dataclasses import dataclass\n",
    "\n",
    "@dataclass(frozen=True, slots=True)\n",
    "class Detection:\n",
    "    tp: int\n",
    "    fp: int\n",
    "    start: float\n",
    "    end: float\n",
    "\n",
    "with open(\"detections.pkl\", \"rb\") as f:\n",
    "    detections = pickle.load(f)"
   ]
  },
  {
   "cell_type": "code",
   "execution_count": 13,
   "id": "7f12b5dd",
   "metadata": {},
   "outputs": [],
   "source": [
    "from typing import TypedDict\n",
    "from exmel.alignment import MatchLike\n",
    "import numpy as np\n",
    "from collections import Counter\n",
    "\n",
    "class Entry(TypedDict):\n",
    "    name: str\n",
    "    tp: int\n",
    "    fp: int\n",
    "    length: int\n",
    "    misses: int\n",
    "    error: float\n",
    "    velocity: float\n",
    "    duration: float\n",
    "    note_mean: float\n",
    "    note_std: float\n",
    "    note_entropy: float\n",
    "    note_unique: int\n",
    "    note_change: int\n",
    "\n",
    "class ScoreFunctions:\n",
    "\n",
    "    @staticmethod\n",
    "    def length(match: MatchLike) -> int:\n",
    "        return len(match.events)\n",
    "\n",
    "    @staticmethod\n",
    "    def misses(match: MatchLike) -> int:\n",
    "        return match.sum_miss\n",
    "\n",
    "    @staticmethod\n",
    "    def error(match: MatchLike) -> float:\n",
    "        return match.sum_error\n",
    "\n",
    "    @staticmethod\n",
    "    def velocity(match: MatchLike) -> float:\n",
    "        return float(np.mean([event.velocity for event in match.events]))\n",
    "    \n",
    "    @staticmethod\n",
    "    def duration(match: MatchLike) -> float:\n",
    "        return match.events[-1].time - match.events[0].time\n",
    "\n",
    "    @staticmethod\n",
    "    def note_mean(match: MatchLike) -> float:\n",
    "        return sum(event.note for event in match.events) / len(match.events)\n",
    "\n",
    "    @staticmethod\n",
    "    def note_std(match: MatchLike) -> float:\n",
    "        return float(np.std([event.note for event in match.events]))\n",
    "\n",
    "    @staticmethod\n",
    "    def note_entropy(match: MatchLike) -> float:\n",
    "        counts = np.array(list(Counter(event.note for event in match.events).values()))\n",
    "        probs = counts / counts.sum()\n",
    "        entropy = -np.sum(probs * np.log2(probs))\n",
    "        return float(entropy)\n",
    "\n",
    "    @staticmethod\n",
    "    def note_unique(match: MatchLike) -> int:\n",
    "        return len(set(event.note for event in match.events))\n",
    "\n",
    "    @staticmethod\n",
    "    def note_change(match: MatchLike) -> int:\n",
    "        return sum(match.events[i].note != match.events[i - 1].note\n",
    "                   for i in range(1, len(match.events)))\n",
    "\n",
    "sf = ScoreFunctions"
   ]
  },
  {
   "cell_type": "code",
   "execution_count": null,
   "id": "ef3505e9",
   "metadata": {},
   "outputs": [],
   "source": [
    "dataset = exmel.Dataset(\"dataset_v1\")\n"
   ]
  },
  {
   "cell_type": "code",
   "execution_count": 19,
   "id": "b16cc9fa",
   "metadata": {},
   "outputs": [
    {
     "data": {
      "text/plain": [
       "(89455, 89455)"
      ]
     },
     "execution_count": 19,
     "metadata": {},
     "output_type": "execute_result"
    }
   ],
   "source": [
    "len(detections['All of Me(John Legend)']), len(song_name_to_candidates['All of Me(John Legend)'])"
   ]
  },
  {
   "cell_type": "code",
   "execution_count": 21,
   "id": "64154f45",
   "metadata": {},
   "outputs": [
    {
     "data": {
      "text/plain": [
       "Detection(tp=8, fp=0, start=17.115885416666668, end=19.973958333333332)"
      ]
     },
     "execution_count": 21,
     "metadata": {},
     "output_type": "execute_result"
    }
   ],
   "source": [
    "detections['All of Me(John Legend)'][0]"
   ]
  },
  {
   "cell_type": "code",
   "execution_count": 22,
   "id": "7360bf39",
   "metadata": {},
   "outputs": [
    {
     "name": "stdout",
     "output_type": "stream",
     "text": [
      "1/34\n"
     ]
    },
    {
     "data": {
      "application/vnd.jupyter.widget-view+json": {
       "model_id": "bb20a3b275ed4ba8ae9db6667f39a7c4",
       "version_major": 2,
       "version_minor": 0
      },
      "text/plain": [
       "  0%|          | 0/89455 [00:00<?, ?it/s]"
      ]
     },
     "metadata": {},
     "output_type": "display_data"
    },
    {
     "name": "stdout",
     "output_type": "stream",
     "text": [
      "2/34\n"
     ]
    },
    {
     "data": {
      "application/vnd.jupyter.widget-view+json": {
       "model_id": "2355083c22e94ae19798d5e06744a5a9",
       "version_major": 2,
       "version_minor": 0
      },
      "text/plain": [
       "  0%|          | 0/42679 [00:00<?, ?it/s]"
      ]
     },
     "metadata": {},
     "output_type": "display_data"
    },
    {
     "name": "stdout",
     "output_type": "stream",
     "text": [
      "3/34\n"
     ]
    },
    {
     "data": {
      "application/vnd.jupyter.widget-view+json": {
       "model_id": "0a134e062ae84122a98d8ba58aa5b4e3",
       "version_major": 2,
       "version_minor": 0
      },
      "text/plain": [
       "  0%|          | 0/143774 [00:00<?, ?it/s]"
      ]
     },
     "metadata": {},
     "output_type": "display_data"
    },
    {
     "name": "stdout",
     "output_type": "stream",
     "text": [
      "4/34\n"
     ]
    },
    {
     "data": {
      "application/vnd.jupyter.widget-view+json": {
       "model_id": "34608a62b5ae44e7bb38b831ad849b10",
       "version_major": 2,
       "version_minor": 0
      },
      "text/plain": [
       "  0%|          | 0/43752 [00:00<?, ?it/s]"
      ]
     },
     "metadata": {},
     "output_type": "display_data"
    },
    {
     "name": "stdout",
     "output_type": "stream",
     "text": [
      "5/34\n"
     ]
    },
    {
     "data": {
      "application/vnd.jupyter.widget-view+json": {
       "model_id": "0581cf368e054b668fafc27005e07f50",
       "version_major": 2,
       "version_minor": 0
      },
      "text/plain": [
       "  0%|          | 0/191239 [00:00<?, ?it/s]"
      ]
     },
     "metadata": {},
     "output_type": "display_data"
    },
    {
     "name": "stdout",
     "output_type": "stream",
     "text": [
      "6/34\n"
     ]
    },
    {
     "data": {
      "application/vnd.jupyter.widget-view+json": {
       "model_id": "64b92fd219fa47428eff5a1346ed4286",
       "version_major": 2,
       "version_minor": 0
      },
      "text/plain": [
       "  0%|          | 0/110853 [00:00<?, ?it/s]"
      ]
     },
     "metadata": {},
     "output_type": "display_data"
    },
    {
     "name": "stdout",
     "output_type": "stream",
     "text": [
      "7/34\n"
     ]
    },
    {
     "data": {
      "application/vnd.jupyter.widget-view+json": {
       "model_id": "84e6b88ceb714b2eb64c3c621341f588",
       "version_major": 2,
       "version_minor": 0
      },
      "text/plain": [
       "  0%|          | 0/114819 [00:00<?, ?it/s]"
      ]
     },
     "metadata": {},
     "output_type": "display_data"
    },
    {
     "name": "stdout",
     "output_type": "stream",
     "text": [
      "8/34\n"
     ]
    },
    {
     "data": {
      "application/vnd.jupyter.widget-view+json": {
       "model_id": "45f5e385312641889571370399ae9f5b",
       "version_major": 2,
       "version_minor": 0
      },
      "text/plain": [
       "  0%|          | 0/99185 [00:00<?, ?it/s]"
      ]
     },
     "metadata": {},
     "output_type": "display_data"
    },
    {
     "name": "stdout",
     "output_type": "stream",
     "text": [
      "9/34\n"
     ]
    },
    {
     "data": {
      "application/vnd.jupyter.widget-view+json": {
       "model_id": "4d041949d5bd4175bab79f3f73fed57a",
       "version_major": 2,
       "version_minor": 0
      },
      "text/plain": [
       "  0%|          | 0/193203 [00:00<?, ?it/s]"
      ]
     },
     "metadata": {},
     "output_type": "display_data"
    },
    {
     "name": "stdout",
     "output_type": "stream",
     "text": [
      "10/34\n"
     ]
    },
    {
     "data": {
      "application/vnd.jupyter.widget-view+json": {
       "model_id": "3f283773900a4c49b3107530bead50dc",
       "version_major": 2,
       "version_minor": 0
      },
      "text/plain": [
       "  0%|          | 0/474568 [00:00<?, ?it/s]"
      ]
     },
     "metadata": {},
     "output_type": "display_data"
    },
    {
     "name": "stdout",
     "output_type": "stream",
     "text": [
      "11/34\n"
     ]
    },
    {
     "data": {
      "application/vnd.jupyter.widget-view+json": {
       "model_id": "9d6044f53608465ba23986873a2145ef",
       "version_major": 2,
       "version_minor": 0
      },
      "text/plain": [
       "  0%|          | 0/94470 [00:00<?, ?it/s]"
      ]
     },
     "metadata": {},
     "output_type": "display_data"
    },
    {
     "name": "stdout",
     "output_type": "stream",
     "text": [
      "12/34\n"
     ]
    },
    {
     "data": {
      "application/vnd.jupyter.widget-view+json": {
       "model_id": "d7e06812f89d4cc4897259f681ce258f",
       "version_major": 2,
       "version_minor": 0
      },
      "text/plain": [
       "  0%|          | 0/100287 [00:00<?, ?it/s]"
      ]
     },
     "metadata": {},
     "output_type": "display_data"
    },
    {
     "name": "stdout",
     "output_type": "stream",
     "text": [
      "13/34\n"
     ]
    },
    {
     "data": {
      "application/vnd.jupyter.widget-view+json": {
       "model_id": "375fbbfc5d8d46d6a7f629fececc9a68",
       "version_major": 2,
       "version_minor": 0
      },
      "text/plain": [
       "  0%|          | 0/267854 [00:00<?, ?it/s]"
      ]
     },
     "metadata": {},
     "output_type": "display_data"
    },
    {
     "name": "stdout",
     "output_type": "stream",
     "text": [
      "14/34\n"
     ]
    },
    {
     "data": {
      "application/vnd.jupyter.widget-view+json": {
       "model_id": "bb45ea55e94e40d9aac546c1be0e61fb",
       "version_major": 2,
       "version_minor": 0
      },
      "text/plain": [
       "  0%|          | 0/183897 [00:00<?, ?it/s]"
      ]
     },
     "metadata": {},
     "output_type": "display_data"
    },
    {
     "name": "stdout",
     "output_type": "stream",
     "text": [
      "15/34\n"
     ]
    },
    {
     "data": {
      "application/vnd.jupyter.widget-view+json": {
       "model_id": "e0752fa41e9a41129d23a3e17aac931b",
       "version_major": 2,
       "version_minor": 0
      },
      "text/plain": [
       "  0%|          | 0/69795 [00:00<?, ?it/s]"
      ]
     },
     "metadata": {},
     "output_type": "display_data"
    },
    {
     "name": "stdout",
     "output_type": "stream",
     "text": [
      "16/34\n"
     ]
    },
    {
     "data": {
      "application/vnd.jupyter.widget-view+json": {
       "model_id": "5ffeb01562a442bba5c40ba9332e0ee3",
       "version_major": 2,
       "version_minor": 0
      },
      "text/plain": [
       "  0%|          | 0/71091 [00:00<?, ?it/s]"
      ]
     },
     "metadata": {},
     "output_type": "display_data"
    },
    {
     "name": "stdout",
     "output_type": "stream",
     "text": [
      "17/34\n"
     ]
    },
    {
     "data": {
      "application/vnd.jupyter.widget-view+json": {
       "model_id": "71d2cb20d2164313b311b2a877a6d090",
       "version_major": 2,
       "version_minor": 0
      },
      "text/plain": [
       "  0%|          | 0/64259 [00:00<?, ?it/s]"
      ]
     },
     "metadata": {},
     "output_type": "display_data"
    },
    {
     "name": "stdout",
     "output_type": "stream",
     "text": [
      "18/34\n"
     ]
    },
    {
     "data": {
      "application/vnd.jupyter.widget-view+json": {
       "model_id": "e23db8ac22554db78af6dffe70889b48",
       "version_major": 2,
       "version_minor": 0
      },
      "text/plain": [
       "  0%|          | 0/267908 [00:00<?, ?it/s]"
      ]
     },
     "metadata": {},
     "output_type": "display_data"
    },
    {
     "name": "stdout",
     "output_type": "stream",
     "text": [
      "19/34\n"
     ]
    },
    {
     "data": {
      "application/vnd.jupyter.widget-view+json": {
       "model_id": "1ab543f6c65d470c8fa76241a9a7c3e2",
       "version_major": 2,
       "version_minor": 0
      },
      "text/plain": [
       "  0%|          | 0/44618 [00:00<?, ?it/s]"
      ]
     },
     "metadata": {},
     "output_type": "display_data"
    },
    {
     "name": "stdout",
     "output_type": "stream",
     "text": [
      "20/34\n"
     ]
    },
    {
     "data": {
      "application/vnd.jupyter.widget-view+json": {
       "model_id": "e1b20e23d44f44a38cc8b7ab005d602f",
       "version_major": 2,
       "version_minor": 0
      },
      "text/plain": [
       "  0%|          | 0/60017 [00:00<?, ?it/s]"
      ]
     },
     "metadata": {},
     "output_type": "display_data"
    },
    {
     "name": "stdout",
     "output_type": "stream",
     "text": [
      "21/34\n"
     ]
    },
    {
     "data": {
      "application/vnd.jupyter.widget-view+json": {
       "model_id": "f255b992452241468beeeeeb34d36953",
       "version_major": 2,
       "version_minor": 0
      },
      "text/plain": [
       "  0%|          | 0/88307 [00:00<?, ?it/s]"
      ]
     },
     "metadata": {},
     "output_type": "display_data"
    },
    {
     "name": "stdout",
     "output_type": "stream",
     "text": [
      "22/34\n"
     ]
    },
    {
     "data": {
      "application/vnd.jupyter.widget-view+json": {
       "model_id": "d64b327219644c99bd8995fc8befbe3a",
       "version_major": 2,
       "version_minor": 0
      },
      "text/plain": [
       "  0%|          | 0/81310 [00:00<?, ?it/s]"
      ]
     },
     "metadata": {},
     "output_type": "display_data"
    },
    {
     "name": "stdout",
     "output_type": "stream",
     "text": [
      "23/34\n"
     ]
    },
    {
     "data": {
      "application/vnd.jupyter.widget-view+json": {
       "model_id": "aa0efadb4c3f42deb8f58753157f4adb",
       "version_major": 2,
       "version_minor": 0
      },
      "text/plain": [
       "  0%|          | 0/119737 [00:00<?, ?it/s]"
      ]
     },
     "metadata": {},
     "output_type": "display_data"
    },
    {
     "name": "stdout",
     "output_type": "stream",
     "text": [
      "24/34\n"
     ]
    },
    {
     "data": {
      "application/vnd.jupyter.widget-view+json": {
       "model_id": "76344a2dd98342f8be4a5fa0cc0f6e6f",
       "version_major": 2,
       "version_minor": 0
      },
      "text/plain": [
       "  0%|          | 0/205465 [00:00<?, ?it/s]"
      ]
     },
     "metadata": {},
     "output_type": "display_data"
    },
    {
     "name": "stdout",
     "output_type": "stream",
     "text": [
      "25/34\n"
     ]
    },
    {
     "data": {
      "application/vnd.jupyter.widget-view+json": {
       "model_id": "0c580d5c63cb46bebe8ab1e688c46b87",
       "version_major": 2,
       "version_minor": 0
      },
      "text/plain": [
       "  0%|          | 0/94701 [00:00<?, ?it/s]"
      ]
     },
     "metadata": {},
     "output_type": "display_data"
    },
    {
     "name": "stdout",
     "output_type": "stream",
     "text": [
      "26/34\n"
     ]
    },
    {
     "data": {
      "application/vnd.jupyter.widget-view+json": {
       "model_id": "ef90fff6e6274dc29cd6adbfd4d0786d",
       "version_major": 2,
       "version_minor": 0
      },
      "text/plain": [
       "  0%|          | 0/156823 [00:00<?, ?it/s]"
      ]
     },
     "metadata": {},
     "output_type": "display_data"
    },
    {
     "name": "stdout",
     "output_type": "stream",
     "text": [
      "27/34\n"
     ]
    },
    {
     "data": {
      "application/vnd.jupyter.widget-view+json": {
       "model_id": "b3f3ab5513b34ada958aa8e365d44816",
       "version_major": 2,
       "version_minor": 0
      },
      "text/plain": [
       "  0%|          | 0/83886 [00:00<?, ?it/s]"
      ]
     },
     "metadata": {},
     "output_type": "display_data"
    },
    {
     "name": "stdout",
     "output_type": "stream",
     "text": [
      "28/34\n"
     ]
    },
    {
     "data": {
      "application/vnd.jupyter.widget-view+json": {
       "model_id": "7a935d7f472045be9aa4653dc2951e90",
       "version_major": 2,
       "version_minor": 0
      },
      "text/plain": [
       "  0%|          | 0/55454 [00:00<?, ?it/s]"
      ]
     },
     "metadata": {},
     "output_type": "display_data"
    },
    {
     "name": "stdout",
     "output_type": "stream",
     "text": [
      "29/34\n"
     ]
    },
    {
     "data": {
      "application/vnd.jupyter.widget-view+json": {
       "model_id": "1053302d723d4db18030ee3de3aed183",
       "version_major": 2,
       "version_minor": 0
      },
      "text/plain": [
       "  0%|          | 0/176213 [00:00<?, ?it/s]"
      ]
     },
     "metadata": {},
     "output_type": "display_data"
    },
    {
     "name": "stdout",
     "output_type": "stream",
     "text": [
      "30/34\n"
     ]
    },
    {
     "data": {
      "application/vnd.jupyter.widget-view+json": {
       "model_id": "da280e2e261b4bff9a1a636dc7b6ac82",
       "version_major": 2,
       "version_minor": 0
      },
      "text/plain": [
       "  0%|          | 0/58540 [00:00<?, ?it/s]"
      ]
     },
     "metadata": {},
     "output_type": "display_data"
    },
    {
     "name": "stdout",
     "output_type": "stream",
     "text": [
      "31/34\n"
     ]
    },
    {
     "data": {
      "application/vnd.jupyter.widget-view+json": {
       "model_id": "60248fbfa2714711a4c867831adae663",
       "version_major": 2,
       "version_minor": 0
      },
      "text/plain": [
       "  0%|          | 0/251115 [00:00<?, ?it/s]"
      ]
     },
     "metadata": {},
     "output_type": "display_data"
    },
    {
     "name": "stdout",
     "output_type": "stream",
     "text": [
      "32/34\n"
     ]
    },
    {
     "data": {
      "application/vnd.jupyter.widget-view+json": {
       "model_id": "34dcd132d7a64cd2b124f12c979273cb",
       "version_major": 2,
       "version_minor": 0
      },
      "text/plain": [
       "  0%|          | 0/50815 [00:00<?, ?it/s]"
      ]
     },
     "metadata": {},
     "output_type": "display_data"
    },
    {
     "name": "stdout",
     "output_type": "stream",
     "text": [
      "33/34\n"
     ]
    },
    {
     "data": {
      "application/vnd.jupyter.widget-view+json": {
       "model_id": "0dcc3acce0664d58ab46f1e1f50631a5",
       "version_major": 2,
       "version_minor": 0
      },
      "text/plain": [
       "  0%|          | 0/45451 [00:00<?, ?it/s]"
      ]
     },
     "metadata": {},
     "output_type": "display_data"
    },
    {
     "name": "stdout",
     "output_type": "stream",
     "text": [
      "34/34\n"
     ]
    },
    {
     "data": {
      "application/vnd.jupyter.widget-view+json": {
       "model_id": "771318a1bc9944a38a2088338ed947eb",
       "version_major": 2,
       "version_minor": 0
      },
      "text/plain": [
       "  0%|          | 0/160851 [00:00<?, ?it/s]"
      ]
     },
     "metadata": {},
     "output_type": "display_data"
    }
   ],
   "source": [
    "from tqdm.auto import tqdm\n",
    "\n",
    "data: list[Entry] = []\n",
    "\n",
    "for i, song in enumerate(dataset, 1):\n",
    "    print(f\"{i}/{len(dataset)}\")\n",
    "    for match, dt in tqdm(\n",
    "        zip(song_name_to_candidates[song.name], detections[song.name]),\n",
    "        total=len(song_name_to_candidates[song.name])):\n",
    "        assert song.ground_truth is not None\n",
    "        tp, fp = dt.tp, dt.fp\n",
    "        data.append(Entry(\n",
    "            name=song.name,\n",
    "            tp=tp,\n",
    "            fp=fp,\n",
    "            length=sf.length(match),\n",
    "            misses=sf.misses(match),\n",
    "            error=sf.error(match),\n",
    "            velocity=sf.velocity(match),\n",
    "            duration=sf.duration(match),\n",
    "            note_mean=sf.note_mean(match),\n",
    "            note_std=sf.note_std(match),\n",
    "            note_entropy=sf.note_entropy(match),\n",
    "            note_unique=sf.note_unique(match),\n",
    "            note_change=sf.note_change(match)))"
   ]
  },
  {
   "cell_type": "code",
   "execution_count": 24,
   "id": "5dd8325b",
   "metadata": {},
   "outputs": [],
   "source": [
    "import pandas as pd\n",
    "df = pd.DataFrame(data)\n",
    "# df.to_csv(\"matches.csv\", index=False, encoding=\"utf-8\")"
   ]
  },
  {
   "cell_type": "code",
   "execution_count": 26,
   "id": "11c9d6fd",
   "metadata": {},
   "outputs": [],
   "source": [
    "with open(\"hop1_miss2_len8_matches.pkl\", \"wb\") as f:\n",
    "    pickle.dump(data, f)"
   ]
  }
 ],
 "metadata": {
  "kernelspec": {
   "display_name": ".venv",
   "language": "python",
   "name": "python3"
  },
  "language_info": {
   "codemirror_mode": {
    "name": "ipython",
    "version": 3
   },
   "file_extension": ".py",
   "mimetype": "text/x-python",
   "name": "python",
   "nbconvert_exporter": "python",
   "pygments_lexer": "ipython3",
   "version": "3.13.5"
  }
 },
 "nbformat": 4,
 "nbformat_minor": 5
}
