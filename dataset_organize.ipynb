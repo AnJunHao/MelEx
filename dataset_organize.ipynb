{
 "cells": [
  {
   "cell_type": "code",
   "execution_count": 1,
   "id": "a8c5c2e0",
   "metadata": {},
   "outputs": [],
   "source": [
    "import exmel\n",
    "from pathlib import Path"
   ]
  },
  {
   "cell_type": "code",
   "execution_count": 2,
   "id": "497b1c7e",
   "metadata": {},
   "outputs": [],
   "source": [
    "p = Path(\"piano-song_test/song_note\")\n",
    "mels = [d for d in p.iterdir() if d.suffix == \".note\"]"
   ]
  },
  {
   "cell_type": "code",
   "execution_count": 4,
   "id": "32db9da4",
   "metadata": {},
   "outputs": [
    {
     "name": "stderr",
     "output_type": "stream",
     "text": [
      "d:\\code\\exmel\\exmel\\io.py:97: UserWarning: No event in piano-song_test\\song_note\\41E21F0BEEAD17C93DEF2D60C971CFCC.est.note, not saving to piano-song_test\\song_note\\41E21F0BEEAD17C93DEF2D60C971CFCC.mid\n",
      "  warn(f\"No event in {mel_path}, not saving to {path}\")\n",
      "d:\\code\\exmel\\exmel\\io.py:97: UserWarning: No event in piano-song_test\\song_note\\E2C5D32CCB33F5274B6D3C90E720F9DE.est.note, not saving to piano-song_test\\song_note\\E2C5D32CCB33F5274B6D3C90E720F9DE.mid\n",
      "  warn(f\"No event in {mel_path}, not saving to {path}\")\n"
     ]
    }
   ],
   "source": [
    "for m in mels:\n",
    "    exmel.melody_to_midi(m, str(m)[:-9]+\".mid\")"
   ]
  }
 ],
 "metadata": {
  "kernelspec": {
   "display_name": ".venv",
   "language": "python",
   "name": "python3"
  },
  "language_info": {
   "codemirror_mode": {
    "name": "ipython",
    "version": 3
   },
   "file_extension": ".py",
   "mimetype": "text/x-python",
   "name": "python",
   "nbconvert_exporter": "python",
   "pygments_lexer": "ipython3",
   "version": "3.13.5"
  }
 },
 "nbformat": 4,
 "nbformat_minor": 5
}
